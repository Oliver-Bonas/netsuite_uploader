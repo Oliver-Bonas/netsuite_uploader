{
 "cells": [
  {
   "cell_type": "code",
   "execution_count": 1,
   "id": "initial_id",
   "metadata": {
    "collapsed": true,
    "ExecuteTime": {
     "end_time": "2023-11-08T11:22:14.533256700Z",
     "start_time": "2023-11-08T11:22:14.514221800Z"
    }
   },
   "outputs": [
    {
     "name": "stdout",
     "output_type": "stream",
     "text": [
      "C:\\Users\\Thomas.fuller\\NotDrive\\VENV\\simplyvenv\\Scripts\\python.exe\n",
      "C:\\Users\\Thomas.fuller\\NotDrive\\Repos\\airflow_pipelines\\dags\\config\\environment.py\n",
      "~~~~~~~~~~~~~~~~~~~~~~~~~~~~~~~~~~~~~~~~~~~~~~~~~~~~~~~~~~~~\n",
      "C:\\Users\\Thomas.fuller\\NotDrive\\Repos\\airflow_pipelines\\dags\n",
      "~~~~~~~~~~~~~~~~~~~~~~~~~~~~~~~~~~~~~~~~~~~~~~~~~~~~~~~~~~~~\n",
      "now you just need to set_development()\n",
      "C:\\Users\\Thomas.fuller\\NotDrive\\Repos\\airflow_pipelines\\dags\\config\\environment.py\n"
     ]
    }
   ],
   "source": [
    "from util.api_and_repo_link import link_me_up\n",
    "link_me_up()\n",
    "from config.environment import ENVIRONMENT\n",
    "ENVIRONMENT.set_development()"
   ]
  },
  {
   "cell_type": "code",
   "execution_count": 2,
   "outputs": [
    {
     "name": "stderr",
     "output_type": "stream",
     "text": [
      "WARNING:root:OSError while attempting to symlink the latest log directory\n"
     ]
    },
    {
     "data": {
      "text/plain": "\u001B[1;33mC:\\Users\\Thomas.fuller\\NotDrive\\VENV\\simplyvenv\\lib\\site-packages\\airflow\\models\\base.py:\u001B[0m\u001B[1;33m49\u001B[0m\u001B[1;33m MovedIn20Warning\u001B[0m\u001B[33m: Deprecated API features detected! These \u001B[0m\u001B[1;33mfeature\u001B[0m\u001B[1;33m(\u001B[0m\u001B[33ms\u001B[0m\u001B[1;33m)\u001B[0m\u001B[33m are not compatible with SQLAlchemy \u001B[0m\u001B[1;33m2.0\u001B[0m\u001B[33m. To prevent incompatible upgrades prior to updating applications, ensure requirements files are pinned to \u001B[0m\u001B[33m\"sqlalchemy<2.0\"\u001B[0m\u001B[33m. Set environment variable \u001B[0m\u001B[33mSQLALCHEMY_WARN_20\u001B[0m\u001B[33m=\u001B[0m\u001B[1;33m1\u001B[0m\u001B[33m to show all deprecation warnings.  Set environment variable \u001B[0m\u001B[33mSQLALCHEMY_SILENCE_UBER_WARNING\u001B[0m\u001B[33m=\u001B[0m\u001B[1;33m1\u001B[0m\u001B[33m to silence this message. \u001B[0m\u001B[1;33m(\u001B[0m\u001B[33mBackground on SQLAlchemy \u001B[0m\u001B[1;33m2.0\u001B[0m\u001B[33m at: \u001B[0m\u001B[4;33mhttps://sqlalche.me/e/b8d9\u001B[0m\u001B[4;33m)\u001B[0m\n",
      "text/html": "<pre style=\"white-space:pre;overflow-x:auto;line-height:normal;font-family:Menlo,'DejaVu Sans Mono',consolas,'Courier New',monospace\"><span style=\"color: #808000; text-decoration-color: #808000; font-weight: bold\">C:\\Users\\Thomas.fuller\\NotDrive\\VENV\\simplyvenv\\lib\\site-packages\\airflow\\models\\base.py:</span><span style=\"color: #808000; text-decoration-color: #808000; font-weight: bold\">49</span><span style=\"color: #808000; text-decoration-color: #808000; font-weight: bold\"> MovedIn20Warning</span><span style=\"color: #808000; text-decoration-color: #808000\">: Deprecated API features detected! These </span><span style=\"color: #808000; text-decoration-color: #808000; font-weight: bold\">feature(</span><span style=\"color: #808000; text-decoration-color: #808000\">s</span><span style=\"color: #808000; text-decoration-color: #808000; font-weight: bold\">)</span><span style=\"color: #808000; text-decoration-color: #808000\"> are not compatible with SQLAlchemy </span><span style=\"color: #808000; text-decoration-color: #808000; font-weight: bold\">2.0</span><span style=\"color: #808000; text-decoration-color: #808000\">. To prevent incompatible upgrades prior to updating applications, ensure requirements files are pinned to </span><span style=\"color: #808000; text-decoration-color: #808000\">\"sqlalchemy&lt;2.0\"</span><span style=\"color: #808000; text-decoration-color: #808000\">. Set environment variable </span><span style=\"color: #808000; text-decoration-color: #808000\">SQLALCHEMY_WARN_20</span><span style=\"color: #808000; text-decoration-color: #808000\">=</span><span style=\"color: #808000; text-decoration-color: #808000; font-weight: bold\">1</span><span style=\"color: #808000; text-decoration-color: #808000\"> to show all deprecation warnings.  Set environment variable </span><span style=\"color: #808000; text-decoration-color: #808000\">SQLALCHEMY_SILENCE_UBER_WARNING</span><span style=\"color: #808000; text-decoration-color: #808000\">=</span><span style=\"color: #808000; text-decoration-color: #808000; font-weight: bold\">1</span><span style=\"color: #808000; text-decoration-color: #808000\"> to silence this message. </span><span style=\"color: #808000; text-decoration-color: #808000; font-weight: bold\">(</span><span style=\"color: #808000; text-decoration-color: #808000\">Background on SQLAlchemy </span><span style=\"color: #808000; text-decoration-color: #808000; font-weight: bold\">2.0</span><span style=\"color: #808000; text-decoration-color: #808000\"> at: </span><span style=\"color: #808000; text-decoration-color: #808000; text-decoration: underline\">https://sqlalche.me/e/b8d9)</span>\n</pre>\n"
     },
     "metadata": {},
     "output_type": "display_data"
    }
   ],
   "source": [
    "from multithread_uploader import upload_all_these_records\n",
    "from oliverbonas_source_dags.apis.api_netsuite import APIConfig_netsuite\n",
    "api = APIConfig_netsuite()\n",
    "from util.get_ns_number import get_ns_number\n",
    "from util.zeep_to_df import complete_zeep_df\n",
    "import pandas\n",
    "import random\n",
    "from datetime import datetime, timedelta"
   ],
   "metadata": {
    "collapsed": false,
    "ExecuteTime": {
     "end_time": "2023-11-08T11:22:33.280724500Z",
     "start_time": "2023-11-08T11:22:21.583552700Z"
    }
   },
   "id": "b5110f73a0b515c8"
  },
  {
   "cell_type": "code",
   "execution_count": 5,
   "outputs": [
    {
     "name": "stdout",
     "output_type": "stream",
     "text": [
      "failed for ns 0\n",
      "failed for ns 1\n",
      "failed for ns 2\n",
      "failed for ns 3\n",
      "failed for ns 4\n",
      "failed for ns 5\n",
      "failed for ns 6\n",
      "failed for ns 7\n",
      "failed for ns 8\n",
      "failed for ns 9\n",
      "failed for ns 10\n",
      "failed for ns 11\n",
      "failed for ns 12\n",
      "failed for ns 13\n",
      "failed for ns 14\n",
      "failed for ns 15\n",
      "failed for ns 16\n",
      "failed for ns 17\n",
      "failed for ns 18\n",
      "failed for ns 19\n",
      "failed for ns 20\n",
      "failed for ns 21\n",
      "failed for ns 22\n",
      "failed for ns 23\n",
      "failed for ns 24\n",
      "failed for ns 25\n",
      "failed for ns 26\n",
      "failed for ns 27\n",
      "failed for ns 28\n",
      "failed for ns 29\n",
      "failed for ns 30\n",
      "failed for ns 31\n",
      "failed for ns 32\n",
      "failed for ns 33\n",
      "Employee = api.client.get_type(\"ns34:Employee\")\n"
     ]
    }
   ],
   "source": [
    "StringCustomFieldRef = api.client.get_type(f\"ns0:StringCustomFieldRef\")\n",
    "SalesOrder = api.client.get_type(\"ns19:SalesOrder\")\n",
    "RecordRef = api.client.get_type(\"ns0:RecordRef\")\n",
    "SalesOrderItemList = api.client.get_type(\"ns19:SalesOrderItemList\")\n",
    "SalesOrderItem = api.client.get_type(\"ns19:SalesOrderItem\")\n",
    "LocationSearchBasic = api.client.get_type(\"ns5:LocationSearchBasic\")\n",
    "DepartmentSearchBasic = api.client.get_type(\"ns5:DepartmentSearchBasic\")\n",
    "Address = api.client.get_type(\"ns5:Address\")\n",
    "GetAllRecord = api.client.get_type(\"ns0:GetAllRecord\")\n",
    "CustomerSearchBasic = api.client.get_type(\"ns5:CustomerSearchBasic\")\n",
    "CustomFieldList = api.client.get_type(\"ns0:CustomFieldList\")\n",
    "CustomRecordRef = api.client.get_type(\"ns0:CustomRecordRef\")\n",
    "CustomFieldRef = api.client.get_type(\"ns0:CustomFieldRef\")\n",
    "ListOrRecordRef = api.client.get_type(\"ns0:ListOrRecordRef\")\n",
    "BooleanCustomFieldRef = api.client.get_type(\"ns0:BooleanCustomFieldRef\")\n",
    "TransactionSearchBasic = api.client.get_type(\"ns5:TransactionSearchBasic\")\n",
    "SelectCustomFieldRef = api.client.get_type(\"ns0:SelectCustomFieldRef\")\n",
    "IntercoStatus = api.client.get_type(\"ns6:IntercoStatus\")\n",
    "Employee = api.client.get_type(\"ns34:Employee\")\n",
    "get_ns_number(api, \"Employee\")"
   ],
   "metadata": {
    "collapsed": false,
    "ExecuteTime": {
     "end_time": "2023-11-08T11:25:45.634608800Z",
     "start_time": "2023-11-08T11:25:45.605602800Z"
    }
   },
   "id": "b7f0db872425011c"
  },
  {
   "cell_type": "code",
   "execution_count": 24,
   "outputs": [],
   "source": [
    "PREFIX = \"aa_tom__DATA_TEAM__employee__\"\n",
    "cool_last_names = [\"mandlebrot\", \"turing\", \"lovelace\", \"hopper\", \"knuth\", \"dijkstra\", \"neumann\", \"shannon\", \"hamming\", \"hoare\", \"kernighan\", \"ritchie\", \"pike\", \"thompson\", \"stroustrup\", \"gosling\", \"crockford\", \"torvalds\", \"stallman\", \"wirth\", \"hawking\", \"einstein\", \"newton\", \"darwin\", \"curie\", \"bohr\", \"galilei\", \"tesla\", \"edison\", \"bell\", \"faraday\", \"maxwell\", \"hertz\", \"planck\", \"heisenberg\", \"schrodinger\", \"feynman\", \"hawking\", \"sagan\", \"kaku\", \"degrasse\", \"hubble\", \"lovelace\", \"curie\", \"franklin\", \"hopper\", \"jepsen\", \"johnson\", \"keller\", \"kwolek\", \"leakey\", \"leavitt\", \"mayer\", \"mcclintock\", \"meitner\", \"mitchell\", \"morgan\", \"murdoch\", \"murray\", \"noether\", \"parker\", \"payne\", \"pauling\", \"perlman\", \"ride\", \"rubin\", \"sanger\", \"sullivan\", \"westerlund\", \"wilson\", \"yousafzai\"]\n"
   ],
   "metadata": {
    "collapsed": false,
    "ExecuteTime": {
     "end_time": "2023-11-08T11:32:39.695684500Z",
     "start_time": "2023-11-08T11:32:39.679887200Z"
    }
   },
   "id": "aab29fb2121efbe6"
  },
  {
   "cell_type": "markdown",
   "source": [],
   "metadata": {
    "collapsed": false
   },
   "id": "7abefba59f211b76"
  },
  {
   "cell_type": "code",
   "execution_count": 25,
   "outputs": [],
   "source": [
    "employee = Employee(\n",
    "    externalId = PREFIX + \"001\",\n",
    "    firstName = PREFIX + \"001\",\n",
    "    lastName = random.choice(cool_last_names),\n",
    "    currency = RecordRef(internalId = \"1\"),\n",
    "    subsidiary = RecordRef(internalId = \"1\"),\n",
    ")"
   ],
   "metadata": {
    "collapsed": false,
    "ExecuteTime": {
     "end_time": "2023-11-08T11:32:43.860416200Z",
     "start_time": "2023-11-08T11:32:43.839327700Z"
    }
   },
   "id": "63914ab7b8f0441"
  },
  {
   "cell_type": "code",
   "execution_count": 26,
   "outputs": [
    {
     "name": "stdout",
     "output_type": "stream",
     "text": [
      "> [1] records in this chunk\n",
      "\n",
      "THREADS NEEDED: 1 \n",
      "\n",
      "thread (0) spawned\n",
      "+++++++++ new thread (0) +++++++++\n",
      "# thread (0) total [1] records [1]  success [1] failure [0]\n",
      "0:00:05.318129\n",
      "+++++++++ thread completed (0) +++++++++\n",
      "==========================================\n"
     ]
    }
   ],
   "source": [
    "upload_all_these_records([employee], api, \"addList\")"
   ],
   "metadata": {
    "collapsed": false,
    "ExecuteTime": {
     "end_time": "2023-11-08T11:32:51.875260600Z",
     "start_time": "2023-11-08T11:32:46.543005100Z"
    }
   },
   "id": "ffee3cafa14339f4"
  },
  {
   "cell_type": "markdown",
   "source": [
    "# The real deal"
   ],
   "metadata": {
    "collapsed": false
   },
   "id": "ab5f763d33b289aa"
  },
  {
   "cell_type": "code",
   "execution_count": 51,
   "outputs": [],
   "source": [
    "import pandas\n",
    "import os\n",
    "\n",
    "partners_from_csv = pandas.concat(\n",
    "    [\n",
    "        pandas.read_excel(os.path.join(\"employee_excels\", filename))\n",
    "        for filename in os.listdir(\"employee_excels\")\n",
    "    ]\n",
    ")"
   ],
   "metadata": {
    "collapsed": false,
    "ExecuteTime": {
     "end_time": "2023-11-09T14:45:12.511587200Z",
     "start_time": "2023-11-09T14:45:12.415556500Z"
    }
   },
   "id": "9bdc21f9540d6720"
  },
  {
   "cell_type": "code",
   "execution_count": 30,
   "outputs": [
    {
     "data": {
      "text/plain": "      Forename   Surname Date Joined     Job Title Description  \\\n0        Nevin     Jbiha  2022-02-07  Store Team Member - Perm   \n1       Zaynab      Khan  2022-09-14  Store Team Member - Perm   \n2    Charlotte   Clayton  2019-12-10  Store Team Member - Perm   \n3       Lesley  Vallance  2018-12-04  Store Team Member - Perm   \n4        Jayne  McKenzie  2022-07-21  Store Team Member - Perm   \n..         ...       ...         ...                       ...   \n150  Christine      Bell  2023-01-31   Stock Returns Assistant   \n151     Seamus   Brennan  2016-10-03    Head of Web Fulfilment   \n152   Leterece    Carter  2023-10-01     Warehouse Team Member   \n153      Mousa      Said  2023-09-27     Warehouse Team Member   \n154      David   Skilton  2023-09-26           Delivery Driver   \n\n                 Location Description                 Personal Email  \\\n0                        High Holborn            nevs.1706@gmail.com   \n1                    Liverpool Street             zanyk406@gmail.com   \n2                              Ilkley       lotskicharlie@live.co.uk   \n3                              Exeter    lesley.vallance@hotmail.com   \n4                           Battersea        jayne-mck@hotmail.co.uk   \n..                                ...                            ...   \n150  Chessington, Warehouse & Website  Christine.bell130@hotmail.com   \n151  Chessington, Warehouse & Website          brennanfamily@mac.com   \n152  Chessington, Warehouse & Website    leterece_carter@outlook.com   \n153  Chessington, Warehouse & Website         saidmousa116@gmail.com   \n154  Chessington, Warehouse & Website     Skiltondave@googlemail.com   \n\n          Department Description Email   \n0                            NaN    NaN  \n1                            NaN    NaN  \n2                            NaN    NaN  \n3                            NaN    NaN  \n4                            NaN    NaN  \n..                           ...    ...  \n150                 Returns - PM    NaN  \n151  Web Fulfilment - Management    NaN  \n152          Web Fulfilment - AM    NaN  \n153          Web Fulfilment - AM    NaN  \n154        Warehouse - Logistics    NaN  \n\n[1553 rows x 8 columns]",
      "text/html": "<div>\n<style scoped>\n    .dataframe tbody tr th:only-of-type {\n        vertical-align: middle;\n    }\n\n    .dataframe tbody tr th {\n        vertical-align: top;\n    }\n\n    .dataframe thead th {\n        text-align: right;\n    }\n</style>\n<table border=\"1\" class=\"dataframe\">\n  <thead>\n    <tr style=\"text-align: right;\">\n      <th></th>\n      <th>Forename</th>\n      <th>Surname</th>\n      <th>Date Joined</th>\n      <th>Job Title Description</th>\n      <th>Location Description</th>\n      <th>Personal Email</th>\n      <th>Department Description</th>\n      <th>Email</th>\n    </tr>\n  </thead>\n  <tbody>\n    <tr>\n      <th>0</th>\n      <td>Nevin</td>\n      <td>Jbiha</td>\n      <td>2022-02-07</td>\n      <td>Store Team Member - Perm</td>\n      <td>High Holborn</td>\n      <td>nevs.1706@gmail.com</td>\n      <td>NaN</td>\n      <td>NaN</td>\n    </tr>\n    <tr>\n      <th>1</th>\n      <td>Zaynab</td>\n      <td>Khan</td>\n      <td>2022-09-14</td>\n      <td>Store Team Member - Perm</td>\n      <td>Liverpool Street</td>\n      <td>zanyk406@gmail.com</td>\n      <td>NaN</td>\n      <td>NaN</td>\n    </tr>\n    <tr>\n      <th>2</th>\n      <td>Charlotte</td>\n      <td>Clayton</td>\n      <td>2019-12-10</td>\n      <td>Store Team Member - Perm</td>\n      <td>Ilkley</td>\n      <td>lotskicharlie@live.co.uk</td>\n      <td>NaN</td>\n      <td>NaN</td>\n    </tr>\n    <tr>\n      <th>3</th>\n      <td>Lesley</td>\n      <td>Vallance</td>\n      <td>2018-12-04</td>\n      <td>Store Team Member - Perm</td>\n      <td>Exeter</td>\n      <td>lesley.vallance@hotmail.com</td>\n      <td>NaN</td>\n      <td>NaN</td>\n    </tr>\n    <tr>\n      <th>4</th>\n      <td>Jayne</td>\n      <td>McKenzie</td>\n      <td>2022-07-21</td>\n      <td>Store Team Member - Perm</td>\n      <td>Battersea</td>\n      <td>jayne-mck@hotmail.co.uk</td>\n      <td>NaN</td>\n      <td>NaN</td>\n    </tr>\n    <tr>\n      <th>...</th>\n      <td>...</td>\n      <td>...</td>\n      <td>...</td>\n      <td>...</td>\n      <td>...</td>\n      <td>...</td>\n      <td>...</td>\n      <td>...</td>\n    </tr>\n    <tr>\n      <th>150</th>\n      <td>Christine</td>\n      <td>Bell</td>\n      <td>2023-01-31</td>\n      <td>Stock Returns Assistant</td>\n      <td>Chessington, Warehouse &amp; Website</td>\n      <td>Christine.bell130@hotmail.com</td>\n      <td>Returns - PM</td>\n      <td>NaN</td>\n    </tr>\n    <tr>\n      <th>151</th>\n      <td>Seamus</td>\n      <td>Brennan</td>\n      <td>2016-10-03</td>\n      <td>Head of Web Fulfilment</td>\n      <td>Chessington, Warehouse &amp; Website</td>\n      <td>brennanfamily@mac.com</td>\n      <td>Web Fulfilment - Management</td>\n      <td>NaN</td>\n    </tr>\n    <tr>\n      <th>152</th>\n      <td>Leterece</td>\n      <td>Carter</td>\n      <td>2023-10-01</td>\n      <td>Warehouse Team Member</td>\n      <td>Chessington, Warehouse &amp; Website</td>\n      <td>leterece_carter@outlook.com</td>\n      <td>Web Fulfilment - AM</td>\n      <td>NaN</td>\n    </tr>\n    <tr>\n      <th>153</th>\n      <td>Mousa</td>\n      <td>Said</td>\n      <td>2023-09-27</td>\n      <td>Warehouse Team Member</td>\n      <td>Chessington, Warehouse &amp; Website</td>\n      <td>saidmousa116@gmail.com</td>\n      <td>Web Fulfilment - AM</td>\n      <td>NaN</td>\n    </tr>\n    <tr>\n      <th>154</th>\n      <td>David</td>\n      <td>Skilton</td>\n      <td>2023-09-26</td>\n      <td>Delivery Driver</td>\n      <td>Chessington, Warehouse &amp; Website</td>\n      <td>Skiltondave@googlemail.com</td>\n      <td>Warehouse - Logistics</td>\n      <td>NaN</td>\n    </tr>\n  </tbody>\n</table>\n<p>1553 rows × 8 columns</p>\n</div>"
     },
     "execution_count": 30,
     "metadata": {},
     "output_type": "execute_result"
    }
   ],
   "source": [
    "partners_from_csv"
   ],
   "metadata": {
    "collapsed": false,
    "ExecuteTime": {
     "end_time": "2023-11-09T11:18:39.131080300Z",
     "start_time": "2023-11-09T11:18:39.092081Z"
    }
   },
   "id": "9b4846aeb359b222"
  },
  {
   "cell_type": "code",
   "execution_count": 52,
   "outputs": [
    {
     "data": {
      "text/plain": "193    Shipping & Logistics Coordinator\nName: Job Title Description, dtype: object"
     },
     "execution_count": 52,
     "metadata": {},
     "output_type": "execute_result"
    }
   ],
   "source": [
    "partners_from_csv.loc[partners_from_csv[\"Forename\"] == \"Mareke\", \"Job Title Description\"]"
   ],
   "metadata": {
    "collapsed": false,
    "ExecuteTime": {
     "end_time": "2023-11-09T14:45:18.458209900Z",
     "start_time": "2023-11-09T14:45:18.418915Z"
    }
   },
   "id": "5080c99595410d6"
  },
  {
   "cell_type": "code",
   "execution_count": 53,
   "outputs": [],
   "source": [
    "employees = [\n",
    "    Employee(\n",
    "        externalId = \"employee\" +str(index),\n",
    "        entityId = row[\"Forename\"] + \" \" + row[\"Surname\"],\n",
    "        firstName = row[\"Forename\"],\n",
    "        lastName = row[\"Surname\"],\n",
    "        title = row[\"Job Title Description\"],\n",
    "        currency = RecordRef(internalId = \"1\"),\n",
    "    subsidiary = RecordRef(internalId = \"1\"),\n",
    "        #email = row[\"Email \"],\n",
    "        \n",
    "    )\n",
    "    for index, row in partners_from_csv.iterrows()\n",
    "]"
   ],
   "metadata": {
    "collapsed": false,
    "ExecuteTime": {
     "end_time": "2023-11-09T14:45:31.034757700Z",
     "start_time": "2023-11-09T14:45:30.582179700Z"
    }
   },
   "id": "133d25c3feafe426"
  },
  {
   "cell_type": "code",
   "execution_count": null,
   "outputs": [],
   "source": [],
   "metadata": {
    "collapsed": false
   },
   "id": "95e17adc8a62496c"
  },
  {
   "cell_type": "code",
   "execution_count": null,
   "outputs": [],
   "source": [],
   "metadata": {
    "collapsed": false
   },
   "id": "bdee5bc4fca723cc"
  },
  {
   "cell_type": "code",
   "execution_count": null,
   "outputs": [],
   "source": [],
   "metadata": {
    "collapsed": false
   },
   "id": "9a46957891c41397"
  },
  {
   "cell_type": "code",
   "execution_count": 54,
   "outputs": [
    {
     "name": "stdout",
     "output_type": "stream",
     "text": [
      "> [63] records in this chunk\n",
      "> [63] records in this chunk\n",
      "> [63] records in this chunk\n",
      "> [63] records in this chunk\n",
      "> [63] records in this chunk\n",
      "> [63] records in this chunk\n",
      "> [63] records in this chunk\n",
      "> [63] records in this chunk\n",
      "> [63] records in this chunk\n",
      "> [63] records in this chunk\n",
      "> [63] records in this chunk\n",
      "> [63] records in this chunk\n",
      "> [63] records in this chunk\n",
      "> [63] records in this chunk\n",
      "> [63] records in this chunk\n",
      "> [63] records in this chunk\n",
      "> [63] records in this chunk\n",
      "> [63] records in this chunk\n",
      "> [63] records in this chunk\n",
      "> [63] records in this chunk\n",
      "> [63] records in this chunk\n",
      "> [63] records in this chunk\n",
      "> [63] records in this chunk\n",
      "> [63] records in this chunk\n",
      "> [41] records in this chunk\n",
      "\n",
      "THREADS NEEDED: 25 \n",
      "\n",
      "thread (0) spawned\n",
      "thread (1) spawned\n",
      "thread (2) spawned\n",
      "thread (3) spawned\n",
      "thread (4) spawned\n",
      "thread (5) spawned\n",
      "thread (6) spawned\n",
      "thread (7) spawned\n",
      "thread (8) spawned\n",
      "thread (9) spawned\n",
      "thread (10) spawned\n",
      "thread (11) spawned\n",
      "thread (12) spawned\n",
      "thread (13) spawned\n",
      "thread (14) spawned\n",
      "thread (15) spawned\n",
      "thread (16) spawned\n",
      "thread (17) spawned\n",
      "thread (18) spawned\n",
      "thread (19) spawned\n",
      "thread (20) spawned\n",
      "thread (21) spawned\n",
      "thread (22) spawned\n",
      "thread (23) spawned\n",
      "thread (24) spawned\n",
      "+++++++++ new thread (3) +++++++++\n",
      "+++++++++ new thread (0) +++++++++\n",
      "+++++++++ new thread (4) +++++++++\n",
      "+++++++++ new thread (9) +++++++++\n",
      "+++++++++ new thread (5) +++++++++\n",
      "+++++++++ new thread (1) +++++++++\n",
      "+++++++++ new thread (8) +++++++++\n",
      "+++++++++ new thread (7) +++++++++\n",
      "+++++++++ new thread (6) +++++++++\n",
      "+++++++++ new thread (16) +++++++++\n",
      "+++++++++ new thread (15) +++++++++\n",
      "+++++++++ new thread (10) +++++++++\n",
      "+++++++++ new thread (13) +++++++++\n",
      "+++++++++ new thread (11) +++++++++\n",
      "+++++++++ new thread (18) +++++++++\n",
      "+++++++++ new thread (14) +++++++++\n",
      "+++++++++ new thread (2) +++++++++\n",
      "+++++++++ new thread (19) +++++++++\n",
      "+++++++++ new thread (20) +++++++++\n",
      "+++++++++ new thread (23) +++++++++\n",
      "+++++++++ new thread (12) +++++++++\n",
      "+++++++++ new thread (22) +++++++++\n",
      "+++++++++ new thread (17) +++++++++\n",
      "+++++++++ new thread (21) +++++++++\n",
      "+++++++++ new thread (24) +++++++++\n",
      "# thread (3) total [41] records [41]  success [41] failure [0]\n",
      "0:01:17.711964\n",
      "+++++++++ thread completed (3) +++++++++\n",
      "==========================================\n",
      "# thread (2) total [104] records [63]  success [63] failure [0]\n",
      "0:01:31.989380\n",
      "+++++++++ thread completed (2) +++++++++\n",
      "==========================================\n",
      "# thread (22) total [167] records [63]  success [63] failure [0]\n",
      "0:01:33.385646\n",
      "+++++++++ thread completed (22) +++++++++\n",
      "==========================================\n",
      "# thread (9) total [230] records [63]  success [56] failure [7]\n",
      "0:01:35.182248\n",
      "+++++++++ thread completed (9) +++++++++\n",
      "==========================================\n",
      "# thread (20) total [293] records [63]  success [63] failure [0]\n",
      "0:01:35.262091\n",
      "+++++++++ thread completed (20) +++++++++\n",
      "==========================================\n",
      "# thread (4) total [356] records [63]  success [59] failure [4]\n",
      "0:01:52.242958\n",
      "+++++++++ thread completed (4) +++++++++\n",
      "==========================================\n",
      "# thread (13) total [419] records [63]  success [63] failure [0]\n",
      "0:01:52.516453\n",
      "+++++++++ thread completed (13) +++++++++\n",
      "==========================================\n",
      "# thread (6) total [482] records [63]  success [62] failure [1]\n",
      "0:01:53.349679\n",
      "+++++++++ thread completed (6) +++++++++\n",
      "==========================================\n",
      "# thread (1) total [545] records [63]  success [54] failure [9]\n",
      "0:01:53.436046\n",
      "+++++++++ thread completed (1) +++++++++\n",
      "==========================================\n",
      "# thread (8) total [608] records [63]  success [56] failure [7]\n",
      "0:01:53.441048\n",
      "+++++++++ thread completed (8) +++++++++\n",
      "==========================================\n",
      "[\u001B[34m2023-11-09 14:47:30,468\u001B[0m] {\u001B[34mconnectionpool.py:\u001B[0m322} WARNING\u001B[0m - Connection pool is full, discarding connection: 1026328-sb1.suitetalk.api.netsuite.com. Connection pool size: 10\u001B[0m\n",
      "# thread (21) total [671] records [63]  success [63] failure [0]\n",
      "0:01:53.912046\n",
      "+++++++++ thread completed (21) +++++++++\n",
      "==========================================\n",
      "[\u001B[34m2023-11-09 14:47:30,952\u001B[0m] {\u001B[34mconnectionpool.py:\u001B[0m322} WARNING\u001B[0m - Connection pool is full, discarding connection: 1026328-sb1.suitetalk.api.netsuite.com. Connection pool size: 10\u001B[0m\n",
      "# thread (18) total [734] records [63]  success [63] failure [0]\n",
      "0:01:54.390611\n",
      "+++++++++ thread completed (18) +++++++++\n",
      "==========================================\n",
      "[\u001B[34m2023-11-09 14:47:31,157\u001B[0m] {\u001B[34mconnectionpool.py:\u001B[0m322} WARNING\u001B[0m - Connection pool is full, discarding connection: 1026328-sb1.suitetalk.api.netsuite.com. Connection pool size: 10\u001B[0m\n",
      "# thread (24) total [797] records [63]  success [62] failure [1]\n",
      "0:01:54.610747\n",
      "+++++++++ thread completed (24) +++++++++\n",
      "==========================================\n",
      "[\u001B[34m2023-11-09 14:47:31,749\u001B[0m] {\u001B[34mconnectionpool.py:\u001B[0m322} WARNING\u001B[0m - Connection pool is full, discarding connection: 1026328-sb1.suitetalk.api.netsuite.com. Connection pool size: 10\u001B[0m\n",
      "[\u001B[34m2023-11-09 14:47:31,779\u001B[0m] {\u001B[34mconnectionpool.py:\u001B[0m322} WARNING\u001B[0m - Connection pool is full, discarding connection: 1026328-sb1.suitetalk.api.netsuite.com. Connection pool size: 10\u001B[0m\n",
      "[\u001B[34m2023-11-09 14:47:31,808\u001B[0m] {\u001B[34mconnectionpool.py:\u001B[0m322} WARNING\u001B[0m - Connection pool is full, discarding connection: 1026328-sb1.suitetalk.api.netsuite.com. Connection pool size: 10\u001B[0m\n",
      "# thread (0) total [860] records [63]  success [60] failure [3]\n",
      "0:01:55.264570\n",
      "+++++++++ thread completed (0) +++++++++\n",
      "==========================================\n",
      "# thread (5) total [923] records [63]  success [58] failure [5]\n",
      "0:01:55.268570\n",
      "+++++++++ thread completed (5) +++++++++\n",
      "==========================================\n",
      "# thread (10) total [986] records [63]  success [63] failure [0]\n",
      "0:01:55.273602\n",
      "+++++++++ thread completed (10) +++++++++\n",
      "==========================================\n",
      "[\u001B[34m2023-11-09 14:47:32,116\u001B[0m] {\u001B[34mconnectionpool.py:\u001B[0m322} WARNING\u001B[0m - Connection pool is full, discarding connection: 1026328-sb1.suitetalk.api.netsuite.com. Connection pool size: 10\u001B[0m\n",
      "# thread (12) total [1049] records [63]  success [63] failure [0]\n",
      "0:01:55.560073\n",
      "+++++++++ thread completed (12) +++++++++\n",
      "==========================================\n",
      "[\u001B[34m2023-11-09 14:47:32,193\u001B[0m] {\u001B[34mconnectionpool.py:\u001B[0m322} WARNING\u001B[0m - Connection pool is full, discarding connection: 1026328-sb1.suitetalk.api.netsuite.com. Connection pool size: 10\u001B[0m\n",
      "[\u001B[34m2023-11-09 14:47:32,223\u001B[0m] {\u001B[34mconnectionpool.py:\u001B[0m322} WARNING\u001B[0m - Connection pool is full, discarding connection: 1026328-sb1.suitetalk.api.netsuite.com. Connection pool size: 10\u001B[0m\n",
      "# thread (16) total [1112] records [63]  success [63] failure [0]\n",
      "0:01:55.679103\n",
      "+++++++++ thread completed (16) +++++++++\n",
      "==========================================\n",
      "# thread (17) total [1175] records [63]  success [63] failure [0]\n",
      "0:01:55.683072\n",
      "+++++++++ thread completed (17) +++++++++\n",
      "==========================================\n",
      "[\u001B[34m2023-11-09 14:47:32,375\u001B[0m] {\u001B[34mconnectionpool.py:\u001B[0m322} WARNING\u001B[0m - Connection pool is full, discarding connection: 1026328-sb1.suitetalk.api.netsuite.com. Connection pool size: 10\u001B[0m\n",
      "# thread (23) total [1238] records [63]  success [63] failure [0]\n",
      "0:01:55.815531\n",
      "+++++++++ thread completed (23) +++++++++\n",
      "==========================================\n",
      "[\u001B[34m2023-11-09 14:47:32,416\u001B[0m] {\u001B[34mconnectionpool.py:\u001B[0m322} WARNING\u001B[0m - Connection pool is full, discarding connection: 1026328-sb1.suitetalk.api.netsuite.com. Connection pool size: 10\u001B[0m\n",
      "# thread (19) total [1301] records [63]  success [63] failure [0]\n",
      "0:01:55.857497\n",
      "+++++++++ thread completed (19) +++++++++\n",
      "==========================================\n",
      "[\u001B[34m2023-11-09 14:47:32,841\u001B[0m] {\u001B[34mconnectionpool.py:\u001B[0m322} WARNING\u001B[0m - Connection pool is full, discarding connection: 1026328-sb1.suitetalk.api.netsuite.com. Connection pool size: 10\u001B[0m\n",
      "# thread (15) total [1364] records [63]  success [63] failure [0]\n",
      "0:01:56.281174\n",
      "+++++++++ thread completed (15) +++++++++\n",
      "==========================================\n",
      "[\u001B[34m2023-11-09 14:47:33,456\u001B[0m] {\u001B[34mconnectionpool.py:\u001B[0m322} WARNING\u001B[0m - Connection pool is full, discarding connection: 1026328-sb1.suitetalk.api.netsuite.com. Connection pool size: 10\u001B[0m\n",
      "[\u001B[34m2023-11-09 14:47:33,460\u001B[0m] {\u001B[34mconnectionpool.py:\u001B[0m322} WARNING\u001B[0m - Connection pool is full, discarding connection: 1026328-sb1.suitetalk.api.netsuite.com. Connection pool size: 10\u001B[0m\n",
      "# thread (7) total [1427] records [63]  success [62] failure [1]\n",
      "0:01:56.941077\n",
      "+++++++++ thread completed (7) +++++++++\n",
      "==========================================\n",
      "# thread (11) total [1490] records [63]  success [63] failure [0]\n",
      "0:01:56.946077\n",
      "+++++++++ thread completed (11) +++++++++\n",
      "==========================================\n",
      "[\u001B[34m2023-11-09 14:47:34,182\u001B[0m] {\u001B[34mconnectionpool.py:\u001B[0m322} WARNING\u001B[0m - Connection pool is full, discarding connection: 1026328-sb1.suitetalk.api.netsuite.com. Connection pool size: 10\u001B[0m\n",
      "# thread (14) total [1553] records [63]  success [63] failure [0]\n",
      "0:01:57.624801\n",
      "+++++++++ thread completed (14) +++++++++\n",
      "==========================================\n"
     ]
    }
   ],
   "source": [
    "upload_all_these_records(employees, api, \"upsertList\")"
   ],
   "metadata": {
    "collapsed": false,
    "ExecuteTime": {
     "end_time": "2023-11-09T14:47:34.246954100Z",
     "start_time": "2023-11-09T14:45:36.596016300Z"
    }
   },
   "id": "7122187ba852e905"
  }
 ],
 "metadata": {
  "kernelspec": {
   "display_name": "Python 3",
   "language": "python",
   "name": "python3"
  },
  "language_info": {
   "codemirror_mode": {
    "name": "ipython",
    "version": 2
   },
   "file_extension": ".py",
   "mimetype": "text/x-python",
   "name": "python",
   "nbconvert_exporter": "python",
   "pygments_lexer": "ipython2",
   "version": "2.7.6"
  }
 },
 "nbformat": 4,
 "nbformat_minor": 5
}
