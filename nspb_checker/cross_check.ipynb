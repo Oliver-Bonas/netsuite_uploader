{
 "cells": [
  {
   "cell_type": "code",
   "execution_count": null,
   "id": "initial_id",
   "metadata": {
    "collapsed": true
   },
   "outputs": [],
   "source": [
    "import os\n",
    "import pandas\n",
    "\n",
    "BIGFILES = r\"C:\\Users\\Thomas.fuller\\NotDrive\\bigfile\\netsuite_round2\""
   ]
  },
  {
   "cell_type": "code",
   "execution_count": null,
   "outputs": [],
   "source": [
    "df = pandas.read_csv(os.path.join(BIGFILES, \"SLS_NSPB_20230724_20231001.csv\"))\n",
    "row_ids = set(df[\"Row_ID\"].values.tolist())\n",
    "min(df.Date)"
   ],
   "metadata": {
    "collapsed": false
   },
   "id": "b9f94b0f6a1eb712"
  },
  {
   "cell_type": "code",
   "execution_count": null,
   "outputs": [],
   "source": [
    "bruh = [3458424, 3481197, 3412991, 1303528]\n",
    "#for i in range(sum(bruh), sum(bruh) +  1303528):\n",
    "#    assert i in row_ids, f\"{i} not in row_ids\""
   ],
   "metadata": {
    "collapsed": false
   },
   "id": "b50972b625ee5583"
  },
  {
   "cell_type": "code",
   "execution_count": null,
   "outputs": [],
   "source": [
    "sum(bruh)"
   ],
   "metadata": {
    "collapsed": false
   },
   "id": "eae9d8c7e5863737"
  }
 ],
 "metadata": {
  "kernelspec": {
   "display_name": "Python 3",
   "language": "python",
   "name": "python3"
  },
  "language_info": {
   "codemirror_mode": {
    "name": "ipython",
    "version": 2
   },
   "file_extension": ".py",
   "mimetype": "text/x-python",
   "name": "python",
   "nbconvert_exporter": "python",
   "pygments_lexer": "ipython2",
   "version": "2.7.6"
  }
 },
 "nbformat": 4,
 "nbformat_minor": 5
}
