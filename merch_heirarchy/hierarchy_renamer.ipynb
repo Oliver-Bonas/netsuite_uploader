{
 "cells": [
  {
   "cell_type": "code",
   "execution_count": null,
   "id": "initial_id",
   "metadata": {
    "collapsed": true
   },
   "outputs": [],
   "source": []
  },
  {
   "cell_type": "code",
   "execution_count": null,
   "outputs": [],
   "source": [
    "page1 = api.service_proxy.search(\n",
    "        searchRecord=MerchandiseHierarchyNodeSearchBasic(\n",
    "            hierarchyVersion=SearchMultiSelectField(\n",
    "                operator=\"anyOf\",\n",
    "                searchValue=[\n",
    "                    RecordRef(\n",
    "                        internalId = 11\n",
    "                    )\n",
    "                ]\n",
    "            )\n",
    "        ),\n",
    "        _soapheaders=api.build_soap_headers()\n",
    ")\n",
    "orig = page1.body.searchResult.recordList.record\n",
    "sid = page1.body.searchResult.searchId\n",
    "page2 = api.service_proxy.searchMoreWithId(\n",
    "    searchId=sid,\n",
    "    pageIndex=2,\n",
    "    _soapheaders=api.build_soap_headers()\n",
    ")\n",
    "page3 = api.service_proxy.searchMoreWithId(\n",
    "    searchId=sid,\n",
    "    pageIndex=3,\n",
    "    _soapheaders=api.build_soap_headers()\n",
    ")\n",
    "page4 = api.service_proxy.searchMoreWithId(\n",
    "    searchId=sid,\n",
    "    pageIndex=4,\n",
    "    _soapheaders=api.build_soap_headers()\n",
    ")\n",
    "page5 = api.service_proxy.searchMoreWithId(\n",
    "    searchId=sid,\n",
    "    pageIndex=5,\n",
    "    _soapheaders=api.build_soap_headers()\n",
    ")\n",
    "page6 = api.service_proxy.searchMoreWithId(\n",
    "    searchId=sid,\n",
    "    pageIndex=6,\n",
    "    _soapheaders=api.build_soap_headers()\n",
    ")\n",
    "page7 = api.service_proxy.searchMoreWithId(\n",
    "    searchId=sid,\n",
    "    pageIndex=7,\n",
    "    _soapheaders=api.build_soap_headers()\n",
    ")\n",
    "page8 = api.service_proxy.searchMoreWithId(\n",
    "    searchId=sid,\n",
    "    pageIndex=8,\n",
    "    _soapheaders=api.build_soap_headers()\n",
    ")\n",
    "\n",
    "morerec = page2.body.searchResult.recordList\n",
    "rec3 = page3.body.searchResult.recordList\n",
    "rec4 = page4.body.searchResult.recordList\n",
    "rec5 = page5.body.searchResult.recordList\n",
    "rec6 = page6.body.searchResult.recordList\n",
    "rec7 = page7.body.searchResult.recordList\n",
    "rec8 = page8.body.searchResult.recordList\n",
    "\n",
    "lists = [morerec, rec3, rec4, rec5, rec6, rec7, rec8]\n",
    "\n",
    "lists_with_things = [l for l in lists if hasattr(l, \"record\")]\n",
    "\n",
    "\n",
    "moreid = page2.body.searchResult.searchId\n",
    "\n",
    "#print([r.internalId for r in orig])\n",
    "#print([r.internalId for r in morerec])\n",
    "#print([r.internalId for r in rec3])\n",
    "\n",
    "everything = [*orig]#, *rec5]#, *rec6, *rec7, *rec8]\n",
    "for l in lists_with_things:\n",
    "    everything.extend(l.record)\n",
    "exids = [r.externalId for r in everything]\n",
    "\n",
    "df = pandas.DataFrame(\n",
    "    [\n",
    "        {\n",
    "            \"internalId\": r.internalId,\n",
    "            \"externalId\": r.externalId,\n",
    "            \"name\": r.name,\n",
    "            \n",
    "        }\n",
    "        for r in everything]\n",
    ")\n",
    "df"
   ],
   "metadata": {
    "collapsed": false
   },
   "id": "45cc37d2b3bbc7ae"
  },
  {
   "cell_type": "code",
   "execution_count": null,
   "outputs": [],
   "source": [],
   "metadata": {
    "collapsed": false
   },
   "id": "e3aa8347320e2f66"
  },
  {
   "cell_type": "code",
   "execution_count": null,
   "outputs": [],
   "source": [
    "old = df.loc[\n",
    "    df.externalId.str.startswith(\"Fashion\") | \n",
    "    df.externalId.str.startswith(\"Home & Gift\"),\n",
    "[\"internalId\", \"externalId\"]]\n",
    "old"
   ],
   "metadata": {
    "collapsed": false
   },
   "id": "7c72e2d35dd79339"
  },
  {
   "cell_type": "code",
   "execution_count": null,
   "outputs": [],
   "source": [
    "def delthread(x):\n",
    "    deld = api.service_proxy.deleteList(\n",
    "        baseRef=[RecordRef(\n",
    "            internalId = internal_id,\n",
    "            type=\"merchandiseHierarchyNode\"\n",
    "        )\n",
    "            for internal_id in range(6116-200*x, 6116-200-200*x, -1)],\n",
    "        _soapheaders=api.build_soap_headers()\n",
    "    )\n",
    "    resp = deld.body.writeResponseList.writeResponse\n",
    "    numsuccess = len([r for r in resp if r.status.isSuccess])\n",
    "    print(numsuccess)\n",
    "    \n",
    "    threadfile = open(f\"thread{x}.txt\", \"w\")\n",
    "    threadfile.write(str(resp))\n",
    "\n",
    "import time\n",
    "def updatethread(df_part, x):\n",
    "    print(\"DING%%%%%%%\")\n",
    "    time.sleep(1)\n",
    "    print(\"dong\")\n",
    "    deld = api.service_proxy.updateList(\n",
    "        record=[MerchandiseHierarchyNode(\n",
    "            internalId = row.internalId,\n",
    "            externalId = \"DNU_Old_Version_\" + row.externalId\n",
    "        )\n",
    "            for pos, row in df_part.iterrows()],\n",
    "        _soapheaders=api.build_soap_headers()\n",
    "    )\n",
    "    resp = deld.body.writeResponseList.writeResponse\n",
    "    numsuccess = len([r for r in resp if r.status.isSuccess])\n",
    "    print(numsuccess)\n",
    "    \n",
    "    threadfile = open(f\"thread{x}.txt\", \"w\")\n",
    "    threadfile.write(str(resp))"
   ],
   "metadata": {
    "collapsed": false
   },
   "id": "b4eb75dc782fa748"
  },
  {
   "cell_type": "code",
   "execution_count": null,
   "outputs": [],
   "source": [
    "updatethread(old.iloc[70:,:], \"nothing\")"
   ],
   "metadata": {
    "collapsed": false
   },
   "id": "5149f2cbb7f94821"
  },
  {
   "cell_type": "code",
   "execution_count": null,
   "outputs": [],
   "source": [
    "import threading\n",
    "\n",
    "#thread1 = threading.Thread(target=updatethread, args=(old.iloc[0:100, :],))\n",
    "#thread2 = threading.Thread(target=updatethread, args=(old.iloc[100:200, :],))\n",
    "#thread3 = threading.Thread(target=updatethread, args=(old.iloc[200:300, :],))\n",
    "\n",
    "#thread1.start()\n",
    "#thread2.start()\n",
    "#thread3.start()\n",
    "\n",
    "# create 12 threads!\n",
    "\n",
    "for i in range(1, 11):\n",
    "    thread = threading.Thread(target=updatethread, args=(old.iloc[100*i:100*(i+1), :], i))\n",
    "    thread.start()\n",
    "\n",
    "while True:\n",
    "    pass"
   ],
   "metadata": {
    "collapsed": false
   },
   "id": "a3b70fbcfff570a0"
  },
  {
   "cell_type": "code",
   "execution_count": null,
   "outputs": [],
   "source": [
    "deld = api.service_proxy.getList(\n",
    "        baseRef=[RecordRef(\n",
    "            internalId = internal_id,\n",
    "            type=\"merchandiseHierarchyNode\"\n",
    "        )\n",
    "            for internal_id in [4695]],\n",
    "        _soapheaders=api.build_soap_headers()\n",
    "    )"
   ],
   "metadata": {
    "collapsed": false
   },
   "id": "fe4b4a8fcac625ab"
  },
  {
   "cell_type": "code",
   "execution_count": null,
   "outputs": [],
   "source": [
    "deld"
   ],
   "metadata": {
    "collapsed": false
   },
   "id": "fb736bfc46d8e9c2"
  },
  {
   "cell_type": "code",
   "execution_count": null,
   "outputs": [],
   "source": [
    "deld = api.service_proxy.updateList(\n",
    "        record=[MerchandiseHierarchyNode(\n",
    "            internalId = internal_id,\n",
    "            name='TestRename',\n",
    "            externalId = \"hope Ex Id Fashion hope\",\n",
    "        )\n",
    "            for internal_id in [4695]],\n",
    "        _soapheaders=api.build_soap_headers()\n",
    "    )"
   ],
   "metadata": {
    "collapsed": false
   },
   "id": "279dc65a032043ac"
  },
  {
   "cell_type": "code",
   "execution_count": null,
   "outputs": [],
   "source": [
    "deld"
   ],
   "metadata": {
    "collapsed": false
   },
   "id": "c233669ca8e3f7ce"
  },
  {
   "cell_type": "code",
   "execution_count": null,
   "outputs": [],
   "source": [
    "# use threading library\n",
    "import threading\n",
    "\n",
    "thread1 = threading.Thread(target=delthread, args=(1,))\n",
    "thread2 = threading.Thread(target=delthread, args=(2,))\n",
    "thread3 = threading.Thread(target=delthread, args=(3,))\n",
    "\n",
    "thread1.start()\n",
    "thread2.start()\n",
    "thread3.start()"
   ],
   "metadata": {
    "collapsed": false
   },
   "id": "1a0062bf8f06f9"
  },
  {
   "cell_type": "code",
   "execution_count": null,
   "outputs": [],
   "source": [
    "failed = \"\"\"Fashion : Clothing : Knit cardigan : Crew neck : Gg 3\n",
    "Fashion : Clothing : Knit cardigan : Crew neck : Gg 5\n",
    "Fashion : Clothing : Knit cardigan : Crew neck : Gg 7\n",
    "Fashion : Clothing : Knit cardigan : Edge to edge  : Gg 7\n",
    "Fashion : Clothing : Knit cardigan : Zip up : Gg 12\n",
    "Fashion : Clothing : Knit cardigan : Zip up : Gg 3\n",
    "Fashion : Clothing : Knit cardigan : Zip up : Gg 5\n",
    "Fashion : Clothing : Knit cardigan : Zip up : Gg 7\n",
    "Fashion : Clothing : Knit dress : Knit midi dress : Gg 12\n",
    "Fashion : Clothing : Knit dress : Knit mini dress : Gg 12\n",
    "Fashion : Clothing : Knit dress : Knit mini dress : Gg 7\n",
    "Fashion : Clothing : Knit jumper : Crew neck  : Gg 12\n",
    "Fashion : Clothing : Knit jumper : Crew neck  : Gg 7\n",
    "Fashion : Clothing : Knit jumper : Crew neck : Gg 12\n",
    "Fashion : Clothing : Knit jumper : Crew neck : Gg 14\n",
    "Fashion : Clothing : Knit jumper : Crew neck : Gg 3\n",
    "Fashion : Clothing : Knit jumper : Crew neck : Gg 5\n",
    "Fashion : Clothing : Knit jumper : Crew neck : Gg 7\n",
    "Fashion : Clothing : Knit jumper : Funnel neck : Gg 5\n",
    "Fashion : Clothing : Knit jumper : Roll neck : Gg 3\n",
    "Fashion : Clothing : Knit jumper : Roll neck : Gg 5\n",
    "Fashion : Clothing : Knit jumper : Roll neck : Gg 7\n",
    "Fashion : Clothing : Knit jumper : Slash neck : Gg 5\n",
    "Fashion : Clothing : Knit jumper : Slash neck : Gg 7\n",
    "Fashion : Clothing : Knit jumper : Square neck : Gg 12\n",
    "Fashion : Clothing : Knit jumper : Square neck : Gg 7\n",
    "Fashion : Clothing : Knit jumper : Zip up : Gg 7\n",
    "Fashion : Clothing : Trouser : Jersey trouser : Plain jersey trouser\n",
    "Fashion : Jewellery : Costume : Bangles : Chunky bangles\n",
    "Fashion : Jewellery : Costume : Bangles : Twist bangles\n",
    "Home & Gift : Beauty : Body : Body lotion\n",
    "Home & Gift : Beauty : Body : Body wash\n",
    "Home & Gift : Beauty : Body : Body wash : Multi\n",
    "Home & Gift : Beauty : Body : Body wash : Single\n",
    "Home & Gift : Beauty : Body : Gift set\n",
    "Home & Gift : Beauty : Body : Mask\n",
    "Home & Gift : Beauty : Body : Oil & balm\n",
    "Home & Gift : Beauty : Body : Sun & tan\n",
    "Home & Gift : Cards : Birthday\n",
    "Home & Gift : Cards : Birthday : Age\n",
    "Home & Gift : Cards : Birthday : General\n",
    "Home & Gift : Cards : Generic\n",
    "Home & Gift : Cards : Generic : Alcohol\n",
    "Home & Gift : Cards : Generic : Graphic/illustrative\n",
    "Home & Gift : Cards : Generic : Humour\n",
    "Home & Gift : Cards : Generic : Motivation/quote\n",
    "Home & Gift : Cards : Generic : Women\n",
    "Home & Gift : Cards : Occasion\n",
    "Home & Gift : Cards : Occasion : Anniversary\n",
    "Home & Gift : Cards : Occasion : Congratulations\n",
    "Home & Gift : Cards : Occasion : Engagement\n",
    "Home & Gift : Cards : Occasion : Get well soon\n",
    "Home & Gift : Cards : Occasion : Good luck\n",
    "Home & Gift : Cards : Occasion : Leaving\n",
    "Home & Gift : Cards : Occasion : New baby\n",
    "Home & Gift : Cards : Occasion : New baby : New arrival\n",
    "Home & Gift : Cards : Occasion : New home\n",
    "Home & Gift : Cards : Occasion : Sympathy\n",
    "Home & Gift : Cards : Occasion : Thank you\n",
    "Home & Gift : Cards : Occasion : Thank you : Single\n",
    "Home & Gift : Cards : Occasion : Wedding\n",
    "Home & Gift : Cards  : Seasonal\n",
    "Home & Gift : Cards  : Seasonal : Christmas\n",
    "Home & Gift : Cards  : Seasonal : Christmas : Pack\n",
    "Home & Gift : Cards  : Seasonal : Christmas : Single\n",
    "Home & Gift : Cards  : Seasonal : Father's day\n",
    "Home & Gift : Cards  : Seasonal : Mother's day\n",
    "Home & Gift : Cards : Seasonal : Religious celebration\n",
    "Home & Gift : Cards : Seasonal : Valentine's day\n",
    "Home & Gift : Kitchen & dining : Hot drinkware : Mug : Set\n",
    "Home & Gift : Kitchen & dining : Table setting : Coaster\n",
    "Home & Gift : Kitchen & dining : Table setting : Napkin ring\"\"\"\n",
    "nospace_netsuite = [r.externalId.replace(\" \", \"\").lower() for r in everything]\n",
    "\n",
    "for id in nospace_netsuite:\n",
    "    if nospace_netsuite.count(id) > 1:\n",
    "        ic(id, nospace_netsuite.count(id))\n",
    "\n",
    "count_df = pandas.DataFrame(\n",
    "    [\n",
    "        {\n",
    "            \"externalId\": r.externalId,\n",
    "            \"name\": r.name,\n",
    "            \"count\": nospace_netsuite.count(r.externalId.replace(\" \", \"\").lower())\n",
    "        }\n",
    "        for r in everything]\n",
    ")\n",
    "count_df\n",
    "\n",
    "failed = failed.split(\"\\n\")\n",
    "for f in failed:\n",
    "    if f.replace(\" \", \"\").lower() not in nospace_netsuite:\n",
    "        print(f)\n",
    "    \n"
   ],
   "metadata": {
    "collapsed": false
   },
   "id": "440aab17a1d6aaa8"
  }
 ],
 "metadata": {
  "kernelspec": {
   "display_name": "Python 3",
   "language": "python",
   "name": "python3"
  },
  "language_info": {
   "codemirror_mode": {
    "name": "ipython",
    "version": 2
   },
   "file_extension": ".py",
   "mimetype": "text/x-python",
   "name": "python",
   "nbconvert_exporter": "python",
   "pygments_lexer": "ipython2",
   "version": "2.7.6"
  }
 },
 "nbformat": 4,
 "nbformat_minor": 5
}
