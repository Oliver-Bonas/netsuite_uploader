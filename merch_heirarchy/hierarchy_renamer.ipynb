{
 "cells": [
  {
   "cell_type": "code",
   "execution_count": 1,
   "id": "initial_id",
   "metadata": {
    "collapsed": true,
    "ExecuteTime": {
     "end_time": "2023-11-14T10:36:23.536216500Z",
     "start_time": "2023-11-14T10:36:23.504227300Z"
    }
   },
   "outputs": [
    {
     "name": "stdout",
     "output_type": "stream",
     "text": [
      "C:\\Users\\Thomas.fuller\\AppData\\Local\\Programs\\Python\\Python39\\python.exe\n",
      "C:\\Users\\Thomas.fuller\\NotDrive\\Repos\\airflow_pipelines\\dags\\config\\environment.py\n",
      "~~~~~~~~~~~~~~~~~~~~~~~~~~~~~~~~~~~~~~~~~~~~~~~~~~~~~~~~~~~~\n",
      "C:\\Users\\Thomas.fuller\\NotDrive\\Repos\\airflow_pipelines\\dags\n",
      "~~~~~~~~~~~~~~~~~~~~~~~~~~~~~~~~~~~~~~~~~~~~~~~~~~~~~~~~~~~~\n",
      "now you just need to set_development()\n",
      "C:\\Users\\Thomas.fuller\\NotDrive\\Repos\\airflow_pipelines\\dags\\config\\environment.py\n"
     ]
    }
   ],
   "source": [
    "from util.api_and_repo_link import link_me_up\n",
    "link_me_up()\n",
    "from config.environment import ENVIRONMENT\n",
    "ENVIRONMENT.set_development()"
   ]
  },
  {
   "cell_type": "code",
   "execution_count": 2,
   "outputs": [
    {
     "ename": "ModuleNotFoundError",
     "evalue": "No module named 'gcsfs'",
     "output_type": "error",
     "traceback": [
      "\u001B[1;31m---------------------------------------------------------------------------\u001B[0m",
      "\u001B[1;31mModuleNotFoundError\u001B[0m                       Traceback (most recent call last)",
      "Cell \u001B[1;32mIn[2], line 2\u001B[0m\n\u001B[0;32m      1\u001B[0m \u001B[38;5;28;01mfrom\u001B[39;00m \u001B[38;5;21;01mmultithread_uploader\u001B[39;00m \u001B[38;5;28;01mimport\u001B[39;00m upload_all_these_records\n\u001B[1;32m----> 2\u001B[0m \u001B[38;5;28;01mfrom\u001B[39;00m \u001B[38;5;21;01moliverbonas_source_dags\u001B[39;00m\u001B[38;5;21;01m.\u001B[39;00m\u001B[38;5;21;01mapis\u001B[39;00m\u001B[38;5;21;01m.\u001B[39;00m\u001B[38;5;21;01mapi_netsuite\u001B[39;00m \u001B[38;5;28;01mimport\u001B[39;00m APIConfig_netsuite\n\u001B[0;32m      3\u001B[0m api \u001B[38;5;241m=\u001B[39m APIConfig_netsuite()\n\u001B[0;32m      4\u001B[0m \u001B[38;5;28;01mfrom\u001B[39;00m \u001B[38;5;21;01mutil\u001B[39;00m\u001B[38;5;21;01m.\u001B[39;00m\u001B[38;5;21;01mget_ns_number\u001B[39;00m \u001B[38;5;28;01mimport\u001B[39;00m get_ns_number\n",
      "File \u001B[1;32m~\\NotDrive\\Repos\\airflow_pipelines\\dags\\oliverbonas_source_dags\\apis\\api_netsuite.py:8\u001B[0m\n\u001B[0;32m      5\u001B[0m \u001B[38;5;28;01mimport\u001B[39;00m \u001B[38;5;21;01mtime\u001B[39;00m\n\u001B[0;32m      6\u001B[0m \u001B[38;5;28;01mfrom\u001B[39;00m \u001B[38;5;21;01mdatetime\u001B[39;00m \u001B[38;5;28;01mimport\u001B[39;00m datetime\n\u001B[1;32m----> 8\u001B[0m \u001B[38;5;28;01mfrom\u001B[39;00m \u001B[38;5;21;01mconfig\u001B[39;00m\u001B[38;5;21;01m.\u001B[39;00m\u001B[38;5;21;01msecrets\u001B[39;00m \u001B[38;5;28;01mimport\u001B[39;00m SECRETS\n\u001B[0;32m      9\u001B[0m \u001B[38;5;28;01mfrom\u001B[39;00m \u001B[38;5;21;01mlibs\u001B[39;00m\u001B[38;5;21;01m.\u001B[39;00m\u001B[38;5;21;01mGeneral\u001B[39;00m \u001B[38;5;28;01mimport\u001B[39;00m retry\n\u001B[0;32m     10\u001B[0m \u001B[38;5;28;01mfrom\u001B[39;00m \u001B[38;5;21;01moliverbonas_source_dags\u001B[39;00m\u001B[38;5;21;01m.\u001B[39;00m\u001B[38;5;21;01mapis\u001B[39;00m\u001B[38;5;21;01m.\u001B[39;00m\u001B[38;5;21;01mpipeline\u001B[39;00m \u001B[38;5;28;01mimport\u001B[39;00m APIConfigBase, PipelineBase\n",
      "File \u001B[1;32m~\\NotDrive\\Repos\\airflow_pipelines\\dags\\config\\secrets.py:6\u001B[0m\n\u001B[0;32m      4\u001B[0m \u001B[38;5;28;01mfrom\u001B[39;00m \u001B[38;5;21;01mconfig\u001B[39;00m\u001B[38;5;21;01m.\u001B[39;00m\u001B[38;5;21;01menvironment\u001B[39;00m \u001B[38;5;28;01mimport\u001B[39;00m ENVIRONMENT\n\u001B[0;32m      5\u001B[0m \u001B[38;5;28;01mfrom\u001B[39;00m \u001B[38;5;21;01mconfig\u001B[39;00m\u001B[38;5;21;01m.\u001B[39;00m\u001B[38;5;21;01mvariables\u001B[39;00m \u001B[38;5;28;01mimport\u001B[39;00m VARIABLES\n\u001B[1;32m----> 6\u001B[0m \u001B[38;5;28;01mfrom\u001B[39;00m \u001B[38;5;21;01mlibs\u001B[39;00m\u001B[38;5;21;01m.\u001B[39;00m\u001B[38;5;21;01mGCP\u001B[39;00m \u001B[38;5;28;01mimport\u001B[39;00m access_secret_version\n\u001B[0;32m      8\u001B[0m \u001B[38;5;66;03m# only relevant when running locally\u001B[39;00m\n\u001B[0;32m      9\u001B[0m secret_jsons \u001B[38;5;241m=\u001B[39m os\u001B[38;5;241m.\u001B[39mpath\u001B[38;5;241m.\u001B[39mjoin(VARIABLES\u001B[38;5;241m.\u001B[39mROOT_FOLDER, \u001B[38;5;124m\"\u001B[39m\u001B[38;5;124mgcp_infrastructure\u001B[39m\u001B[38;5;124m\"\u001B[39m, \u001B[38;5;124m\"\u001B[39m\u001B[38;5;124msecret_jsons\u001B[39m\u001B[38;5;124m\"\u001B[39m)\n",
      "File \u001B[1;32m~\\NotDrive\\Repos\\airflow_pipelines\\dags\\libs\\GCP.py:16\u001B[0m\n\u001B[0;32m     14\u001B[0m \u001B[38;5;28;01mimport\u001B[39;00m \u001B[38;5;21;01mpandas\u001B[39;00m\n\u001B[0;32m     15\u001B[0m \u001B[38;5;28;01mfrom\u001B[39;00m \u001B[38;5;21;01mconfig\u001B[39;00m\u001B[38;5;21;01m.\u001B[39;00m\u001B[38;5;21;01mvariables\u001B[39;00m \u001B[38;5;28;01mimport\u001B[39;00m VARIABLES\n\u001B[1;32m---> 16\u001B[0m \u001B[38;5;28;01mfrom\u001B[39;00m \u001B[38;5;21;01mgcsfs\u001B[39;00m \u001B[38;5;28;01mimport\u001B[39;00m GCSFileSystem\n\u001B[0;32m     18\u001B[0m \u001B[38;5;66;03m########## global imports ##########\u001B[39;00m\n\u001B[0;32m     19\u001B[0m \u001B[38;5;28;01mfrom\u001B[39;00m \u001B[38;5;21;01mgoogle\u001B[39;00m\u001B[38;5;21;01m.\u001B[39;00m\u001B[38;5;21;01mcloud\u001B[39;00m \u001B[38;5;28;01mimport\u001B[39;00m exceptions, secretmanager, storage\n",
      "\u001B[1;31mModuleNotFoundError\u001B[0m: No module named 'gcsfs'"
     ]
    }
   ],
   "source": [
    "\n",
    "from multithread_uploader import upload_all_these_records\n",
    "from oliverbonas_source_dags.apis.api_netsuite import APIConfig_netsuite\n",
    "api = APIConfig_netsuite()\n",
    "from util.get_ns_number import get_ns_number\n",
    "from util.zeep_to_df import complete_zeep_df\n",
    "import pandas\n",
    "import random\n",
    "from datetime import datetime, timedelta"
   ],
   "metadata": {
    "collapsed": false,
    "ExecuteTime": {
     "end_time": "2023-11-14T10:36:24.466220900Z",
     "start_time": "2023-11-14T10:36:23.533215900Z"
    }
   },
   "id": "20595db50f8b815b"
  },
  {
   "cell_type": "code",
   "execution_count": null,
   "outputs": [],
   "source": [
    "StringCustomFieldRef = api.client.get_type(f\"ns0:StringCustomFieldRef\")\n",
    "SalesOrder = api.client.get_type(\"ns19:SalesOrder\")\n",
    "RecordRef = api.client.get_type(\"ns0:RecordRef\")\n",
    "SalesOrderItemList = api.client.get_type(\"ns19:SalesOrderItemList\")\n",
    "SalesOrderItem = api.client.get_type(\"ns19:SalesOrderItem\")\n",
    "LocationSearchBasic = api.client.get_type(\"ns5:LocationSearchBasic\")\n",
    "DepartmentSearchBasic = api.client.get_type(\"ns5:DepartmentSearchBasic\")\n",
    "Address = api.client.get_type(\"ns5:Address\")\n",
    "GetAllRecord = api.client.get_type(\"ns0:GetAllRecord\")\n",
    "CustomerSearchBasic = api.client.get_type(\"ns5:CustomerSearchBasic\")\n",
    "CustomFieldList = api.client.get_type(\"ns0:CustomFieldList\")\n",
    "CustomRecordRef = api.client.get_type(\"ns0:CustomRecordRef\")\n",
    "CustomFieldRef = api.client.get_type(\"ns0:CustomFieldRef\")\n",
    "ListOrRecordRef = api.client.get_type(\"ns0:ListOrRecordRef\")\n",
    "BooleanCustomFieldRef = api.client.get_type(\"ns0:BooleanCustomFieldRef\")\n",
    "TransactionSearchBasic = api.client.get_type(\"ns5:TransactionSearchBasic\")\n",
    "SelectCustomFieldRef = api.client.get_type(\"ns0:SelectCustomFieldRef\")\n",
    "IntercoStatus = api.client.get_type(\"ns6:IntercoStatus\")\n",
    "MerchandiseHierarchyNodeSearchBasic = api.client.get_type(\"ns5:MerchandiseHierarchyNodeSearchBasic\")\n",
    "SearchMultiSelectField = api.client.get_type(\"ns0:SearchMultiSelectField\")\n",
    "MerchandiseHierarchyNode = api.client.get_type(\"ns17:MerchandiseHierarchyNode\")\n",
    "get_ns_number(api, \"MerchandiseHierarchyNode\")"
   ],
   "metadata": {
    "collapsed": false,
    "ExecuteTime": {
     "end_time": "2023-11-14T10:36:24.467216300Z",
     "start_time": "2023-11-14T10:36:24.466220900Z"
    }
   },
   "id": "2491d86972405da6"
  },
  {
   "cell_type": "code",
   "execution_count": null,
   "outputs": [],
   "source": [
    "\"\"\"hierarchyVersion=SearchMultiSelectField(\n",
    "                operator=\"anyOf\",\n",
    "                searchValue=[\n",
    "                    RecordRef(\n",
    "                        internalId = 11\n",
    "                    )\n",
    "                ]\n",
    "            )\"\"\"\n",
    "page1 = api.service_proxy.search(\n",
    "        searchRecord=MerchandiseHierarchyNodeSearchBasic(\n",
    "            \n",
    "        ),\n",
    "        _soapheaders=api.build_soap_headers()\n",
    ")\n"
   ],
   "metadata": {
    "collapsed": false,
    "ExecuteTime": {
     "end_time": "2023-11-14T10:36:24.482218100Z",
     "start_time": "2023-11-14T10:36:24.468232900Z"
    }
   },
   "id": "45cc37d2b3bbc7ae"
  },
  {
   "cell_type": "code",
   "execution_count": null,
   "outputs": [],
   "source": [
    "sid = page1.body.searchResult.searchId\n",
    "pages = [page1]\n",
    "\n",
    "for i in range(2, page1.body.searchResult.totalPages + 1):\n",
    "    print(f\"Paging {i}\")\n",
    "    \n",
    "    page = api.service_proxy.searchMoreWithId(\n",
    "        searchId=sid,\n",
    "        pageIndex=i,\n",
    "        _soapheaders=api.build_soap_headers()\n",
    "    )\n",
    "    pages.append(page)"
   ],
   "metadata": {
    "collapsed": false,
    "ExecuteTime": {
     "start_time": "2023-11-14T10:36:24.472247700Z"
    }
   },
   "id": "2d63980776998451"
  },
  {
   "cell_type": "code",
   "execution_count": null,
   "outputs": [],
   "source": [
    "records = [r for p in pages for r in p.body.searchResult.recordList.record]\n",
    "df = complete_zeep_df(records)\n",
    "df"
   ],
   "metadata": {
    "collapsed": false,
    "ExecuteTime": {
     "start_time": "2023-11-14T10:36:24.475217500Z"
    }
   },
   "id": "e3eba423ee3f07db"
  },
  {
   "cell_type": "code",
   "execution_count": null,
   "outputs": [],
   "source": [
    "bad_records = [r for r in records if r.externalId.lower().startswith(\"fashion\") or r.externalId.lower().startswith(\"home\")]\n",
    "bad_records"
   ],
   "metadata": {
    "collapsed": false,
    "ExecuteTime": {
     "start_time": "2023-11-14T10:36:24.478217400Z"
    }
   },
   "id": "42327b14ba098a86"
  },
  {
   "cell_type": "code",
   "execution_count": null,
   "outputs": [],
   "source": [
    "updates = [MerchandiseHierarchyNode(\n",
    "    internalId = r.internalId,\n",
    "    externalId = \"DNU_old[[\" + r.externalId + \"]]old_DNU\"\n",
    ") for r in bad_records]"
   ],
   "metadata": {
    "collapsed": false,
    "ExecuteTime": {
     "start_time": "2023-11-14T10:36:24.480218300Z"
    }
   },
   "id": "d0c4ff02cca20884"
  },
  {
   "cell_type": "code",
   "execution_count": null,
   "outputs": [],
   "source": [
    "upload_all_these_records(updates, api, \"updateList\")"
   ],
   "metadata": {
    "collapsed": false,
    "ExecuteTime": {
     "start_time": "2023-11-14T10:36:24.482218100Z"
    }
   },
   "id": "64072874dd2b5dc0"
  }
 ],
 "metadata": {
  "kernelspec": {
   "display_name": "Python 3",
   "language": "python",
   "name": "python3"
  },
  "language_info": {
   "codemirror_mode": {
    "name": "ipython",
    "version": 2
   },
   "file_extension": ".py",
   "mimetype": "text/x-python",
   "name": "python",
   "nbconvert_exporter": "python",
   "pygments_lexer": "ipython2",
   "version": "2.7.6"
  }
 },
 "nbformat": 4,
 "nbformat_minor": 5
}
