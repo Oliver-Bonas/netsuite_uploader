{
 "cells": [
  {
   "cell_type": "code",
   "execution_count": 5,
   "outputs": [
    {
     "name": "stdout",
     "output_type": "stream",
     "text": [
      "C:\\Users\\Thomas.fuller\\NotDrive\\VENV\\simplyvenv\\Scripts\\python.exe\n",
      "C:\\Users\\Thomas.fuller\\NotDrive\\VENV\\simplyvenv\\Scripts\\python.exe\n"
     ]
    }
   ],
   "source": [
    "from api_and_repo_link import link_me_up\n",
    "import api_and_repo_link\n",
    "from importlib import reload\n",
    "reload(api_and_repo_link)\n",
    "link_me_up()"
   ],
   "metadata": {
    "collapsed": false,
    "ExecuteTime": {
     "end_time": "2023-10-13T14:30:19.136561700Z",
     "start_time": "2023-10-13T14:30:19.126569800Z"
    }
   },
   "id": "db2e7a12c8b1e17"
  },
  {
   "cell_type": "code",
   "execution_count": 9,
   "outputs": [
    {
     "name": "stdout",
     "output_type": "stream",
     "text": [
      "failed for ns 0\n",
      "failed for ns 1\n",
      "failed for ns 2\n",
      "failed for ns 3\n",
      "failed for ns 4\n",
      "failed for ns 5\n",
      "failed for ns 6\n",
      "failed for ns 7\n",
      "failed for ns 8\n",
      "failed for ns 9\n",
      "failed for ns 10\n",
      "failed for ns 11\n",
      "failed for ns 12\n",
      "failed for ns 13\n",
      "failed for ns 14\n",
      "failed for ns 15\n",
      "failed for ns 16\n",
      "failed for ns 17\n",
      "failed for ns 18\n",
      "SalesOrder = api.client.get_type(\"ns19:SalesOrder\")\n"
     ]
    }
   ],
   "source": [
    "from multithread_uploader import upload_all_these_records\n",
    "from oliverbonas_source_dags.apis.api_netsuite import APIConfig_netsuite\n",
    "api = APIConfig_netsuite()\n",
    "from util.get_ns_number import get_ns_number\n",
    "import pandas\n",
    "StringCustomFieldRef = api.client.get_type(f\"ns0:StringCustomFieldRef\")\n",
    "SalesOrder = api.client.get_type(\"ns19:SalesOrder\")\n",
    "get_ns_number(api, \"SalesOrder\")"
   ],
   "metadata": {
    "collapsed": false,
    "ExecuteTime": {
     "end_time": "2023-10-13T14:32:11.696352600Z",
     "start_time": "2023-10-13T14:32:09.626784Z"
    }
   },
   "id": "6fda379c02c0d8a2"
  },
  {
   "cell_type": "code",
   "execution_count": null,
   "outputs": [],
   "source": [],
   "metadata": {
    "collapsed": false
   },
   "id": "5b50e9b75eb76d2f"
  },
  {
   "cell_type": "code",
   "execution_count": 1,
   "outputs": [],
   "source": [
    "STATUSMAP = {\n",
    "    \"Fulfillmement\": \"_pendingFulfillment\",\n",
    "}"
   ],
   "metadata": {
    "collapsed": false,
    "ExecuteTime": {
     "end_time": "2023-10-13T14:29:37.094217100Z",
     "start_time": "2023-10-13T14:29:37.087846300Z"
    }
   },
   "id": "f4ba391bba0dc652"
  },
  {
   "cell_type": "code",
   "execution_count": 11,
   "outputs": [
    {
     "data": {
      "text/plain": "\u001B[1;33mC:\\Users\\Thomas.fuller\\NotDrive\\VENV\\simplyvenv\\lib\\site-packages\\IPython\\core\\interactiveshell.py:\u001B[0m\u001B[1;33m3284\u001B[0m\u001B[1;33m DtypeWarning\u001B[0m\u001B[33m: Columns \u001B[0m\u001B[1;33m(\u001B[0m\u001B[1;33m0\u001B[0m\u001B[33m,\u001B[0m\u001B[1;33m1\u001B[0m\u001B[33m,\u001B[0m\u001B[1;33m3\u001B[0m\u001B[33m,\u001B[0m\u001B[1;33m4\u001B[0m\u001B[33m,\u001B[0m\u001B[1;33m7\u001B[0m\u001B[33m,\u001B[0m\u001B[1;33m13\u001B[0m\u001B[33m,\u001B[0m\u001B[1;33m14\u001B[0m\u001B[33m,\u001B[0m\u001B[1;33m15\u001B[0m\u001B[33m,\u001B[0m\u001B[1;33m16\u001B[0m\u001B[33m,\u001B[0m\u001B[1;33m18\u001B[0m\u001B[33m,\u001B[0m\u001B[1;33m19\u001B[0m\u001B[33m,\u001B[0m\u001B[1;33m20\u001B[0m\u001B[33m,\u001B[0m\u001B[1;33m21\u001B[0m\u001B[33m,\u001B[0m\u001B[1;33m24\u001B[0m\u001B[33m,\u001B[0m\u001B[1;33m25\u001B[0m\u001B[33m,\u001B[0m\u001B[1;33m26\u001B[0m\u001B[33m,\u001B[0m\u001B[1;33m27\u001B[0m\u001B[33m,\u001B[0m\u001B[1;33m28\u001B[0m\u001B[33m,\u001B[0m\u001B[1;33m31\u001B[0m\u001B[33m,\u001B[0m\u001B[1;33m32\u001B[0m\u001B[33m,\u001B[0m\u001B[1;33m33\u001B[0m\u001B[33m,\u001B[0m\u001B[1;33m34\u001B[0m\u001B[33m,\u001B[0m\u001B[1;33m35\u001B[0m\u001B[33m,\u001B[0m\u001B[1;33m38\u001B[0m\u001B[1;33m)\u001B[0m\u001B[33m have mixed types.Specify dtype option on import or set \u001B[0m\u001B[33mlow_memory\u001B[0m\u001B[33m=\u001B[0m\u001B[3;33mFalse\u001B[0m\u001B[33m.\u001B[0m\n",
      "text/html": "<pre style=\"white-space:pre;overflow-x:auto;line-height:normal;font-family:Menlo,'DejaVu Sans Mono',consolas,'Courier New',monospace\"><span style=\"color: #808000; text-decoration-color: #808000; font-weight: bold\">C:\\Users\\Thomas.fuller\\NotDrive\\VENV\\simplyvenv\\lib\\site-packages\\IPython\\core\\interactiveshell.py:</span><span style=\"color: #808000; text-decoration-color: #808000; font-weight: bold\">3284</span><span style=\"color: #808000; text-decoration-color: #808000; font-weight: bold\"> DtypeWarning</span><span style=\"color: #808000; text-decoration-color: #808000\">: Columns </span><span style=\"color: #808000; text-decoration-color: #808000; font-weight: bold\">(</span><span style=\"color: #808000; text-decoration-color: #808000; font-weight: bold\">0</span><span style=\"color: #808000; text-decoration-color: #808000\">,</span><span style=\"color: #808000; text-decoration-color: #808000; font-weight: bold\">1</span><span style=\"color: #808000; text-decoration-color: #808000\">,</span><span style=\"color: #808000; text-decoration-color: #808000; font-weight: bold\">3</span><span style=\"color: #808000; text-decoration-color: #808000\">,</span><span style=\"color: #808000; text-decoration-color: #808000; font-weight: bold\">4</span><span style=\"color: #808000; text-decoration-color: #808000\">,</span><span style=\"color: #808000; text-decoration-color: #808000; font-weight: bold\">7</span><span style=\"color: #808000; text-decoration-color: #808000\">,</span><span style=\"color: #808000; text-decoration-color: #808000; font-weight: bold\">13</span><span style=\"color: #808000; text-decoration-color: #808000\">,</span><span style=\"color: #808000; text-decoration-color: #808000; font-weight: bold\">14</span><span style=\"color: #808000; text-decoration-color: #808000\">,</span><span style=\"color: #808000; text-decoration-color: #808000; font-weight: bold\">15</span><span style=\"color: #808000; text-decoration-color: #808000\">,</span><span style=\"color: #808000; text-decoration-color: #808000; font-weight: bold\">16</span><span style=\"color: #808000; text-decoration-color: #808000\">,</span><span style=\"color: #808000; text-decoration-color: #808000; font-weight: bold\">18</span><span style=\"color: #808000; text-decoration-color: #808000\">,</span><span style=\"color: #808000; text-decoration-color: #808000; font-weight: bold\">19</span><span style=\"color: #808000; text-decoration-color: #808000\">,</span><span style=\"color: #808000; text-decoration-color: #808000; font-weight: bold\">20</span><span style=\"color: #808000; text-decoration-color: #808000\">,</span><span style=\"color: #808000; text-decoration-color: #808000; font-weight: bold\">21</span><span style=\"color: #808000; text-decoration-color: #808000\">,</span><span style=\"color: #808000; text-decoration-color: #808000; font-weight: bold\">24</span><span style=\"color: #808000; text-decoration-color: #808000\">,</span><span style=\"color: #808000; text-decoration-color: #808000; font-weight: bold\">25</span><span style=\"color: #808000; text-decoration-color: #808000\">,</span><span style=\"color: #808000; text-decoration-color: #808000; font-weight: bold\">26</span><span style=\"color: #808000; text-decoration-color: #808000\">,</span><span style=\"color: #808000; text-decoration-color: #808000; font-weight: bold\">27</span><span style=\"color: #808000; text-decoration-color: #808000\">,</span><span style=\"color: #808000; text-decoration-color: #808000; font-weight: bold\">28</span><span style=\"color: #808000; text-decoration-color: #808000\">,</span><span style=\"color: #808000; text-decoration-color: #808000; font-weight: bold\">31</span><span style=\"color: #808000; text-decoration-color: #808000\">,</span><span style=\"color: #808000; text-decoration-color: #808000; font-weight: bold\">32</span><span style=\"color: #808000; text-decoration-color: #808000\">,</span><span style=\"color: #808000; text-decoration-color: #808000; font-weight: bold\">33</span><span style=\"color: #808000; text-decoration-color: #808000\">,</span><span style=\"color: #808000; text-decoration-color: #808000; font-weight: bold\">34</span><span style=\"color: #808000; text-decoration-color: #808000\">,</span><span style=\"color: #808000; text-decoration-color: #808000; font-weight: bold\">35</span><span style=\"color: #808000; text-decoration-color: #808000\">,</span><span style=\"color: #808000; text-decoration-color: #808000; font-weight: bold\">38</span><span style=\"color: #808000; text-decoration-color: #808000; font-weight: bold\">)</span><span style=\"color: #808000; text-decoration-color: #808000\"> have mixed types.Specify dtype option on import or set </span><span style=\"color: #808000; text-decoration-color: #808000\">low_memory</span><span style=\"color: #808000; text-decoration-color: #808000\">=</span><span style=\"color: #808000; text-decoration-color: #808000; font-style: italic\">False</span><span style=\"color: #808000; text-decoration-color: #808000\">.</span>\n</pre>\n"
     },
     "metadata": {},
     "output_type": "display_data"
    },
    {
     "data": {
      "text/plain": "{'ExternalID': '1/3462401/1',\n 'tranID': '1/3462401/1',\n 'Customer': 1512157.0,\n 'trandate': '01/01/2022',\n 'orderstatus': 'Fulfillmement',\n 'Department': 20.0,\n 'Class': 723.0,\n 'Location': '2-WAREHOUSE',\n 'discountrate': 0.0,\n 'itemLine_item': 1454284.0,\n 'itemLine_quantity': 1.0,\n 'itemLine_salesPrice': 8.0,\n 'itemLine_amount': 8.0,\n 'itemLine_description': 'Inhale Exhale Mug',\n 'itemLine_isTaxable': True,\n 'itemLine_priceLevel': 'Markdown',\n 'itemLine_CUSTOM_orderstatus': 'Complete',\n 'itemLine_CUSTOM_itemLine_amount_net': 6.67,\n 'itemLine_CUSTOM_Magento_Order_ID': '1003475850',\n 'itemLine_CUSTOM_Order_date_time': '01/01/2022 00:00',\n 'shipmethod': 'UK Standard Delivery - UK Standard Delivery',\n 'shipaddressee': 'Claire Gilpin',\n 'shipAddr1': nan,\n 'shipAddr2': nan,\n 'shipCity': 'Redhill',\n 'shipState': 'Surrey',\n 'shipZip': 'RH1 6PA',\n 'shipCountry': 'GB',\n 'billAddressee': 'Claire Gilpin',\n 'billAddr1': nan,\n 'billAddr2': nan,\n 'billCity': 'Redhill',\n 'billState': 'Surrey',\n 'billZip': 'RH1 6PA',\n 'billCountry': 'GB',\n 'currency': 'GBP',\n 'exchangerate': 1.0,\n 'taxrate': 17.0,\n 'email': 'claire.gilpin@outlook.com'}"
     },
     "execution_count": 11,
     "metadata": {},
     "output_type": "execute_result"
    }
   ],
   "source": [
    "\n",
    "df = pandas.read_csv(\"SLS_NS_20220101_20230430_1.csv\")\n",
    "\n",
    "onerow = df.iloc[0].to_dict()"
   ],
   "metadata": {
    "collapsed": false,
    "ExecuteTime": {
     "end_time": "2023-10-13T14:32:34.536758Z",
     "start_time": "2023-10-13T14:32:34.354083800Z"
    }
   },
   "id": "a20dcddf44e7d22a"
  },
  {
   "cell_type": "code",
   "execution_count": 36,
   "outputs": [],
   "source": [
    "import random\n",
    "from datetime import datetime\n",
    "orders = [SalesOrder(\n",
    "    **{\n",
    "        \"class\": {\"name\": onerow[\"Class\"]},\n",
    "        \"department\": {\"name\": onerow[\"Department\"]},\n",
    "        \"externalId\": onerow[\"ExternalID\"] + \"_\"+str(random.randint(100, 100000)),\n",
    "        \"location\": {\"name\": onerow[\"Location\"]},\n",
    "        \"billingAddress\": {\n",
    "            \"city\": onerow[\"billCity\"],\n",
    "            #\"country\": onerow[\"billCountry\"], # netsuite says not valid\n",
    "            \"state\": onerow[\"billState\"],\n",
    "            \"zip\": onerow[\"billZip\"],\n",
    "            \"addr1\": onerow[\"billAddr1\"],\n",
    "            \"addr2\": onerow[\"billAddr2\"],\n",
    "            \"addressee\": onerow[\"billAddressee\"],\n",
    "        },\n",
    "        # the error will be \"please enter a value for entity\" if the customer doesn't exist\n",
    "       \"entity\": {\"externalId\": \"customer_human_881003452\"},#onerow[\"Customer\"]},#881003451},\n",
    "        \"currency\": {\"name\": onerow[\"currency\"]},\n",
    "        \"discountRate\": onerow[\"discountrate\"],\n",
    "        \"email\": onerow[\"email\"],\n",
    "        \"exchangeRate\": onerow[\"exchangerate\"],\n",
    "        # are we just using one sales order?\n",
    "        \"itemList\": {\n",
    "            \"item\": [\n",
    "                {\n",
    "                \"item\": {\"externalId\": str(int(onerow[\"itemLine_item\"]))}, # ,\"1594515\"\n",
    "                \"amount\": onerow[\"itemLine_amount\"] * 10,\n",
    "                \"description\": onerow[\"itemLine_description\"],\n",
    "                \"isTaxable\": onerow[\"itemLine_isTaxable\"],\n",
    "                #\"priceLevel\": {\"name\": onerow[\"itemLine_priceLevel\"]}, # unexpected (check different wsdl)\n",
    "                \"quantity\": onerow[\"itemLine_quantity\"] * 10,\n",
    "                #\"salesPrice\": onerow[\"itemLine_salesPrice\"], # also unexpected\n",
    "                #\"line\": 234256345,\n",
    "                \"options\": [\n",
    "                    # i can see that it works with those custom fields, but no others!\n",
    "                    # they also don't show up in the UI.\n",
    "                    # why only these columns?\n",
    "                    ## seems like these need to be added!\n",
    "                    {\"customField\": StringCustomFieldRef(\n",
    "                        #Invalid options reference key Magento_Order_ID.\n",
    "                        #Invalid options reference key null\n",
    "                        internalId=\"4699\",#\"Magento_Order_ID\",\n",
    "                        value=\"2\"#onerow[\"itemLine_CUSTOM_Magento_Order_ID\"]\n",
    "                    )},\n",
    "                    {\"customField\": StringCustomFieldRef(\n",
    "                        #internalId=\"Order_date_time\",\n",
    "                        internalId=\"1533\",\n",
    "                        value=\"firstname\",\n",
    "                        #value=onerow[\"itemLine_CUSTOM_Order_date_time\"]\n",
    "                    )},\n",
    "                    \"\"\"{\"customField\": stringcustomfieldref(\n",
    "                        #internalId=\"itemLine_amount_net\",\n",
    "                        value=onerow[\"itemLine_CUSTOM_itemLine_amount_net\"]\n",
    "                    )},\n",
    "                    {\"customField\": stringcustomfieldref(\n",
    "                        #internalId=\"orderstatus\",\n",
    "                        value=onerow[\"itemLine_CUSTOM_orderstatus\"]\n",
    "                    )},\"\"\"\n",
    "                    # when adding an item, the custom fields automatically pop up\n",
    "                    # the only options are internalID, scriptID, best to speak to someone\n",
    "                    #{\"customField\": {\n",
    "                ]\n",
    "                }\n",
    "            ]\n",
    "        },\n",
    "        \"orderStatus\": STATUSMAP[onerow[\"orderstatus\"]],\n",
    "        \"shippingAddress\": {\n",
    "            \"city\": onerow[\"shipCity\"],\n",
    "            #\"country\": onerow[\"shipCountry\"], # netsuite says not valid\n",
    "            \"state\": onerow[\"shipState\"],\n",
    "            \"zip\": onerow[\"shipZip\"],\n",
    "            \"addr1\": onerow[\"shipAddr1\"],\n",
    "            \"addr2\": onerow[\"shipAddr2\"],\n",
    "            \"addressee\": onerow[\"shipaddressee\"],\n",
    "        },\n",
    "        \"shipMethod\": {\"name\": onerow[\"shipmethod\"]},\n",
    "        \"taxRate\": onerow[\"taxrate\"],\n",
    "        #'message': 'You do not have permissions to set a value for element tranid due to one of the following reasons: 1) The field is read-only; 2) An associated feature is disabled; 3) The field is available either when a record is created or updated, but not in both cases.'\n",
    "        #\"tranId\": onerow[\"tranID\"],\n",
    "        # reformat date to netsuite friendly time\n",
    "        \"tranDate\": datetime.strptime(onerow[\"trandate\"], \"%d/%m/%Y\").strftime(\"%Y-%m-%dT%H:%M:%S.%fZ\"),\n",
    "       }\n",
    ") for onerow in [row.to_dict() for pos, row in df.iterrows()][:1000]]"
   ],
   "metadata": {
    "collapsed": false,
    "ExecuteTime": {
     "end_time": "2023-10-13T15:05:01.557886900Z",
     "start_time": "2023-10-13T15:04:58.313482500Z"
    }
   },
   "id": "8af9e0cea8eb4eed"
  },
  {
   "cell_type": "code",
   "execution_count": 32,
   "outputs": [
    {
     "data": {
      "text/plain": "<module 'multithread_uploader' from 'C:\\\\Users\\\\Thomas.fuller\\\\NotDrive\\\\Repos\\\\netsuite_uploader\\\\multithread_uploader.py'>"
     },
     "execution_count": 32,
     "metadata": {},
     "output_type": "execute_result"
    }
   ],
   "source": [
    "from multithread_uploader import upload_all_these_records\n",
    "import multithread_uploader\n",
    "reload(multithread_uploader)\n"
   ],
   "metadata": {
    "collapsed": false,
    "ExecuteTime": {
     "end_time": "2023-10-13T15:01:05.370034Z",
     "start_time": "2023-10-13T15:01:05.359038100Z"
    }
   },
   "id": "2177cf425e555789"
  },
  {
   "cell_type": "code",
   "execution_count": 37,
   "outputs": [
    {
     "name": "stdout",
     "output_type": "stream",
     "text": [
      "thread (0) start_row: 0, end_row: 36\n",
      "thread (1) start_row: 36, end_row: 72\n",
      "thread (2) start_row: 72, end_row: 108\n",
      "thread (3) start_row: 108, end_row: 144\n",
      "thread (4) start_row: 144, end_row: 180\n",
      "thread (5) start_row: 180, end_row: 216\n",
      "thread (6) start_row: 216, end_row: 252\n",
      "thread (7) start_row: 252, end_row: 288\n",
      "thread (8) start_row: 288, end_row: 324\n",
      "thread (9) start_row: 324, end_row: 360\n",
      "thread (10) start_row: 360, end_row: 396\n",
      "thread (11) start_row: 396, end_row: 432\n",
      "thread (12) start_row: 432, end_row: 468\n",
      "thread (13) start_row: 468, end_row: 504\n",
      "thread (14) start_row: 504, end_row: 540\n",
      "thread (15) start_row: 540, end_row: 576\n",
      "thread (16) start_row: 576, end_row: 612\n",
      "thread (17) start_row: 612, end_row: 648\n",
      "thread (18) start_row: 648, end_row: 684\n",
      "thread (19) start_row: 684, end_row: 720\n",
      "thread (20) start_row: 720, end_row: 756\n",
      "thread (21) start_row: 756, end_row: 792\n",
      "thread (22) start_row: 792, end_row: 828\n",
      "thread (23) start_row: 828, end_row: 864\n",
      "thread (24) start_row: 864, end_row: 900\n",
      "thread (25) start_row: 900, end_row: 936\n",
      "thread (26) start_row: 936, end_row: 972\n",
      "thread (27) start_row: 972, end_row: 1008\n",
      "+++++++++ new thread (0) +++++++++\n",
      "+++++++++ new thread (1) +++++++++\n",
      "+++++++++ new thread (2) +++++++++\n",
      "+++++++++ new thread (3) +++++++++\n",
      "+++++++++ new thread (4) +++++++++\n",
      "+++++++++ new thread (5) +++++++++\n",
      "+++++++++ new thread (6) +++++++++\n",
      "+++++++++ new thread (7) +++++++++\n",
      "+++++++++ new thread (8) +++++++++\n",
      "+++++++++ new thread (9) +++++++++\n",
      "+++++++++ new thread (10) +++++++++\n",
      "+++++++++ new thread (11) +++++++++\n",
      "+++++++++ new thread (12) +++++++++\n",
      "+++++++++ new thread (13) +++++++++\n",
      "+++++++++ new thread (14) +++++++++\n",
      "+++++++++ new thread (15) +++++++++\n",
      "+++++++++ new thread (16) +++++++++\n"
     ]
    },
    {
     "name": "stderr",
     "output_type": "stream",
     "text": [
      "Exception in thread Thread-73:\n",
      "Traceback (most recent call last):\n",
      "  File \"C:\\Users\\Thomas.fuller\\AppData\\Local\\Programs\\Python\\Python39\\lib\\threading.py\", line 980, in _bootstrap_inner\n",
      "    self.run()\n",
      "  File \"C:\\Users\\Thomas.fuller\\AppData\\Local\\Programs\\Python\\Python39\\lib\\threading.py\", line 917, in run\n",
      "    self._target(*self._args, **self._kwargs)\n",
      "  File \"C:\\Users\\Thomas.fuller\\NotDrive\\Repos\\netsuite_uploader\\multithread_uploader.py\", line 33, in soap_uploader_thread\n",
      "    response = api.service_proxy.addList(\n",
      "  File \"C:\\Users\\Thomas.fuller\\NotDrive\\VENV\\simplyvenv\\lib\\site-packages\\zeep\\proxy.py\", line 46, in __call__\n",
      "    return self._proxy._binding.send(\n",
      "  File \"C:\\Users\\Thomas.fuller\\NotDrive\\VENV\\simplyvenv\\lib\\site-packages\\zeep\\wsdl\\bindings\\soap.py\", line 135, in send\n",
      "    return self.process_reply(client, operation_obj, response)\n",
      "  File \"C:\\Users\\Thomas.fuller\\NotDrive\\VENV\\simplyvenv\\lib\\site-packages\\zeep\\wsdl\\bindings\\soap.py\", line 229, in process_reply\n"
     ]
    },
    {
     "name": "stdout",
     "output_type": "stream",
     "text": [
      "+++++++++ new thread (17) ++++++++++++++++++ new thread (18) +++++++++\n",
      "\n",
      "+++++++++ new thread (19) +++++++++\n",
      "+++++++++ new thread (20) +++++++++\n",
      "+++++++++ new thread (21) +++++++++\n",
      "+++++++++ new thread (22) +++++++++\n",
      "+++++++++ new thread (23) +++++++++\n",
      "+++++++++ new thread (24) +++++++++\n",
      "+++++++++ new thread (25) +++++++++\n",
      "+++++++++ new thread (26) +++++++++\n"
     ]
    },
    {
     "name": "stderr",
     "output_type": "stream",
     "text": [
      "    return self.process_error(doc, operation)\n",
      "  File \"C:\\Users\\Thomas.fuller\\NotDrive\\VENV\\simplyvenv\\lib\\site-packages\\zeep\\wsdl\\bindings\\soap.py\", line 329, in process_error\n",
      "Exception in thread Thread-74:\n",
      "Traceback (most recent call last):\n",
      "  File \"C:\\Users\\Thomas.fuller\\AppData\\Local\\Programs\\Python\\Python39\\lib\\threading.py\", line 980, in _bootstrap_inner\n",
      "    raise Fault(\n",
      "zeep.exceptions.Fault: java.lang.NumberFormatException: For input string: \"nan\"\n",
      "    self.run()\n",
      "  File \"C:\\Users\\Thomas.fuller\\AppData\\Local\\Programs\\Python\\Python39\\lib\\threading.py\", line 917, in run\n",
      "    self._target(*self._args, **self._kwargs)\n",
      "  File \"C:\\Users\\Thomas.fuller\\NotDrive\\Repos\\netsuite_uploader\\multithread_uploader.py\", line 33, in soap_uploader_thread\n",
      "    response = api.service_proxy.addList(\n",
      "  File \"C:\\Users\\Thomas.fuller\\NotDrive\\VENV\\simplyvenv\\lib\\site-packages\\zeep\\proxy.py\", line 46, in __call__\n",
      "    return self._proxy._binding.send(\n",
      "  File \"C:\\Users\\Thomas.fuller\\NotDrive\\VENV\\simplyvenv\\lib\\site-packages\\zeep\\wsdl\\bindings\\soap.py\", line 135, in send\n",
      "    return self.process_reply(client, operation_obj, response)\n",
      "  File \"C:\\Users\\Thomas.fuller\\NotDrive\\VENV\\simplyvenv\\lib\\site-packages\\zeep\\wsdl\\bindings\\soap.py\", line 229, in process_reply\n",
      "    return self.process_error(doc, operation)\n",
      "  File \"C:\\Users\\Thomas.fuller\\NotDrive\\VENV\\simplyvenv\\lib\\site-packages\\zeep\\wsdl\\bindings\\soap.py\", line 329, in process_error\n",
      "    raise Fault(\n",
      "zeep.exceptions.Fault: java.lang.NumberFormatException: For input string: \"nan\"\n",
      "Exception in thread Thread-83:\n",
      "Traceback (most recent call last):\n",
      "  File \"C:\\Users\\Thomas.fuller\\AppData\\Local\\Programs\\Python\\Python39\\lib\\threading.py\", line 980, in _bootstrap_inner\n",
      "    self.run()\n",
      "  File \"C:\\Users\\Thomas.fuller\\AppData\\Local\\Programs\\Python\\Python39\\lib\\threading.py\", line 917, in run\n",
      "Exception in thread Thread-79:\n",
      "Traceback (most recent call last):\n",
      "  File \"C:\\Users\\Thomas.fuller\\AppData\\Local\\Programs\\Python\\Python39\\lib\\threading.py\", line 980, in _bootstrap_inner\n",
      "    self.run()\n",
      "  File \"C:\\Users\\Thomas.fuller\\AppData\\Local\\Programs\\Python\\Python39\\lib\\threading.py\", line 917, in run\n",
      "    self._target(*self._args, **self._kwargs)\n",
      "  File \"C:\\Users\\Thomas.fuller\\NotDrive\\Repos\\netsuite_uploader\\multithread_uploader.py\", line 33, in soap_uploader_thread\n",
      "    self._target(*self._args, **self._kwargs)\n",
      "  File \"C:\\Users\\Thomas.fuller\\NotDrive\\Repos\\netsuite_uploader\\multithread_uploader.py\", line 33, in soap_uploader_thread\n",
      "    response = api.service_proxy.addList(\n",
      "  File \"C:\\Users\\Thomas.fuller\\NotDrive\\VENV\\simplyvenv\\lib\\site-packages\\zeep\\proxy.py\", line 46, in __call__\n",
      "    response = api.service_proxy.addList(\n",
      "  File \"C:\\Users\\Thomas.fuller\\NotDrive\\VENV\\simplyvenv\\lib\\site-packages\\zeep\\proxy.py\", line 46, in __call__\n",
      "    return self._proxy._binding.send(\n",
      "  File \"C:\\Users\\Thomas.fuller\\NotDrive\\VENV\\simplyvenv\\lib\\site-packages\\zeep\\wsdl\\bindings\\soap.py\", line 135, in send\n",
      "    return self.process_reply(client, operation_obj, response)\n",
      "  File \"C:\\Users\\Thomas.fuller\\NotDrive\\VENV\\simplyvenv\\lib\\site-packages\\zeep\\wsdl\\bindings\\soap.py\", line 229, in process_reply\n",
      "    return self._proxy._binding.send(\n",
      "  File \"C:\\Users\\Thomas.fuller\\NotDrive\\VENV\\simplyvenv\\lib\\site-packages\\zeep\\wsdl\\bindings\\soap.py\", line 135, in send\n",
      "    return self.process_error(doc, operation)\n",
      "  File \"C:\\Users\\Thomas.fuller\\NotDrive\\VENV\\simplyvenv\\lib\\site-packages\\zeep\\wsdl\\bindings\\soap.py\", line 329, in process_error\n",
      "    return self.process_reply(client, operation_obj, response)\n",
      "  File \"C:\\Users\\Thomas.fuller\\NotDrive\\VENV\\simplyvenv\\lib\\site-packages\\zeep\\wsdl\\bindings\\soap.py\", line 229, in process_reply\n",
      "    raise Fault(\n",
      "zeep.exceptions.Fault: java.lang.NumberFormatException: For input string: \"nan\"\n",
      "    return self.process_error(doc, operation)\n",
      "  File \"C:\\Users\\Thomas.fuller\\NotDrive\\VENV\\simplyvenv\\lib\\site-packages\\zeep\\wsdl\\bindings\\soap.py\", line 329, in process_error\n",
      "    raise Fault(\n",
      "zeep.exceptions.Fault: java.lang.NumberFormatException: For input string: \"nan\"\n",
      "Exception in thread Thread-90:\n",
      "Traceback (most recent call last):\n",
      "  File \"C:\\Users\\Thomas.fuller\\AppData\\Local\\Programs\\Python\\Python39\\lib\\threading.py\", line 980, in _bootstrap_inner\n",
      "    self.run()\n",
      "  File \"C:\\Users\\Thomas.fuller\\AppData\\Local\\Programs\\Python\\Python39\\lib\\threading.py\", line 917, in run\n",
      "    self._target(*self._args, **self._kwargs)\n",
      "  File \"C:\\Users\\Thomas.fuller\\NotDrive\\Repos\\netsuite_uploader\\multithread_uploader.py\", line 33, in soap_uploader_thread\n",
      "    response = api.service_proxy.addList(\n",
      "  File \"C:\\Users\\Thomas.fuller\\NotDrive\\VENV\\simplyvenv\\lib\\site-packages\\zeep\\proxy.py\", line 46, in __call__\n",
      "    return self._proxy._binding.send(\n",
      "  File \"C:\\Users\\Thomas.fuller\\NotDrive\\VENV\\simplyvenv\\lib\\site-packages\\zeep\\wsdl\\bindings\\soap.py\", line 135, in send\n",
      "    return self.process_reply(client, operation_obj, response)\n",
      "  File \"C:\\Users\\Thomas.fuller\\NotDrive\\VENV\\simplyvenv\\lib\\site-packages\\zeep\\wsdl\\bindings\\soap.py\", line 229, in process_reply\n",
      "    return self.process_error(doc, operation)\n",
      "  File \"C:\\Users\\Thomas.fuller\\NotDrive\\VENV\\simplyvenv\\lib\\site-packages\\zeep\\wsdl\\bindings\\soap.py\", line 329, in process_error\n",
      "    raise Fault(\n",
      "zeep.exceptions.Fault: java.lang.NumberFormatException: For input string: \"nan\"\n"
     ]
    },
    {
     "name": "stdout",
     "output_type": "stream",
     "text": [
      "+++++++++ new thread (27) +++++++++\n",
      "> maybe uploaded [1036] records\n",
      "0:00:41.482825\n",
      "+++++++++ thread completed (16) +++++++++\n",
      "> maybe uploaded [1072] records\n",
      "0:00:41.988376\n",
      "+++++++++ thread completed (23) +++++++++\n",
      "> maybe uploaded [1100] records\n",
      "0:00:53.382941\n",
      "+++++++++ thread completed (27) +++++++++\n",
      "> maybe uploaded [1136] records\n",
      "0:01:06.321648\n",
      "+++++++++ thread completed (7) +++++++++\n",
      "> maybe uploaded [1172] records\n",
      "0:01:06.443856\n",
      "+++++++++ thread completed (12) +++++++++\n",
      "> maybe uploaded [1208] records\n",
      "0:01:06.588584\n",
      "+++++++++ thread completed (1) +++++++++\n",
      "> maybe uploaded [1244] records\n",
      "0:01:06.681798\n",
      "+++++++++ thread completed (0) +++++++++\n",
      "[\u001B[34m2023-10-13 16:06:32,361\u001B[0m] {\u001B[34mconnectionpool.py:\u001B[0m322} WARNING\u001B[0m - Connection pool is full, discarding connection: 1026328-sb1.suitetalk.api.netsuite.com. Connection pool size: 10\u001B[0m\n",
      "> maybe uploaded [1280] records\n",
      "0:01:06.828069\n",
      "[\u001B[34m2023-10-13 16:06:32,381\u001B[0m] {\u001B[34mconnectionpool.py:\u001B[0m322} WARNING\u001B[0m - Connection pool is full, discarding connection: 1026328-sb1.suitetalk.api.netsuite.com. Connection pool size: 10\u001B[0m\n",
      "> maybe uploaded [1316] records\n",
      "0:01:06.853037\n",
      "[\u001B[34m2023-10-13 16:06:32,442\u001B[0m] {\u001B[34mconnectionpool.py:\u001B[0m322} WARNING\u001B[0m - Connection pool is full, discarding connection: 1026328-sb1.suitetalk.api.netsuite.com. Connection pool size: 10\u001B[0m\n",
      "+++++++++ thread completed (6) ++++++++++++++++++ thread completed (26) +++++++++\n",
      "\n",
      "> maybe uploaded [1352] records\n",
      "0:01:06.913036\n",
      "+++++++++ thread completed (17) +++++++++\n",
      "[\u001B[34m2023-10-13 16:06:32,532\u001B[0m] {\u001B[34mconnectionpool.py:\u001B[0m322} WARNING\u001B[0m - Connection pool is full, discarding connection: 1026328-sb1.suitetalk.api.netsuite.com. Connection pool size: 10\u001B[0m\n",
      "> maybe uploaded [1388] records\n",
      "0:01:06.999816\n",
      "+++++++++ thread completed (11) +++++++++\n",
      "[\u001B[34m2023-10-13 16:06:33,087\u001B[0m] {\u001B[34mconnectionpool.py:\u001B[0m322} WARNING\u001B[0m - Connection pool is full, discarding connection: 1026328-sb1.suitetalk.api.netsuite.com. Connection pool size: 10\u001B[0m\n",
      "> maybe uploaded [1424] records[\u001B[34m2023-10-13 16:06:33,095\u001B[0m] {\u001B[34mconnectionpool.py:\u001B[0m322} WARNING\u001B[0m - Connection pool is full, discarding connection: 1026328-sb1.suitetalk.api.netsuite.com. Connection pool size: 10\u001B[0m\n",
      "\n",
      "0:01:07.556118\n",
      "> maybe uploaded [1460] records\n",
      "0:01:07.577231\n",
      "+++++++++ thread completed (22) +++++++++\n",
      "+++++++++ thread completed (20) +++++++++\n",
      "[\u001B[34m2023-10-13 16:06:33,342\u001B[0m] {\u001B[34mconnectionpool.py:\u001B[0m322} WARNING\u001B[0m - Connection pool is full, discarding connection: 1026328-sb1.suitetalk.api.netsuite.com. Connection pool size: 10\u001B[0m\n",
      "> maybe uploaded [1496] records\n",
      "0:01:07.808827\n",
      "+++++++++ thread completed (3) +++++++++\n",
      "[\u001B[34m2023-10-13 16:06:33,551\u001B[0m] {\u001B[34mconnectionpool.py:\u001B[0m322} WARNING\u001B[0m - Connection pool is full, discarding connection: 1026328-sb1.suitetalk.api.netsuite.com. Connection pool size: 10\u001B[0m\n",
      "> maybe uploaded [1532] records\n",
      "0:01:08.017954\n",
      "+++++++++ thread completed (10) +++++++++\n",
      "[\u001B[34m2023-10-13 16:06:35,437\u001B[0m] {\u001B[34mconnectionpool.py:\u001B[0m322} WARNING\u001B[0m - Connection pool is full, discarding connection: 1026328-sb1.suitetalk.api.netsuite.com. Connection pool size: 10\u001B[0m\n",
      "[\u001B[34m2023-10-13 16:06:35,445\u001B[0m] {\u001B[34mconnectionpool.py:\u001B[0m322} WARNING\u001B[0m - Connection pool is full, discarding connection: 1026328-sb1.suitetalk.api.netsuite.com. Connection pool size: 10\u001B[0m\n",
      "> maybe uploaded [1568] records\n",
      "0:01:09.934316\n",
      "[\u001B[34m2023-10-13 16:06:35,448\u001B[0m] {\u001B[34mconnectionpool.py:\u001B[0m322} WARNING\u001B[0m - Connection pool is full, discarding connection: 1026328-sb1.suitetalk.api.netsuite.com. Connection pool size: 10\u001B[0m\n",
      "> maybe uploaded [1604] records\n",
      "0:01:09.964342\n",
      "> maybe uploaded [1640] records\n",
      "0:01:09.987517\n",
      "[\u001B[34m2023-10-13 16:06:35,543\u001B[0m] {\u001B[34mconnectionpool.py:\u001B[0m322} WARNING\u001B[0m - Connection pool is full, discarding connection: 1026328-sb1.suitetalk.api.netsuite.com. Connection pool size: 10\u001B[0m\n",
      "> maybe uploaded [1676] records\n",
      "0:01:10.018519\n",
      "+++++++++ thread completed (4) +++++++++\n",
      "+++++++++ thread completed (19) +++++++++\n",
      "+++++++++ thread completed (15) +++++++++\n",
      "+++++++++ thread completed (5) +++++++++\n",
      "[\u001B[34m2023-10-13 16:06:36,621\u001B[0m] {\u001B[34mconnectionpool.py:\u001B[0m322} WARNING\u001B[0m - Connection pool is full, discarding connection: 1026328-sb1.suitetalk.api.netsuite.com. Connection pool size: 10\u001B[0m\n",
      "> maybe uploaded [1712] records\n",
      "0:01:11.088023\n",
      "+++++++++ thread completed (13) +++++++++\n",
      "[\u001B[34m2023-10-13 16:06:36,772\u001B[0m] {\u001B[34mconnectionpool.py:\u001B[0m322} WARNING\u001B[0m - Connection pool is full, discarding connection: 1026328-sb1.suitetalk.api.netsuite.com. Connection pool size: 10\u001B[0m\n",
      "> maybe uploaded [1748] records\n",
      "0:01:11.248918\n",
      "+++++++++ thread completed (2) +++++++++\n",
      "[\u001B[34m2023-10-13 16:06:38,516\u001B[0m] {\u001B[34mconnectionpool.py:\u001B[0m322} WARNING\u001B[0m - Connection pool is full, discarding connection: 1026328-sb1.suitetalk.api.netsuite.com. Connection pool size: 10\u001B[0m\n",
      "> maybe uploaded [1784] records\n",
      "0:01:12.989440\n",
      "+++++++++ thread completed (24) +++++++++\n",
      "[\u001B[34m2023-10-13 16:06:38,715\u001B[0m] {\u001B[34mconnectionpool.py:\u001B[0m322} WARNING\u001B[0m - Connection pool is full, discarding connection: 1026328-sb1.suitetalk.api.netsuite.com. Connection pool size: 10\u001B[0m\n",
      "> maybe uploaded [1820] records\n",
      "0:01:13.211451\n",
      "+++++++++ thread completed (21) +++++++++\n"
     ]
    }
   ],
   "source": [
    "upload_all_these_records(orders, api, \"addList\")\n"
   ],
   "metadata": {
    "collapsed": false,
    "ExecuteTime": {
     "end_time": "2023-10-13T15:06:38.819132600Z",
     "start_time": "2023-10-13T15:05:25.540651600Z"
    }
   },
   "id": "8c5db5cee8a693e5"
  },
  {
   "cell_type": "code",
   "execution_count": 38,
   "outputs": [
    {
     "data": {
      "text/plain": "    key_0 afterSubmitFailed        code  \\\n0       0               NaN  USER_ERROR   \n1       1               NaN  USER_ERROR   \n2       2               NaN  USER_ERROR   \n3       3               NaN  USER_ERROR   \n4       4               NaN  USER_ERROR   \n..    ...               ...         ...   \n31     31               NaN  USER_ERROR   \n32     32               NaN  USER_ERROR   \n33     33               NaN  USER_ERROR   \n34     34               NaN  USER_ERROR   \n35     35               NaN  USER_ERROR   \n\n                                  message_x  num_status_details  success  \\\n0   Nonexistent externalId 1454284 for item                   1    False   \n1   Nonexistent externalId 1475203 for item                   1    False   \n2   Nonexistent externalId 1503777 for item                   1    False   \n3   Nonexistent externalId 1389050 for item                   1    False   \n4   Nonexistent externalId 1389050 for item                   1    False   \n..                                      ...                 ...      ...   \n31  Nonexistent externalId 1126761 for item                   1    False   \n32  Nonexistent externalId 1125856 for item                   1    False   \n33  Nonexistent externalId 1398366 for item                   1    False   \n34  Nonexistent externalId 1276091 for item                   1    False   \n35  Nonexistent externalId 1211993 for item                   1    False   \n\n     type  accountingBookDetailList  actualShipDate  altHandlingCost  ...  \\\n0   ERROR                       NaN             NaN              NaN  ...   \n1   ERROR                       NaN             NaN              NaN  ...   \n2   ERROR                       NaN             NaN              NaN  ...   \n3   ERROR                       NaN             NaN              NaN  ...   \n4   ERROR                       NaN             NaN              NaN  ...   \n..    ...                       ...             ...              ...  ...   \n31  ERROR                       NaN             NaN              NaN  ...   \n32  ERROR                       NaN             NaN              NaN  ...   \n33  ERROR                       NaN             NaN              NaN  ...   \n34  ERROR                       NaN             NaN              NaN  ...   \n35  ERROR                       NaN             NaN              NaN  ...   \n\n    total  totalCostEstimate  trackingNumbers                     tranDate  \\\n0     NaN                NaN              NaN  2022-01-01T00:00:00.000000Z   \n1     NaN                NaN              NaN  2022-01-01T00:00:00.000000Z   \n2     NaN                NaN              NaN  2022-01-01T00:00:00.000000Z   \n3     NaN                NaN              NaN  2022-01-01T00:00:00.000000Z   \n4     NaN                NaN              NaN  2022-01-01T00:00:00.000000Z   \n..    ...                ...              ...                          ...   \n31    NaN                NaN              NaN  2022-01-03T00:00:00.000000Z   \n32    NaN                NaN              NaN  2022-01-03T00:00:00.000000Z   \n33    NaN                NaN              NaN  2022-01-03T00:00:00.000000Z   \n34    NaN                NaN              NaN  2022-01-03T00:00:00.000000Z   \n35    NaN                NaN              NaN  2022-01-03T00:00:00.000000Z   \n\n    tranId tranIsVsoeBundle  validFrom  vatRegNum  vsoeAutoCalc  api_method  \n0      NaN              NaN        NaN        NaN           NaN     addList  \n1      NaN              NaN        NaN        NaN           NaN     addList  \n2      NaN              NaN        NaN        NaN           NaN     addList  \n3      NaN              NaN        NaN        NaN           NaN     addList  \n4      NaN              NaN        NaN        NaN           NaN     addList  \n..     ...              ...        ...        ...           ...         ...  \n31     NaN              NaN        NaN        NaN           NaN     addList  \n32     NaN              NaN        NaN        NaN           NaN     addList  \n33     NaN              NaN        NaN        NaN           NaN     addList  \n34     NaN              NaN        NaN        NaN           NaN     addList  \n35     NaN              NaN        NaN        NaN           NaN     addList  \n\n[820 rows x 172 columns]",
      "text/html": "<div>\n<style scoped>\n    .dataframe tbody tr th:only-of-type {\n        vertical-align: middle;\n    }\n\n    .dataframe tbody tr th {\n        vertical-align: top;\n    }\n\n    .dataframe thead th {\n        text-align: right;\n    }\n</style>\n<table border=\"1\" class=\"dataframe\">\n  <thead>\n    <tr style=\"text-align: right;\">\n      <th></th>\n      <th>key_0</th>\n      <th>afterSubmitFailed</th>\n      <th>code</th>\n      <th>message_x</th>\n      <th>num_status_details</th>\n      <th>success</th>\n      <th>type</th>\n      <th>accountingBookDetailList</th>\n      <th>actualShipDate</th>\n      <th>altHandlingCost</th>\n      <th>...</th>\n      <th>total</th>\n      <th>totalCostEstimate</th>\n      <th>trackingNumbers</th>\n      <th>tranDate</th>\n      <th>tranId</th>\n      <th>tranIsVsoeBundle</th>\n      <th>validFrom</th>\n      <th>vatRegNum</th>\n      <th>vsoeAutoCalc</th>\n      <th>api_method</th>\n    </tr>\n  </thead>\n  <tbody>\n    <tr>\n      <th>0</th>\n      <td>0</td>\n      <td>NaN</td>\n      <td>USER_ERROR</td>\n      <td>Nonexistent externalId 1454284 for item</td>\n      <td>1</td>\n      <td>False</td>\n      <td>ERROR</td>\n      <td>NaN</td>\n      <td>NaN</td>\n      <td>NaN</td>\n      <td>...</td>\n      <td>NaN</td>\n      <td>NaN</td>\n      <td>NaN</td>\n      <td>2022-01-01T00:00:00.000000Z</td>\n      <td>NaN</td>\n      <td>NaN</td>\n      <td>NaN</td>\n      <td>NaN</td>\n      <td>NaN</td>\n      <td>addList</td>\n    </tr>\n    <tr>\n      <th>1</th>\n      <td>1</td>\n      <td>NaN</td>\n      <td>USER_ERROR</td>\n      <td>Nonexistent externalId 1475203 for item</td>\n      <td>1</td>\n      <td>False</td>\n      <td>ERROR</td>\n      <td>NaN</td>\n      <td>NaN</td>\n      <td>NaN</td>\n      <td>...</td>\n      <td>NaN</td>\n      <td>NaN</td>\n      <td>NaN</td>\n      <td>2022-01-01T00:00:00.000000Z</td>\n      <td>NaN</td>\n      <td>NaN</td>\n      <td>NaN</td>\n      <td>NaN</td>\n      <td>NaN</td>\n      <td>addList</td>\n    </tr>\n    <tr>\n      <th>2</th>\n      <td>2</td>\n      <td>NaN</td>\n      <td>USER_ERROR</td>\n      <td>Nonexistent externalId 1503777 for item</td>\n      <td>1</td>\n      <td>False</td>\n      <td>ERROR</td>\n      <td>NaN</td>\n      <td>NaN</td>\n      <td>NaN</td>\n      <td>...</td>\n      <td>NaN</td>\n      <td>NaN</td>\n      <td>NaN</td>\n      <td>2022-01-01T00:00:00.000000Z</td>\n      <td>NaN</td>\n      <td>NaN</td>\n      <td>NaN</td>\n      <td>NaN</td>\n      <td>NaN</td>\n      <td>addList</td>\n    </tr>\n    <tr>\n      <th>3</th>\n      <td>3</td>\n      <td>NaN</td>\n      <td>USER_ERROR</td>\n      <td>Nonexistent externalId 1389050 for item</td>\n      <td>1</td>\n      <td>False</td>\n      <td>ERROR</td>\n      <td>NaN</td>\n      <td>NaN</td>\n      <td>NaN</td>\n      <td>...</td>\n      <td>NaN</td>\n      <td>NaN</td>\n      <td>NaN</td>\n      <td>2022-01-01T00:00:00.000000Z</td>\n      <td>NaN</td>\n      <td>NaN</td>\n      <td>NaN</td>\n      <td>NaN</td>\n      <td>NaN</td>\n      <td>addList</td>\n    </tr>\n    <tr>\n      <th>4</th>\n      <td>4</td>\n      <td>NaN</td>\n      <td>USER_ERROR</td>\n      <td>Nonexistent externalId 1389050 for item</td>\n      <td>1</td>\n      <td>False</td>\n      <td>ERROR</td>\n      <td>NaN</td>\n      <td>NaN</td>\n      <td>NaN</td>\n      <td>...</td>\n      <td>NaN</td>\n      <td>NaN</td>\n      <td>NaN</td>\n      <td>2022-01-01T00:00:00.000000Z</td>\n      <td>NaN</td>\n      <td>NaN</td>\n      <td>NaN</td>\n      <td>NaN</td>\n      <td>NaN</td>\n      <td>addList</td>\n    </tr>\n    <tr>\n      <th>...</th>\n      <td>...</td>\n      <td>...</td>\n      <td>...</td>\n      <td>...</td>\n      <td>...</td>\n      <td>...</td>\n      <td>...</td>\n      <td>...</td>\n      <td>...</td>\n      <td>...</td>\n      <td>...</td>\n      <td>...</td>\n      <td>...</td>\n      <td>...</td>\n      <td>...</td>\n      <td>...</td>\n      <td>...</td>\n      <td>...</td>\n      <td>...</td>\n      <td>...</td>\n      <td>...</td>\n    </tr>\n    <tr>\n      <th>31</th>\n      <td>31</td>\n      <td>NaN</td>\n      <td>USER_ERROR</td>\n      <td>Nonexistent externalId 1126761 for item</td>\n      <td>1</td>\n      <td>False</td>\n      <td>ERROR</td>\n      <td>NaN</td>\n      <td>NaN</td>\n      <td>NaN</td>\n      <td>...</td>\n      <td>NaN</td>\n      <td>NaN</td>\n      <td>NaN</td>\n      <td>2022-01-03T00:00:00.000000Z</td>\n      <td>NaN</td>\n      <td>NaN</td>\n      <td>NaN</td>\n      <td>NaN</td>\n      <td>NaN</td>\n      <td>addList</td>\n    </tr>\n    <tr>\n      <th>32</th>\n      <td>32</td>\n      <td>NaN</td>\n      <td>USER_ERROR</td>\n      <td>Nonexistent externalId 1125856 for item</td>\n      <td>1</td>\n      <td>False</td>\n      <td>ERROR</td>\n      <td>NaN</td>\n      <td>NaN</td>\n      <td>NaN</td>\n      <td>...</td>\n      <td>NaN</td>\n      <td>NaN</td>\n      <td>NaN</td>\n      <td>2022-01-03T00:00:00.000000Z</td>\n      <td>NaN</td>\n      <td>NaN</td>\n      <td>NaN</td>\n      <td>NaN</td>\n      <td>NaN</td>\n      <td>addList</td>\n    </tr>\n    <tr>\n      <th>33</th>\n      <td>33</td>\n      <td>NaN</td>\n      <td>USER_ERROR</td>\n      <td>Nonexistent externalId 1398366 for item</td>\n      <td>1</td>\n      <td>False</td>\n      <td>ERROR</td>\n      <td>NaN</td>\n      <td>NaN</td>\n      <td>NaN</td>\n      <td>...</td>\n      <td>NaN</td>\n      <td>NaN</td>\n      <td>NaN</td>\n      <td>2022-01-03T00:00:00.000000Z</td>\n      <td>NaN</td>\n      <td>NaN</td>\n      <td>NaN</td>\n      <td>NaN</td>\n      <td>NaN</td>\n      <td>addList</td>\n    </tr>\n    <tr>\n      <th>34</th>\n      <td>34</td>\n      <td>NaN</td>\n      <td>USER_ERROR</td>\n      <td>Nonexistent externalId 1276091 for item</td>\n      <td>1</td>\n      <td>False</td>\n      <td>ERROR</td>\n      <td>NaN</td>\n      <td>NaN</td>\n      <td>NaN</td>\n      <td>...</td>\n      <td>NaN</td>\n      <td>NaN</td>\n      <td>NaN</td>\n      <td>2022-01-03T00:00:00.000000Z</td>\n      <td>NaN</td>\n      <td>NaN</td>\n      <td>NaN</td>\n      <td>NaN</td>\n      <td>NaN</td>\n      <td>addList</td>\n    </tr>\n    <tr>\n      <th>35</th>\n      <td>35</td>\n      <td>NaN</td>\n      <td>USER_ERROR</td>\n      <td>Nonexistent externalId 1211993 for item</td>\n      <td>1</td>\n      <td>False</td>\n      <td>ERROR</td>\n      <td>NaN</td>\n      <td>NaN</td>\n      <td>NaN</td>\n      <td>...</td>\n      <td>NaN</td>\n      <td>NaN</td>\n      <td>NaN</td>\n      <td>2022-01-03T00:00:00.000000Z</td>\n      <td>NaN</td>\n      <td>NaN</td>\n      <td>NaN</td>\n      <td>NaN</td>\n      <td>NaN</td>\n      <td>addList</td>\n    </tr>\n  </tbody>\n</table>\n<p>820 rows × 172 columns</p>\n</div>"
     },
     "execution_count": 38,
     "metadata": {},
     "output_type": "execute_result"
    }
   ],
   "source": [
    "import os\n",
    "pandas.concat(\n",
    "    [\n",
    "        pandas.read_csv(\"thread_logs/\" + filename)\n",
    "        for filename in os.listdir(\"thread_logs\")\n",
    "    ]\n",
    ")"
   ],
   "metadata": {
    "collapsed": false,
    "ExecuteTime": {
     "end_time": "2023-10-13T15:07:17.533526Z",
     "start_time": "2023-10-13T15:07:17.223205300Z"
    }
   },
   "id": "64f85d1f724d6eee"
  }
 ],
 "metadata": {
  "kernelspec": {
   "display_name": "Python 3",
   "language": "python",
   "name": "python3"
  },
  "language_info": {
   "codemirror_mode": {
    "name": "ipython",
    "version": 2
   },
   "file_extension": ".py",
   "mimetype": "text/x-python",
   "name": "python",
   "nbconvert_exporter": "python",
   "pygments_lexer": "ipython2",
   "version": "2.7.6"
  }
 },
 "nbformat": 4,
 "nbformat_minor": 5
}
