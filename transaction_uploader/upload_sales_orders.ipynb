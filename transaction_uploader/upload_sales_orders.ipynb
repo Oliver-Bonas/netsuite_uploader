{
 "cells": [
  {
   "cell_type": "code",
   "execution_count": 108,
   "id": "initial_id",
   "metadata": {
    "collapsed": true,
    "ExecuteTime": {
     "end_time": "2023-11-09T15:01:45.760968300Z",
     "start_time": "2023-11-09T15:01:45.734972200Z"
    }
   },
   "outputs": [
    {
     "name": "stdout",
     "output_type": "stream",
     "text": [
      "~~~~~~~~~~~~~~~~~~~~~~~~~~~~~~~~~~~~~~~~~~~~~~~~~~~~~~~~~~~~\n",
      "C:\\Users\\Thomas.fuller\\NotDrive\\Repos\\airflow_pipelines\\dags\n",
      "~~~~~~~~~~~~~~~~~~~~~~~~~~~~~~~~~~~~~~~~~~~~~~~~~~~~~~~~~~~~\n",
      "now you just need to set_development()\n"
     ]
    }
   ],
   "source": [
    "from util.api_and_repo_link import link_me_up\n",
    "link_me_up()\n",
    "from config.environment import ENVIRONMENT\n",
    "ENVIRONMENT.set_development()from util.api_and_repo_link import link_me_up\n",
    "link_me_up()\n",
    "from config.environment import ENVIRONMENT\n",
    "ENVIRONMENT.set_development()"
   ]
  },
  {
   "cell_type": "code",
   "execution_count": 109,
   "outputs": [],
   "source": [
    "\n",
    "from multithread_uploader import upload_all_these_records\n",
    "from oliverbonas_source_dags.apis.api_netsuite import APIConfig_netsuite\n",
    "api = APIConfig_netsuite()\n",
    "from util.get_ns_number import get_ns_number\n",
    "from util.zeep_to_df import complete_zeep_df\n",
    "import pandas\n",
    "import random\n",
    "from datetime import datetime, timedelta"
   ],
   "metadata": {
    "collapsed": false,
    "ExecuteTime": {
     "end_time": "2023-11-09T15:01:53.517545900Z",
     "start_time": "2023-11-09T15:01:48.830405100Z"
    }
   },
   "id": "bffd02f9ca8ade56"
  },
  {
   "cell_type": "code",
   "execution_count": 73,
   "outputs": [
    {
     "name": "stdout",
     "output_type": "stream",
     "text": [
      "failed for ns 0\n",
      "failed for ns 1\n",
      "failed for ns 2\n",
      "failed for ns 3\n",
      "failed for ns 4\n",
      "failed for ns 5\n",
      "IntercoStatus = api.client.get_type(\"ns6:IntercoStatus\")\n"
     ]
    }
   ],
   "source": [
    "StringCustomFieldRef = api.client.get_type(f\"ns0:StringCustomFieldRef\")\n",
    "SalesOrder = api.client.get_type(\"ns19:SalesOrder\")\n",
    "RecordRef = api.client.get_type(\"ns0:RecordRef\")\n",
    "SalesOrderItemList = api.client.get_type(\"ns19:SalesOrderItemList\")\n",
    "SalesOrderItem = api.client.get_type(\"ns19:SalesOrderItem\")\n",
    "LocationSearchBasic = api.client.get_type(\"ns5:LocationSearchBasic\")\n",
    "DepartmentSearchBasic = api.client.get_type(\"ns5:DepartmentSearchBasic\")\n",
    "Address = api.client.get_type(\"ns5:Address\")\n",
    "GetAllRecord = api.client.get_type(\"ns0:GetAllRecord\")\n",
    "CustomerSearchBasic = api.client.get_type(\"ns5:CustomerSearchBasic\")\n",
    "CustomFieldList = api.client.get_type(\"ns0:CustomFieldList\")\n",
    "CustomRecordRef = api.client.get_type(\"ns0:CustomRecordRef\")\n",
    "CustomFieldRef = api.client.get_type(\"ns0:CustomFieldRef\")\n",
    "ListOrRecordRef = api.client.get_type(\"ns0:ListOrRecordRef\")\n",
    "BooleanCustomFieldRef = api.client.get_type(\"ns0:BooleanCustomFieldRef\")\n",
    "TransactionSearchBasic = api.client.get_type(\"ns5:TransactionSearchBasic\")\n",
    "SelectCustomFieldRef = api.client.get_type(\"ns0:SelectCustomFieldRef\")\n",
    "IntercoStatus = api.client.get_type(\"ns6:IntercoStatus\")\n",
    "get_ns_number(api, \"IntercoStatus\")"
   ],
   "metadata": {
    "collapsed": false,
    "ExecuteTime": {
     "end_time": "2023-11-08T10:48:24.587307500Z",
     "start_time": "2023-11-08T10:48:24.565310Z"
    }
   },
   "id": "e56ce899011ae31a"
  },
  {
   "cell_type": "markdown",
   "source": [
    "# downloads before uploads (up and down)"
   ],
   "metadata": {
    "collapsed": false
   },
   "id": "4dea101bb2d76e93"
  },
  {
   "cell_type": "code",
   "execution_count": null,
   "outputs": [],
   "source": [
    "response = api.service_proxy.search(\n",
    "    searchRecord = LocationSearchBasic(),\n",
    "    _soapheaders = api.build_soap_headers(),\n",
    ")\n",
    "\n",
    "locations = response.body.searchResult.recordList.record"
   ],
   "metadata": {
    "collapsed": false
   },
   "id": "5df059ec0dfe91e4"
  },
  {
   "cell_type": "code",
   "execution_count": null,
   "outputs": [],
   "source": [
    "def location_fixup(location_str):\n",
    "    print(location_str.lower())\n",
    "    if location_str.lower() in (\"so warehouse\", \"2-warehouse\"):\n",
    "        return \"warehouse\"\n",
    "    elif location_str.lower().endswith(\"_dnu\"):\n",
    "        # dnu = do not use\n",
    "        return None\n",
    "    else:\n",
    "        return location_str.replace(\" -\",\"-\").replace(\"- \", \"-\").strip().lower()\n",
    "\n",
    "\n",
    "location_map = {\n",
    "    location_fixup(location.name): location.internalId\n",
    "    for location in locations\n",
    "}\n",
    "pandas.DataFrame(location_map.items(), columns=[\"name\", \"internalId\"])"
   ],
   "metadata": {
    "collapsed": false
   },
   "id": "27bbb13c4113e027"
  },
  {
   "cell_type": "code",
   "execution_count": null,
   "outputs": [],
   "source": [
    "response = api.service_proxy.search(\n",
    "    searchRecord = DepartmentSearchBasic(),\n",
    "    _soapheaders = api.build_soap_headers(),\n",
    ")\n",
    "\n",
    "departments = response.body.searchResult.recordList.record"
   ],
   "metadata": {
    "collapsed": false
   },
   "id": "768ba8e0dfa3700c"
  },
  {
   "cell_type": "code",
   "execution_count": null,
   "outputs": [],
   "source": [
    "department_map = {\n",
    "    department.name.lower()[:3]: department.internalId\n",
    "    for department in departments\n",
    "}\n",
    "pandas.DataFrame(department_map.items(), columns=[\"name\", \"internalId\"])"
   ],
   "metadata": {
    "collapsed": false
   },
   "id": "3bfb3369e40cb691"
  },
  {
   "cell_type": "code",
   "execution_count": null,
   "outputs": [],
   "source": [
    "response = api.service_proxy.getAll(\n",
    "    record=GetAllRecord(recordType=\"currency\"),\n",
    "    _soapheaders = api.build_soap_headers(),\n",
    ")\n",
    "currencies = response.body.getAllResult.recordList.record"
   ],
   "metadata": {
    "collapsed": false
   },
   "id": "508436e14d8df845"
  },
  {
   "cell_type": "code",
   "execution_count": null,
   "outputs": [],
   "source": [
    "currency_map = {\n",
    "    currency.name: currency.internalId\n",
    "    for currency in currencies\n",
    "}\n",
    "pandas.DataFrame(currency_map.items(), columns=[\"name\", \"internalId\"])"
   ],
   "metadata": {
    "collapsed": false
   },
   "id": "b222f24553459fb6"
  },
  {
   "cell_type": "code",
   "execution_count": 82,
   "outputs": [
    {
     "data": {
      "text/plain": "'1'"
     },
     "execution_count": 82,
     "metadata": {},
     "output_type": "execute_result"
    }
   ],
   "source": [
    "IntercoStatus(\n",
    "    1\n",
    ")"
   ],
   "metadata": {
    "collapsed": false,
    "ExecuteTime": {
     "end_time": "2023-11-08T10:49:28.026891700Z",
     "start_time": "2023-11-08T10:49:28.016890100Z"
    }
   },
   "id": "519f70d3c2ddf7fe"
  },
  {
   "cell_type": "markdown",
   "source": [
    "### remember coding can be hard sometimes"
   ],
   "metadata": {
    "collapsed": false
   },
   "id": "182f988da9f3f39c"
  },
  {
   "cell_type": "code",
   "execution_count": null,
   "outputs": [],
   "source": [
    "STATUSMAP = {\n",
    "    \"Fulfillmement\": \"_pendingFulfillment\",\n",
    "}"
   ],
   "metadata": {
    "collapsed": false
   },
   "id": "a2285dad1cb8935f"
  },
  {
   "cell_type": "code",
   "execution_count": null,
   "outputs": [],
   "source": [
    "class_map = {\n",
    " \"Marketplace\": 2,\n",
    "    \"eBay\": 5,\n",
    "    \"Next\": 7,\n",
    "    \"Platform +\": 6,\n",
    "    \"SO\": 4,\n",
    "    \"Stores\": 3,\n",
    "    \"Test Class 1234\": 11,\n",
    "    \"Web\": 1,\n",
    "    \"EUR Web Store\": 10,\n",
    "    \"GBP Web Store\": 9,\n",
    "    \"USD Web Store\": 8,\n",
    "}"
   ],
   "metadata": {
    "collapsed": false
   },
   "id": "14b5354f6d03fb08"
  },
  {
   "cell_type": "markdown",
   "source": [
    "# def def def"
   ],
   "metadata": {
    "collapsed": false
   },
   "id": "10ea94c5530c27ad"
  },
  {
   "cell_type": "code",
   "execution_count": null,
   "outputs": [],
   "source": [
    "def trandate_fixup(trandate_str):\n",
    "    if type(trandate_str) == str:\n",
    "        if \"/\" in trandate_str:\n",
    "            trandate = datetime.strptime(trandate_str, \"%d/%m/%Y\")\n",
    "        else:\n",
    "            trandate = datetime.strptime(trandate_str, \"%Y-%m-%d\")\n",
    "    else:\n",
    "        trandate = trandate_str\n",
    "\n",
    "    return trandate.strftime(\"%Y-%m-%dT%H:%M:%S.%fZ\")"
   ],
   "metadata": {
    "collapsed": false
   },
   "id": "e46494375acd4ed1"
  },
  {
   "cell_type": "markdown",
   "source": [
    "# test comes first, that's how it goes in life"
   ],
   "metadata": {
    "collapsed": false
   },
   "id": "e969bc9d31c886f7"
  },
  {
   "cell_type": "code",
   "execution_count": null,
   "outputs": [],
   "source": [
    "df_original = pandas.concat(\n",
    "    [pandas.read_csv(\"test_upload/sale_test.csv\"),\n",
    "     #pandas.read_csv(\"SLS_NS_20220101_20230430_2.csv\"),\n",
    "     ]\n",
    ")"
   ],
   "metadata": {
    "collapsed": false
   },
   "id": "b8258c3bb5da497a"
  },
  {
   "cell_type": "code",
   "execution_count": null,
   "outputs": [],
   "source": [
    "df_original.Location"
   ],
   "metadata": {
    "collapsed": false
   },
   "id": "36724af222364b01"
  },
  {
   "cell_type": "code",
   "execution_count": null,
   "outputs": [],
   "source": [
    "df = df_original.loc[df_original.ExternalID.notna()]\n",
    "df.Location = df.Location.apply(location_fixup)\n",
    "df.Department = df.Department.astype(int).astype(str).str[:3].str.zfill(3)\n",
    "df.Department.value_counts()"
   ],
   "metadata": {
    "collapsed": false
   },
   "id": "b187956977acd51b"
  },
  {
   "cell_type": "code",
   "execution_count": null,
   "outputs": [],
   "source": [
    "\n",
    "\n",
    "api.service_proxy.search(\n",
    "     searchRecord=TransactionSearchBasic(\n",
    "            lastModifiedDate={\n",
    "                \"operator\": \"within\",\n",
    "                \"searchValue\": datetime.now() - timedelta(days = 1),\n",
    "                \"searchValue2\": datetime.now(),\n",
    "            },\n",
    "            recordType={\n",
    "                \"operator\": \"contains\",\n",
    "                # why in the world is it salesOrder and not SalesOrder\n",
    "                \"searchValue\": \"salesOrder\",\n",
    "            },\n",
    "    ),\n",
    "    _soapheaders = api.build_soap_headers(),\n",
    ")"
   ],
   "metadata": {
    "collapsed": false
   },
   "id": "a5706d9e3e3c3e5b"
  },
  {
   "cell_type": "code",
   "execution_count": 107,
   "outputs": [
    {
     "name": "stdout",
     "output_type": "stream",
     "text": [
      "> [1] records in this chunk\n",
      "\n",
      "THREADS NEEDED: 1 \n",
      "\n",
      "thread (0) spawned\n",
      "+++++++++ new thread (0) +++++++++\n",
      "# thread (0) total [1] records [1]  success [1] failure [0]\n",
      "0:00:07.945724\n",
      "+++++++++ thread completed (0) +++++++++\n",
      "==========================================\n"
     ]
    }
   ],
   "source": [
    "PREFIX = \"tom_f__DATA_TEAM__customer_for_transaction__\"\n",
    "ok = [\"003\", \"004\", \"005\", \"006\", \"007\", \"008\", \"009\", \"010\", \"011\", \"012\",\n",
    "      \"013\", \"014\", \"015\", \"016\", \"017\", \"018\", \"019\", \"020\",\n",
    "      \"021\", \"022\", \"023\", \"024\", \"025\", \"026\", \"027\", \"028\", \"029\", \"030\",\n",
    "      \"031\", \"032\", \"033\", \"034\", \"035\", \"036\", \"037\", \"038\", \"039\", \"040\",\n",
    "      \"041\", \"042\", \"043\", \"044\", \"045\", \"046\", \"047\", \"048\", \"049\", \"050\",\n",
    "      \"051\", \"052\", \"053\", \"054\", \"055\", \"056\", \"057\", \"058\", \"059\", \"060\",]\n",
    "\n",
    "r = df.iloc[0]\n",
    "items = []\n",
    "for yeah in ok:\n",
    "    item = SalesOrder(\n",
    "    subsidiary=RecordRef(internalId=2), # only 4 works\n",
    "    externalId = \"testsub6\",\n",
    "    #department = RecordRef(name=department_map[r.Department.lower()]),\n",
    "    #location = RecordRef(internalId=location_map[r.Location.lower()]),\n",
    "    entity = RecordRef(\n",
    "        #internalId=578154,customer_human_881003451\n",
    "        externalId=\"customer_human_881003451\",\n",
    "        #externalId=\"thirteen alex made this\",#PREFIX + yeah,\n",
    "        type=\"customer\",\n",
    "        #externalId=str(r.Customer).replace(\".0\", \"\")\n",
    "    ),\n",
    "    #location=RecordRef(internalId=location_map[r.Location]),\n",
    "    #department=RecordRef(internalId=department_map[r.Department]),\n",
    "    #opportunity=RecordRef(internalId=1),\n",
    "    #discountItem\n",
    "    #discountRate=\"-0.1\",\n",
    "    #intercoStatus=IntercoStatus(\"_rejected\"),\n",
    "    #currency = RecordRef(internalId=1),\n",
    "    #trandate=\"2021-10-01T00:00:00.000Z\",\n",
    "    memo=\"meommeomeomeomeomeomeomeome\",\n",
    "    otherRefNum=\"this should link to the purchase order\",\n",
    "    billingAddress = Address(\n",
    "        city = r.billCity,\n",
    "        state = r.billState,\n",
    "        zip = r.billZip,\n",
    "        addr1 = r.billAddr1,\n",
    "        addr2 = r.billAddr2,\n",
    "        addressee = r.billAddressee,\n",
    "    ),\n",
    "    #orderStatus = \"_closed\",#STATUSMAP[r.orderstatus],\n",
    "    email = r.email,\n",
    "    shippingAddress = Address(\n",
    "        city = r.shipCity,\n",
    "        state = r.shipState,\n",
    "        zip = r.shipZip,\n",
    "        addr1 = r.shipAddr1,\n",
    "        addr2 = r.shipAddr2,\n",
    "        addressee = r.shipaddressee,\n",
    "    ),\n",
    "    exchangeRate = r.exchangerate,\n",
    "    itemList = SalesOrderItemList(\n",
    "        item = [\n",
    "            SalesOrderItem(\n",
    "                item = RecordRef(\n",
    "                    externalId = str(int(r.itemLine_item))\n",
    "                ),\n",
    "                description = r.itemLine_description,\n",
    "                isTaxable = r.itemLine_isTaxable,\n",
    "                quantity = r.itemLine_quantity,\n",
    "                amount = 77,\n",
    "                taxRate1 = r.taxrate,\n",
    "                isClosed=True\n",
    "                #amount = r.itemLine_amount,\n",
    "            )\n",
    "        ]\n",
    "    ),\n",
    "\n",
    "    tranDate = trandate_fixup(datetime(2027, 9, 19)),\n",
    "    #datetime.strptime(r.trandate, \"%d/%m/%Y\").strftime(\"%Y-%m-%dT%H:%M:%S.%fZ\"),\n",
    "    customFieldList =CustomFieldList(\n",
    "        customField=[\n",
    "            BooleanCustomFieldRef(\n",
    "                scriptId=\"custbody_15699_exclude_from_ep_process\",\n",
    "                value=True\n",
    "            ),\n",
    "            SelectCustomFieldRef(\n",
    "                scriptId=\"cseg_atlas_cost_ctr\",\n",
    "                value=ListOrRecordRef(\n",
    "                    internalId=1,\n",
    "                    typeId=456,\n",
    "                )\n",
    "            ),\n",
    "            StringCustomFieldRef(\n",
    "                scriptId=\"custbody_ob_pw_discount_code\",\n",
    "                value=\"free form text - that means you can type whatever you like here\"\n",
    "            )\n",
    "        ]\n",
    "    )\n",
    "    )\n",
    "    if pandas.notna(r.taxrate):\n",
    "        item.taxRate = r.taxrate\n",
    "    \n",
    "    # class is a python keyword\n",
    "    item[\"class\"] = RecordRef(internalId=class_map[\"Stores\"])\n",
    "    items.append(item)\n",
    "    break\n",
    "upload_all_these_records(items, api, \"addList\")"
   ],
   "metadata": {
    "collapsed": false,
    "ExecuteTime": {
     "end_time": "2023-11-09T13:38:06.688636400Z",
     "start_time": "2023-11-09T13:37:58.725910800Z"
    }
   },
   "id": "3507612c30924c9"
  },
  {
   "cell_type": "markdown",
   "source": [
    "# below is where the magic happens, the upload"
   ],
   "metadata": {
    "collapsed": false
   },
   "id": "eebf13d0bd6637fa"
  },
  {
   "cell_type": "code",
   "execution_count": null,
   "outputs": [],
   "source": [
    "\n",
    "orders = []\n",
    "\n",
    "for pos, r in df_original.iterrows():\n",
    "    if pandas.isna(r.Customer):\n",
    "        continue\n",
    "    #print(str(r.Customer).replace(\".0\", \"\"))\n",
    "    print(pos, r.itemLine_quantity)\n",
    "    \n",
    "    item = SalesOrder(\n",
    "        subsidiary=RecordRef(internalId=[random.choice()]), # only 4 works\n",
    "        externalId = \"saying_hi_to_patchworks\" + str(pos),#r.ExternalID + \"\",\n",
    "        #department = RecordRef(name=department_map[r.Department.lower()]),\n",
    "        #location = RecordRef(internalId=location_map[r.Location.lower()]),\n",
    "        entity = RecordRef(\n",
    "            internalId=578154,\n",
    "            #externalId=str(r.Customer).replace(\".0\", \"\")\n",
    "        ),\n",
    "        currency = RecordRef(internalId=1),\n",
    "        billingAddress = Address(\n",
    "            city = r.billCity,\n",
    "            state = r.billState,\n",
    "            zip = r.billZip,\n",
    "            addr1 = r.billAddr1,\n",
    "            addr2 = r.billAddr2,\n",
    "            addressee = r.billAddressee,\n",
    "        ),\n",
    "        orderStatus = STATUSMAP[r.orderstatus],\n",
    "        email = r.email,\n",
    "        shippingAddress = Address(\n",
    "            city = r.shipCity,\n",
    "            state = r.shipState,\n",
    "            zip = r.shipZip,\n",
    "            addr1 = r.shipAddr1,\n",
    "            addr2 = r.shipAddr2,\n",
    "            addressee = r.shipaddressee,\n",
    "        ),\n",
    "        exchangeRate = r.exchangerate,\n",
    "        itemList = SalesOrderItemList(\n",
    "            item = [\n",
    "                SalesOrderItem(\n",
    "                    item = RecordRef(\n",
    "                        externalId = str(int(r.itemLine_item))\n",
    "                    ),\n",
    "                    description = r.itemLine_description,\n",
    "                    isTaxable = r.itemLine_isTaxable,\n",
    "                    quantity = r.itemLine_quantity,\n",
    "                    amount = 77,\n",
    "                    taxRate1 = r.taxrate,\n",
    "                    #amount = r.itemLine_amount,\n",
    "                )\n",
    "            ]\n",
    "        ),\n",
    "        \n",
    "        tranDate = trandate_fixup(r.trandate),\n",
    "        #datetime.strptime(r.trandate, \"%d/%m/%Y\").strftime(\"%Y-%m-%dT%H:%M:%S.%fZ\"),\n",
    "        \n",
    "    )\n",
    "    if pandas.notna(r.taxrate):\n",
    "        item.taxRate = r.taxrate\n",
    "    \n",
    "    # class is a python keyword\n",
    "    item[\"class\"] = RecordRef(name=r.Class)\n",
    "    orders.append(item)\n",
    "    break"
   ],
   "metadata": {
    "collapsed": false
   },
   "id": "a322eb847e3933b0"
  },
  {
   "cell_type": "code",
   "execution_count": null,
   "outputs": [],
   "source": [
    "#TypeError: IntercoStatus() takes exactly 1 argument (2 given). Simple types expect only a single value argument"
   ],
   "metadata": {
    "collapsed": false
   },
   "id": "d283948f6ef2378a"
  }
 ],
 "metadata": {
  "kernelspec": {
   "display_name": "Python 3",
   "language": "python",
   "name": "python3"
  },
  "language_info": {
   "codemirror_mode": {
    "name": "ipython",
    "version": 2
   },
   "file_extension": ".py",
   "mimetype": "text/x-python",
   "name": "python",
   "nbconvert_exporter": "python",
   "pygments_lexer": "ipython2",
   "version": "2.7.6"
  }
 },
 "nbformat": 4,
 "nbformat_minor": 5
}
