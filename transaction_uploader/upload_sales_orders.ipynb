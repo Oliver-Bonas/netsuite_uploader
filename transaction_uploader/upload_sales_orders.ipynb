{
 "cells": [
  {
   "cell_type": "code",
   "execution_count": null,
   "id": "initial_id",
   "metadata": {
    "collapsed": true
   },
   "outputs": [],
   "source": [
    "from util.api_and_repo_link import link_me_up\n",
    "link_me_up()\n",
    "from config.environment import ENVIRONMENT\n",
    "ENVIRONMENT.set_development()"
   ]
  },
  {
   "cell_type": "code",
   "execution_count": null,
   "outputs": [],
   "source": [
    "\n",
    "from multithread_uploader import upload_all_these_records\n",
    "from oliverbonas_source_dags.apis.api_netsuite import APIConfig_netsuite\n",
    "api = APIConfig_netsuite()\n",
    "from util.get_ns_number import get_ns_number\n",
    "from util.zeep_to_df import complete_zeep_df\n",
    "import pandas\n",
    "import random\n",
    "from datetime import datetime"
   ],
   "metadata": {
    "collapsed": false
   },
   "id": "bffd02f9ca8ade56"
  },
  {
   "cell_type": "code",
   "execution_count": null,
   "outputs": [],
   "source": [
    "StringCustomFieldRef = api.client.get_type(f\"ns0:StringCustomFieldRef\")\n",
    "SalesOrder = api.client.get_type(\"ns19:SalesOrder\")\n",
    "RecordRef = api.client.get_type(\"ns0:RecordRef\")\n",
    "SalesOrderItemList = api.client.get_type(\"ns19:SalesOrderItemList\")\n",
    "SalesOrderItem = api.client.get_type(\"ns19:SalesOrderItem\")\n",
    "LocationSearchBasic = api.client.get_type(\"ns5:LocationSearchBasic\")\n",
    "DepartmentSearchBasic = api.client.get_type(\"ns5:DepartmentSearchBasic\")\n",
    "Address = api.client.get_type(\"ns5:Address\")\n",
    "GetAllRecord = api.client.get_type(\"ns0:GetAllRecord\")\n",
    "CustomerSearchBasic = api.client.get_type(\"ns5:CustomerSearchBasic\")\n",
    "CustomFieldList = api.client.get_type(\"ns0:CustomFieldList\")\n",
    "CustomRecordRef = api.client.get_type(\"ns0:CustomRecordRef\")\n",
    "get_ns_number(api, \"CustomRecordRef\")"
   ],
   "metadata": {
    "collapsed": false
   },
   "id": "e56ce899011ae31a"
  },
  {
   "cell_type": "markdown",
   "source": [
    "# downloads before uploads (up and down)"
   ],
   "metadata": {
    "collapsed": false
   },
   "id": "4dea101bb2d76e93"
  },
  {
   "cell_type": "code",
   "execution_count": null,
   "outputs": [],
   "source": [
    "response = api.service_proxy.search(\n",
    "    searchRecord = LocationSearchBasic(),\n",
    "    _soapheaders = api.build_soap_headers(),\n",
    ")\n",
    "\n",
    "locations = response.body.searchResult.recordList.record"
   ],
   "metadata": {
    "collapsed": false
   },
   "id": "5df059ec0dfe91e4"
  },
  {
   "cell_type": "code",
   "execution_count": null,
   "outputs": [],
   "source": [
    "def location_fixup(location_str):\n",
    "    #print(location_str)\n",
    "    if location_str == \"so warehouse\":\n",
    "        return \"warehouse\"\n",
    "    elif location_str.lower().endswith(\"_dnu\"):\n",
    "        # dnu = do not use\n",
    "        return None\n",
    "    else:\n",
    "        return location_str.replace(\" -\",\"-\").replace(\"- \", \"-\").strip().lower()\n",
    "\n",
    "\n",
    "location_map = {\n",
    "    location_fixup(location.name): location.internalId\n",
    "    for location in locations\n",
    "}\n",
    "pandas.DataFrame(location_map.items(), columns=[\"name\", \"internalId\"])"
   ],
   "metadata": {
    "collapsed": false
   },
   "id": "27bbb13c4113e027"
  },
  {
   "cell_type": "code",
   "execution_count": null,
   "outputs": [],
   "source": [
    "response = api.service_proxy.search(\n",
    "    searchRecord = DepartmentSearchBasic(),\n",
    "    _soapheaders = api.build_soap_headers(),\n",
    ")\n",
    "\n",
    "departments = response.body.searchResult.recordList.record"
   ],
   "metadata": {
    "collapsed": false
   },
   "id": "768ba8e0dfa3700c"
  },
  {
   "cell_type": "code",
   "execution_count": null,
   "outputs": [],
   "source": [
    "department_map = {\n",
    "    department.name.lower()[:3]: department.internalId\n",
    "    for department in departments\n",
    "}\n",
    "pandas.DataFrame(department_map.items(), columns=[\"name\", \"internalId\"])"
   ],
   "metadata": {
    "collapsed": false
   },
   "id": "3bfb3369e40cb691"
  },
  {
   "cell_type": "code",
   "execution_count": null,
   "outputs": [],
   "source": [
    "response = api.service_proxy.getAll(\n",
    "    record=GetAllRecord(recordType=\"currency\"),\n",
    "    _soapheaders = api.build_soap_headers(),\n",
    ")\n",
    "currencies = response.body.getAllResult.recordList.record"
   ],
   "metadata": {
    "collapsed": false
   },
   "id": "508436e14d8df845"
  },
  {
   "cell_type": "code",
   "execution_count": null,
   "outputs": [],
   "source": [
    "currency_map = {\n",
    "    currency.name: currency.internalId\n",
    "    for currency in currencies\n",
    "}\n",
    "pandas.DataFrame(currency_map.items(), columns=[\"name\", \"internalId\"])"
   ],
   "metadata": {
    "collapsed": false
   },
   "id": "b222f24553459fb6"
  },
  {
   "cell_type": "markdown",
   "source": [
    "### remember coding can be hard sometimes"
   ],
   "metadata": {
    "collapsed": false
   },
   "id": "182f988da9f3f39c"
  },
  {
   "cell_type": "code",
   "execution_count": null,
   "outputs": [],
   "source": [
    "STATUSMAP = {\n",
    "    \"Fulfillmement\": \"_pendingFulfillment\",\n",
    "}"
   ],
   "metadata": {
    "collapsed": false
   },
   "id": "a2285dad1cb8935f"
  },
  {
   "cell_type": "code",
   "execution_count": null,
   "outputs": [],
   "source": [
    "class_map = {\n",
    " \"Marketplace\": 2,\n",
    "    \"eBay\": 5,\n",
    "    \"Next\": 7,\n",
    "    \"Platform +\": 6,\n",
    "    \"SO\": 4,\n",
    "    \"Stores\": 3,\n",
    "    \"Test Class 1234\": 11,\n",
    "    \"Web\": 1,\n",
    "    \"EUR Web Store\": 10,\n",
    "    \"GBP Web Store\": 9,\n",
    "    \"USD Web Store\": 8,\n",
    "}"
   ],
   "metadata": {
    "collapsed": false
   },
   "id": "14b5354f6d03fb08"
  },
  {
   "cell_type": "markdown",
   "source": [
    "# def def def"
   ],
   "metadata": {
    "collapsed": false
   },
   "id": "10ea94c5530c27ad"
  },
  {
   "cell_type": "code",
   "execution_count": null,
   "outputs": [],
   "source": [
    "def trandate_fixup(trandate_str):\n",
    "    if type(trandate_str) == str:\n",
    "        if \"/\" in trandate_str:\n",
    "            trandate = datetime.strptime(trandate_str, \"%d/%m/%Y\")\n",
    "        else:\n",
    "            trandate = datetime.strptime(trandate_str, \"%Y-%m-%d\")\n",
    "    else:\n",
    "        trandate = trandate_str\n",
    "\n",
    "    return trandate.strftime(\"%Y-%m-%dT%H:%M:%S.%fZ\")"
   ],
   "metadata": {
    "collapsed": false
   },
   "id": "e46494375acd4ed1"
  },
  {
   "cell_type": "markdown",
   "source": [
    "# test comes first, that's how it goes in life"
   ],
   "metadata": {
    "collapsed": false
   },
   "id": "e969bc9d31c886f7"
  },
  {
   "cell_type": "code",
   "execution_count": null,
   "outputs": [],
   "source": [
    "df_original = pandas.concat(\n",
    "    [pandas.read_csv(\"sale_test.csv\"),\n",
    "     #pandas.read_csv(\"SLS_NS_20220101_20230430_2.csv\"),\n",
    "     ]\n",
    ")"
   ],
   "metadata": {
    "collapsed": false
   },
   "id": "b8258c3bb5da497a"
  },
  {
   "cell_type": "code",
   "execution_count": null,
   "outputs": [],
   "source": [
    "df = df_original.loc[df_original.ExternalID.notna()]\n",
    "df.Location = df.Location.apply(location_fixup)\n",
    "df.Department = df.Department.astype(int).astype(str).str[:3].str.zfill(3)\n",
    "df.Department.value_counts()"
   ],
   "metadata": {
    "collapsed": false
   },
   "id": "b187956977acd51b"
  },
  {
   "cell_type": "code",
   "execution_count": null,
   "outputs": [],
   "source": [
    "complete_zeep_df(response.body.getCustomizationIdResult.customizationRefList.customizationRef)"
   ],
   "metadata": {
    "collapsed": false
   },
   "id": "7e138d73544ce04c"
  },
  {
   "cell_type": "code",
   "execution_count": null,
   "outputs": [],
   "source": [
    "r = df.iloc[0]\n",
    "item = SalesOrder(\n",
    "    #subsidiary=RecordRef(internalId=[random.choice()]), # only 4 works\n",
    "    externalId = \"test updating\",\n",
    "    #department = RecordRef(name=department_map[r.Department.lower()]),\n",
    "    #location = RecordRef(internalId=location_map[r.Location.lower()]),\n",
    "    entity = RecordRef(\n",
    "        #internalId=578154,\n",
    "        externalId=\"lol\",\n",
    "        type=\"customer\",\n",
    "        #externalId=str(r.Customer).replace(\".0\", \"\")\n",
    "    ),\n",
    "    #currency = RecordRef(internalId=1),\n",
    "    #trandate=\"2021-10-01T00:00:00.000Z\",\n",
    "    memo=\"meommeomeomeomeomeomeomeome\",\n",
    "    billingAddress = Address(\n",
    "        city = r.billCity,\n",
    "        state = r.billState,\n",
    "        zip = r.billZip,\n",
    "        addr1 = r.billAddr1,\n",
    "        addr2 = r.billAddr2,\n",
    "        addressee = r.billAddressee,\n",
    "    ),\n",
    "    #orderStatus = \"_closed\",#STATUSMAP[r.orderstatus],\n",
    "    email = r.email,\n",
    "    shippingAddress = Address(\n",
    "        city = r.shipCity,\n",
    "        state = r.shipState,\n",
    "        zip = r.shipZip,\n",
    "        addr1 = r.shipAddr1,\n",
    "        addr2 = r.shipAddr2,\n",
    "        addressee = r.shipaddressee,\n",
    "    ),\n",
    "    exchangeRate = r.exchangerate,\n",
    "    itemList = SalesOrderItemList(\n",
    "        item = [\n",
    "            SalesOrderItem(\n",
    "                item = RecordRef(\n",
    "                    externalId = str(int(r.itemLine_item))\n",
    "                ),\n",
    "                description = r.itemLine_description,\n",
    "                isTaxable = r.itemLine_isTaxable,\n",
    "                quantity = r.itemLine_quantity,\n",
    "                amount = 77,\n",
    "                taxRate1 = r.taxrate,\n",
    "                #amount = r.itemLine_amount,\n",
    "            )\n",
    "        ]\n",
    "    ),\n",
    "\n",
    "    tranDate = trandate_fixup(datetime(2021, 10, 1)),\n",
    "    #datetime.strptime(r.trandate, \"%d/%m/%Y\").strftime(\"%Y-%m-%dT%H:%M:%S.%fZ\"),\n",
    "    customFieldList ={\n",
    "        \"customField\":[\n",
    "            StringCustomFieldRef(\n",
    "                scriptId=\"otherrefnum\",\n",
    "                value=\"custom field lets goooooo\",\n",
    "            )\n",
    "        ]\n",
    "    }\n",
    ")\n",
    "if pandas.notna(r.taxrate):\n",
    "    item.taxRate = r.taxrate\n",
    "\n",
    "# class is a python keyword\n",
    "item[\"class\"] = RecordRef(name=r.Class)\n",
    "upload_all_these_records([item], api, \"updateList\")"
   ],
   "metadata": {
    "collapsed": false
   },
   "id": "3507612c30924c9"
  },
  {
   "cell_type": "markdown",
   "source": [
    "# below is where the magic happens, the upload"
   ],
   "metadata": {
    "collapsed": false
   },
   "id": "eebf13d0bd6637fa"
  },
  {
   "cell_type": "code",
   "execution_count": null,
   "outputs": [],
   "source": [
    "\n",
    "orders = []\n",
    "\n",
    "for pos, r in df_original.iterrows():\n",
    "    if pandas.isna(r.Customer):\n",
    "        continue\n",
    "    #print(str(r.Customer).replace(\".0\", \"\"))\n",
    "    print(pos, r.itemLine_quantity)\n",
    "    \n",
    "    item = SalesOrder(\n",
    "        #subsidiary=RecordRef(internalId=[random.choice()]), # only 4 works\n",
    "        externalId = \"saying_hi_to_patchworks\" + str(pos),#r.ExternalID + \"\",\n",
    "        #department = RecordRef(name=department_map[r.Department.lower()]),\n",
    "        #location = RecordRef(internalId=location_map[r.Location.lower()]),\n",
    "        entity = RecordRef(\n",
    "            internalId=578154,\n",
    "            #externalId=str(r.Customer).replace(\".0\", \"\")\n",
    "        ),\n",
    "        currency = RecordRef(internalId=1),\n",
    "        billingAddress = Address(\n",
    "            city = r.billCity,\n",
    "            state = r.billState,\n",
    "            zip = r.billZip,\n",
    "            addr1 = r.billAddr1,\n",
    "            addr2 = r.billAddr2,\n",
    "            addressee = r.billAddressee,\n",
    "        ),\n",
    "        orderStatus = STATUSMAP[r.orderstatus],\n",
    "        email = r.email,\n",
    "        shippingAddress = Address(\n",
    "            city = r.shipCity,\n",
    "            state = r.shipState,\n",
    "            zip = r.shipZip,\n",
    "            addr1 = r.shipAddr1,\n",
    "            addr2 = r.shipAddr2,\n",
    "            addressee = r.shipaddressee,\n",
    "        ),\n",
    "        exchangeRate = r.exchangerate,\n",
    "        itemList = SalesOrderItemList(\n",
    "            item = [\n",
    "                SalesOrderItem(\n",
    "                    item = RecordRef(\n",
    "                        externalId = str(int(r.itemLine_item))\n",
    "                    ),\n",
    "                    description = r.itemLine_description,\n",
    "                    isTaxable = r.itemLine_isTaxable,\n",
    "                    quantity = r.itemLine_quantity,\n",
    "                    amount = 77,\n",
    "                    taxRate1 = r.taxrate,\n",
    "                    #amount = r.itemLine_amount,\n",
    "                )\n",
    "            ]\n",
    "        ),\n",
    "        \n",
    "        tranDate = trandate_fixup(r.trandate),\n",
    "        #datetime.strptime(r.trandate, \"%d/%m/%Y\").strftime(\"%Y-%m-%dT%H:%M:%S.%fZ\"),\n",
    "        \n",
    "    )\n",
    "    if pandas.notna(r.taxrate):\n",
    "        item.taxRate = r.taxrate\n",
    "    \n",
    "    # class is a python keyword\n",
    "    item[\"class\"] = RecordRef(name=r.Class)\n",
    "    orders.append(item)"
   ],
   "metadata": {
    "collapsed": false
   },
   "id": "a322eb847e3933b0"
  },
  {
   "cell_type": "code",
   "execution_count": null,
   "outputs": [],
   "source": [],
   "metadata": {
    "collapsed": false
   },
   "id": "d283948f6ef2378a"
  }
 ],
 "metadata": {
  "kernelspec": {
   "display_name": "Python 3",
   "language": "python",
   "name": "python3"
  },
  "language_info": {
   "codemirror_mode": {
    "name": "ipython",
    "version": 2
   },
   "file_extension": ".py",
   "mimetype": "text/x-python",
   "name": "python",
   "nbconvert_exporter": "python",
   "pygments_lexer": "ipython2",
   "version": "2.7.6"
  }
 },
 "nbformat": 4,
 "nbformat_minor": 5
}
