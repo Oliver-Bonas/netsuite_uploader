{
 "cells": [
  {
   "cell_type": "code",
   "execution_count": 2,
   "id": "initial_id",
   "metadata": {
    "collapsed": true,
    "ExecuteTime": {
     "end_time": "2023-11-15T14:07:39.928427300Z",
     "start_time": "2023-11-15T14:07:39.880427700Z"
    }
   },
   "outputs": [
    {
     "name": "stdout",
     "output_type": "stream",
     "text": [
      "C:\\Users\\Thomas.fuller\\NotDrive\\VENV\\spellvenv\\Scripts\\python.exe\n",
      "C:\\Users\\Thomas.fuller\\NotDrive\\Repos\\airflow_pipelines\\dags\\config\\environment.py\n",
      "~~~~~~~~~~~~~~~~~~~~~~~~~~~~~~~~~~~~~~~~~~~~~~~~~~~~~~~~~~~~\n",
      "C:\\Users\\Thomas.fuller\\NotDrive\\Repos\\airflow_pipelines\\dags\n",
      "~~~~~~~~~~~~~~~~~~~~~~~~~~~~~~~~~~~~~~~~~~~~~~~~~~~~~~~~~~~~\n",
      "now you just need to set_development()\n",
      "C:\\Users\\Thomas.fuller\\NotDrive\\Repos\\airflow_pipelines\\dags\\config\\environment.py\n"
     ]
    }
   ],
   "source": [
    "from util.api_and_repo_link import link_me_up\n",
    "\n",
    "link_me_up()\n",
    "from config.environment import ENVIRONMENT\n",
    "\n",
    "ENVIRONMENT.set_development()\n"
   ]
  },
  {
   "cell_type": "code",
   "execution_count": 3,
   "outputs": [
    {
     "name": "stderr",
     "output_type": "stream",
     "text": [
      "WARNING:root:OSError while attempting to symlink the latest log directory\n"
     ]
    },
    {
     "data": {
      "text/plain": "\u001B[1;33mC:\\Users\\Thomas.fuller\\NotDrive\\VENV\\spellvenv\\lib\\site-packages\\airflow\\models\\base.py:\u001B[0m\u001B[1;33m49\u001B[0m\u001B[1;33m MovedIn20Warning\u001B[0m\u001B[33m: Deprecated API features detected! These \u001B[0m\u001B[1;33mfeature\u001B[0m\u001B[1;33m(\u001B[0m\u001B[33ms\u001B[0m\u001B[1;33m)\u001B[0m\u001B[33m are not compatible with SQLAlchemy \u001B[0m\u001B[1;33m2.0\u001B[0m\u001B[33m. To prevent incompatible upgrades prior to updating applications, ensure requirements files are pinned to \u001B[0m\u001B[33m\"sqlalchemy<2.0\"\u001B[0m\u001B[33m. Set environment variable \u001B[0m\u001B[33mSQLALCHEMY_WARN_20\u001B[0m\u001B[33m=\u001B[0m\u001B[1;33m1\u001B[0m\u001B[33m to show all deprecation warnings.  Set environment variable \u001B[0m\u001B[33mSQLALCHEMY_SILENCE_UBER_WARNING\u001B[0m\u001B[33m=\u001B[0m\u001B[1;33m1\u001B[0m\u001B[33m to silence this message. \u001B[0m\u001B[1;33m(\u001B[0m\u001B[33mBackground on SQLAlchemy \u001B[0m\u001B[1;33m2.0\u001B[0m\u001B[33m at: \u001B[0m\u001B[4;33mhttps://sqlalche.me/e/b8d9\u001B[0m\u001B[4;33m)\u001B[0m\n",
      "text/html": "<pre style=\"white-space:pre;overflow-x:auto;line-height:normal;font-family:Menlo,'DejaVu Sans Mono',consolas,'Courier New',monospace\"><span style=\"color: #808000; text-decoration-color: #808000; font-weight: bold\">C:\\Users\\Thomas.fuller\\NotDrive\\VENV\\spellvenv\\lib\\site-packages\\airflow\\models\\base.py:</span><span style=\"color: #808000; text-decoration-color: #808000; font-weight: bold\">49</span><span style=\"color: #808000; text-decoration-color: #808000; font-weight: bold\"> MovedIn20Warning</span><span style=\"color: #808000; text-decoration-color: #808000\">: Deprecated API features detected! These </span><span style=\"color: #808000; text-decoration-color: #808000; font-weight: bold\">feature(</span><span style=\"color: #808000; text-decoration-color: #808000\">s</span><span style=\"color: #808000; text-decoration-color: #808000; font-weight: bold\">)</span><span style=\"color: #808000; text-decoration-color: #808000\"> are not compatible with SQLAlchemy </span><span style=\"color: #808000; text-decoration-color: #808000; font-weight: bold\">2.0</span><span style=\"color: #808000; text-decoration-color: #808000\">. To prevent incompatible upgrades prior to updating applications, ensure requirements files are pinned to </span><span style=\"color: #808000; text-decoration-color: #808000\">\"sqlalchemy&lt;2.0\"</span><span style=\"color: #808000; text-decoration-color: #808000\">. Set environment variable </span><span style=\"color: #808000; text-decoration-color: #808000\">SQLALCHEMY_WARN_20</span><span style=\"color: #808000; text-decoration-color: #808000\">=</span><span style=\"color: #808000; text-decoration-color: #808000; font-weight: bold\">1</span><span style=\"color: #808000; text-decoration-color: #808000\"> to show all deprecation warnings.  Set environment variable </span><span style=\"color: #808000; text-decoration-color: #808000\">SQLALCHEMY_SILENCE_UBER_WARNING</span><span style=\"color: #808000; text-decoration-color: #808000\">=</span><span style=\"color: #808000; text-decoration-color: #808000; font-weight: bold\">1</span><span style=\"color: #808000; text-decoration-color: #808000\"> to silence this message. </span><span style=\"color: #808000; text-decoration-color: #808000; font-weight: bold\">(</span><span style=\"color: #808000; text-decoration-color: #808000\">Background on SQLAlchemy </span><span style=\"color: #808000; text-decoration-color: #808000; font-weight: bold\">2.0</span><span style=\"color: #808000; text-decoration-color: #808000\"> at: </span><span style=\"color: #808000; text-decoration-color: #808000; text-decoration: underline\">https://sqlalche.me/e/b8d9)</span>\n</pre>\n"
     },
     "metadata": {},
     "output_type": "display_data"
    }
   ],
   "source": [
    "\n",
    "from multithread_uploader import upload_all_these_records\n",
    "from oliverbonas_source_dags.apis.api_netsuite import APIConfig_netsuite\n",
    "\n",
    "api = APIConfig_netsuite()\n",
    "from util.get_ns_number import get_ns_number\n",
    "from util.zeep_to_df import complete_zeep_df\n",
    "import pandas\n",
    "import random\n",
    "from datetime import datetime, timedelta\n"
   ],
   "metadata": {
    "collapsed": false,
    "ExecuteTime": {
     "end_time": "2023-11-15T14:07:51.764565200Z",
     "start_time": "2023-11-15T14:07:39.903444Z"
    }
   },
   "id": "2add8ddd097f6fde"
  },
  {
   "cell_type": "code",
   "execution_count": 38,
   "outputs": [
    {
     "name": "stdout",
     "output_type": "stream",
     "text": [
      "failed for ns 0\n",
      "failed for ns 1\n",
      "failed for ns 2\n",
      "failed for ns 3\n",
      "failed for ns 4\n",
      "VendorSearchBasic = api.client.get_type(\"ns5:VendorSearchBasic\")\n"
     ]
    }
   ],
   "source": [
    "\n",
    "StringCustomFieldRef = api.client.get_type(f\"ns0:StringCustomFieldRef\")\n",
    "SalesOrder = api.client.get_type(\"ns19:SalesOrder\")\n",
    "RecordRef = api.client.get_type(\"ns0:RecordRef\")\n",
    "SalesOrderItemList = api.client.get_type(\"ns19:SalesOrderItemList\")\n",
    "SalesOrderItem = api.client.get_type(\"ns19:SalesOrderItem\")\n",
    "LocationSearchBasic = api.client.get_type(\"ns5:LocationSearchBasic\")\n",
    "DepartmentSearchBasic = api.client.get_type(\"ns5:DepartmentSearchBasic\")\n",
    "Address = api.client.get_type(\"ns5:Address\")\n",
    "GetAllRecord = api.client.get_type(\"ns0:GetAllRecord\")\n",
    "CustomerSearchBasic = api.client.get_type(\"ns5:CustomerSearchBasic\")\n",
    "CustomFieldList = api.client.get_type(\"ns0:CustomFieldList\")\n",
    "CustomRecordRef = api.client.get_type(\"ns0:CustomRecordRef\")\n",
    "CustomFieldRef = api.client.get_type(\"ns0:CustomFieldRef\")\n",
    "ListOrRecordRef = api.client.get_type(\"ns0:ListOrRecordRef\")\n",
    "BooleanCustomFieldRef = api.client.get_type(\"ns0:BooleanCustomFieldRef\")\n",
    "TransactionSearchBasic = api.client.get_type(\"ns5:TransactionSearchBasic\")\n",
    "SelectCustomFieldRef = api.client.get_type(\"ns0:SelectCustomFieldRef\")\n",
    "IntercoStatus = api.client.get_type(\"ns6:IntercoStatus\")\n",
    "PurchaseOrder = api.client.get_type(\"ns21:PurchaseOrder\")\n",
    "PurchaseOrderItemList = api.client.get_type(\"ns21:PurchaseOrderItemList\")\n",
    "PurchaseOrderItem = api.client.get_type(\"ns21:PurchaseOrderItem\")\n",
    "DateCustomFieldRef = api.client.get_type(\"ns0:DateCustomFieldRef\")\n",
    "PurchaseOrderOrderStatus = api.client.get_type(\"ns22:PurchaseOrderOrderStatus\")\n",
    "VendorSearchBasic = api.client.get_type(\"ns5:VendorSearchBasic\")\n",
    "get_ns_number(api, \"VendorSearchBasic\")"
   ],
   "metadata": {
    "collapsed": false,
    "ExecuteTime": {
     "end_time": "2023-11-15T15:11:06.907451300Z",
     "start_time": "2023-11-15T15:11:06.886884900Z"
    }
   },
   "id": "6aa748d61ecc5e3a"
  },
  {
   "cell_type": "code",
   "execution_count": null,
   "outputs": [],
   "source": [
    "api.service_proxy.search(\n",
    "    \n",
    ")"
   ],
   "metadata": {
    "collapsed": false
   },
   "id": "f4572444d6268ca7"
  },
  {
   "cell_type": "code",
   "execution_count": null,
   "outputs": [],
   "source": [
    "po = [PurchaseOrder(\n",
    "    entity=RecordRef(internalId=237),\n",
    "    location=RecordRef(internalId=2039),\n",
    "    itemList=PurchaseOrderItemList(\n",
    "        item = [\n",
    "            PurchaseOrderItem(\n",
    "                item=RecordRef(internalId=225771),\n",
    "            )\n",
    "        ]\n",
    "    )\n",
    "    \n",
    ")\n",
    "for i in range(1000)]\n",
    "\n",
    "upload_all_these_records(po, api, \"addList\")"
   ],
   "metadata": {
    "collapsed": false
   },
   "id": "2ce1d8870c9951a8"
  },
  {
   "cell_type": "code",
   "execution_count": 39,
   "outputs": [],
   "source": [
    "response = api.service_proxy.search(\n",
    "    searchRecord=VendorSearchBasic(),\n",
    "    _soapheaders=api.build_soap_headers()\n",
    ")\n",
    "vendors = response.body.searchResult.recordList.record\n"
   ],
   "metadata": {
    "collapsed": false,
    "ExecuteTime": {
     "end_time": "2023-11-15T15:11:31.782750Z",
     "start_time": "2023-11-15T15:11:12.468427900Z"
    }
   },
   "id": "f0dac6fc55cef07b"
  },
  {
   "cell_type": "code",
   "execution_count": 40,
   "outputs": [
    {
     "data": {
      "text/plain": "{'-Accountant-': '-3',\n None: '119',\n 'HM Revenue & Customs': '2',\n 'Tax Agency IE': '119',\n 'Test Vendor P2P': '221',\n 'Caroline Gardner Publishing': '223',\n 'Cath Tate Cards': '224',\n 'James Ellis Stevens': '225',\n 'Kiss Me Kwik Ltd': '226',\n 'The Lagoon Group': '227',\n 'Natural Products Ltd': '228',\n 'Petra Boase': '229',\n 'Portfolio Ltd': '230',\n 'Portico Design Ltd': '231',\n 'Roger La Borde': '232',\n 'Talking Tables Ltd.': '233',\n 'Steven Shell': '234',\n 'Present Time BV': '235',\n 'Showprint Graphics Ltd': '236',\n 'A Weston': '237',\n 'Penny Kennedy': '238',\n 'Kinetic Enterprises Ltd': '239',\n 'Loytee Co. Ltd': '240',\n 'Grant Barnett Co. Ltd': '241',\n 'Garden Trading Co Ltd': '242',\n 'Five Dollar Shake Ltd': '243',\n 'Coach House Antiques': '244',\n 'Suck Uk': '245',\n 'Black+Blum': '246',\n 'International Packaging Corp.(UK) Ltd': '247',\n 'Assay Office': '248',\n 'U Studio Design Ltd': '249',\n 'Chanting Republic': '250',\n 'Luckies of London Ltd c/o Hilton Consulting': '251',\n 'Sally Bradford Ltd': '252',\n 'Think of Me': '253',\n 'Nineteen Seventy Three Ltd.': '254',\n 'Refrigair Ltd': '255',\n 'DHL Parcel (UK Mail Ltd)': '256',\n 'Wild and Wolf Ltd': '257',\n 'Touch of India': '258',\n 'Special Delivery Cards': '259',\n 'Lagom Design Limited': '260',\n 'Beijing Housewares Industries Ltd.': '261',\n 'Bestseller Wholesale UK Ltd.': '262',\n 'BookSpeed': '263',\n 'Innermost (XXIV Limited)': '264',\n 'Anglo Accessories': '265',\n 'Gift Republic Ltd': '266',\n 'Archivist Ltd': '267',\n 'Contract Candles Ltd': '268',\n 'Forma House Limited': '269',\n 'Auteur Limited': '270',\n 'Noted Uk Ltd': '271',\n 'Stone Marketing Limited': '272',\n 'Umbra HK Limited': '273',\n 'Artko Limited': '274',\n 'Turnaround PSL Ltd': '275',\n 'Burgon & Ball Ltd': '276',\n 'Loveday Designs': '277',\n 'Meri Meri': '278',\n 'Repeat Repeat': '279',\n 'Aurora Fashions Asia Ltd': '280',\n 'The Art File': '281',\n 'Blue Pearl': '282',\n 'Kailai Fashion Accessories Co Ltd (Fastzone)': '283',\n 'Asian Handicrafts Pvt Ltd': '284',\n 'Nu-Foam': '285',\n 'Ballon Rouge(UK Supplier) - do not use': '286',\n 'Bothra International': '287',\n 'The Somerset Toiletry Company ltd': '288',\n 'Artex D & T': '289',\n 'BerinMade Designs Ltd.': '290',\n 'Kabloom Ltd': '291',\n 'Jadco International ltd': '292',\n 'M/S Finesco International': '293',\n 'Gargsons Exports': '294',\n 'Cosmique Global': '295',\n 'Sarabhai Enterprises': '296',\n 'Laura Skilbeck': '297',\n 'Uberstar Ltd': '298',\n 'Noi Publishing Ltd': '299',\n 'Ohh Deer Ltd': '300',\n 'King & McGaw': '301',\n 'Hello Lucky Europe Limited': '302',\n 'Jolly Awesome Ltd': '303',\n 'Imtiara Consultants Ltd': '304',\n 'Cotton Letterpress': '305',\n 'Joyye Arts & Crafts Co.Ltd.': '306',\n 'Kate Guest': '307',\n 'Quotable Cards': '308',\n 'Old English Company': '309',\n 'Evermade Ltd.': '310',\n 'KitchenCrafts': '311',\n 'Earlybird Designs Ltd': '312',\n 'Hunky Dory Designs Ltd': '313',\n 'Nancy&Betty Studio': '314',\n \"Bag It Don't Bin It Ltd\": '315',\n 'Alison Hardcastle': '316',\n 'The Wrap Paper Ltd': '317',\n 'Sunnylife (Outliving)': '318',\n 'Post Office': '319',\n 'The Rug Republic': '320',\n 'Dalian Casamontion Art Glass Co., LTD': '321',\n 'Nodi Exports': '322',\n 'Gudi Export Private Limited': '323',\n 'Deteks Giyin Sanayi Ve Dis Ticaret A.S': '324',\n 'Val Do Sol Ceramicas SA': '325',\n 'Chipolo': '326',\n 'Corep Lighting India': '327',\n 'Multitex Fashion Limited': '328',\n 'Tala Energy Ltd': '329',\n 'Hacche': '330',\n 'Jot Paper Company Limited': '331',\n 'Newhonest Accessories': '332',\n 'This Works Products Limited': '333',\n 'Banox Exim PVT': '334',\n 'Ka Wang Handbags Co.Ltd': '335',\n 'The Private Press': '336',\n 'Nocturnal Paper': '337',\n 'Nunomoura': '338',\n 'Home Accents': '339',\n 'Luna + Smith': '340',\n 'Kavset Export PVT': '341',\n 'Deva Design': '342',\n 'Derewala Industries Ltd': '343',\n 'Redback Cards': '344',\n 'Card Nest Ltd': '345',\n 'Voyage Accessories': '346',\n 'Jade Fisher': '347',\n 'lonetree Cards Ltd': '348',\n 'Katie Housley': '349',\n 'Carte Blanche': '350',\n 'Imogen Owen': '351',\n 'Adesso Inc.': '352',\n 'Hardie Grant Publishing': '353',\n 'BeautyPro Ltd': '354',\n 'Moxon': '355',\n 'Failsworth Hats Ltd': '356',\n 'ArtPress Publishing Limited': '357',\n 'Big Potato': '358',\n 'Miranda Dunn Limited': '359',\n 'The School of Life': '360',\n 'Megan Claire': '361',\n \"Creighton's Chocolaterie\": '362',\n 'Kazvare Made It Ltd': '363',\n 'Sadler Jones': '364',\n 'Danielle Creations': '365',\n 'Marvel Fragrances Company': '366',\n 'Blank Inside Ltd': '367',\n 'Ola': '368',\n 'Jetshoes Co. Ltd': '369',\n 'Folio': '370',\n 'Locomocean Ltd': '371',\n 'Supernova UK Pty Ltd': '372',\n 'Paper Plane': '373',\n 'Paulus&Brown': '374',\n 'Ferro Linkers': '375',\n 'Bitten Design': '376',\n 'Pop a Ball': '377',\n 'Fimex': '378',\n 'Lucy Maggie Designs': '379',\n 'The Lighting Design Limited': '380',\n 'DS Smith': '381',\n 'Siam Karat International': '382',\n 'Brixon Overseas Ltd': '383',\n 'Jo Clark Design': '384',\n 'The Cardy Club': '385',\n 'Rumble Card': '386',\n 'Hole in my Pocket': '387',\n 'Spirit Clothing 2000 Ltd': '388',\n 'Brain Box Candy': '389',\n 'Hutch Cassidy Ltd': '390',\n 'Fizz Creations': '391',\n 'Central 23': '392',\n 'MMTUM Inc': '393',\n 'Stilnovo': '394',\n 'Thumbs Up (uk) Ltd': '395',\n 'Hygge Games': '396',\n 'Studio Boketto Ltd': '397',\n 'Leiner Shoes Pvt Ltd.': '398',\n 'Glocal Tsarim Tekstil': '399',\n 'Whale&Bird': '400',\n 'Drowsy Sleepy Co.': '401',\n 'Hunter Boot Ltd': '402',\n 'Goel Exports': '403',\n 'Qingdao Hanshin': '404',\n 'TreeLocate': '405',\n 'Dr Paw Paw Ltd': '406',\n 'Ceramirupe': '407',\n 'UK Graded Stock Ltd': '408',\n 'Oh Squirrel Ltd': '409',\n 'Qingdao Tongfei Jewelry Co. ltd': '410',\n 'Anchorcert Analytical': '411',\n 'Candl Beauty and Health': '412',\n 'The Natural Sea Sponge': '413',\n 'Suwastama Tumbuemas': '414',\n 'Lund London': '415',\n 'Demandalia': '416',\n 'Ilay Textile': '417',\n 'Egyptian Magic': '418',\n 'The Print Box London Ltd': '419',\n 'Orchard Internationak Inc': '420',\n 'Milberg Factors Inc': '421',\n 'Dock & Bay': '422',\n 'Jeray (Sales) Ltd': '423',\n 'Barry the Cactus': '424',\n 'Amber House Ltd': '425',\n 'The Flat Lay Co': '426',\n 'Mepal': '427',\n 'China Wing Garment Trading Limited': '428',\n 'Pluto Produkter AB': '429',\n 'Aquis Europe Limited': '430',\n 'Rare Beauty Brands, Inc': '431',\n 'Bureau Veritas Consumer product service india': '432',\n 'Mustard Made UK Lrd': '433',\n 'Woof & Brew Ltd': '434',\n 'Cocoba Limited': '435',\n 'Aura Clothing Ltd': '436',\n 'Weleda UK Ltd': '437',\n 'Eleanor Bowmer': '438',\n 'The Gourmet Chocolate Pizza Co Ltd': '439',\n 'Belly Button Bubble Ltd': '440',\n 'ChunkyBuzz Ltd': '441',\n 'Gyanwshar Saran Sudeshwar Saran & Co': '442',\n 'Coconut Lane Ltd': '443',\n 'RATTAN SANGA SANGA CIREBON,CV': '444',\n 'Face Halo Pty Ltd': '445',\n 'Ceejay International': '446',\n 'Hangzhou L&Y Foreign Trading Co LTd': '447',\n 'Kayteks Dis Tic LTD STI': '448',\n 'Matrix Footwear Ltd': '449',\n 'M Life London Ltd': '450',\n 'Zero Waste Club Limited': '451',\n 'Bettie Confetti Limited': '452',\n 'Wade Ceramics Ltd': '453',\n 'Native 21': '454',\n 'Behouse Co Ltd': '455',\n 'Magic Organic Apothecary Ltd': '456',\n 'Konfeks Tekstil San Turizm Ve Tic': '457',\n 'Yogabasics Ltd': '458',\n 'Beyond Living': '459',\n \"Daye(Anne's Day Ltd)\": '460',\n \"Ramblin' Brands Pte. Ltd\": '461',\n 'Profit Fund Fashion Manufacturing LTD': '462',\n 'Westcoast Ltd': '463',\n 'Cotton Clara Ltd': '464',\n 'Fisura': '465',\n 'Evolve Beauty': '466',\n 'VUEE': '467',\n 'Neighbourhood Botanicals Ltd': '468',\n 'VR Distribution (UK) Limited': '469',\n 'Gnaw Chocolate Limited': '470',\n 'Europium World (UK) LTD': '471',\n 'Seedlip Ltd': '472',\n 'Amit Exports': '473',\n 'Lightstyle London Ltd': '474',\n 'Talking Tables Ltd USD account': '475',\n 'Ratan  Textiles Pvt Ltd': '476',\n 'Taizhou Art  and Home Co Ltd': '477',\n 'Wuxi Jinmao Foreign Trade Co., Ltd.': '478',\n 'REGAL JEWELRY MANUFACTURE CO., LTD': '479',\n 'RoadRunner Apparel Inc': '480',\n 'Happy Go Lucky': '481',\n 'Cotton Legend Limited USD': '482',\n 'GK Enterprise Ltd': '483',\n 'GL Dameck Ltd': '484',\n 'Ren Limited': '485',\n 'Upper Canada UK Ltd': '486',\n 'Amko Exports': '487',\n 'Blackstone Design LTD': '488',\n 'Lodosteks Tekstil': '489',\n 'KH Global Trading Limited': '490',\n 'Derewala Jewellery MFG LTD': '491',\n 'True Home Decor Pvt. Ltd': '492',\n 'Vayda overseas': '493',\n 'Yes Paper Goods': '494',\n 'D Jacobson & Sons Ltd': '495',\n 'Steamery AB': '496',\n 'Gentlemens Hardware International, Limited': '497',\n 'Bag and Bones Ltd': '498',\n 'Shiner Ltd': '499',\n 'Sun X Star Ltd': '500',\n 'Hangzhou Heqi Import and Export Trade co. ltd': '501',\n 'Swash Consulting Ltd': '502',\n 'STYLIDEAS Limited': '503',\n 'Sirius Shinning Moments': '504',\n 'Eden of London Ltd': '505',\n 'Lifetime Brands Europe Ltd': '506',\n 'The Positive Planner': '507',\n 'Camay Garments Factory Ltd': '508',\n 'Atlas Flowers Ltd': '509',\n 'Ross & Ross Gifts Ltd': '510',\n 'Langbrett GMBH': '511',\n 'Paper Dreams Limited': '512',\n 'Windeson Trademart PVT Ltd': '513',\n 'Woden - SHOE THE BEAR UK Limited': '514',\n 'Kitsch': '515',\n 'Usha Exports': '516',\n 'Triburg Imtiara Design Services LLP': '517',\n 'Triburg Imtiara Consultants LLP': '518',\n 'Apption Labs': '519',\n 'Bharat Carpets': '520',\n 'The Bottled Baking Co Limited': '521',\n 'Gosourcing India Private LTD': '522',\n 'Daisy Emerson': '523',\n 'Alphablots Ltd': '524',\n 'Barista and Co Coffee Limited': '525',\n 'Plewsy': '526',\n 'Mallows Limited': '527',\n 'Spring Near East Mfg.Co.Ltd': '528',\n 'Over The Bloody Moon': '529',\n 'Chantuque UK Limited': '530',\n 'The Naked Marshmallow Co.Limited': '531',\n 'OTO International Limited': '532',\n 'Type and Story': '533',\n 'Mahajan UK Limited': '534',\n 'Tangle Teezer Limited': '535',\n 'Crisbase Import': '536',\n 'Fengilas Dis Tic.Ltd.Sti.': '537',\n 'The Clever Baggers Ltd': '538',\n 'Bubblegum Stuff Ltd': '539',\n 'Piccolo S.R.L': '540',\n 'Rainbow Fashion Accessories Co, Limited': '541',\n 'Hugo Park Ltd': '542',\n 'Henry Rivers Limited': '543',\n 'JunHong Leather Goods LTD': '544',\n 'Dongguan Fengling Crafts Co. Ltd': '545',\n 'Triburg Imtiara Design Services LLP( GBP)': '546',\n 'Triburg Imtiara Consultants LLP (GBP)': '547',\n 'Sister Paper Co Ltd': '548',\n 'Beegreen Fashion Co Limited': '549',\n 'Cielo Sereno ( NEW ACCOUNT)': '550',\n 'AJIT BHAWAN': '551',\n 'Paper Collective ApS': '552',\n 'Sculpd Ltd': '553',\n 'Avanti Overseas PVT LTD': '554',\n 'Mahajan Overseas Private Ltd': '555',\n 'Horizons Collection': '556',\n 'HORIZONS COLLECTION': '556',\n 'Pigment Productions Ltd': '557',\n 'Designers Guild': '558',\n 'Kikkerland Europe BV': '559',\n 'Katie Leamon Ltd': '560',\n 'Stripey Cats': '561',\n 'Stop the Clock Design Ltd': '562',\n 'Parth Overseas': '563',\n 'ACT Tekstil': '564',\n 'Aroma Exports': '565',\n 'Great Mariner International Ltd': '566',\n 'Balaji Exports': '567',\n 'Block': '568',\n 'BookSource': '569',\n 'Raspberry Blossom': '570',\n 'Cotton Legend Limited': '571',\n 'Doiy Ltd': '572',\n 'Omicways Ltd T/AS Container Group Buying': '573',\n 'Mustard London Ltd  (Viral Brands Ltd)': '574',\n 'Lucky Monday (SP Diffusion)': '575',\n 'Sooshichacha': '576',\n 'Palm Fibre (India) Private Limited': '577',\n 'Navrattan Enterprises': '578',\n 'Attic Products': '579',\n 'Tache Crafts': '580',\n 'Firebox.com Ltd': '581',\n 'Stonemen Crafts India Private Limited': '582',\n 'Professor Puzzle Ltd': '583',\n 'Jessica Hogarth Designs': '584',\n 'Atlantic Folk Limited': '585',\n 'Bisong Industry Co Ltd': '586',\n 'Kumar International': '587',\n 'East End Prints': '588',\n 'Vasicol': '589',\n 'Casamotion Art Glass': '590',\n 'Core HR: Core Computer Consultants (Cork) Ltd': '591',\n 'TAAB London Ltd': '592',\n 'Meraki': '593',\n 'Buffalo Private Label Ltd': '594',\n 'Stormy Knight': '595',\n 'Design 2100 Inc': '596',\n 'Lifeguard Press Europe Ltd.': '597',\n 'Dar Lighting': '598',\n 'Fabris Lane Ltd': '599',\n 'Jomaze LDA': '600',\n 'Hunter Paper Co': '601',\n 'Basant': '602',\n 'All the ways to say': '603',\n 'Humbug Design Ltd': '604',\n 'Destinos': '605',\n 'Shenzhen Zhizhi Band Incubation Co': '606',\n 'Nath Bros Exim Internation Ltd': '607',\n 'Sinosky Limited': '608',\n 'James Emma and Son Limited': '609',\n 'Shanxi Jingshengyuan Trading Co Ltd': '610',\n 'Shayne International Holdings Limited': '611',\n 'Pushpa Artefacts': '612',\n 'Howick Limited': '613',\n 'Overseas Trade Linkers': '614',\n 'Bothwell Pt': '615',\n 'Poole Lighting': '616',\n 'Seoulista Beauty': '617',\n 'Hachette UK Distribution Ltd': '618',\n 'Shanxi Beigao Housewares Co Ltd': '619',\n 'AGA Artisania': '620',\n 'Doan Potters Ltd': '621',\n 'Abi Elang Indo': '622',\n 'The Gluttonous Gardner': '623',\n 'B & C Industries Ltd': '624',\n 'Homeware International Indonesia PT': '625',\n 'Horizon (Shanghai) Industrial Co., Ltd': '626',\n 'Spritz Wellness Limited': '627',\n 'Absolute Yoga Ltd': '628',\n 'Miin Cosmetics': '629',\n 'Silke London Ltd': '630',\n 'Eternal Mix Ltd (new)': '631',\n 'Flexi Skin London Ltd': '632',\n 'Navigate Ltd': '633',\n 'CGB Giftware': '634',\n 'Fuzhou Yixiang Arts': '635',\n 'Poshe Dalian CO Limited': '636',\n 'Xylem Papercraft Pvt Ltd': '637',\n 'Far Eastern Handicraft Joint Stock Company': '638',\n 'Qualy & Co B.V.': '639',\n 'Max Made Me Do It': '640',\n \"You've Got Pen On Your Face\": '641',\n 'iD Limited': '642',\n 'CHERRYFIELD TRADING LTD': '643',\n 'WEBHELP PAYMENT SERVICES FRANCE UK': '644',\n 'Ask Mummy & Daddy Ltd': '645',\n 'Esska Design Limited': '646',\n 'Murrays Health & Beauty': '647',\n 'Leaf Envy LTD': '648',\n 'Incorporated Unlimited Worldwide AS': '649',\n 'SABRE S-A-S': '650',\n 'MadamStoltzApS': '651',\n 'BURT BROS HOSIERY  LTD': '652',\n 'GRESTEL - Produtos Ceramicos, S.A.': '653',\n 'Good Living Ltd': '654',\n 'Ace Beverage Company London Limited': '655',\n \"W'ZIS Ltd\": '656',\n 'Skin Gym Inc': '657',\n 'QINGDAO ENYUAN JEWELRY. LTD': '658',\n 'Love Cocoa': '659',\n 'Narayan Industries': '660',\n 'Aman Exports': '661',\n 'TRANSPARENT OVERSEAS': '662',\n 'Design More': '663',\n 'Holliegraphik Limited': '664',\n 'YANGZHOU JIHENG IMP. & EXP. CORP. LTD.': '665',\n 'Laidback London': '666',\n 'Paper Engine': '667',\n 'Claridges': '668',\n 'French Knot LLC': '669',\n 'GleamFutures': '670',\n 'Ash Shoe Co Ltd': '671',\n 'Tactic Games UK': '672',\n 'La Vie Holdings t/a Luna Daily': '673',\n 'Nanjing Jumei Garment CO, LTD': '674',\n 'ICKAPRINT': '675',\n 'Starskin BV': '676',\n 'Whitestep Ltd': '677',\n 'Say It With Songs': '678',\n 'Selina Barker Ltd': '679',\n 'Robert Todd & Son Ltd': '680',\n 'Optiat Ltd t/a UpCircle': '681',\n 'LastObject ApS': '682',\n 'Dog By Dr Lisa Pty Ltd': '683',\n 'Vine Craft': '684',\n 'Bloom and Blossom Limited': '685',\n 'G L DAMECK LTD': '686',\n 'Infographica Ltd': '687',\n 'Roomytown Limited': '688',\n 'Manta Hair Ltd': '689',\n 'Heather Evelyn': '690',\n 'Ganga Handicrafts': '691',\n 'Sakina Saidi': '692',\n 'You Tec Ltd': '693',\n 'Dorset Sea Salt Company': '694',\n 'Elizabeth Mugridge Design': '695',\n 'Adecco UK Ltd': '696',\n 'C.C.Flint & Co.Ltd': '697',\n 'Franklin Chartered Accountants': '698',\n 'Premier Vanguard': '699',\n 'Retail Human Resouces': '700',\n 'Identity Signs (London) ltd.': '701',\n 'Thames Water Utilities Ltd': '702',\n 'UPS LTD': '703',\n 'Arval PHH': '704',\n 'TNT International': '705',\n 'Advanced Business Software and Solutions Ltd': '706',\n 'Futura': '707',\n 'Wandsworth Borough Council': '708',\n 'Federal Express Europe Inc': '709',\n 'Orridge & Co Ltd': '710',\n 'Prima Tapes & Labels Ltd': '711',\n 'JTC Fund Solutions (Jersey) Ltd': '712',\n 'Rapid Racking Ltd': '713',\n 'JK Installations Ltd': '714',\n 'Transport for London': '715',\n 'Royal Mail Group Ltd': '716',\n 'Siemens Fin Serv (dd)': '717',\n 'British Land Property Management Limited': '718',\n 'Kleen Ltd T/A Clean Society': '719',\n 'DHL International (UK) Ltd - DD': '720',\n 'M.R.S. Communications Ltd': '721',\n 'William Sturges & Co': '722',\n 'Mr B Khelifi': '723',\n 'Loomis UK Limited': '724',\n 'Sage Pay': '725',\n 'Munro Design': '726',\n 'Addison Lee Plc.': '727',\n 'ADT Fire and Security Plc.': '728',\n 'The Copyright Licensing Agency': '729',\n 'Camilla Tress': '730',\n 'PRISM - FX Direct Ltd': '731',\n 'Land Securities Properties Ltd (NSS)': '732',\n 'INTO Lighting Ltd': '733',\n 'Opus Energy': '734',\n 'Initial Washroom Solutions': '735',\n 'UK Packaging Supplies Ltd': '736',\n 'Cartridge Clinic': '737',\n 'LinkShare Limited': '738',\n 'Parcelforce Worldwide': '739',\n 'Hargreaves Newberry Gyngell (BATT)': '740',\n 'FormKraft Distribution Ltd': '741',\n 'Jones Lang La Salle (Wimb)': '742',\n 'Land Securities (Cheapside)': '743',\n 'Fraser & Co Chartered Surveyors': '744',\n 'Savills Commerical Ltd (SSW) old unit': '745',\n 'Ark Pest Control Limited': '746',\n 'MetaPack limited': '747',\n 'Gartec Limited': '748',\n 'Communication and Technical Services Ltd': '749',\n 'Blaze Networks Ltd': '750',\n 'Premier Interior Systems Ltd': '751',\n 'Jones Lang La Salle (Kingston)': '752',\n 'BHK Properties ltd': '753',\n 'Toll Global Forwarding Grp (UK) Ltd': '754',\n 'Nevs Model  Agency': '755',\n 'Mapeley Columbus Ltd Crouch End': '756',\n 'Axiomatic Technology Limited': '757',\n 'Network Rail KX': '758',\n 'Network Rail (Waterloo)': '759',\n 'Fitting Division Ltd': '760',\n 'Office Furniture': '761',\n 'Case': '762',\n 'Amanda Kelly Design Studio': '763',\n 'Land Securities Finchley Road': '764',\n 'Mackinnon and Co': '765',\n 'Cheffins': '766',\n 'Premier Shredding Ltd': '767',\n 'Network Rail Victoria Station': '768',\n 'MacRoberts LLP': '769',\n 'The Design Library': '770',\n 'Lightning Packaging Supplies Limited': '771',\n 'Milverton Properties Ltd': '772',\n 'Urban Shopfitters Ltd': '773',\n 'Reward Gateway (uk) Ltd.': '774',\n 'Angel Springs Ltd-OLI012(Victoria)': '775',\n 'PremierINN': '776',\n 'Davies Turner and Co Ltd (Ocean)': '777',\n 'Canary Wharf Management Ltd': '778',\n 'HQCB Properties (RT3) Ltd': '779',\n 'Angel Springs limited for SO': '780',\n 'Hyatt PLaza Ltd': '781',\n 'Martin Slowe': '782',\n 'Owens & Kim Ltd': '783',\n 'Pr shots': '784',\n 'Howard Tenens Logistics Ltd': '785',\n 'Network Rail Infrastructure Limited': '786',\n 'Colliers International Retail UK LLP': '787',\n 'Tom & Co Ltd': '788',\n 'Cushman & Wakefield': '789',\n 'Models 1 Ltd': '790',\n 'Incair Ltd': '791',\n 'Digital ID Ltd': '792',\n 'Savoy Stewart': '793',\n 'Reviews.co.uk - Liquid New Media': '794',\n 'Workman LLP (BRS) Rent': '795',\n 'Workman LLP (BRS) Insurance': '796',\n 'Workman LLP (BRS) Serv Chg': '797',\n 'Global Business Express (India)': '798',\n 'Cirri Alberto': '799',\n 'Double the cube Limited': '800',\n 'Narrow Aisle Ltd': '801',\n 'WGSN ( Worth Global Style Network Ltd)': '802',\n 'Linkedin Ireland': '803',\n 'Flexi Training': '804',\n 'Workman LLP(BRS) Water': '805',\n 'Peoplevox Ltd': '806',\n 'ITS Testing Services (uk) Limited': '807',\n 'Lambert Smith Hampton (Serv.Chrg)': '808',\n 'Byways Limited': '809',\n 'Auditel Ltd': '810',\n 'DTZ Client A/C': '811',\n 'FCA Financial Conduct Autority': '812',\n 'Carolyn Barber Ltd': '813',\n 'M.J. Quinn Integrated Services Ltd': '814',\n 'Light Locations': '815',\n 'Shortlist Media Limited': '816',\n 'Aid Training & Operation Ltd': '817',\n 'Milk Management Limited': '818',\n 'Bronte Properties Limited': '819',\n 'Aquaid': '820',\n 'M.Randhawa': '821',\n 'Byways Far East Limited': '822',\n 'LP Technology Ltd.': '823',\n 'Flex (far east) Ltd.': '824',\n 'Holly Broomhall': '825',\n 'Pearce Compaction System ltd.': '826',\n 'Tail Lift services': '827',\n 'GS1 UK': '828',\n 'Loadhog  Ltd': '829',\n 'Woodway UK Ltd': '830',\n 'Kennedys Law LLP': '831',\n 'Network Rail (Birmingham)': '832',\n 'Futura (CHIP & PIN ONLY)': '833',\n 'EmbroidMe': '834',\n 'Berry Recruitment ltd.': '835',\n 'Dell Products': '836',\n 'Nothern Powergrid': '837',\n 'BNP Paribas Real Estate': '838',\n 'Tfl Property': '839',\n 'TPT - Travel Point Trading Ltd.': '840',\n 'Jason Mooney - Flatclean UK': '841',\n 'Peac (UK) Limited': '842',\n 'SSE-76-491773997-HH': '843',\n 'Byways India PVT. LTD': '844',\n 'Knight Frank Leeds': '845',\n 'Storm Model Management LTD': '846',\n 'Boultbee LDN Capital Ltd - Rent': '847',\n 'Angel Spring Ltd (MST)': '848',\n 'SSE-79-251708665-SA': '849',\n 'Northern Ireland Couriers': '850',\n 'Esson Properties': '851',\n 'Colliers International Belfast': '852',\n 'SSE-77-Airtricity-BEL': '853',\n 'The beans Group': '854',\n 'Gordon House Investments': '855',\n 'Jacquline Hannam': '856',\n 'Kite Environmental Solutions Ltd.': '857',\n 'The label Group Limited': '858',\n 'Universal Processing Co.': '859',\n 'Active Handling Systems': '860',\n 'Extraman': '861',\n 'Graphic Business Forms Limited': '862',\n 'Network Rail (Glasgow Central)': '863',\n 'Toll Global Forwarding Grp US': '864',\n 'Sedex Information exchange': '865',\n 'Network Rail (London Bridge )': '866',\n 'Mary House Ward Ltd': '867',\n 'DeadMan Confidential Limited': '868',\n 'ZOHO Corporation Pvt Limited': '869',\n 'Internal System Limited': '870',\n 'Elmwood Vehicles': '871',\n 'Castle Water -135 CE- 3132138': '872',\n 'Womble Bond Dickinson LLP': '873',\n 'Castle Water -72 EST- TW3729782560': '874',\n 'New London Markets Ltd': '875',\n 'Intelligence Group limited': '876',\n 'ProLighting London': '877',\n 'Intertek Testing Services Hong Kong': '878',\n 'Personal Strengths Publishing Ltd': '879',\n 'Ethical Trading Initiative': '880',\n 'Retail Trust': '881',\n 'Asendia UK Limited (WN Direct)': '882',\n 'One Red Wall': '883',\n 'SGS United Kingdom Ltd': '884',\n 'Mouse Literate .co.uk': '885',\n 'Safer London Business Partnership': '886',\n 'Lindsey Poole Hair&Makeup': '887',\n 'Sally Williams Photography': '888',\n 'FIRA International Limited': '889',\n 'Castle Water -54 RIC- TW6589651370': '890',\n 'MCM Property Investment UK': '891',\n 'Misco Uk Limited': '892',\n 'Lucideon Limited': '893',\n 'SSE-92-201744269-PG': '894',\n 'Propstone Property Asset Management': '895',\n 'Spaceguard Ltd': '896',\n 'Eversheds Sutherland': '897',\n 'Cadventure Limited': '898',\n 'Rapid Secure Ltd': '899',\n 'SSE-78-121710586-ABD': '900',\n 'SSE-61-171707088-OLD': '901',\n 'SSE-10-171709913-Unit E': '902',\n 'SSE-41-381779267-BAT': '903',\n 'SSE-26-321706882-EAL': '904',\n 'SSE-10-351707537-Unit F': '905',\n 'SSE-66-381708102-PKW': '906',\n 'SSE-51-551706804-FRD': '907',\n 'SSE-54-591710706-RIC': '908',\n 'SSE-68-641707418-OXF': '909',\n 'SSE-37-111777975-BAL': '910',\n 'Summer Town': '911',\n 'Smith Pest Control': '912',\n 'Vortice AV': '913',\n 'MJ Mapp': '914',\n 'McConnell': '915',\n 'Eardley Limited': '916',\n 'Workman LLP New PUT': '917',\n 'Amas Ltd Clients Account': '918',\n 'SSE-49-571778766-CAM': '919',\n 'SSE-46-661707040-MH': '920',\n 'SSE-42-361779738-CHP': '921',\n 'SSE-69-271709421-EMB': '922',\n 'SSE-70-851738211/491775745-YRK': '923',\n 'SSE-64-391776698-HMS': '924',\n 'Magento': '925',\n 'ATC Properties': '926',\n 'Newton Cost Management': '927',\n 'J.S. Pallets': '928',\n 'Aitchison Raffety Property Consultants': '929',\n 'Sharon Miller': '930',\n 'SSE-80-21708591-LEE': '931',\n 'SSE-11-451708638-FUL': '932',\n 'SSE-60-471709254-CW': '933',\n 'SSE-58-371777153-GLA': '934',\n 'SSE-32-451776439-DUL': '935',\n 'SSE-27-521783626-ISL': '936',\n 'SSE-10-831715925-UNIT G': '937',\n 'SSE-93-971715667-PUT': '938',\n 'Jones Lang LaSalle (Man)': '939',\n 'Piartworks': '940',\n 'GSM Finance limited': '941',\n 'Jones Lang La Salle Bankside': '942',\n 'Crown Lift trucks': '943',\n 'Bullboat UK': '944',\n 'Atlantic Data': '945',\n 'Doyenne': '946',\n 'IMServ Europe Ltd': '947',\n 'Fairbairn and Wolf Studio': '948',\n 'SSE-GAS96-761722341': '949',\n 'Fleet Focus': '950',\n 'A&H Europe Ltd': '951',\n 'Land Securities Properties Ltd (CAR)': '952',\n 'Fit4Fashion Ltd': '953',\n 'The Interactive Health and Safety': '954',\n 'Knight & Day Property Managment': '955',\n 'Land Securities Properties Ltd (WO)': '956',\n 'SSE-39-761779088-HAM': '957',\n 'SSE-81-201764494-WB': '958',\n 'SSE-52-151774850-MBL': '959',\n 'SSE-91-501715260-KST': '960',\n 'SSE-85-491772271-WIM': '961',\n 'CCS Media Limited': '962',\n 'Knight Frank GRN': '963',\n 'Payzone': '964',\n 'Story Designs': '965',\n 'Kingston Smith LLP': '966',\n 'SSE-112-701791923-CLT': '967',\n 'London Luton Airport': '968',\n 'William Leech Limited': '969',\n 'SSE-111-1725921-AND': '970',\n 'SSE-16-101708320-CLP': '971',\n 'Belfast City Council': '972',\n 'BT British Telecommunications plc': '973',\n 'SSE-23-951777623-SSW': '974',\n 'SSE-74-851775854-GRN': '975',\n 'SSE-72-311710318-EST': '976',\n 'SSE-63-741710838-NHG': '977',\n 'SSE-75-411777108-TCR': '978',\n 'Chaney Lifts LTD': '979',\n 'Digital Office': '980',\n 'Whiston and Wright ltd': '981',\n 'SSE-97-471794690-WO': '982',\n 'SSE-95-911778072-CAR': '983',\n 'Tanner Design': '984',\n 'Plastic Card services': '985',\n 'SSE-89-131728528-BRS': '986',\n 'Blink London Consultancy': '987',\n \"The Dyers' Company\": '988',\n 'CBRE - Leamington spa': '989',\n 'Lemonade Factory': '990',\n 'Carol Hayes Management': '991',\n 'Spencer Research Limited': '992',\n 'Form Graphics Retail': '993',\n 'Print Stories Ltd': '994',\n 'Bobble': '995',\n 'SSE-98- Airtricity-Arthur Str-BAR': '996',\n 'Aramex': '997',\n 'SSE-114-551728987-PER': '998',\n 'SSE-96-241717063-ILK': '999',\n 'SMB Stephens McBride': '1000',\n 'CBRE Cheltenham': '1001',\n 'Expensein': '1002',\n 'Wave': '1003',\n 'SSE-67-221722038-TW': '1004',\n 'SSE-124-591759116-NOR': '1005',\n 'The Data Project': '1006',\n 'SSE-90-381724432-JES': '1007',\n 'Skye Direct LTD': '1008',\n 'SSE-94-681731593-CHS': '1009',\n 'Noatum Logistics Limited GBP': '1010',\n 'Network Rail - Liverpool street': '1011',\n 'Daniel Connal Partnership': '1012',\n 'Paragus Ltd (Checked Safe)': '1013',\n 'Jones Lang LaSalle Unit E': '1014',\n 'Jones Lang LaSalle Unit G': '1015',\n 'Jones Lang LaSalle Unit F': '1016',\n '123 Send': '1017',\n 'Zynk software': '1018',\n 'Looop Online Limited': '1019',\n 'Freshworks Inc.': '1020',\n 'Water Plus-HAR': '1021',\n 'AquAid Liverpool': '1022',\n 'Maxpublishing ltd': '1023',\n 'Speirs Gumley': '1024',\n 'Castle Water -79 SA-TW999996122': '1025',\n 'Premier Model Management': '1026',\n 'SSE-86-591792271-MAN': '1027',\n 'HS1 Limited': '1028',\n 'The Legal Director': '1029',\n 'Soundtrack Your Brand': '1030',\n 'Quadratica UK limited': '1031',\n 'Fretline LTD': '1032',\n 'SSE-121-931749849-SOK': '1033',\n 'SSE-115-901800541-LEM': '1034',\n 'SSE-120-21748407-SHF': '1035',\n 'SSE-118-901740748-BLK': '1036',\n 'Broadgate Estates TW': '1037',\n 'JM Prime Technologies': '1038',\n 'Savills Commerical Ltd WC': '1039',\n 'Wessex Property Developments & Trading LTD': '1040',\n 'Cartwright Hands - LEAM': '1041',\n 'Test IO': '1042',\n 'Creedmiles': '1043',\n 'St Dominics Properties Ltd': '1044',\n 'SSE-122-771762528-FAR': '1045',\n 'Next Distribution Ltd': '1046',\n 'Westfield Health': '1047',\n 'Noatum Logistics (US)': '1048',\n 'Restore Datashred': '1049',\n 'Evolution Security Systems (UK) Ltd': '1050',\n 'Facebook Ireland Limited': '1051',\n 'PPL PRS Ltd': '1052',\n 'Savills (UK) Ltd Exeter': '1053',\n 'Mobile Mini Uk Ltd TA Mr Box': '1054',\n 'Castle Water-10 Unit G-TW0000340192': '1055',\n 'CBRE - Milton Keynes': '1056',\n 'The Creative Place ltd': '1057',\n 'CBRE - Guildford': '1058',\n 'Southern Tyre Co Ltd': '1059',\n 'Loop54 Ltd': '1060',\n 'Fistral Impex Limited': '1061',\n 'ERP UK Ltd': '1062',\n 'Chapelfield Nominee & GP Ltd': '1063',\n 'Consumer Dispute Resolution Ltd': '1064',\n 'Channel Advisor UK Ltd': '1065',\n 'Mode Information ltd': '1066',\n 'Harborne Investments': '1067',\n 'Apex Radio Systems Ltd': '1068',\n 'Kate Moseley': '1069',\n 'Fashion Enter Limited': '1070',\n 'SSE-123-581771273-GFD': '1071',\n 'Gatwick Airport Limited': '1072',\n 'SimplyVAT': '1073',\n 'SSE-113-791769238-HAR': '1074',\n 'SSE-125-341777608-EXT': '1075',\n 'Ebit Business Solutions LTD': '1076',\n 'SSE-126-331771081-MK': '1077',\n 'Unique Support Services': '1078',\n 'SSE-119-931780389-RGT': '1079',\n 'VGP Ltd Spacemasks': '1080',\n 'Swingers 2 Ltd': '1081',\n 'Michael Mann Photography': '1082',\n 'Airport Facilities Maintenance Ltd': '1083',\n 'RAC Motoring Services': '1084',\n 'UK Youth': '1085',\n 'Company Bureau Formations Limited': '1086',\n 'Mitie Cleaning & Environmental Services': '1087',\n 'SSE-130-791781885-EDB': '1088',\n 'T H White Installation Ltd': '1089',\n 'Cleaning Express Services Ltd': '1090',\n 'TeleCentric Ltd': '1091',\n 'Klarna': '1092',\n 'Zalando': '1093',\n 'Parkdene Property Services Ltd': '1094',\n 'Water2business': '1095',\n 'Workman LLP (EDB) Serv + Ins': '1096',\n 'UK Fashion Textiles Association Ltd': '1097',\n 'McNicholl Hughes': '1098',\n 'The Health & Safety Group Ltd.': '1099',\n 'EMA Textile Ltd': '1100',\n 'Allports Garages Limited': '1101',\n 'Avanti Gas': '1102',\n 'Croud Inc Ltd': '1103',\n 'Davies Turner and Co Ltd (Air Cargo)': '1104',\n 'SSE-131-471789638-WOK': '1105',\n 'Savills Liverpool': '1106',\n 'Wex Photo': '1107',\n 'Savills UK Ltd - Wokingham': '1108',\n 'Tellivue Ltd': '1109',\n 'Veolia ES (UK) Ltd': '1110',\n 'Jones Lang La Salle (BROM)': '1111',\n 'Hermes Parcelnet Ltd': '1112',\n '360 Connections Group ltd': '1113',\n 'Business Stream-LEE': '1114',\n 'Chessington Hotel Ltd': '1115',\n 'SSE-132-721802842-L1': '1116',\n 'Curalate Inc': '1117',\n 'Redevco UK ltd': '1118',\n 'Intelligent Reach Limited': '1119',\n 'Pure Cleaning (Scotland) Ltd': '1120',\n 'Brighton & Hove Business Forum Ltd': '1121',\n 'Lesar UK Ltd': '1122',\n 'InterCity Ltd': '1123',\n 'BJS Distribution Storage and Couriers Ltd': '1124',\n 'Plastic Boxes': '1125',\n 'Savills SSW new unit': '1126',\n 'SSE-129-21798469-BRM': '1127',\n 'Ebay': '1128',\n 'Workman Southampton': '1129',\n 'Rich Insight Portfolio Ltd': '1130',\n 'Dachser ltd': '1131',\n 'Lifetime Training': '1132',\n 'Hazel 4D': '1133',\n 'SSE-128-31808668-BTN': '1134',\n 'SSE-135-431804809-CE RELO': '1135',\n 'SSE-134-481800974-SSW RELO': '1136',\n 'Make It Rain Ltd T/A DAC Group': '1137',\n 'Flu Xpress Ltd': '1138',\n 'Defib Store Ltd': '1139',\n 'SSE-133-971804352-SWQ': '1140',\n 'CBRE Ltd - Cribbs': '1141',\n 'Affordable Window Cleaning': '1142',\n 'Bernard Sims Associates': '1143',\n 'SSE-34-171809023-BAN': '1144',\n 'Mitie Technical Facilities Management': '1145',\n 'Edwards Cleaning Services': '1146',\n 'Park Place Technologies': '1147',\n 'Buzzacott': '1148',\n 'APTAKER & PARTNERS': '1149',\n 'Avios Group Ltd': '1150',\n 'Vimeo Inc': '1151',\n 'Eden Springs (UK) Ltd': '1152',\n 'KIte Packaging Ltd': '1153',\n 'Build2Design': '1154',\n 'BACIL': '1155',\n 'Newton Property Management': '1156',\n 'Joanna Longton': '1157',\n 'Flatclean Uk': '1158',\n 'The Leeds Provincial Cleaning Company': '1159',\n 'AJ Cleaning Services': '1160',\n 'T.J.A.WARD': '1161',\n 'Gaze a Glaze Ltd': '1162',\n 'IronmongeryDirect': '1163',\n 'Grevitts Cleaning Ltd': '1164',\n 'Primo Window Cleaning': '1165',\n 'Crystal Clear Cleaning Services (Devon) Ltd': '1166',\n 'S H Lewis Cleaning Ltd': '1167',\n 'Easy Cleaning Services': '1168',\n 'Harold Cleaning Services': '1169',\n 'J Stanton (Muswell Hill)': '1170',\n 'Cambrian Services': '1171',\n 'Sigma Imaging Ltd': '1172',\n 'Alan Fisher Cleaning Services Ltd': '1173',\n 'Coldr Ltd': '1174',\n 'Moyle Window Cleaning': '1175',\n 'David King': '1176',\n 'Immaculate Window Cleaning': '1177',\n \"Brown's Window Cleaning Ltd\": '1178',\n 'J Stanton (Crouch End)': '1179',\n 'Complete Cleaning Care': '1180',\n 'Property Best Ltd': '1181',\n 'W.Stockdale': '1182',\n 'Jack Window Cleaning': '1183',\n 'Notary Cam Inc': '1184',\n 'Savills - Norwich': '1185',\n 'P.A.IMPEY Ltd': '1186',\n 'Pegasus Window  Cleaning': '1187',\n 'Sunlight Window Cleaning Co': '1188',\n 'Anna Ruiz Ramos': '1189',\n 'I Murray': '1190',\n 'Paul Cunningham': '1191',\n 'Kingswood Pallets Limited': '1192',\n 'Surrey Vending': '1193',\n 'Mill Lane Commercial': '1194',\n 'Collinson': '1195',\n 'Stulee Cleaning Specialists': '1196',\n 'Ryak Cleaning and Support  Services': '1197',\n 'City Central Cleaning & Support Services Ltd': '1198',\n 'Pin Point Recruitment': '1199',\n 'SSE-136-771838851-CRIBBS': '1200',\n 'EVAQ8 Ltd': '1201',\n 'Locators': '1202',\n 'An Eye for Detail': '1203',\n 'J. & H. M. Dickson Limited': '1204',\n 'Herbert Parkinson': '1205',\n 'Grant Thornton UK LLP': '1206',\n 'ContentSquare': '1207',\n 'Nisbets Plc': '1208',\n 'INProfessional Development': '1209',\n 'First Friday Ltd': '1210',\n 'Elan Sales Limited': '1211',\n 'ICC Managed Services Ltd': '1212',\n 'RRH Hanover A Limited': '1213',\n 'Procom Training Limited': '1214',\n 'Mercer Limited': '1215',\n 'Kaplan Financial': '1216',\n ...}"
     },
     "execution_count": 40,
     "metadata": {},
     "output_type": "execute_result"
    }
   ],
   "source": [
    "vendor_map = {}\n",
    "\n",
    "for vendor in vendors:\n",
    "    vendor_map[vendor.entityId] = vendor.internalId\n",
    "    vendor_map[vendor.legalName] = vendor.internalId\n",
    "    vendor_map[vendor.companyName] = vendor.internalId\n",
    "\n",
    "vendor_map"
   ],
   "metadata": {
    "collapsed": false,
    "ExecuteTime": {
     "end_time": "2023-11-15T15:11:36.426423800Z",
     "start_time": "2023-11-15T15:11:36.414424500Z"
    }
   },
   "id": "e9f43d7bde08237e"
  },
  {
   "cell_type": "code",
   "execution_count": 49,
   "outputs": [
    {
     "data": {
      "text/plain": "                Modified_Date  Expected_No_Packages Arrival_Date_Agreed  \\\n0   2023-11-13 17:57:06+00:00                     0                 NaT   \n1   2023-11-13 17:53:26+00:00                     0                 NaT   \n2   2023-11-13 17:46:58+00:00                     0                 NaT   \n3   2023-11-13 17:43:49+00:00                     0                 NaT   \n4   2023-11-13 17:38:46+00:00                     0                 NaT   \n..                        ...                   ...                 ...   \n295 2023-11-13 10:14:23+00:00                     0                 NaT   \n296 2023-11-13 10:14:23+00:00                     0                 NaT   \n297 2023-11-13 10:14:23+00:00                     0                 NaT   \n298 2023-11-13 10:14:23+00:00                     0                 NaT   \n299 2023-11-13 10:14:23+00:00                     0                 NaT   \n\n    Arrival_Date_Modified Arrival_Date_Actual  Freight_No Freight_Type  \\\n0                     NaT                 NaT           7          SEA   \n1                     NaT                 NaT           7          SEA   \n2                     NaT                 NaT        <NA>         None   \n3                     NaT                 NaT           7          SEA   \n4                     NaT                 NaT           7          SEA   \n..                    ...                 ...         ...          ...   \n295                   NaT                 NaT           6      COURIER   \n296                   NaT                 NaT           6      COURIER   \n297                   NaT                 NaT           6      COURIER   \n298                   NaT                 NaT           6      COURIER   \n299                   NaT                 NaT           6      COURIER   \n\n     Creation_Branch_No  PO_No  Status_No  ...      Arrival_Date_Item_To  \\\n0                     1  74586          1  ... 2024-01-01 00:00:00+00:00   \n1                     1  76122          1  ... 2024-02-26 00:00:00+00:00   \n2                     1  76120          1  ...                       NaT   \n3                     1  76121          1  ... 2024-03-07 00:00:00+00:00   \n4                     1  76119          1  ... 2024-03-07 00:00:00+00:00   \n..                  ...    ...        ...  ...                       ...   \n295                   1  76015          1  ... 2023-11-24 00:00:00+00:00   \n296                   1  76015          1  ... 2023-11-24 00:00:00+00:00   \n297                   1  76015          1  ... 2023-11-24 00:00:00+00:00   \n298                   1  76015          1  ... 2023-11-24 00:00:00+00:00   \n299                   1  76015          1  ... 2023-11-24 00:00:00+00:00   \n\n     Arrival_Date_Item_To_Updated  Last_GI_Date Confirmation_Date_Agreed  \\\n0                             NaT           NaT                      NaT   \n1                             NaT           NaT                      NaT   \n2                             NaT           NaT                      NaT   \n3                             NaT           NaT                      NaT   \n4                             NaT           NaT                      NaT   \n..                            ...           ...                      ...   \n295                           NaT           NaT                      NaT   \n296                           NaT           NaT                      NaT   \n297                           NaT           NaT                      NaT   \n298                           NaT           NaT                      NaT   \n299                           NaT           NaT                      NaT   \n\n      Ref_No Line_No Qty_Ordered Qty_Invoiced Qty_Outstanding    Unit_Price  \n0    1696684       2        3000         3000            3000  16.550000000  \n1    1782226       2         800          800             800  35.000000000  \n2    1589009       2        1500         1500            1500   3.590000000  \n3    1782219       2         700          700             700   6.850000000  \n4    1782202       1         800          800             800   4.800000000  \n..       ...     ...         ...          ...             ...           ...  \n295  1629446       2         150          150             150   8.000000000  \n296  1409307       4         408          408             408   5.420000000  \n297  1736274      12          84           84              84   4.250000000  \n298  1736212      10         204          204             204   4.250000000  \n299  1736175       8         204          204             204   8.150000000  \n\n[300 rows x 32 columns]",
      "text/html": "<div>\n<style scoped>\n    .dataframe tbody tr th:only-of-type {\n        vertical-align: middle;\n    }\n\n    .dataframe tbody tr th {\n        vertical-align: top;\n    }\n\n    .dataframe thead th {\n        text-align: right;\n    }\n</style>\n<table border=\"1\" class=\"dataframe\">\n  <thead>\n    <tr style=\"text-align: right;\">\n      <th></th>\n      <th>Modified_Date</th>\n      <th>Expected_No_Packages</th>\n      <th>Arrival_Date_Agreed</th>\n      <th>Arrival_Date_Modified</th>\n      <th>Arrival_Date_Actual</th>\n      <th>Freight_No</th>\n      <th>Freight_Type</th>\n      <th>Creation_Branch_No</th>\n      <th>PO_No</th>\n      <th>Status_No</th>\n      <th>...</th>\n      <th>Arrival_Date_Item_To</th>\n      <th>Arrival_Date_Item_To_Updated</th>\n      <th>Last_GI_Date</th>\n      <th>Confirmation_Date_Agreed</th>\n      <th>Ref_No</th>\n      <th>Line_No</th>\n      <th>Qty_Ordered</th>\n      <th>Qty_Invoiced</th>\n      <th>Qty_Outstanding</th>\n      <th>Unit_Price</th>\n    </tr>\n  </thead>\n  <tbody>\n    <tr>\n      <th>0</th>\n      <td>2023-11-13 17:57:06+00:00</td>\n      <td>0</td>\n      <td>NaT</td>\n      <td>NaT</td>\n      <td>NaT</td>\n      <td>7</td>\n      <td>SEA</td>\n      <td>1</td>\n      <td>74586</td>\n      <td>1</td>\n      <td>...</td>\n      <td>2024-01-01 00:00:00+00:00</td>\n      <td>NaT</td>\n      <td>NaT</td>\n      <td>NaT</td>\n      <td>1696684</td>\n      <td>2</td>\n      <td>3000</td>\n      <td>3000</td>\n      <td>3000</td>\n      <td>16.550000000</td>\n    </tr>\n    <tr>\n      <th>1</th>\n      <td>2023-11-13 17:53:26+00:00</td>\n      <td>0</td>\n      <td>NaT</td>\n      <td>NaT</td>\n      <td>NaT</td>\n      <td>7</td>\n      <td>SEA</td>\n      <td>1</td>\n      <td>76122</td>\n      <td>1</td>\n      <td>...</td>\n      <td>2024-02-26 00:00:00+00:00</td>\n      <td>NaT</td>\n      <td>NaT</td>\n      <td>NaT</td>\n      <td>1782226</td>\n      <td>2</td>\n      <td>800</td>\n      <td>800</td>\n      <td>800</td>\n      <td>35.000000000</td>\n    </tr>\n    <tr>\n      <th>2</th>\n      <td>2023-11-13 17:46:58+00:00</td>\n      <td>0</td>\n      <td>NaT</td>\n      <td>NaT</td>\n      <td>NaT</td>\n      <td>&lt;NA&gt;</td>\n      <td>None</td>\n      <td>1</td>\n      <td>76120</td>\n      <td>1</td>\n      <td>...</td>\n      <td>NaT</td>\n      <td>NaT</td>\n      <td>NaT</td>\n      <td>NaT</td>\n      <td>1589009</td>\n      <td>2</td>\n      <td>1500</td>\n      <td>1500</td>\n      <td>1500</td>\n      <td>3.590000000</td>\n    </tr>\n    <tr>\n      <th>3</th>\n      <td>2023-11-13 17:43:49+00:00</td>\n      <td>0</td>\n      <td>NaT</td>\n      <td>NaT</td>\n      <td>NaT</td>\n      <td>7</td>\n      <td>SEA</td>\n      <td>1</td>\n      <td>76121</td>\n      <td>1</td>\n      <td>...</td>\n      <td>2024-03-07 00:00:00+00:00</td>\n      <td>NaT</td>\n      <td>NaT</td>\n      <td>NaT</td>\n      <td>1782219</td>\n      <td>2</td>\n      <td>700</td>\n      <td>700</td>\n      <td>700</td>\n      <td>6.850000000</td>\n    </tr>\n    <tr>\n      <th>4</th>\n      <td>2023-11-13 17:38:46+00:00</td>\n      <td>0</td>\n      <td>NaT</td>\n      <td>NaT</td>\n      <td>NaT</td>\n      <td>7</td>\n      <td>SEA</td>\n      <td>1</td>\n      <td>76119</td>\n      <td>1</td>\n      <td>...</td>\n      <td>2024-03-07 00:00:00+00:00</td>\n      <td>NaT</td>\n      <td>NaT</td>\n      <td>NaT</td>\n      <td>1782202</td>\n      <td>1</td>\n      <td>800</td>\n      <td>800</td>\n      <td>800</td>\n      <td>4.800000000</td>\n    </tr>\n    <tr>\n      <th>...</th>\n      <td>...</td>\n      <td>...</td>\n      <td>...</td>\n      <td>...</td>\n      <td>...</td>\n      <td>...</td>\n      <td>...</td>\n      <td>...</td>\n      <td>...</td>\n      <td>...</td>\n      <td>...</td>\n      <td>...</td>\n      <td>...</td>\n      <td>...</td>\n      <td>...</td>\n      <td>...</td>\n      <td>...</td>\n      <td>...</td>\n      <td>...</td>\n      <td>...</td>\n      <td>...</td>\n    </tr>\n    <tr>\n      <th>295</th>\n      <td>2023-11-13 10:14:23+00:00</td>\n      <td>0</td>\n      <td>NaT</td>\n      <td>NaT</td>\n      <td>NaT</td>\n      <td>6</td>\n      <td>COURIER</td>\n      <td>1</td>\n      <td>76015</td>\n      <td>1</td>\n      <td>...</td>\n      <td>2023-11-24 00:00:00+00:00</td>\n      <td>NaT</td>\n      <td>NaT</td>\n      <td>NaT</td>\n      <td>1629446</td>\n      <td>2</td>\n      <td>150</td>\n      <td>150</td>\n      <td>150</td>\n      <td>8.000000000</td>\n    </tr>\n    <tr>\n      <th>296</th>\n      <td>2023-11-13 10:14:23+00:00</td>\n      <td>0</td>\n      <td>NaT</td>\n      <td>NaT</td>\n      <td>NaT</td>\n      <td>6</td>\n      <td>COURIER</td>\n      <td>1</td>\n      <td>76015</td>\n      <td>1</td>\n      <td>...</td>\n      <td>2023-11-24 00:00:00+00:00</td>\n      <td>NaT</td>\n      <td>NaT</td>\n      <td>NaT</td>\n      <td>1409307</td>\n      <td>4</td>\n      <td>408</td>\n      <td>408</td>\n      <td>408</td>\n      <td>5.420000000</td>\n    </tr>\n    <tr>\n      <th>297</th>\n      <td>2023-11-13 10:14:23+00:00</td>\n      <td>0</td>\n      <td>NaT</td>\n      <td>NaT</td>\n      <td>NaT</td>\n      <td>6</td>\n      <td>COURIER</td>\n      <td>1</td>\n      <td>76015</td>\n      <td>1</td>\n      <td>...</td>\n      <td>2023-11-24 00:00:00+00:00</td>\n      <td>NaT</td>\n      <td>NaT</td>\n      <td>NaT</td>\n      <td>1736274</td>\n      <td>12</td>\n      <td>84</td>\n      <td>84</td>\n      <td>84</td>\n      <td>4.250000000</td>\n    </tr>\n    <tr>\n      <th>298</th>\n      <td>2023-11-13 10:14:23+00:00</td>\n      <td>0</td>\n      <td>NaT</td>\n      <td>NaT</td>\n      <td>NaT</td>\n      <td>6</td>\n      <td>COURIER</td>\n      <td>1</td>\n      <td>76015</td>\n      <td>1</td>\n      <td>...</td>\n      <td>2023-11-24 00:00:00+00:00</td>\n      <td>NaT</td>\n      <td>NaT</td>\n      <td>NaT</td>\n      <td>1736212</td>\n      <td>10</td>\n      <td>204</td>\n      <td>204</td>\n      <td>204</td>\n      <td>4.250000000</td>\n    </tr>\n    <tr>\n      <th>299</th>\n      <td>2023-11-13 10:14:23+00:00</td>\n      <td>0</td>\n      <td>NaT</td>\n      <td>NaT</td>\n      <td>NaT</td>\n      <td>6</td>\n      <td>COURIER</td>\n      <td>1</td>\n      <td>76015</td>\n      <td>1</td>\n      <td>...</td>\n      <td>2023-11-24 00:00:00+00:00</td>\n      <td>NaT</td>\n      <td>NaT</td>\n      <td>NaT</td>\n      <td>1736175</td>\n      <td>8</td>\n      <td>204</td>\n      <td>204</td>\n      <td>204</td>\n      <td>8.150000000</td>\n    </tr>\n  </tbody>\n</table>\n<p>300 rows × 32 columns</p>\n</div>"
     },
     "execution_count": 49,
     "metadata": {},
     "output_type": "execute_result"
    }
   ],
   "source": [
    "hundred = pandas.read_gbq(\"\"\"select *\n",
    "from `oliverbonas-raw`.futura_raw.po_staging\n",
    "order by Modified_Date desc\n",
    "limit 300\"\"\")\n",
    "hundred"
   ],
   "metadata": {
    "collapsed": false,
    "ExecuteTime": {
     "end_time": "2023-11-15T15:23:03.433274900Z",
     "start_time": "2023-11-15T15:23:01.819049100Z"
    }
   },
   "id": "b4380b401c4c3bee"
  },
  {
   "cell_type": "code",
   "execution_count": 7,
   "outputs": [
    {
     "data": {
      "text/plain": "Index(['Modified_Date', 'Expected_No_Packages', 'Arrival_Date_Agreed',\n       'Arrival_Date_Modified', 'Arrival_Date_Actual', 'Freight_No',\n       'Freight_Type', 'Creation_Branch_No', 'PO_No', 'Status_No', 'Status',\n       'Supplier_No', 'GI_Branch_No', 'PO_Code_1', 'PO_Code_2', 'PO_Comment_1',\n       'PO_Comment_2', 'Exchange_Rate', 'PO_Date', 'Arrival_Date_From',\n       'Arrival_Date_To', 'Arrival_Date_Item_From', 'Arrival_Date_Item_To',\n       'Arrival_Date_Item_To_Updated', 'Last_GI_Date',\n       'Confirmation_Date_Agreed', 'Ref_No', 'Line_No', 'Qty_Ordered',\n       'Qty_Invoiced', 'Qty_Outstanding', 'Unit_Price'],\n      dtype='object')"
     },
     "execution_count": 7,
     "metadata": {},
     "output_type": "execute_result"
    }
   ],
   "source": [
    "\"\"\"\n",
    "Index(['Modified_Date', 'Expected_No_Packages', 'Arrival_Date_Agreed',\n",
    "       'Arrival_Date_Modified', 'Arrival_Date_Actual', 'Freight_No',\n",
    "       'Freight_Type', 'Creation_Branch_No', 'PO_No', 'Status_No', 'Status',\n",
    "       'Supplier_No', 'GI_Branch_No', 'PO_Code_1', 'PO_Code_2', 'PO_Comment_1',\n",
    "       'PO_Comment_2', 'Exchange_Rate', 'PO_Date', 'Arrival_Date_From',\n",
    "       'Arrival_Date_To', 'Arrival_Date_Item_From', 'Arrival_Date_Item_To',\n",
    "       'Arrival_Date_Item_To_Updated', 'Last_GI_Date',\n",
    "       'Confirmation_Date_Agreed', 'Ref_No', 'Line_No', 'Qty_Ordered',\n",
    "       'Qty_Invoiced', 'Qty_Outstanding', 'Unit_Price'],\n",
    "      dtype='object')\n",
    "\"\"\"\n",
    "\"\"\"\n",
    "{\n",
    "    'nullFieldList': None,\n",
    "    'createdDate': None,\n",
    "    'lastModifiedDate': None,\n",
    "    'nexus': None,\n",
    "    'subsidiaryTaxRegNum': None,\n",
    "    'taxRegOverride': None,\n",
    "    'taxDetailsOverride': None,\n",
    "    'customForm': None,\n",
    "    'entity': {\n",
    "        'name': None,\n",
    "        'internalId': 335982,\n",
    "        'externalId': None,\n",
    "        'type': None\n",
    "    },\n",
    "    'purchaseContract': None,\n",
    "    'vatRegNum': None,\n",
    "    'employee': None,\n",
    "    'supervisorApproval': None,\n",
    "    'tranDate': None,\n",
    "    'tranId': None,\n",
    "    'entityTaxRegNum': None,\n",
    "    'taxPointDate': None,\n",
    "    'createdFrom': None,\n",
    "    'terms': None,\n",
    "    'dueDate': None,\n",
    "    'otherRefNum': None,\n",
    "    'availableVendorCredit': None,\n",
    "    'memo': None,\n",
    "    'approvalStatus': None,\n",
    "    'exchangeRate': None,\n",
    "    'nextApprover': None,\n",
    "    'source': None,\n",
    "    'currencyName': None,\n",
    "    'toBePrinted': None,\n",
    "    'toBeEmailed': None,\n",
    "    'email': None,\n",
    "    'toBeFaxed': None,\n",
    "    'fax': None,\n",
    "    'message': None,\n",
    "    'billingAddress': None,\n",
    "    'billAddressList': None,\n",
    "    'currency': None,\n",
    "    'shipTo': None,\n",
    "    'subTotal': None,\n",
    "    'taxTotal': None,\n",
    "    'tax2Total': None,\n",
    "    'shippingAddress': None,\n",
    "    'shipIsResidential': None,\n",
    "    'shipAddressList': None,\n",
    "    'fob': None,\n",
    "    'shipDate': None,\n",
    "    'shipMethod': None,\n",
    "    'incoterm': None,\n",
    "    'trackingNumbers': None,\n",
    "    'linkedTrackingNumbers': None,\n",
    "    'total': None,\n",
    "    'class': None,\n",
    "    'department': None,\n",
    "    'location': None,\n",
    "    'subsidiary': None,\n",
    "    'intercoTransaction': None,\n",
    "    'intercoStatus': None,\n",
    "    'status': None,\n",
    "    'orderStatus': None,\n",
    "    'itemList': None,\n",
    "    'accountingBookDetailList': None,\n",
    "    'expenseList': None,\n",
    "    'taxDetailsList': None,\n",
    "    'customFieldList': None,\n",
    "    'internalId': None,\n",
    "    'externalId': None\n",
    "}\n",
    "\"\"\""
   ],
   "metadata": {
    "collapsed": false,
    "ExecuteTime": {
     "end_time": "2023-11-15T14:08:58.039794Z",
     "start_time": "2023-11-15T14:08:58.030760900Z"
    }
   },
   "id": "a8c9b9e9c7182fb5"
  },
  {
   "cell_type": "code",
   "execution_count": 50,
   "outputs": [
    {
     "name": "stdout",
     "output_type": "stream",
     "text": [
      "> [12] records in this chunk\n",
      "> [12] records in this chunk\n",
      "> [12] records in this chunk\n",
      "> [12] records in this chunk\n",
      "> [12] records in this chunk\n",
      "> [12] records in this chunk\n",
      "> [12] records in this chunk\n",
      "> [12] records in this chunk\n",
      "> [12] records in this chunk\n",
      "> [12] records in this chunk\n",
      "> [12] records in this chunk\n",
      "> [12] records in this chunk\n",
      "> [12] records in this chunk\n",
      "> [12] records in this chunk\n",
      "> [12] records in this chunk\n",
      "> [12] records in this chunk\n",
      "> [12] records in this chunk\n",
      "> [12] records in this chunk\n",
      "> [12] records in this chunk\n",
      "> [12] records in this chunk\n",
      "> [12] records in this chunk\n",
      "> [12] records in this chunk\n",
      "> [12] records in this chunk\n",
      "> [12] records in this chunk\n",
      "> [12] records in this chunk\n",
      "\n",
      "THREADS NEEDED: 25 \n",
      "\n",
      "thread (0) spawned\n",
      "thread (1) spawned\n",
      "thread (2) spawned\n",
      "thread (3) spawned\n",
      "thread (4) spawned\n",
      "thread (5) spawned\n",
      "thread (6) spawned\n",
      "thread (7) spawned\n",
      "thread (8) spawned\n",
      "thread (9) spawned\n",
      "thread (10) spawned\n",
      "thread (11) spawned\n",
      "thread (12) spawned\n",
      "thread (13) spawned\n",
      "thread (14) spawned\n",
      "thread (15) spawned\n",
      "thread (16) spawned\n",
      "thread (17) spawned\n",
      "thread (18) spawned\n",
      "thread (19) spawned\n",
      "thread (20) spawned\n",
      "thread (21) spawned\n",
      "thread (22) spawned\n",
      "thread (23) spawned\n",
      "thread (24) spawned\n",
      "+++++++++ new thread (6) +++++++++\n",
      "+++++++++ new thread (4) +++++++++\n",
      "+++++++++ new thread (0) +++++++++\n",
      "+++++++++ new thread (3) +++++++++\n",
      "+++++++++ new thread (8) +++++++++\n",
      "+++++++++ new thread (1) +++++++++\n",
      "+++++++++ new thread (5) +++++++++\n",
      "+++++++++ new thread (7) +++++++++\n",
      "+++++++++ new thread (2) +++++++++\n",
      "+++++++++ new thread (24) +++++++++\n",
      "+++++++++ new thread (19) +++++++++\n",
      "+++++++++ new thread (11) +++++++++\n",
      "+++++++++ new thread (9) +++++++++\n",
      "+++++++++ new thread (16) +++++++++\n",
      "+++++++++ new thread (12) +++++++++\n",
      "+++++++++ new thread (15) +++++++++\n",
      "+++++++++ new thread (10) +++++++++\n"
     ]
    },
    {
     "name": "stderr",
     "output_type": "stream",
     "text": [
      "Exception in thread Thread-70:\n",
      "Traceback (most recent call last):\n",
      "  File \"C:\\Users\\Thomas.fuller\\AppData\\Local\\Programs\\Python\\Python39\\lib\\threading.py\", line 980, in _bootstrap_inner\n",
      "    self.run()\n",
      "  File \"C:\\Users\\Thomas.fuller\\AppData\\Local\\Programs\\Python\\Python39\\lib\\threading.py\", line 917, in run\n",
      "    self._target(*self._args, **self._kwargs)\n",
      "  File \"C:\\Users\\Thomas.fuller\\NotDrive\\Repos\\netsuite_uploads\\multithread_uploader.py\", line 31, in soap_uploader_thread\n",
      "    response = api.service_proxy.addList(\n",
      "  File \"C:\\Users\\Thomas.fuller\\NotDrive\\VENV\\spellvenv\\lib\\site-packages\\zeep\\proxy.py\", line 46, in __call__\n",
      "    return self._proxy._binding.send(\n",
      "  File \"C:\\Users\\Thomas.fuller\\NotDrive\\VENV\\spellvenv\\lib\\site-packages\\zeep\\wsdl\\bindings\\soap.py\", line 123, in send\n",
      "    envelope, http_headers = self._create(\n",
      "  File \"C:\\Users\\Thomas.fuller\\NotDrive\\VENV\\spellvenv\\lib\\site-packages\\zeep\\wsdl\\bindings\\soap.py\", line 73, in _create\n",
      "    serialized = operation_obj.create(*args, **kwargs)\n",
      "  File \"C:\\Users\\Thomas.fuller\\NotDrive\\VENV\\spellvenv\\lib\\site-packages\\zeep\\wsdl\\definitions.py\", line 224, in create\n",
      "    return self.input.serialize(*args, **kwargs)\n",
      "  File \"C:\\Users\\Thomas.fuller\\NotDrive\\VENV\\spellvenv\\lib\\site-packages\\zeep\\wsdl\\messages\\soap.py\", line 79, in serialize\n",
      "    self.body.render(body, body_value)\n",
      "  File \"C:\\Users\\Thomas.fuller\\NotDrive\\VENV\\spellvenv\\lib\\site-packages\\zeep\\xsd\\elements\\element.py\", line 232, in render\n",
      "    self._render_value_item(parent, value, render_path)\n",
      "  File \"C:\\Users\\Thomas.fuller\\NotDrive\\VENV\\spellvenv\\lib\\site-packages\\zeep\\xsd\\elements\\element.py\", line 256, in _render_value_item\n",
      "    return self.type.render(node, value, None, render_path)\n",
      "  File \"C:\\Users\\Thomas.fuller\\NotDrive\\VENV\\spellvenv\\lib\\site-packages\\zeep\\xsd\\types\\complex.py\", line 307, in render\n",
      "    element.render(node, element_value, child_path)\n",
      "  File \"C:\\Users\\Thomas.fuller\\NotDrive\\VENV\\spellvenv\\lib\\site-packages\\zeep\\xsd\\elements\\indicators.py\", line 256, in render\n",
      "    element.render(parent, element_value, child_path)\n",
      "  File \"C:\\Users\\Thomas.fuller\\NotDrive\\VENV\\spellvenv\\lib\\site-packages\\zeep\\xsd\\elements\\element.py\", line 230, in render\n",
      "    self._render_value_item(parent, val, render_path)\n",
      "  File \"C:\\Users\\Thomas.fuller\\NotDrive\\VENV\\spellvenv\\lib\\site-packages\\zeep\\xsd\\elements\\element.py\", line 255, in _render_value_item\n",
      "    return value._xsd_type.render(node, value, xsd_type, render_path)\n",
      "  File \"C:\\Users\\Thomas.fuller\\NotDrive\\VENV\\spellvenv\\lib\\site-packages\\zeep\\xsd\\types\\complex.py\", line 307, in render\n",
      "    element.render(node, element_value, child_path)\n",
      "  File \"C:\\Users\\Thomas.fuller\\NotDrive\\VENV\\spellvenv\\lib\\site-packages\\zeep\\xsd\\elements\\indicators.py\", line 256, in render\n",
      "    element.render(parent, element_value, child_path)\n",
      "  File \"C:\\Users\\Thomas.fuller\\NotDrive\\VENV\\spellvenv\\lib\\site-packages\\zeep\\xsd\\elements\\element.py\", line 232, in render\n",
      "    self._render_value_item(parent, value, render_path)\n",
      "  File \"C:\\Users\\Thomas.fuller\\NotDrive\\VENV\\spellvenv\\lib\\site-packages\\zeep\\xsd\\elements\\element.py\", line 256, in _render_value_item\n",
      "    return self.type.render(node, value, None, render_path)\n",
      "  File \"C:\\Users\\Thomas.fuller\\NotDrive\\VENV\\spellvenv\\lib\\site-packages\\zeep\\xsd\\types\\complex.py\", line 307, in render\n",
      "    element.render(node, element_value, child_path)\n",
      "  File \"C:\\Users\\Thomas.fuller\\NotDrive\\VENV\\spellvenv\\lib\\site-packages\\zeep\\xsd\\elements\\indicators.py\", line 256, in render\n",
      "    element.render(parent, element_value, child_path)\n",
      "  File \"C:\\Users\\Thomas.fuller\\NotDrive\\VENV\\spellvenv\\lib\\site-packages\\zeep\\xsd\\elements\\element.py\", line 230, in render\n",
      "    self._render_value_item(parent, val, render_path)\n",
      "  File \"C:\\Users\\Thomas.fuller\\NotDrive\\VENV\\spellvenv\\lib\\site-packages\\zeep\\xsd\\elements\\element.py\", line 255, in _render_value_item\n",
      "    return value._xsd_type.render(node, value, xsd_type, render_path)\n",
      "  File \"C:\\Users\\Thomas.fuller\\NotDrive\\VENV\\spellvenv\\lib\\site-packages\\zeep\\xsd\\types\\complex.py\", line 307, in render\n",
      "    element.render(node, element_value, child_path)\n",
      "  File \"C:\\Users\\Thomas.fuller\\NotDrive\\VENV\\spellvenv\\lib\\site-packages\\zeep\\xsd\\elements\\indicators.py\", line 256, in render\n",
      "    element.render(parent, element_value, child_path)\n",
      "  File \"C:\\Users\\Thomas.fuller\\NotDrive\\VENV\\spellvenv\\lib\\site-packages\\zeep\\xsd\\elements\\element.py\", line 232, in render\n",
      "    self._render_value_item(parent, value, render_path)\n",
      "  File \"C:\\Users\\Thomas.fuller\\NotDrive\\VENV\\spellvenv\\lib\\site-packages\\zeep\\xsd\\elements\\element.py\", line 256, in _render_value_item\n",
      "    return self.type.render(node, value, None, render_path)\n",
      "  File \"C:\\Users\\Thomas.fuller\\NotDrive\\VENV\\spellvenv\\lib\\site-packages\\zeep\\xsd\\types\\simple.py\", line 96, in render\n",
      "    node.text = value if isinstance(value, etree.CDATA) else self.xmlvalue(value)\n",
      "  File \"C:\\Users\\Thomas.fuller\\NotDrive\\VENV\\spellvenv\\lib\\site-packages\\zeep\\xsd\\types\\builtins.py\", line 32, in _wrapper\n",
      "    return func(self, value)\n",
      "  File \"C:\\Users\\Thomas.fuller\\NotDrive\\VENV\\spellvenv\\lib\\site-packages\\zeep\\xsd\\types\\builtins.py\", line 168, in xmlvalue\n",
      "    return isodate.isostrf.strftime(value, \"%Y-%m-%dT%H:%M:%S.%f%Z\")\n",
      "  File \"C:\\Users\\Thomas.fuller\\NotDrive\\VENV\\spellvenv\\lib\\site-packages\\isodate\\isostrf.py\", line 214, in strftime\n",
      "    return _strfdt(tdt, format, yeardigits)\n",
      "  File \"C:\\Users\\Thomas.fuller\\NotDrive\\VENV\\spellvenv\\lib\\site-packages\\isodate\\isostrf.py\", line 184, in _strfdt\n",
      "    return re.sub('%d|%f|%H|%j|%m|%M|%S|%w|%W|%Y|%C|%z|%Z|%h|%%', repl,\n",
      "  File \"C:\\Users\\Thomas.fuller\\AppData\\Local\\Programs\\Python\\Python39\\lib\\re.py\", line 210, in sub\n",
      "    return _compile(pattern, flags).sub(repl, string, count)\n",
      "  File \"C:\\Users\\Thomas.fuller\\NotDrive\\VENV\\spellvenv\\lib\\site-packages\\isodate\\isostrf.py\", line 182, in repl\n",
      "    return STRF_DT_MAP[match.group(0)](tdt, yeardigits)\n",
      "  File \"C:\\Users\\Thomas.fuller\\NotDrive\\VENV\\spellvenv\\lib\\site-packages\\isodate\\isostrf.py\", line 99, in <lambda>\n",
      "    (('%%0%dd' % yds) % tdt.year),\n",
      "ValueError: cannot convert float NaN to integer\n"
     ]
    },
    {
     "name": "stdout",
     "output_type": "stream",
     "text": [
      "+++++++++ new thread (20) +++++++++\n",
      "+++++++++ new thread (14) +++++++++\n",
      "+++++++++ new thread (21) +++++++++\n",
      "+++++++++ new thread (18) +++++++++\n",
      "+++++++++ new thread (17) +++++++++\n",
      "+++++++++ new thread (13) +++++++++\n",
      "+++++++++ new thread (22) +++++++++\n",
      "+++++++++ new thread (23) +++++++++\n",
      "# thread (1) total [12] records [12]  success [0] failure [12]\n",
      "0:00:17.011729\n",
      "+++++++++ thread completed (1) +++++++++\n",
      "==========================================\n",
      "# thread (24) total [24] records [12]  success [0] failure [12]\n",
      "0:00:19.783399\n",
      "+++++++++ thread completed (24) +++++++++\n",
      "==========================================\n",
      "# thread (13) total [36] records [12]  success [1] failure [11]\n",
      "0:00:21.928489\n",
      "+++++++++ thread completed (13) +++++++++\n",
      "==========================================\n",
      "# thread (5) total [48] records [12]  success [1] failure [11]\n",
      "0:00:22.196525\n",
      "+++++++++ thread completed (5) +++++++++\n",
      "==========================================\n",
      "# thread (8) total [60] records [12]  success [2] failure [10]\n",
      "0:00:23.148599\n",
      "+++++++++ thread completed (8) +++++++++\n",
      "==========================================\n",
      "# thread (2) total [72] records [12]  success [2] failure [10]\n",
      "0:00:23.297674\n",
      "+++++++++ thread completed (2) +++++++++\n",
      "==========================================\n",
      "# thread (14) total [84] records [12]  success [2] failure [10]\n",
      "0:00:24.662711\n",
      "+++++++++ thread completed (14) +++++++++\n",
      "==========================================\n",
      "# thread (17) total [96] records [12]  success [3] failure [9]\n",
      "0:00:25.748871\n",
      "+++++++++ thread completed (17) +++++++++\n",
      "==========================================\n",
      "# thread (0) total [108] records [12]  success [3] failure [9]\n",
      "0:00:26.156859\n",
      "+++++++++ thread completed (0) +++++++++\n",
      "==========================================\n",
      "# thread (4) total [120] records [12]  success [4] failure [8]\n",
      "0:00:28.410402\n",
      "+++++++++ thread completed (4) +++++++++\n",
      "==========================================\n",
      "[\u001B[34m2023-11-15 15:23:37,800\u001B[0m] {\u001B[34mconnectionpool.py:\u001B[0m330} WARNING\u001B[0m - Connection pool is full, discarding connection: 1026328-sb1.suitetalk.api.netsuite.com. Connection pool size: 10\u001B[0m\n",
      "# thread (22) total [132] records [12]  success [4] failure [8]\n",
      "0:00:28.807081\n",
      "+++++++++ thread completed (22) +++++++++\n",
      "==========================================\n",
      "[\u001B[34m2023-11-15 15:23:38,480\u001B[0m] {\u001B[34mconnectionpool.py:\u001B[0m330} WARNING\u001B[0m - Connection pool is full, discarding connection: 1026328-sb1.suitetalk.api.netsuite.com. Connection pool size: 10\u001B[0m\n",
      "# thread (19) total [144] records [12]  success [4] failure [8]\n",
      "0:00:29.487083\n",
      "+++++++++ thread completed (19) +++++++++\n",
      "==========================================\n",
      "[\u001B[34m2023-11-15 15:23:39,735\u001B[0m] {\u001B[34mconnectionpool.py:\u001B[0m330} WARNING\u001B[0m - Connection pool is full, discarding connection: 1026328-sb1.suitetalk.api.netsuite.com. Connection pool size: 10\u001B[0m\n",
      "[\u001B[34m2023-11-15 15:23:39,752\u001B[0m] {\u001B[34mconnectionpool.py:\u001B[0m330} WARNING\u001B[0m - Connection pool is full, discarding connection: 1026328-sb1.suitetalk.api.netsuite.com. Connection pool size: 10\u001B[0m\n",
      "# thread (6) total [156] records [12]  success [5] failure [7]\n",
      "0:00:30.760787\n",
      "+++++++++ thread completed (6) +++++++++\n",
      "==========================================\n",
      "# thread (3) total [168] records [12]  success [5] failure [7]\n",
      "0:00:30.766811\n",
      "+++++++++ thread completed (3) +++++++++\n",
      "==========================================\n",
      "[\u001B[34m2023-11-15 15:23:41,742\u001B[0m] {\u001B[34mconnectionpool.py:\u001B[0m330} WARNING\u001B[0m - Connection pool is full, discarding connection: 1026328-sb1.suitetalk.api.netsuite.com. Connection pool size: 10\u001B[0m\n",
      "# thread (7) total [180] records [12]  success [6] failure [6]\n",
      "0:00:32.747833\n",
      "+++++++++ thread completed (7) +++++++++\n",
      "==========================================\n",
      "[\u001B[34m2023-11-15 15:23:44,526\u001B[0m] {\u001B[34mconnectionpool.py:\u001B[0m330} WARNING\u001B[0m - Connection pool is full, discarding connection: 1026328-sb1.suitetalk.api.netsuite.com. Connection pool size: 10\u001B[0m\n",
      "# thread (9) total [192] records [12]  success [7] failure [5]\n",
      "0:00:35.532200\n",
      "+++++++++ thread completed (9) +++++++++\n",
      "==========================================\n",
      "[\u001B[34m2023-11-15 15:23:47,232\u001B[0m] {\u001B[34mconnectionpool.py:\u001B[0m330} WARNING\u001B[0m - Connection pool is full, discarding connection: 1026328-sb1.suitetalk.api.netsuite.com. Connection pool size: 10\u001B[0m\n",
      "# thread (12) total [204] records [12]  success [9] failure [3]\n",
      "0:00:38.238545\n",
      "+++++++++ thread completed (12) +++++++++\n",
      "==========================================\n",
      "[\u001B[34m2023-11-15 15:23:47,522\u001B[0m] {\u001B[34mconnectionpool.py:\u001B[0m330} WARNING\u001B[0m - Connection pool is full, discarding connection: 1026328-sb1.suitetalk.api.netsuite.com. Connection pool size: 10\u001B[0m\n",
      "# thread (15) total [216] records [12]  success [8] failure [4]\n",
      "0:00:38.529614\n",
      "+++++++++ thread completed (15) +++++++++\n",
      "==========================================\n",
      "[\u001B[34m2023-11-15 15:23:47,793\u001B[0m] {\u001B[34mconnectionpool.py:\u001B[0m330} WARNING\u001B[0m - Connection pool is full, discarding connection: 1026328-sb1.suitetalk.api.netsuite.com. Connection pool size: 10\u001B[0m\n",
      "# thread (16) total [228] records [12]  success [9] failure [3]\n",
      "0:00:38.800617\n",
      "+++++++++ thread completed (16) +++++++++\n",
      "==========================================\n",
      "[\u001B[34m2023-11-15 15:23:48,243\u001B[0m] {\u001B[34mconnectionpool.py:\u001B[0m330} WARNING\u001B[0m - Connection pool is full, discarding connection: 1026328-sb1.suitetalk.api.netsuite.com. Connection pool size: 10\u001B[0m\n",
      "# thread (20) total [240] records [12]  success [9] failure [3]\n",
      "0:00:39.248685\n",
      "+++++++++ thread completed (20) +++++++++\n",
      "==========================================\n",
      "[\u001B[34m2023-11-15 15:23:48,490\u001B[0m] {\u001B[34mconnectionpool.py:\u001B[0m330} WARNING\u001B[0m - Connection pool is full, discarding connection: 1026328-sb1.suitetalk.api.netsuite.com. Connection pool size: 10\u001B[0m\n",
      "# thread (11) total [252] records [12]  success [9] failure [3]\n",
      "0:00:39.498658\n",
      "+++++++++ thread completed (11) +++++++++\n",
      "==========================================\n",
      "[\u001B[34m2023-11-15 15:23:49,937\u001B[0m] {\u001B[34mconnectionpool.py:\u001B[0m330} WARNING\u001B[0m - Connection pool is full, discarding connection: 1026328-sb1.suitetalk.api.netsuite.com. Connection pool size: 10\u001B[0m\n",
      "# thread (18) total [264] records [12]  success [10] failure [2]\n",
      "0:00:40.944817\n",
      "+++++++++ thread completed (18) +++++++++\n",
      "==========================================\n",
      "[\u001B[34m2023-11-15 15:23:50,652\u001B[0m] {\u001B[34mconnectionpool.py:\u001B[0m330} WARNING\u001B[0m - Connection pool is full, discarding connection: 1026328-sb1.suitetalk.api.netsuite.com. Connection pool size: 10\u001B[0m\n",
      "# thread (21) total [276] records [12]  success [10] failure [2]\n",
      "0:00:41.657930\n",
      "+++++++++ thread completed (21) +++++++++\n",
      "==========================================\n",
      "[\u001B[34m2023-11-15 15:23:52,033\u001B[0m] {\u001B[34mconnectionpool.py:\u001B[0m330} WARNING\u001B[0m - Connection pool is full, discarding connection: 1026328-sb1.suitetalk.api.netsuite.com. Connection pool size: 10\u001B[0m\n",
      "# thread (10) total [288] records [12]  success [11] failure [1]\n",
      "0:00:43.050289\n",
      "+++++++++ thread completed (10) +++++++++\n",
      "==========================================\n"
     ]
    }
   ],
   "source": [
    "pos = [PurchaseOrder(\n",
    "    #internalId=108933,\n",
    "    customForm=RecordRef(internalId=235),\n",
    "    entity=RecordRef(internalId=int(random.choice(list(vendor_map.values())))),#p.Supplier_No),\n",
    "    location=RecordRef(internalId=2039),#p.GI_Branch_No),\n",
    "    subsidiary = RecordRef(internalId=2),\n",
    "    tranDate=p.PO_Date,\n",
    "    orderStatus=PurchaseOrderOrderStatus(\"_closed\"),\n",
    "    #dueDate=p.Arrival_Date_To,\n",
    "    itemList=PurchaseOrderItemList(\n",
    "        item = [\n",
    "            PurchaseOrderItem(\n",
    "                item=RecordRef(externalId=p.Ref_No),\n",
    "                quantity=p.Qty_Ordered,\n",
    "                quantityAvailable=p.Qty_Outstanding,\n",
    "                quantityBilled=p.Qty_Invoiced,\n",
    "                grossAmt=p.Unit_Price,\n",
    "            )\n",
    "        ]\n",
    "    ),\n",
    "    customFieldList =CustomFieldList(\n",
    "        customField=[\n",
    "            SelectCustomFieldRef(\n",
    "                scriptId=\"custbody_ob_transport_type\",\n",
    "                value=ListOrRecordRef(\n",
    "                    internalId=1,\n",
    "                )\n",
    "            ),\n",
    "            DateCustomFieldRef(\n",
    "                scriptId=\"custbody_ob_exvessel_date\",\n",
    "                value=p.Arrival_Date_From\n",
    "            ),\n",
    "            \n",
    "            StringCustomFieldRef(\n",
    "                scriptId=\"custbody_ob_qc_comments\",\n",
    "                value=p.PO_Comment_2\n",
    "            )\n",
    "        ]\n",
    "    ),\n",
    "    memo=p.PO_Comment_1,\n",
    "    \n",
    ")\n",
    "for idx, p in hundred.iterrows()]\n",
    "upload_all_these_records(pos, api, \"addList\")"
   ],
   "metadata": {
    "collapsed": false,
    "ExecuteTime": {
     "end_time": "2023-11-15T15:23:52.086626600Z",
     "start_time": "2023-11-15T15:23:08.877274600Z"
    }
   },
   "id": "477652c77929439c"
  },
  {
   "cell_type": "code",
   "execution_count": 21,
   "outputs": [
    {
     "name": "stdout",
     "output_type": "stream",
     "text": [
      "> [1] records in this chunk\n",
      "\n",
      "THREADS NEEDED: 1 \n",
      "\n",
      "thread (0) spawned\n",
      "+++++++++ new thread (0) +++++++++\n",
      "# thread (0) total [1] records [1]  success [1] failure [0]\n",
      "0:00:09.108183\n",
      "+++++++++ thread completed (0) +++++++++\n",
      "==========================================\n"
     ]
    }
   ],
   "source": [],
   "metadata": {
    "collapsed": false,
    "ExecuteTime": {
     "end_time": "2023-11-15T14:20:52.054234800Z",
     "start_time": "2023-11-15T14:20:42.929051Z"
    }
   },
   "id": "d5bccb4d19168274"
  }
 ],
 "metadata": {
  "kernelspec": {
   "display_name": "Python 3",
   "language": "python",
   "name": "python3"
  },
  "language_info": {
   "codemirror_mode": {
    "name": "ipython",
    "version": 2
   },
   "file_extension": ".py",
   "mimetype": "text/x-python",
   "name": "python",
   "nbconvert_exporter": "python",
   "pygments_lexer": "ipython2",
   "version": "2.7.6"
  }
 },
 "nbformat": 4,
 "nbformat_minor": 5
}
