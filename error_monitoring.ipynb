{
 "cells": [
  {
   "cell_type": "code",
   "execution_count": null,
   "id": "initial_id",
   "metadata": {
    "collapsed": true
   },
   "outputs": [],
   "source": [
    "import pandas\n",
    "import os"
   ]
  },
  {
   "cell_type": "markdown",
   "source": [
    "# transactions"
   ],
   "metadata": {
    "collapsed": false
   },
   "id": "7d51353ef623c7f1"
  },
  {
   "cell_type": "code",
   "execution_count": null,
   "outputs": [],
   "source": [
    "# delete all files in the thread_logs folder\n",
    "for filename in os.listdir(\"transaction_uploader/thread_logs\"):\n",
    "    os.remove(\"transaction_uploader/thread_logs/\" + filename)"
   ],
   "metadata": {
    "collapsed": false
   },
   "id": "a0eaf1fec93f7328"
  },
  {
   "cell_type": "code",
   "execution_count": null,
   "outputs": [],
   "source": [
    "\n",
    "pandas.concat(\n",
    "    [\n",
    "        pandas.read_csv(\"transaction_uploader/thread_logs/\" + filename)\n",
    "        for filename in os.listdir(\"transaction_uploader/thread_logs\")\n",
    "    ]\n",
    ")"
   ],
   "metadata": {
    "collapsed": false
   },
   "id": "d22b01eaae9c8e7a"
  },
  {
   "cell_type": "markdown",
   "source": [
    "# customers"
   ],
   "metadata": {
    "collapsed": false
   },
   "id": "6d26b3c7abbbde22"
  },
  {
   "cell_type": "code",
   "execution_count": null,
   "outputs": [],
   "source": [
    "# delete all files in the customer_uploader/thread_logs folder\n",
    "for filename in os.listdir(\"customer_uploader/thread_logs\"):\n",
    "    os.remove(\"customer_uploader/thread_logs/\" + filename)"
   ],
   "metadata": {
    "collapsed": false
   },
   "id": "d0f1683587717ba3"
  },
  {
   "cell_type": "code",
   "execution_count": null,
   "outputs": [],
   "source": [
    "pandas.concat(\n",
    "    [\n",
    "        pandas.read_csv(\"customer_uploader/thread_logs/\" + filename)\n",
    "        for filename in os.listdir(\"customer_uploader/thread_logs\")\n",
    "    ]\n",
    ")"
   ],
   "metadata": {
    "collapsed": false
   },
   "id": "c377190323e64bd8"
  },
  {
   "cell_type": "markdown",
   "source": [
    "# products"
   ],
   "metadata": {
    "collapsed": false
   },
   "id": "fa722182ca808361"
  },
  {
   "cell_type": "code",
   "execution_count": null,
   "outputs": [],
   "source": [
    "# delete all files in the thread_logs folder\n",
    "for filename in os.listdir(\"product_uploader/thread_logs\"):\n",
    "    os.remove(\"product_uploader/thread_logs/\" + filename)"
   ],
   "metadata": {
    "collapsed": false
   },
   "id": "68654db6421138ab"
  },
  {
   "cell_type": "code",
   "execution_count": null,
   "outputs": [],
   "source": [
    "pandas.concat(\n",
    "    [\n",
    "        pandas.read_csv(\"product_uploader/thread_logs/\" + filename)\n",
    "        for filename in os.listdir(\"product_uploader/thread_logs\")\n",
    "    ]\n",
    ")"
   ],
   "metadata": {
    "collapsed": false
   },
   "id": "7b208d4c2d5d07a9"
  }
 ],
 "metadata": {
  "kernelspec": {
   "display_name": "Python 3",
   "language": "python",
   "name": "python3"
  },
  "language_info": {
   "codemirror_mode": {
    "name": "ipython",
    "version": 2
   },
   "file_extension": ".py",
   "mimetype": "text/x-python",
   "name": "python",
   "nbconvert_exporter": "python",
   "pygments_lexer": "ipython2",
   "version": "2.7.6"
  }
 },
 "nbformat": 4,
 "nbformat_minor": 5
}
