{
 "cells": [
  {
   "cell_type": "code",
   "execution_count": 2,
   "id": "initial_id",
   "metadata": {
    "collapsed": true,
    "ExecuteTime": {
     "end_time": "2023-11-20T15:30:59.336785200Z",
     "start_time": "2023-11-20T15:30:58.311400800Z"
    }
   },
   "outputs": [],
   "source": [
    "import pandas\n",
    "import os\n"
   ]
  },
  {
   "cell_type": "markdown",
   "source": [
    "# transactions"
   ],
   "metadata": {
    "collapsed": false
   },
   "id": "7d51353ef623c7f1"
  },
  {
   "cell_type": "code",
   "execution_count": null,
   "outputs": [],
   "source": [
    "# delete all files in the thread_logs folder\n",
    "for filename in os.listdir(\"transaction_uploader/thread_logs\"):\n",
    "    os.remove(\"transaction_uploader/thread_logs/\" + filename)"
   ],
   "metadata": {
    "collapsed": false
   },
   "id": "a0eaf1fec93f7328"
  },
  {
   "cell_type": "code",
   "execution_count": null,
   "outputs": [],
   "source": [
    "\n",
    "pandas.concat(\n",
    "    [\n",
    "        pandas.read_csv(\"transaction_uploader/thread_logs/\" + filename)\n",
    "        for filename in os.listdir(\"transaction_uploader/thread_logs\")\n",
    "    ]\n",
    ")"
   ],
   "metadata": {
    "collapsed": false
   },
   "id": "d22b01eaae9c8e7a"
  },
  {
   "cell_type": "markdown",
   "source": [
    "# customers"
   ],
   "metadata": {
    "collapsed": false
   },
   "id": "6d26b3c7abbbde22"
  },
  {
   "cell_type": "code",
   "execution_count": null,
   "outputs": [],
   "source": [
    "# delete all files in the customer_uploader/thread_logs folder\n",
    "for filename in os.listdir(\"customer_uploader/thread_logs\"):\n",
    "    os.remove(\"customer_uploader/thread_logs/\" + filename)"
   ],
   "metadata": {
    "collapsed": false
   },
   "id": "d0f1683587717ba3"
  },
  {
   "cell_type": "code",
   "execution_count": null,
   "outputs": [],
   "source": [
    "pandas.concat(\n",
    "    [\n",
    "        pandas.read_csv(\"customer_uploader/thread_logs/\" + filename)\n",
    "        for filename in os.listdir(\"customer_uploader/thread_logs\")\n",
    "    ]\n",
    ")"
   ],
   "metadata": {
    "collapsed": false
   },
   "id": "c377190323e64bd8"
  },
  {
   "cell_type": "markdown",
   "source": [
    "### legacy"
   ],
   "metadata": {
    "collapsed": false
   },
   "id": "368a6d5fc472f502"
  },
  {
   "cell_type": "code",
   "execution_count": 4,
   "outputs": [
    {
     "name": "stderr",
     "output_type": "stream",
     "text": [
      "C:\\Users\\Thomas.fuller\\NotDrive\\VENV\\spellvenv\\lib\\site-packages\\IPython\\core\\interactiveshell.py:3488: DtypeWarning: Columns (1,62,65) have mixed types.Specify dtype option on import or set low_memory=False.\n",
      "  if await self.run_code(code, result, async_=asy):\n",
      "C:\\Users\\Thomas.fuller\\NotDrive\\VENV\\spellvenv\\lib\\site-packages\\IPython\\core\\interactiveshell.py:3488: DtypeWarning: Columns (1,2,3,62,65) have mixed types.Specify dtype option on import or set low_memory=False.\n",
      "  if await self.run_code(code, result, async_=asy):\n",
      "C:\\Users\\Thomas.fuller\\NotDrive\\VENV\\spellvenv\\lib\\site-packages\\IPython\\core\\interactiveshell.py:3488: DtypeWarning: Columns (1) have mixed types.Specify dtype option on import or set low_memory=False.\n",
      "  if await self.run_code(code, result, async_=asy):\n",
      "C:\\Users\\Thomas.fuller\\NotDrive\\VENV\\spellvenv\\lib\\site-packages\\IPython\\core\\interactiveshell.py:3488: DtypeWarning: Columns (1,2,3) have mixed types.Specify dtype option on import or set low_memory=False.\n",
      "  if await self.run_code(code, result, async_=asy):\n"
     ]
    }
   ],
   "source": [
    "df = pandas.concat(\n",
    "    [\n",
    "        pandas.read_csv(\"customer_uploader/legacy_logs/\" + filename)\n",
    "        for filename in os.listdir(\"customer_uploader/legacy_logs\")\n",
    "    ]\n",
    ")"
   ],
   "metadata": {
    "collapsed": false,
    "ExecuteTime": {
     "end_time": "2023-11-20T15:31:42.614699300Z",
     "start_time": "2023-11-20T15:31:30.454789600Z"
    }
   },
   "id": "d2ccc63dd8b2917"
  },
  {
   "cell_type": "code",
   "execution_count": 7,
   "outputs": [
    {
     "data": {
      "text/plain": "This entity already exists.                                                                                                                                                                                                                                           65163\nThe field state contained more than the maximum number ( 30 ) of characters allowed.                                                                                                                                                                                    143\nThe field firstname contained more than the maximum number ( 32 ) of characters allowed.                                                                                                                                                                                 15\nThe field lastname contained more than the maximum number ( 32 ) of characters allowed.                                                                                                                                                                                   3\nThe field addrphone contained more than the maximum number ( 50 ) of characters allowed.                                                                                                                                                                                  1\nThe field zip contained more than the maximum number ( 36 ) of characters allowed.                                                                                                                                                                                        1\nThe field city contained more than the maximum number ( 50 ) of characters allowed.                                                                                                                                                                                       1\nA customer record with this ID already exists. You must enter a unique customer ID for each record you create. To correct this record, click <a href='javascript:history.go(-1);';>back</a> and enter a new customer ID in the Customer field. Then, click Submit.        1\nPlease enter value(s) for: Last Name                                                                                                                                                                                                                                      1\nPlease enter value(s) for: First Name                                                                                                                                                                                                                                     1\nName: message, dtype: int64"
     },
     "execution_count": 7,
     "metadata": {},
     "output_type": "execute_result"
    }
   ],
   "source": [
    "df.message.value_counts()"
   ],
   "metadata": {
    "collapsed": false,
    "ExecuteTime": {
     "end_time": "2023-11-20T15:32:11.061392500Z",
     "start_time": "2023-11-20T15:32:10.975848200Z"
    }
   },
   "id": "c4f1a4041dba3efa"
  },
  {
   "cell_type": "markdown",
   "source": [
    "# products"
   ],
   "metadata": {
    "collapsed": false
   },
   "id": "fa722182ca808361"
  },
  {
   "cell_type": "code",
   "execution_count": null,
   "outputs": [],
   "source": [
    "# delete all files in the thread_logs folder\n",
    "for filename in os.listdir(\"product_uploader/thread_logs\"):\n",
    "    os.remove(\"product_uploader/thread_logs/\" + filename)"
   ],
   "metadata": {
    "collapsed": false
   },
   "id": "68654db6421138ab"
  },
  {
   "cell_type": "code",
   "execution_count": null,
   "outputs": [],
   "source": [
    "pandas.concat(\n",
    "    [\n",
    "        pandas.read_csv(\"product_uploader/thread_logs/\" + filename)\n",
    "        for filename in os.listdir(\"product_uploader/thread_logs\")\n",
    "    ]\n",
    ")"
   ],
   "metadata": {
    "collapsed": false
   },
   "id": "7b208d4c2d5d07a9"
  },
  {
   "cell_type": "markdown",
   "source": [
    "# employee"
   ],
   "metadata": {
    "collapsed": false
   },
   "id": "fbc452c04eb7cb1"
  },
  {
   "cell_type": "code",
   "execution_count": null,
   "outputs": [],
   "source": [
    "for filename in os.listdir(\"employee_uploader/thread_logs\"):\n",
    "    os.remove(\"employee_uploader/thread_logs/\" + filename)"
   ],
   "metadata": {
    "collapsed": false
   },
   "id": "8ba02d5f0cc14fc7"
  },
  {
   "cell_type": "code",
   "execution_count": null,
   "outputs": [],
   "source": [
    "pandas.concat(\n",
    "    [\n",
    "        pandas.read_csv(\"employee_uploader/thread_logs/\" + filename)\n",
    "        for filename in os.listdir(\"employee_uploader/thread_logs\")\n",
    "    ]\n",
    ")"
   ],
   "metadata": {
    "collapsed": false
   },
   "id": "a38c96278c4e835d"
  },
  {
   "cell_type": "markdown",
   "source": [
    "# purchase order"
   ],
   "metadata": {
    "collapsed": false
   },
   "id": "b856c1a09231eac1"
  },
  {
   "cell_type": "code",
   "execution_count": null,
   "outputs": [],
   "source": [
    "for filename in os.listdir(\"purchase_order_uploader/thread_logs\"):\n",
    "    os.remove(\"purchase_order_uploader/thread_logs/\" + filename)"
   ],
   "metadata": {
    "collapsed": false
   },
   "id": "cd81e21cf3d0df6c"
  },
  {
   "cell_type": "code",
   "execution_count": null,
   "outputs": [],
   "source": [
    "pandas.concat(\n",
    "    [\n",
    "        pandas.read_csv(\"purchase_order_uploader/thread_logs/\" + filename)\n",
    "        for filename in os.listdir(\"purchase_order_uploader/thread_logs\")\n",
    "    ]\n",
    ")"
   ],
   "metadata": {
    "collapsed": false
   },
   "id": "8600c9bd464e389d"
  },
  {
   "cell_type": "markdown",
   "source": [
    "# hierarchy nodes"
   ],
   "metadata": {
    "collapsed": false
   },
   "id": "1bf5e8e1f686c8d4"
  },
  {
   "cell_type": "code",
   "execution_count": null,
   "outputs": [],
   "source": [
    "for filename in os.listdir(\"merch_heirarchy/thread_logs\"):\n",
    "    os.remove(\"merch_heirarchy/thread_logs/\" + filename)"
   ],
   "metadata": {
    "collapsed": false
   },
   "id": "ad5507d7d2cb7d02"
  },
  {
   "cell_type": "code",
   "execution_count": null,
   "outputs": [],
   "source": [
    "pandas.concat(\n",
    "    [\n",
    "        pandas.read_csv(\"merch_heirarchy/thread_logs/\" + filename)\n",
    "        for filename in os.listdir(\"merch_heirarchy/thread_logs\")\n",
    "    ]\n",
    ")"
   ],
   "metadata": {
    "collapsed": false
   },
   "id": "eebdf0ca0517f389"
  }
 ],
 "metadata": {
  "kernelspec": {
   "display_name": "Python 3",
   "language": "python",
   "name": "python3"
  },
  "language_info": {
   "codemirror_mode": {
    "name": "ipython",
    "version": 2
   },
   "file_extension": ".py",
   "mimetype": "text/x-python",
   "name": "python",
   "nbconvert_exporter": "python",
   "pygments_lexer": "ipython2",
   "version": "2.7.6"
  }
 },
 "nbformat": 4,
 "nbformat_minor": 5
}
