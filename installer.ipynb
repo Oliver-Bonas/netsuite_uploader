{
 "cells": [
  {
   "cell_type": "code",
   "execution_count": 1,
   "id": "initial_id",
   "metadata": {
    "collapsed": true,
    "ExecuteTime": {
     "end_time": "2023-11-14T10:58:58.630292700Z",
     "start_time": "2023-11-14T10:58:53.506835400Z"
    }
   },
   "outputs": [
    {
     "name": "stdout",
     "output_type": "stream",
     "text": [
      "Collecting gcsfs\n",
      "  Downloading gcsfs-2023.10.0-py2.py3-none-any.whl (33 kB)\n",
      "Collecting aiohttp!=4.0.0a0,!=4.0.0a1\n",
      "  Using cached aiohttp-3.8.6-cp39-cp39-win_amd64.whl (329 kB)\n",
      "Requirement already satisfied: google-auth>=1.2 in c:\\users\\thomas.fuller\\appdata\\local\\programs\\python\\python39\\lib\\site-packages (from gcsfs->-r additional_requirements.txt (line 1)) (2.22.0)\n",
      "Collecting google-cloud-storage\n",
      "  Using cached google_cloud_storage-2.13.0-py2.py3-none-any.whl (121 kB)\n",
      "Collecting fsspec==2023.10.0\n",
      "  Downloading fsspec-2023.10.0-py3-none-any.whl (166 kB)\n",
      "     -------------------------------------- 166.4/166.4 KB 5.0 MB/s eta 0:00:00\n",
      "Requirement already satisfied: decorator>4.1.2 in c:\\users\\thomas.fuller\\appdata\\roaming\\python\\python39\\site-packages (from gcsfs->-r additional_requirements.txt (line 1)) (5.1.1)\n",
      "Requirement already satisfied: requests in c:\\users\\thomas.fuller\\appdata\\local\\programs\\python\\python39\\lib\\site-packages (from gcsfs->-r additional_requirements.txt (line 1)) (2.31.0)\n",
      "Requirement already satisfied: google-auth-oauthlib in c:\\users\\thomas.fuller\\appdata\\local\\programs\\python\\python39\\lib\\site-packages (from gcsfs->-r additional_requirements.txt (line 1)) (1.0.0)\n",
      "Collecting async-timeout<5.0,>=4.0.0a3\n",
      "  Using cached async_timeout-4.0.3-py3-none-any.whl (5.7 kB)\n",
      "Collecting aiosignal>=1.1.2\n",
      "  Using cached aiosignal-1.3.1-py3-none-any.whl (7.6 kB)\n",
      "Collecting frozenlist>=1.1.1\n",
      "  Using cached frozenlist-1.4.0-cp39-cp39-win_amd64.whl (44 kB)\n",
      "Collecting multidict<7.0,>=4.5\n",
      "  Using cached multidict-6.0.4-cp39-cp39-win_amd64.whl (28 kB)\n",
      "Collecting yarl<2.0,>=1.0\n",
      "  Using cached yarl-1.9.2-cp39-cp39-win_amd64.whl (61 kB)\n",
      "Requirement already satisfied: attrs>=17.3.0 in c:\\users\\thomas.fuller\\appdata\\local\\programs\\python\\python39\\lib\\site-packages (from aiohttp!=4.0.0a0,!=4.0.0a1->gcsfs->-r additional_requirements.txt (line 1)) (23.1.0)\n",
      "Requirement already satisfied: charset-normalizer<4.0,>=2.0 in c:\\users\\thomas.fuller\\appdata\\local\\programs\\python\\python39\\lib\\site-packages (from aiohttp!=4.0.0a0,!=4.0.0a1->gcsfs->-r additional_requirements.txt (line 1)) (3.2.0)\n",
      "Requirement already satisfied: cachetools<6.0,>=2.0.0 in c:\\users\\thomas.fuller\\appdata\\local\\programs\\python\\python39\\lib\\site-packages (from google-auth>=1.2->gcsfs->-r additional_requirements.txt (line 1)) (5.3.1)\n",
      "Requirement already satisfied: six>=1.9.0 in c:\\users\\thomas.fuller\\appdata\\roaming\\python\\python39\\site-packages (from google-auth>=1.2->gcsfs->-r additional_requirements.txt (line 1)) (1.16.0)\n",
      "Requirement already satisfied: rsa<5,>=3.1.4 in c:\\users\\thomas.fuller\\appdata\\local\\programs\\python\\python39\\lib\\site-packages (from google-auth>=1.2->gcsfs->-r additional_requirements.txt (line 1)) (4.9)\n",
      "Requirement already satisfied: pyasn1-modules>=0.2.1 in c:\\users\\thomas.fuller\\appdata\\local\\programs\\python\\python39\\lib\\site-packages (from google-auth>=1.2->gcsfs->-r additional_requirements.txt (line 1)) (0.3.0)\n",
      "Requirement already satisfied: urllib3<2.0 in c:\\users\\thomas.fuller\\appdata\\local\\programs\\python\\python39\\lib\\site-packages (from google-auth>=1.2->gcsfs->-r additional_requirements.txt (line 1)) (1.26.16)\n",
      "Requirement already satisfied: requests-oauthlib>=0.7.0 in c:\\users\\thomas.fuller\\appdata\\local\\programs\\python\\python39\\lib\\site-packages (from google-auth-oauthlib->gcsfs->-r additional_requirements.txt (line 1)) (1.3.1)\n",
      "Collecting google-resumable-media>=2.6.0\n",
      "  Using cached google_resumable_media-2.6.0-py2.py3-none-any.whl (80 kB)\n",
      "Requirement already satisfied: google-cloud-core<3.0dev,>=2.3.0 in c:\\users\\thomas.fuller\\appdata\\local\\programs\\python\\python39\\lib\\site-packages (from google-cloud-storage->gcsfs->-r additional_requirements.txt (line 1)) (2.3.3)\n",
      "Requirement already satisfied: google-crc32c<2.0dev,>=1.0 in c:\\users\\thomas.fuller\\appdata\\local\\programs\\python\\python39\\lib\\site-packages (from google-cloud-storage->gcsfs->-r additional_requirements.txt (line 1)) (1.5.0)\n",
      "Collecting google-auth>=1.2\n",
      "  Using cached google_auth-2.23.4-py2.py3-none-any.whl (183 kB)\n",
      "Requirement already satisfied: google-api-core!=2.0.*,!=2.1.*,!=2.2.*,!=2.3.0,<3.0.0dev,>=1.31.5 in c:\\users\\thomas.fuller\\appdata\\local\\programs\\python\\python39\\lib\\site-packages (from google-cloud-storage->gcsfs->-r additional_requirements.txt (line 1)) (2.11.1)\n",
      "Requirement already satisfied: idna<4,>=2.5 in c:\\users\\thomas.fuller\\appdata\\local\\programs\\python\\python39\\lib\\site-packages (from requests->gcsfs->-r additional_requirements.txt (line 1)) (3.4)\n",
      "Requirement already satisfied: certifi>=2017.4.17 in c:\\users\\thomas.fuller\\appdata\\local\\programs\\python\\python39\\lib\\site-packages (from requests->gcsfs->-r additional_requirements.txt (line 1)) (2023.5.7)\n",
      "Requirement already satisfied: googleapis-common-protos<2.0.dev0,>=1.56.2 in c:\\users\\thomas.fuller\\appdata\\local\\programs\\python\\python39\\lib\\site-packages (from google-api-core!=2.0.*,!=2.1.*,!=2.2.*,!=2.3.0,<3.0.0dev,>=1.31.5->google-cloud-storage->gcsfs->-r additional_requirements.txt (line 1)) (1.59.1)\n",
      "Requirement already satisfied: protobuf!=3.20.0,!=3.20.1,!=4.21.0,!=4.21.1,!=4.21.2,!=4.21.3,!=4.21.4,!=4.21.5,<5.0.0.dev0,>=3.19.5 in c:\\users\\thomas.fuller\\appdata\\local\\programs\\python\\python39\\lib\\site-packages (from google-api-core!=2.0.*,!=2.1.*,!=2.2.*,!=2.3.0,<3.0.0dev,>=1.31.5->google-cloud-storage->gcsfs->-r additional_requirements.txt (line 1)) (4.23.4)\n",
      "Requirement already satisfied: pyasn1<0.6.0,>=0.4.6 in c:\\users\\thomas.fuller\\appdata\\local\\programs\\python\\python39\\lib\\site-packages (from pyasn1-modules>=0.2.1->google-auth>=1.2->gcsfs->-r additional_requirements.txt (line 1)) (0.5.0)\n",
      "Requirement already satisfied: oauthlib>=3.0.0 in c:\\users\\thomas.fuller\\appdata\\local\\programs\\python\\python39\\lib\\site-packages (from requests-oauthlib>=0.7.0->google-auth-oauthlib->gcsfs->-r additional_requirements.txt (line 1)) (3.2.2)\n",
      "Installing collected packages: multidict, google-resumable-media, fsspec, frozenlist, async-timeout, yarl, google-auth, aiosignal, aiohttp, google-cloud-storage, gcsfs\n",
      "  Attempting uninstall: google-resumable-media\n",
      "    Found existing installation: google-resumable-media 2.5.0\n",
      "    Uninstalling google-resumable-media-2.5.0:\n",
      "      Successfully uninstalled google-resumable-media-2.5.0\n",
      "  Attempting uninstall: google-auth\n",
      "    Found existing installation: google-auth 2.22.0\n",
      "    Uninstalling google-auth-2.22.0:\n",
      "      Successfully uninstalled google-auth-2.22.0\n",
      "Successfully installed aiohttp-3.8.6 aiosignal-1.3.1 async-timeout-4.0.3 frozenlist-1.4.0 fsspec-2023.10.0 gcsfs-2023.10.0 google-auth-2.23.4 google-cloud-storage-2.13.0 google-resumable-media-2.6.0 multidict-6.0.4 yarl-1.9.2\n"
     ]
    },
    {
     "name": "stderr",
     "output_type": "stream",
     "text": [
      "WARNING: You are using pip version 22.0.4; however, version 23.3.1 is available.\n",
      "You should consider upgrading via the 'C:\\Users\\Thomas.fuller\\AppData\\Local\\Programs\\Python\\Python39\\python.exe -m pip install --upgrade pip' command.\n"
     ]
    }
   ],
   "source": [
    "!pip install -r additional_requirements.txt"
   ]
  }
 ],
 "metadata": {
  "kernelspec": {
   "display_name": "Python 3",
   "language": "python",
   "name": "python3"
  },
  "language_info": {
   "codemirror_mode": {
    "name": "ipython",
    "version": 2
   },
   "file_extension": ".py",
   "mimetype": "text/x-python",
   "name": "python",
   "nbconvert_exporter": "python",
   "pygments_lexer": "ipython2",
   "version": "2.7.6"
  }
 },
 "nbformat": 4,
 "nbformat_minor": 5
}
