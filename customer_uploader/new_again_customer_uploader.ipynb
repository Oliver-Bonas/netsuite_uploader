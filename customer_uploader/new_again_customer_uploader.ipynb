{
 "cells": [
  {
   "cell_type": "code",
   "execution_count": null,
   "id": "initial_id",
   "metadata": {
    "collapsed": true
   },
   "outputs": [],
   "source": [
    "from util.api_and_repo_link import link_me_up\n",
    "link_me_up()\n",
    "from config.environment import ENVIRONMENT\n",
    "ENVIRONMENT.set_development()"
   ]
  },
  {
   "cell_type": "code",
   "execution_count": null,
   "outputs": [],
   "source": [
    "# old stuff i wrote when i joind OB"
   ],
   "metadata": {
    "collapsed": false
   },
   "id": "30cdd03f1baaba72"
  },
  {
   "cell_type": "code",
   "execution_count": null,
   "outputs": [],
   "source": [
    "\n",
    "from MAPPINGS import COUNTRY_VALUE_MAP, STATUS_VALUE_MAP, STATUS_VALUE_MAP_CSV, SUBSIDIARY_VALUE_MAP, SUBSIDIARY_VALUE_MAP_CSV, CURRENCY_VALUE_MAP, COLUMN_MAPPING, COLUMN_MAPPING_ADDRESS_BOOK, COLUMN_MAPPING_ADDRESS\n",
    "\n",
    "import pandas\n",
    "from oliverbonas_source_dags.apis.api_netsuite import APIConfig_netsuite\n",
    "from util.zeep_to_df import complete_zeep_df"
   ],
   "metadata": {
    "collapsed": false
   },
   "id": "40e622acd72f1b63"
  },
  {
   "cell_type": "code",
   "execution_count": null,
   "outputs": [],
   "source": [
    "from multithread_uploader import upload_all_these_records\n",
    "api = APIConfig_netsuite()\n",
    "from util.get_ns_number import get_ns_number"
   ],
   "metadata": {
    "collapsed": false
   },
   "id": "9661435e6d97f6cf"
  }
 ],
 "metadata": {
  "kernelspec": {
   "display_name": "Python 3",
   "language": "python",
   "name": "python3"
  },
  "language_info": {
   "codemirror_mode": {
    "name": "ipython",
    "version": 2
   },
   "file_extension": ".py",
   "mimetype": "text/x-python",
   "name": "python",
   "nbconvert_exporter": "python",
   "pygments_lexer": "ipython2",
   "version": "2.7.6"
  }
 },
 "nbformat": 4,
 "nbformat_minor": 5
}
