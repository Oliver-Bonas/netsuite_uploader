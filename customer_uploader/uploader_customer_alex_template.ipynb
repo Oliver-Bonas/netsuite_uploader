{
 "cells": [
  {
   "cell_type": "code",
   "execution_count": 1,
   "id": "initial_id",
   "metadata": {
    "collapsed": true,
    "ExecuteTime": {
     "end_time": "2023-11-14T11:46:29.080349500Z",
     "start_time": "2023-11-14T11:46:28.980352Z"
    }
   },
   "outputs": [
    {
     "name": "stdout",
     "output_type": "stream",
     "text": [
      "C:\\Users\\Thomas.fuller\\NotDrive\\VENV\\spellvenv\\Scripts\\python.exe\n",
      "C:\\Users\\Thomas.fuller\\NotDrive\\Repos\\airflow_pipelines\\dags\\config\\environment.py\n",
      "~~~~~~~~~~~~~~~~~~~~~~~~~~~~~~~~~~~~~~~~~~~~~~~~~~~~~~~~~~~~\n",
      "C:\\Users\\Thomas.fuller\\NotDrive\\Repos\\airflow_pipelines\\dags\n",
      "~~~~~~~~~~~~~~~~~~~~~~~~~~~~~~~~~~~~~~~~~~~~~~~~~~~~~~~~~~~~\n",
      "now you just need to set_development()\n",
      "C:\\Users\\Thomas.fuller\\NotDrive\\Repos\\airflow_pipelines\\dags\\config\\environment.py\n"
     ]
    }
   ],
   "source": [
    "from util.api_and_repo_link import link_me_up\n",
    "link_me_up()\n",
    "from config.environment import ENVIRONMENT\n",
    "ENVIRONMENT.set_development()"
   ]
  },
  {
   "cell_type": "markdown",
   "source": [
    "# old stuff i wrote when i joind OB"
   ],
   "metadata": {
    "collapsed": false
   },
   "id": "cbd402e08d845e1e"
  },
  {
   "cell_type": "code",
   "execution_count": 2,
   "outputs": [
    {
     "name": "stderr",
     "output_type": "stream",
     "text": [
      "WARNING:root:OSError while attempting to symlink the latest log directory\n"
     ]
    },
    {
     "data": {
      "text/plain": "\u001B[1;33mC:\\Users\\Thomas.fuller\\NotDrive\\VENV\\spellvenv\\lib\\site-packages\\airflow\\models\\base.py:\u001B[0m\u001B[1;33m49\u001B[0m\u001B[1;33m MovedIn20Warning\u001B[0m\u001B[33m: Deprecated API features detected! These \u001B[0m\u001B[1;33mfeature\u001B[0m\u001B[1;33m(\u001B[0m\u001B[33ms\u001B[0m\u001B[1;33m)\u001B[0m\u001B[33m are not compatible with SQLAlchemy \u001B[0m\u001B[1;33m2.0\u001B[0m\u001B[33m. To prevent incompatible upgrades prior to updating applications, ensure requirements files are pinned to \u001B[0m\u001B[33m\"sqlalchemy<2.0\"\u001B[0m\u001B[33m. Set environment variable \u001B[0m\u001B[33mSQLALCHEMY_WARN_20\u001B[0m\u001B[33m=\u001B[0m\u001B[1;33m1\u001B[0m\u001B[33m to show all deprecation warnings.  Set environment variable \u001B[0m\u001B[33mSQLALCHEMY_SILENCE_UBER_WARNING\u001B[0m\u001B[33m=\u001B[0m\u001B[1;33m1\u001B[0m\u001B[33m to silence this message. \u001B[0m\u001B[1;33m(\u001B[0m\u001B[33mBackground on SQLAlchemy \u001B[0m\u001B[1;33m2.0\u001B[0m\u001B[33m at: \u001B[0m\u001B[4;33mhttps://sqlalche.me/e/b8d9\u001B[0m\u001B[4;33m)\u001B[0m\n",
      "text/html": "<pre style=\"white-space:pre;overflow-x:auto;line-height:normal;font-family:Menlo,'DejaVu Sans Mono',consolas,'Courier New',monospace\"><span style=\"color: #808000; text-decoration-color: #808000; font-weight: bold\">C:\\Users\\Thomas.fuller\\NotDrive\\VENV\\spellvenv\\lib\\site-packages\\airflow\\models\\base.py:</span><span style=\"color: #808000; text-decoration-color: #808000; font-weight: bold\">49</span><span style=\"color: #808000; text-decoration-color: #808000; font-weight: bold\"> MovedIn20Warning</span><span style=\"color: #808000; text-decoration-color: #808000\">: Deprecated API features detected! These </span><span style=\"color: #808000; text-decoration-color: #808000; font-weight: bold\">feature(</span><span style=\"color: #808000; text-decoration-color: #808000\">s</span><span style=\"color: #808000; text-decoration-color: #808000; font-weight: bold\">)</span><span style=\"color: #808000; text-decoration-color: #808000\"> are not compatible with SQLAlchemy </span><span style=\"color: #808000; text-decoration-color: #808000; font-weight: bold\">2.0</span><span style=\"color: #808000; text-decoration-color: #808000\">. To prevent incompatible upgrades prior to updating applications, ensure requirements files are pinned to </span><span style=\"color: #808000; text-decoration-color: #808000\">\"sqlalchemy&lt;2.0\"</span><span style=\"color: #808000; text-decoration-color: #808000\">. Set environment variable </span><span style=\"color: #808000; text-decoration-color: #808000\">SQLALCHEMY_WARN_20</span><span style=\"color: #808000; text-decoration-color: #808000\">=</span><span style=\"color: #808000; text-decoration-color: #808000; font-weight: bold\">1</span><span style=\"color: #808000; text-decoration-color: #808000\"> to show all deprecation warnings.  Set environment variable </span><span style=\"color: #808000; text-decoration-color: #808000\">SQLALCHEMY_SILENCE_UBER_WARNING</span><span style=\"color: #808000; text-decoration-color: #808000\">=</span><span style=\"color: #808000; text-decoration-color: #808000; font-weight: bold\">1</span><span style=\"color: #808000; text-decoration-color: #808000\"> to silence this message. </span><span style=\"color: #808000; text-decoration-color: #808000; font-weight: bold\">(</span><span style=\"color: #808000; text-decoration-color: #808000\">Background on SQLAlchemy </span><span style=\"color: #808000; text-decoration-color: #808000; font-weight: bold\">2.0</span><span style=\"color: #808000; text-decoration-color: #808000\"> at: </span><span style=\"color: #808000; text-decoration-color: #808000; text-decoration: underline\">https://sqlalche.me/e/b8d9)</span>\n</pre>\n"
     },
     "metadata": {},
     "output_type": "display_data"
    }
   ],
   "source": [
    "\n",
    "from MAPPINGS import COUNTRY_VALUE_MAP, STATUS_VALUE_MAP, STATUS_VALUE_MAP_CSV, SUBSIDIARY_VALUE_MAP, SUBSIDIARY_VALUE_MAP_CSV, CURRENCY_VALUE_MAP, COLUMN_MAPPING, COLUMN_MAPPING_ADDRESS_BOOK, COLUMN_MAPPING_ADDRESS\n",
    "\n",
    "import pandas\n",
    "from oliverbonas_source_dags.apis.api_netsuite import APIConfig_netsuite\n",
    "from util.zeep_to_df import complete_zeep_df"
   ],
   "metadata": {
    "collapsed": false,
    "ExecuteTime": {
     "end_time": "2023-11-14T11:46:37.783830200Z",
     "start_time": "2023-11-14T11:46:33.045184300Z"
    }
   },
   "id": "22dd92738dc558e7"
  },
  {
   "cell_type": "code",
   "execution_count": 3,
   "outputs": [],
   "source": [
    "from multithread_uploader import upload_all_these_records\n",
    "api = APIConfig_netsuite()\n",
    "from util.get_ns_number import get_ns_number"
   ],
   "metadata": {
    "collapsed": false,
    "ExecuteTime": {
     "end_time": "2023-11-14T11:46:42.562948600Z",
     "start_time": "2023-11-14T11:46:39.924941100Z"
    }
   },
   "id": "91aaae1a0391c5cf"
  },
  {
   "cell_type": "code",
   "execution_count": 4,
   "outputs": [
    {
     "name": "stdout",
     "output_type": "stream",
     "text": [
      "failed for ns 0\n",
      "failed for ns 1\n",
      "failed for ns 2\n",
      "failed for ns 3\n",
      "failed for ns 4\n",
      "Address = api.client.get_type(\"ns5:Address\")\n"
     ]
    }
   ],
   "source": [
    "Customer = api.client.get_type(\"ns13:Customer\")\n",
    "CustomerSearchBasic = api.client.get_type(\"ns5:CustomerSearchBasic\")\n",
    "RecordRef = api.client.get_type(\"ns0:RecordRef\")\n",
    "CustomerAddressbookList = api.client.get_type(\"ns13:CustomerAddressbookList\")\n",
    "CustomerAddressbook = api.client.get_type(\"ns13:CustomerAddressbook\")\n",
    "Address = api.client.get_type(\"ns5:Address\")\n",
    "get_ns_number(api, \"Address\")"
   ],
   "metadata": {
    "collapsed": false,
    "ExecuteTime": {
     "end_time": "2023-11-14T11:46:43.196982Z",
     "start_time": "2023-11-14T11:46:43.175951Z"
    }
   },
   "id": "13e3b18e3c9728a9"
  },
  {
   "cell_type": "code",
   "execution_count": 6,
   "outputs": [],
   "source": [
    "def do_value_mappings(old_column_name, customer_dict):\n",
    "    value = customer_dict[old_column_name]\n",
    "    # this werid character \\xa0 is removed if found...!\n",
    "    if type(value) == str:\n",
    "        value = value.replace(\"\\xa0\", \" \")\n",
    "\n",
    "    if old_column_name.endswith(\"_country\"):\n",
    "        return COUNTRY_VALUE_MAP[value]\n",
    "    elif old_column_name == \"currency\":\n",
    "        return CURRENCY_VALUE_MAP[value]\n",
    "    elif old_column_name == \"status\":\n",
    "        return STATUS_VALUE_MAP[STATUS_VALUE_MAP_CSV[value]]\n",
    "    elif old_column_name == \"subsidiary\":\n",
    "        return SUBSIDIARY_VALUE_MAP[SUBSIDIARY_VALUE_MAP_CSV[value]]\n",
    "    else:\n",
    "        return value\n",
    "\n",
    "def to_dict(customer_series):\n",
    "    customer_series[customer_series.isna()] = None # might work!\n",
    "    customer_dict = customer_series.to_dict()\n",
    "\n",
    "    # deal with value mappings here straight away\n",
    "    for oldCol in customer_dict.keys():\n",
    "        customer_dict[oldCol] = do_value_mappings(oldCol, customer_dict)\n",
    "\n",
    "    # now deal with the column mappings\n",
    "    for oldCol, newCol in COLUMN_MAPPING.items():\n",
    "        customer_dict[newCol] = customer_dict[oldCol]\n",
    "        del customer_dict[oldCol]\n",
    "\n",
    "    addressbookList = {\n",
    "        \"addressbook\": [\n",
    "            {\n",
    "                \"addressbookAddress\": dict(),\n",
    "            },\n",
    "            {\n",
    "                \"addressbookAddress\": dict(),\n",
    "            },\n",
    "        ]\n",
    "    }\n",
    "\n",
    "    Addbook1 = addressbookList[\"addressbook\"][0]\n",
    "    Addbook2 = addressbookList[\"addressbook\"][1]\n",
    "    Address1 = addressbookList[\"addressbook\"][0][\"addressbookAddress\"]\n",
    "    Address2 = addressbookList[\"addressbook\"][1][\"addressbookAddress\"]\n",
    "\n",
    "    for oldCol, newCol in COLUMN_MAPPING_ADDRESS_BOOK.items():\n",
    "        Addbook = Addbook1 if oldCol.startswith(\"Address1_\") else Addbook2\n",
    "\n",
    "        Addbook[newCol] = customer_dict[oldCol]\n",
    "        del customer_dict[oldCol]\n",
    "\n",
    "    for oldCol, newCol in COLUMN_MAPPING_ADDRESS.items():\n",
    "        Address = Address1 if oldCol.startswith(\"Address1_\") else Address2\n",
    "\n",
    "        Address[newCol] = customer_dict[oldCol]\n",
    "        del customer_dict[oldCol]\n",
    "\n",
    "    customer_dict[\"addressbookList\"] = addressbookList\n",
    "    \n",
    "    customer_dict[\"entityId\"] = str(customer_dict[\"entityId\"])\n",
    "    customer_dict[\"externalId\"] = str(customer_dict[\"externalId\"])\n",
    "\n",
    "    return customer_dict"
   ],
   "metadata": {
    "collapsed": false,
    "ExecuteTime": {
     "end_time": "2023-11-14T11:05:39.894601700Z",
     "start_time": "2023-11-14T11:05:39.882509200Z"
    }
   },
   "id": "94e227c8eda1a11b"
  },
  {
   "cell_type": "code",
   "execution_count": null,
   "outputs": [],
   "source": [
    "response = api.service_proxy.search(\n",
    "    CustomerSearchBasic(),\n",
    "    _soapheaders = api.build_soap_headers()\n",
    ")\n",
    "custs = response.body.searchResult.recordList.record"
   ],
   "metadata": {
    "collapsed": false,
    "ExecuteTime": {
     "start_time": "2023-11-14T10:59:44.499234200Z"
    }
   },
   "id": "c9d8318f9a845e1e"
  },
  {
   "cell_type": "markdown",
   "source": [
    "# GDPR so do a lil test"
   ],
   "metadata": {
    "collapsed": false
   },
   "id": "39681fe3b3706428"
  },
  {
   "cell_type": "code",
   "execution_count": null,
   "outputs": [],
   "source": [
    "test_df = pandas.read_csv(\"test_input_dummy_customers.csv\")\n",
    "test_df"
   ],
   "metadata": {
    "collapsed": false,
    "ExecuteTime": {
     "end_time": "2023-11-14T10:59:44.504233100Z",
     "start_time": "2023-11-14T10:59:44.501233800Z"
    }
   },
   "id": "ab1f4dcbd9ab367d"
  },
  {
   "cell_type": "code",
   "execution_count": null,
   "outputs": [],
   "source": [
    "test_list = [Customer(**to_dict(row)) for index, row in test_df.iterrows()]\n",
    "\n",
    "test_list[0].entityId = \"customer !\\\"£$%^&&*()\"\n",
    "test_list[0].externalId = \"customer !\\\"£$%^&&*()\"\n",
    "\n",
    "test_list[1].entityId = \"﷽\" * 83\n",
    "test_list[1].externalId = \"wideboy\"\n",
    "\n",
    "test_list[2].entityId = \"ꙍ 𝁢 𝋤 ↳ ⁌ 〼 ✛ ⦛ ⺣ 🜹 ꡞ ☰ 𒋾 🯂 ⵙ 𐬑 ᚄ ʮ ⠿ \"\n",
    "test_list[2].externalId = \"unicode\"\n",
    "\n",
    "test_list[3].entityId = \"😂😂😂😂😂😂😂😂😂😂\"\n",
    "test_list[3].externalId = \"lol\"\n",
    "\n",
    "\n",
    "complete_zeep_df(test_list)\n",
    "upload_all_these_records(test_list, api, \"addList\")"
   ],
   "metadata": {
    "collapsed": false,
    "ExecuteTime": {
     "start_time": "2023-11-14T10:59:44.503233500Z"
    }
   },
   "id": "cb446b798375ccbf"
  },
  {
   "cell_type": "code",
   "execution_count": null,
   "outputs": [],
   "source": [],
   "metadata": {
    "collapsed": false,
    "ExecuteTime": {
     "start_time": "2023-11-14T10:59:44.505233200Z"
    }
   },
   "id": "84de179f5b038b93"
  },
  {
   "cell_type": "code",
   "execution_count": null,
   "outputs": [],
   "source": [
    "customer = Customer(\n",
    "    entityId = \"thirteen alex made this\",\n",
    "    externalId = \"thirteen alex made this\",\n",
    "    firstName = \"Pixie\",\n",
    "    lastName = \"Savage\",\n",
    "    subsidiary = RecordRef(internalId = \"1\"),\n",
    "    addressbookList = CustomerAddressbookList(\n",
    "        addressbook = [\n",
    "             \n",
    "           \n",
    "        ]\n",
    "    )\n",
    ")\n",
    "\n",
    "upload_all_these_records([customer], api, \"updateList\")"
   ],
   "metadata": {
    "collapsed": false,
    "ExecuteTime": {
     "start_time": "2023-11-14T10:59:44.507233900Z"
    }
   },
   "id": "bcb2d5b049d5c20a"
  },
  {
   "cell_type": "markdown",
   "source": [
    "# tom-f-data-team-test-"
   ],
   "metadata": {
    "collapsed": false
   },
   "id": "86ae440f10e6bc07"
  },
  {
   "cell_type": "code",
   "execution_count": null,
   "outputs": [],
   "source": [
    "PREFIX = \"tom_f__DATA_TEAM__customer_for_transaction__\"\n",
    "test_customers = []\n",
    "\n",
    "for index, row in pandas.concat([test_df, test_df, test_df, test_df, test_df]).reset_index(drop=True).iterrows():\n",
    "    cust = PREFIX + \"0\" * (3 - len(str(index + 40))) + str(index+40) \n",
    "    \n",
    "    row[\"entityId\"] = cust\n",
    "    row[\"externalId\"] = cust\n",
    "    test_customers.append(Customer(**to_dict(row)))"
   ],
   "metadata": {
    "collapsed": false,
    "ExecuteTime": {
     "start_time": "2023-11-14T10:59:44.508233600Z"
    }
   },
   "id": "8571d10a4208e75e"
  },
  {
   "cell_type": "code",
   "execution_count": null,
   "outputs": [],
   "source": [
    "upload_all_these_records(test_customers, api, \"addList\")"
   ],
   "metadata": {
    "collapsed": false,
    "ExecuteTime": {
     "start_time": "2023-11-14T10:59:44.510233Z"
    }
   },
   "id": "eb963dda62f1cb4c"
  },
  {
   "cell_type": "markdown",
   "source": [
    "# let's do alex customers"
   ],
   "metadata": {
    "collapsed": false
   },
   "id": "56f00feb19b86704"
  },
  {
   "cell_type": "code",
   "execution_count": 5,
   "outputs": [],
   "source": [
    "# let's reload first"
   ],
   "metadata": {
    "collapsed": false,
    "ExecuteTime": {
     "end_time": "2023-11-14T11:12:28.084896600Z",
     "start_time": "2023-11-14T11:12:28.044867500Z"
    }
   },
   "id": "6675e37d8ff2a459"
  },
  {
   "cell_type": "code",
   "execution_count": 6,
   "outputs": [
    {
     "data": {
      "text/plain": "   externalId  entityId  isPerson  companyName firstName lastName  \\\n0      456625    456625      True          NaN       Ben   Curtis   \n1      456625    456625      True          NaN       Ben   Curtis   \n2      456626    456626      True          NaN      Ben2  Curtis2   \n3      456626    456626      True          NaN      Ben2  Curtis2   \n\n       subsidiary                         email               status Currency  \\\n0  Parent Company    ben.curtis@oliverbonas.com  CustomER-Closed Won      GBP   \n1  Parent Company    ben.curtis@oliverbonas.com  CustomER-Closed Won      GBP   \n2  Parent Company  ben2.curtis2@oliverbonas.com  CustomER-Closed Won      GBP   \n3  Parent Company  ben2.curtis2@oliverbonas.com  CustomER-Closed Won      GBP   \n\n   ... Address2_AddressName Address2_attention  Address2_phone  \\\n0  ...              Ship-To         Ben Curtis      7968367319   \n1  ...              Ship-To         Ben Curtis       894208204   \n2  ...              Ship-To         Ben Curtis      7968367319   \n3  ...              Ship-To         Ben Curtis       894208204   \n\n                       Address2_line1 Address2_city Address2_state  \\\n0  Unit F\\nDavis Road Industrial Park   Chessington         Surrey   \n1             Derry Park\\nTOORMAKEADY   CLAREMORRIS    COUNTY MAYO   \n2  Unit F\\nDavis Road Industrial Park   Chessington         Surrey   \n3             Derry Park\\nTOORMAKEADY   CLAREMORRIS    COUNTY MAYO   \n\n  Address2_zipCode Address2_country  Address2_defaultBillTo  \\\n0          KT9 1TQ   United Kingdom                   False   \n1         F12 PR50          Ireland                   False   \n2          KT9 1TQ   United Kingdom                   False   \n3         F12 PR50          Ireland                   False   \n\n   Address2_defaultShipTo  \n0                    True  \n1                   False  \n2                    True  \n3                   False  \n\n[4 rows x 30 columns]",
      "text/html": "<div>\n<style scoped>\n    .dataframe tbody tr th:only-of-type {\n        vertical-align: middle;\n    }\n\n    .dataframe tbody tr th {\n        vertical-align: top;\n    }\n\n    .dataframe thead th {\n        text-align: right;\n    }\n</style>\n<table border=\"1\" class=\"dataframe\">\n  <thead>\n    <tr style=\"text-align: right;\">\n      <th></th>\n      <th>externalId</th>\n      <th>entityId</th>\n      <th>isPerson</th>\n      <th>companyName</th>\n      <th>firstName</th>\n      <th>lastName</th>\n      <th>subsidiary</th>\n      <th>email</th>\n      <th>status</th>\n      <th>Currency</th>\n      <th>...</th>\n      <th>Address2_AddressName</th>\n      <th>Address2_attention</th>\n      <th>Address2_phone</th>\n      <th>Address2_line1</th>\n      <th>Address2_city</th>\n      <th>Address2_state</th>\n      <th>Address2_zipCode</th>\n      <th>Address2_country</th>\n      <th>Address2_defaultBillTo</th>\n      <th>Address2_defaultShipTo</th>\n    </tr>\n  </thead>\n  <tbody>\n    <tr>\n      <th>0</th>\n      <td>456625</td>\n      <td>456625</td>\n      <td>True</td>\n      <td>NaN</td>\n      <td>Ben</td>\n      <td>Curtis</td>\n      <td>Parent Company</td>\n      <td>ben.curtis@oliverbonas.com</td>\n      <td>CustomER-Closed Won</td>\n      <td>GBP</td>\n      <td>...</td>\n      <td>Ship-To</td>\n      <td>Ben Curtis</td>\n      <td>7968367319</td>\n      <td>Unit F\\nDavis Road Industrial Park</td>\n      <td>Chessington</td>\n      <td>Surrey</td>\n      <td>KT9 1TQ</td>\n      <td>United Kingdom</td>\n      <td>False</td>\n      <td>True</td>\n    </tr>\n    <tr>\n      <th>1</th>\n      <td>456625</td>\n      <td>456625</td>\n      <td>True</td>\n      <td>NaN</td>\n      <td>Ben</td>\n      <td>Curtis</td>\n      <td>Parent Company</td>\n      <td>ben.curtis@oliverbonas.com</td>\n      <td>CustomER-Closed Won</td>\n      <td>GBP</td>\n      <td>...</td>\n      <td>Ship-To</td>\n      <td>Ben Curtis</td>\n      <td>894208204</td>\n      <td>Derry Park\\nTOORMAKEADY</td>\n      <td>CLAREMORRIS</td>\n      <td>COUNTY MAYO</td>\n      <td>F12 PR50</td>\n      <td>Ireland</td>\n      <td>False</td>\n      <td>False</td>\n    </tr>\n    <tr>\n      <th>2</th>\n      <td>456626</td>\n      <td>456626</td>\n      <td>True</td>\n      <td>NaN</td>\n      <td>Ben2</td>\n      <td>Curtis2</td>\n      <td>Parent Company</td>\n      <td>ben2.curtis2@oliverbonas.com</td>\n      <td>CustomER-Closed Won</td>\n      <td>GBP</td>\n      <td>...</td>\n      <td>Ship-To</td>\n      <td>Ben Curtis</td>\n      <td>7968367319</td>\n      <td>Unit F\\nDavis Road Industrial Park</td>\n      <td>Chessington</td>\n      <td>Surrey</td>\n      <td>KT9 1TQ</td>\n      <td>United Kingdom</td>\n      <td>False</td>\n      <td>True</td>\n    </tr>\n    <tr>\n      <th>3</th>\n      <td>456626</td>\n      <td>456626</td>\n      <td>True</td>\n      <td>NaN</td>\n      <td>Ben2</td>\n      <td>Curtis2</td>\n      <td>Parent Company</td>\n      <td>ben2.curtis2@oliverbonas.com</td>\n      <td>CustomER-Closed Won</td>\n      <td>GBP</td>\n      <td>...</td>\n      <td>Ship-To</td>\n      <td>Ben Curtis</td>\n      <td>894208204</td>\n      <td>Derry Park\\nTOORMAKEADY</td>\n      <td>CLAREMORRIS</td>\n      <td>COUNTY MAYO</td>\n      <td>F12 PR50</td>\n      <td>Ireland</td>\n      <td>False</td>\n      <td>False</td>\n    </tr>\n  </tbody>\n</table>\n<p>4 rows × 30 columns</p>\n</div>"
     },
     "execution_count": 6,
     "metadata": {},
     "output_type": "execute_result"
    }
   ],
   "source": [
    "df = pandas.read_csv(\"ben.csv\")\n",
    "df"
   ],
   "metadata": {
    "collapsed": false,
    "ExecuteTime": {
     "end_time": "2023-11-14T11:46:55.907400500Z",
     "start_time": "2023-11-14T11:46:55.872410400Z"
    }
   },
   "id": "738303fc6a37e593"
  },
  {
   "cell_type": "code",
   "execution_count": 15,
   "outputs": [
    {
     "data": {
      "text/plain": "Index(['externalId', 'entityId', 'isPerson', 'companyName', 'firstName',\n       'lastName', 'subsidiary', 'email', 'status', 'Currency',\n       'Address1_AddressName', 'Address1_attention', 'Address1_phone',\n       'Address1_line1', 'Address1_city', 'Address1_state', 'Address1_zipCode',\n       'Address1_country', 'Address1_defaultBillTo', 'Address1_defaultShipTo',\n       'Address2_AddressName', 'Address2_attention', 'Address2_phone',\n       'Address2_line1', 'Address2_city', 'Address2_state', 'Address2_zipCode',\n       'Address2_country', 'Address2_defaultBillTo', 'Address2_defaultShipTo'],\n      dtype='object')"
     },
     "execution_count": 15,
     "metadata": {},
     "output_type": "execute_result"
    }
   ],
   "source": [
    "df.columns\n",
    "\n",
    "Index(['externalId', 'entityId', 'isPerson', 'companyName', 'firstName',\n",
    "       'lastName', 'subsidiary', 'email', 'status', 'Currency',\n",
    "       'Address1_AddressName', 'Address1_attention', 'Address1_phone',\n",
    "       'Address1_line1', 'Address1_city', 'Address1_state', 'Address1_zipCode',\n",
    "       'Address1_country', 'Address1_defaultBillTo', 'Address1_defaultShipTo',\n",
    "       'Address2_AddressName', 'Address2_attention', 'Address2_phone',\n",
    "       'Address2_line1', 'Address2_city', 'Address2_state', 'Address2_zipCode',\n",
    "       'Address2_country', 'Address2_defaultBillTo', 'Address2_defaultShipTo'],\n",
    "      dtype='object')\n",
    "\n",
    "\"\"\"\n",
    "string internalId\n",
    "string country\n",
    "string attention\n",
    "string addressee\n",
    "string addrPhone\n",
    "string addr1\n",
    "string addr2\n",
    "string addr3\n",
    "string city\n",
    "string state\n",
    "string zip\n",
    "string addrText\n",
    "boolean override\n",
    "\"\"\""
   ],
   "metadata": {
    "collapsed": false,
    "ExecuteTime": {
     "end_time": "2023-11-14T11:14:25.734725200Z",
     "start_time": "2023-11-14T11:14:25.714650900Z"
    }
   },
   "id": "794e69e734306c86"
  },
  {
   "cell_type": "code",
   "execution_count": 22,
   "outputs": [
    {
     "data": {
      "text/plain": "{'Afghanistan': '_afghanistan',\n 'Aland Islands': '_alandIslands',\n 'Albania': '_albania',\n 'Algeria': '_algeria',\n 'American Samoa': '_americanSamoa',\n 'Andorra': '_andorra',\n 'Angola': '_angola',\n 'Anguilla': '_anguilla',\n 'Antarctica': '_antarctica',\n 'Antigua and Barbuda': '_antiguaAndBarbuda',\n 'Argentina': '_argentina',\n 'Armenia': '_armenia',\n 'Aruba': '_aruba',\n 'Australia': '_australia',\n 'Austria': '_austria',\n 'Azerbaijan': '_azerbaijan',\n 'Bahamas': '_bahamas',\n 'Bahrain': '_bahrain',\n 'Bangladesh': '_bangladesh',\n 'Barbados': '_barbados',\n 'Belarus': '_belarus',\n 'Belgium': '_belgium',\n 'Belize': '_belize',\n 'Benin': '_benin',\n 'Bermuda': '_bermuda',\n 'Bhutan': '_bhutan',\n 'Bolivia': '_bolivia',\n 'Bosnia and Herzegovina': '_bosniaAndHerzegovina',\n 'Botswana': '_botswana',\n 'Bouvet Island': '_bouvetIsland',\n 'Brazil': '_brazil',\n 'British Indian Ocean Territory': '_britishIndianOceanTerritory',\n 'British Virgin Islands': '_virginIslandsBritish',\n 'Brunei Darussalam': '_bruneiDarussalam',\n 'Bulgaria': '_bulgaria',\n 'Burkina Faso': '_burkinaFaso',\n 'Burundi': '_burundi',\n 'Cambodia': '_cambodia',\n 'Cameroon': '_cameroon',\n 'Canada': '_canada',\n 'Cape Verde': '_capeVerde',\n 'Cayman Islands': '_caymanIslands',\n 'Central African Republic': '_centralAfricanRepublic',\n 'Chad': '_chad',\n 'Chile': '_chile',\n 'China': '_china',\n 'Christmas Island': '_christmasIsland',\n 'Cocos (Keeling) Islands': '_cocosKeelingIslands',\n 'Colombia': '_colombia',\n 'Comoros': '_comoros',\n 'Congo (Brazzaville)': '_congoRepublicOf',\n 'Congo, (Kinshasa)': '_congoDemocraticPeoplesRepublic',\n 'Cook Islands': '_cookIslands',\n 'Costa Rica': '_costaRica',\n 'Croatia': '_croatiaHrvatska',\n 'Cuba': '_cuba',\n 'Cyprus': '_cyprus',\n 'Czech Republic': '_czechRepublic',\n \"Côte d'Ivoire\": '_coteDIvoire',\n 'Denmark': '_denmark',\n 'Djibouti': '_djibouti',\n 'Dominica': '_dominica',\n 'Dominican Republic': '_dominicanRepublic',\n 'Ecuador': '_ecuador',\n 'Egypt': '_egypt',\n 'El Salvador': '_elSalvador',\n 'Equatorial Guinea': '_equatorialGuinea',\n 'Eritrea': '_eritrea',\n 'Estonia': '_estonia',\n 'Ethiopia': '_ethiopia',\n 'Falkland Islands (Malvinas)': '_falklandIslands',\n 'Faroe Islands': '_faroeIslands',\n 'Fiji': '_fiji',\n 'Finland': '_finland',\n 'France': '_france',\n 'French Guiana': '_frenchGuiana',\n 'French Polynesia': '_frenchPolynesia',\n 'French Southern Territories': '_frenchSouthernTerritories',\n 'Gabon': '_gabon',\n 'Gambia': '_gambia',\n 'Georgia': '_georgia',\n 'Germany': '_germany',\n 'Ghana': '_ghana',\n 'Gibraltar': '_gibraltar',\n 'Greece': '_greece',\n 'Greenland': '_greenland',\n 'Grenada': '_grenada',\n 'Guadeloupe': '_guadeloupe',\n 'Guam': '_guam',\n 'Guatemala': '_guatemala',\n 'Guernsey': '_guernsey',\n 'Guinea': '_guinea',\n 'Guinea-Bissau': '_guineaBissau',\n 'Guyana': '_guyana',\n 'Haiti': '_haiti',\n 'Heard and Mcdonald Islands': '_heardAndMcDonaldIslands',\n 'Holy See (Vatican City State)': '_holySeeCityVaticanState',\n 'Honduras': '_honduras',\n 'Hong Kong, SAR China': '_hongKong',\n 'Hungary': '_hungary',\n 'Iceland': '_iceland',\n 'India': '_india',\n 'Indonesia': '_indonesia',\n 'Iran, Islamic Republic of': '_iranIslamicRepublicOf',\n 'Iraq': '_iraq',\n 'Ireland': '_ireland',\n 'Isle of Man': '_isleOfMan',\n 'Israel': '_israel',\n 'Italy': '_italy',\n 'Jamaica': '_jamaica',\n 'Japan': '_japan',\n 'Jersey': '_jersey',\n 'Jordan': '_jordan',\n 'Kazakhstan': '_kazakhstan',\n 'Kenya': '_kenya',\n 'Kiribati': '_kiribati',\n 'Korea (North)': '_koreaDemocraticPeoplesRepublic',\n 'Korea (South)': '_koreaRepublicOf',\n 'Kuwait': '_kuwait',\n 'Kyrgyzstan': '_kyrgyzstan',\n 'Lao PDR': '_laoPeoplesDemocraticRepublic',\n 'Latvia': '_latvia',\n 'Lebanon': '_lebanon',\n 'Lesotho': '_lesotho',\n 'Liberia': '_liberia',\n 'Libya': '_libya',\n 'Liechtenstein': '_liechtenstein',\n 'Lithuania': '_lithuania',\n 'Luxembourg': '_luxembourg',\n 'Macao, SAR China': '_macau',\n 'Macedonia, Republic of': '_macedonia',\n 'Madagascar': '_madagascar',\n 'Malawi': '_malawi',\n 'Malaysia': '_malaysia',\n 'Maldives': '_maldives',\n 'Mali': '_mali',\n 'Malta': '_malta',\n 'Marshall Islands': '_marshallIslands',\n 'Martinique': '_martinique',\n 'Mauritania': '_mauritania',\n 'Mauritius': '_mauritius',\n 'Mayotte': '_mayotte',\n 'Mexico': '_mexico',\n 'Micronesia, Federated States of': '_micronesiaFederalStateOf',\n 'Moldova': '_moldovaRepublicOf',\n 'Monaco': '_monaco',\n 'Mongolia': '_mongolia',\n 'Montenegro': '_montenegro',\n 'Montserrat': '_montserrat',\n 'Morocco': '_morocco',\n 'Mozambique': '_mozambique',\n 'Myanmar': '_myanmar',\n 'Namibia': '_namibia',\n 'Nauru': '_nauru',\n 'Nepal': '_nepal',\n 'Netherlands': '_netherlands',\n 'New Caledonia': '_newCaledonia',\n 'New Zealand': '_newZealand',\n 'Nicaragua': '_nicaragua',\n 'Niger': '_niger',\n 'Nigeria': '_nigeria',\n 'Niue': '_niue',\n 'Norfolk Island': '_norfolkIsland',\n 'Northern Mariana Islands': '_northernMarianaIslands',\n 'Norway': '_norway',\n 'Oman': '_oman',\n 'Pakistan': '_pakistan',\n 'Palau': '_palau',\n 'Palestinian Territory': '_stateOfPalestine',\n 'Panama': '_panama',\n 'Papua New Guinea': '_papuaNewGuinea',\n 'Paraguay': '_paraguay',\n 'Peru': '_peru',\n 'Philippines': '_philippines',\n 'Pitcairn': '_pitcairnIsland',\n 'Poland': '_poland',\n 'Portugal': '_portugal',\n 'Puerto Rico': '_puertoRico',\n 'Qatar': '_qatar',\n 'Romania': '_romania',\n 'Russian Federation': '_russianFederation',\n 'Rwanda': '_rwanda',\n 'Réunion': '_reunionIsland',\n 'Saint Helena': '_saintHelena',\n 'Saint Kitts and Nevis': '_saintKittsAndNevis',\n 'Saint Lucia': '_saintLucia',\n 'Saint Pierre and Miquelon': '_stPierreAndMiquelon',\n 'Saint Vincent and Grenadines': '_saintVincentAndTheGrenadines',\n 'Saint-Barthélemy': '_saintBarthelemy',\n 'Saint-Martin (French part)': '_saintMartin',\n 'Samoa': '_samoa',\n 'San Marino': '_sanMarino',\n 'Sao Tome and Principe': '_saoTomeAndPrincipe',\n 'Saudi Arabia': '_saudiArabia',\n 'Senegal': '_senegal',\n 'Serbia': '_serbia',\n 'Seychelles': '_seychelles',\n 'Sierra Leone': '_sierraLeone',\n 'Singapore': '_singapore',\n 'Slovakia': '_slovakRepublic',\n 'Slovenia': '_slovenia',\n 'Solomon Islands': '_solomonIslands',\n 'Somalia': '_somalia',\n 'South Africa': '_southAfrica',\n 'South Georgia and the South Sandwich Islands': '_southGeorgia',\n 'South Sudan': '_southSudan',\n 'Spain': '_spain',\n 'Sri Lanka': '_sriLanka',\n 'Sudan': '_sudan',\n 'Suriname': '_suriname',\n 'Svalbard and Jan Mayen Islands': '_svalbardAndJanMayenIslands',\n 'Swaziland': '_swaziland',\n 'Sweden': '_sweden',\n 'Switzerland': '_switzerland',\n 'Syrian Arab Republic (Syria)': '_syrianArabRepublic',\n 'Taiwan, Republic of China': '_taiwan',\n 'Tajikistan': '_tajikistan',\n 'Tanzania, United Republic of': '_tanzania',\n 'Thailand': '_thailand',\n 'Timor-Leste': '_eastTimor',\n 'Togo': '_togo',\n 'Tokelau': '_tokelau',\n 'Tonga': '_tonga',\n 'Trinidad and Tobago': '_trinidadAndTobago',\n 'Tunisia': '_tunisia',\n 'Turkey': '_turkey',\n 'Turkmenistan': '_turkmenistan',\n 'Turks and Caicos Islands': '_turksAndCaicosIslands',\n 'Tuvalu': '_tuvalu',\n 'US Minor Outlying Islands': '_uSMinorOutlyingIslands',\n 'Uganda': '_uganda',\n 'Ukraine': '_ukraine',\n 'United Arab Emirates': '_unitedArabEmirates',\n 'United Kingdom': '_unitedKingdom',\n 'United States of America': '_unitedStates',\n 'Uruguay': '_uruguay',\n 'Uzbekistan': '_uzbekistan',\n 'Vanuatu': '_vanuatu',\n 'Venezuela (Bolivarian Republic)': '_venezuela',\n 'Viet Nam': '_vietnam',\n 'Virgin Islands, US': '_virginIslandsUSA',\n 'Wallis and Futuna Islands': '_wallisAndFutunaIslands',\n 'Western Sahara': '_westernSahara',\n 'Yemen': '_yemen',\n 'Zambia': '_zambia',\n 'Zimbabwe': '_zimbabwe'}"
     },
     "execution_count": 22,
     "metadata": {},
     "output_type": "execute_result"
    }
   ],
   "source": [
    "COUNTRY_VALUE_MAP"
   ],
   "metadata": {
    "collapsed": false,
    "ExecuteTime": {
     "end_time": "2023-11-14T11:37:55.513316600Z",
     "start_time": "2023-11-14T11:37:55.502315700Z"
    }
   },
   "id": "69097be8135c398d"
  },
  {
   "cell_type": "code",
   "execution_count": 7,
   "outputs": [],
   "source": [
    "def get_customer_addresses(customer_df):\n",
    "    addresses = []\n",
    "    for index, c in customer_df.iterrows():\n",
    "        billing = CustomerAddressbook(\n",
    "            addressbookAddress = Address(\n",
    "                country = COUNTRY_VALUE_MAP[c.Address1_country],\n",
    "                attention = c.Address1_attention,\n",
    "                addressee = c.Address1_AddressName,\n",
    "                addrPhone = c.Address1_phone,\n",
    "                addr1 = c.Address1_line1,\n",
    "                city = c.Address1_city,\n",
    "                state = c.Address1_state,\n",
    "                zip = c.Address1_zipCode,\n",
    "            ),\n",
    "            defaultBilling = c.Address1_defaultBillTo,\n",
    "        )\n",
    "        shipping = CustomerAddressbook(\n",
    "            addressbookAddress = Address(\n",
    "                country = COUNTRY_VALUE_MAP[c.Address2_country],\n",
    "                attention = c.Address2_attention,\n",
    "                addressee = c.Address2_AddressName,\n",
    "                addrPhone = c.Address2_phone,\n",
    "                addr1 = c.Address2_line1,\n",
    "                city = c.Address2_city,\n",
    "                state = c.Address2_state,\n",
    "                zip = c.Address2_zipCode,\n",
    "            ),\n",
    "            defaultShipping = c.Address2_defaultShipTo,\n",
    "        )\n",
    "        addresses.append(billing)\n",
    "        addresses.append(shipping)\n",
    "    \n",
    "    return addresses"
   ],
   "metadata": {
    "collapsed": false,
    "ExecuteTime": {
     "end_time": "2023-11-14T11:47:01.251077Z",
     "start_time": "2023-11-14T11:47:01.238076700Z"
    }
   },
   "id": "30594e29c60db641"
  },
  {
   "cell_type": "code",
   "execution_count": 8,
   "outputs": [],
   "source": [
    "customers = []\n",
    "\n",
    "for email, customer_df in df.groupby(\"email\"):\n",
    "    c = customer_df.iloc[0]\n",
    "    \n",
    "    customer = Customer(\n",
    "        entityId = c.entityId,\n",
    "        externalId = c.externalId,\n",
    "        isPerson = c.isPerson,\n",
    "        companyName = c.companyName,\n",
    "        firstName = c.firstName,\n",
    "        lastName = c.lastName,\n",
    "        subsidiary = RecordRef(internalId=SUBSIDIARY_VALUE_MAP[c.subsidiary][\"internalId\"]),\n",
    "        email = c.email,\n",
    "        entityStatus = RecordRef(internalId = STATUS_VALUE_MAP[c.status][\"internalId\"]),\n",
    "        currency = RecordRef(internalId = CURRENCY_VALUE_MAP[c.Currency][\"internalId\"]),\n",
    "        addressbookList = CustomerAddressbookList(\n",
    "            addressbook = get_customer_addresses(customer_df)\n",
    "        )\n",
    "    )\n",
    "    \n",
    "    customers.append(customer)"
   ],
   "metadata": {
    "collapsed": false,
    "ExecuteTime": {
     "end_time": "2023-11-14T11:47:03.952388400Z",
     "start_time": "2023-11-14T11:47:03.920404700Z"
    }
   },
   "id": "b4f1e3f3d6853c3f"
  },
  {
   "cell_type": "code",
   "execution_count": 9,
   "outputs": [
    {
     "name": "stdout",
     "output_type": "stream",
     "text": [
      "> [1] records in this chunk\n",
      "> [1] records in this chunk\n",
      "\n",
      "THREADS NEEDED: 2 \n",
      "\n",
      "thread (0) spawned\n",
      "thread (1) spawned\n",
      "+++++++++ new thread (1) +++++++++\n",
      "+++++++++ new thread (0) +++++++++\n",
      "# thread (1) total [1] records [1]  success [1] failure [0]\n",
      "0:00:08.260607\n",
      "+++++++++ thread completed (1) +++++++++\n",
      "==========================================\n",
      "# thread (0) total [2] records [1]  success [1] failure [0]\n",
      "0:00:08.922773\n",
      "+++++++++ thread completed (0) +++++++++\n",
      "==========================================\n"
     ]
    }
   ],
   "source": [
    "\n",
    "upload_all_these_records(customers, api, \"updateList\")"
   ],
   "metadata": {
    "collapsed": false,
    "ExecuteTime": {
     "end_time": "2023-11-14T11:47:15.561244100Z",
     "start_time": "2023-11-14T11:47:06.624433200Z"
    }
   },
   "id": "bdd0a9d20700ca76"
  }
 ],
 "metadata": {
  "kernelspec": {
   "display_name": "Python 3",
   "language": "python",
   "name": "python3"
  },
  "language_info": {
   "codemirror_mode": {
    "name": "ipython",
    "version": 2
   },
   "file_extension": ".py",
   "mimetype": "text/x-python",
   "name": "python",
   "nbconvert_exporter": "python",
   "pygments_lexer": "ipython2",
   "version": "2.7.6"
  }
 },
 "nbformat": 4,
 "nbformat_minor": 5
}
