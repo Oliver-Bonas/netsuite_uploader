{
 "cells": [
  {
   "cell_type": "code",
   "execution_count": null,
   "id": "initial_id",
   "metadata": {
    "collapsed": true
   },
   "outputs": [],
   "source": [
    "from api_and_repo_link import link_me_up\n",
    "import api_and_repo_link\n",
    "from importlib import reload\n",
    "reload(api_and_repo_link)\n",
    "link_me_up()"
   ]
  },
  {
   "cell_type": "markdown",
   "source": [
    "# old stuff i wrote when i joind OB"
   ],
   "metadata": {
    "collapsed": false
   },
   "id": "cbd402e08d845e1e"
  },
  {
   "cell_type": "code",
   "execution_count": null,
   "outputs": [],
   "source": [
    "\n",
    "from MAPPINGS import COUNTRY_VALUE_MAP, STATUS_VALUE_MAP, STATUS_VALUE_MAP_CSV, SUBSIDIARY_VALUE_MAP, SUBSIDIARY_VALUE_MAP_CSV, CURRENCY_VALUE_MAP, COLUMN_MAPPING, COLUMN_MAPPING_ADDRESS_BOOK, COLUMN_MAPPING_ADDRESS\n",
    "\n",
    "import pandas\n",
    "from oliverbonas_source_dags.apis.api_netsuite import APIConfig_netsuite\n",
    "from util.zeep_to_df import complete_zeep_df"
   ],
   "metadata": {
    "collapsed": false
   },
   "id": "22dd92738dc558e7"
  },
  {
   "cell_type": "code",
   "execution_count": null,
   "outputs": [],
   "source": [
    "from multithread_uploader import upload_all_these_records\n",
    "api = APIConfig_netsuite()\n",
    "from util.get_ns_number import get_ns_number"
   ],
   "metadata": {
    "collapsed": false
   },
   "id": "91aaae1a0391c5cf"
  },
  {
   "cell_type": "code",
   "execution_count": null,
   "outputs": [],
   "source": [
    "Customer = api.client.get_type(\"ns13:Customer\")\n",
    "CustomerSearchBasic = api.client.get_type(\"ns5:CustomerSearchBasic\")\n",
    "get_ns_number(api, \"CustomerSearchBasic\")"
   ],
   "metadata": {
    "collapsed": false
   },
   "id": "13e3b18e3c9728a9"
  },
  {
   "cell_type": "code",
   "execution_count": null,
   "outputs": [],
   "source": [
    "def do_value_mappings(old_column_name, customer_dict):\n",
    "    value = customer_dict[old_column_name]\n",
    "    # this werid character \\xa0 is removed if found...!\n",
    "    if type(value) == str:\n",
    "        value = value.replace(\"\\xa0\", \" \")\n",
    "\n",
    "    if old_column_name.endswith(\"_country\"):\n",
    "        return COUNTRY_VALUE_MAP[value]\n",
    "    elif old_column_name == \"currency\":\n",
    "        return CURRENCY_VALUE_MAP[value]\n",
    "    elif old_column_name == \"status\":\n",
    "        return STATUS_VALUE_MAP[STATUS_VALUE_MAP_CSV[value]]\n",
    "    elif old_column_name == \"subsidiary\":\n",
    "        return SUBSIDIARY_VALUE_MAP[SUBSIDIARY_VALUE_MAP_CSV[value]]\n",
    "    else:\n",
    "        return value\n",
    "\n",
    "def to_dict(customer_series):\n",
    "    customer_series[customer_series.isna()] = None # might work!\n",
    "    customer_dict = customer_series.to_dict()\n",
    "\n",
    "    # deal with value mappings here straight away\n",
    "    for oldCol in customer_dict.keys():\n",
    "        customer_dict[oldCol] = do_value_mappings(oldCol, customer_dict)\n",
    "\n",
    "    # now deal with the column mappings\n",
    "    for oldCol, newCol in COLUMN_MAPPING.items():\n",
    "        customer_dict[newCol] = customer_dict[oldCol]\n",
    "        del customer_dict[oldCol]\n",
    "\n",
    "    addressbookList = {\n",
    "        \"addressbook\": [\n",
    "            {\n",
    "                \"addressbookAddress\": dict(),\n",
    "            },\n",
    "            {\n",
    "                \"addressbookAddress\": dict(),\n",
    "            },\n",
    "        ]\n",
    "    }\n",
    "\n",
    "    Addbook1 = addressbookList[\"addressbook\"][0]\n",
    "    Addbook2 = addressbookList[\"addressbook\"][1]\n",
    "    Address1 = addressbookList[\"addressbook\"][0][\"addressbookAddress\"]\n",
    "    Address2 = addressbookList[\"addressbook\"][1][\"addressbookAddress\"]\n",
    "\n",
    "    for oldCol, newCol in COLUMN_MAPPING_ADDRESS_BOOK.items():\n",
    "        Addbook = Addbook1 if oldCol.startswith(\"Address1_\") else Addbook2\n",
    "\n",
    "        Addbook[newCol] = customer_dict[oldCol]\n",
    "        del customer_dict[oldCol]\n",
    "\n",
    "    for oldCol, newCol in COLUMN_MAPPING_ADDRESS.items():\n",
    "        Address = Address1 if oldCol.startswith(\"Address1_\") else Address2\n",
    "\n",
    "        Address[newCol] = customer_dict[oldCol]\n",
    "        del customer_dict[oldCol]\n",
    "\n",
    "    customer_dict[\"addressbookList\"] = addressbookList\n",
    "    \n",
    "    customer_dict[\"entityId\"] = \"customer_human_\" + str(customer_dict[\"entityId\"])\n",
    "    customer_dict[\"externalId\"] = \"customer_human_\" + str(customer_dict[\"externalId\"])\n",
    "\n",
    "    return customer_dict"
   ],
   "metadata": {
    "collapsed": false
   },
   "id": "94e227c8eda1a11b"
  },
  {
   "cell_type": "code",
   "execution_count": null,
   "outputs": [],
   "source": [
    "response = api.service_proxy.search(\n",
    "    CustomerSearchBasic(),\n",
    "    _soapheaders = api.build_soap_headers()\n",
    ")\n",
    "custs = response.body.searchResult.recordList.record"
   ],
   "metadata": {
    "collapsed": false
   },
   "id": "c9d8318f9a845e1e"
  },
  {
   "cell_type": "markdown",
   "source": [
    "# GDPR so do a lil test"
   ],
   "metadata": {
    "collapsed": false
   },
   "id": "39681fe3b3706428"
  },
  {
   "cell_type": "code",
   "execution_count": null,
   "outputs": [],
   "source": [
    "test_df = pandas.read_csv(\"test_input_dummy_customers.csv\")"
   ],
   "metadata": {
    "collapsed": false
   },
   "id": "ab1f4dcbd9ab367d"
  },
  {
   "cell_type": "code",
   "execution_count": null,
   "outputs": [],
   "source": [
    "test_list = [Customer(**to_dict(row)) for index, row in test_df.iterrows()]\n",
    "\n",
    "test_list[0].entityId = \"customer !\\\"£$%^&&*()\"\n",
    "test_list[0].externalId = \"customer !\\\"£$%^&&*()\"\n",
    "\n",
    "test_list[1].entityId = \"﷽\" * 83\n",
    "test_list[1].externalId = \"wideboy\"\n",
    "\n",
    "test_list[2].entityId = \"ꙍ 𝁢 𝋤 ↳ ⁌ 〼 ✛ ⦛ ⺣ 🜹 ꡞ ☰ 𒋾 🯂 ⵙ 𐬑 ᚄ ʮ ⠿ \"\n",
    "test_list[2].externalId = \"unicode\"\n",
    "\n",
    "test_list[3].entityId = \"😂😂😂😂😂😂😂😂😂😂\"\n",
    "test_list[3].externalId = \"lol\"\n",
    "\n",
    "\n",
    "complete_zeep_df(test_list)\n",
    "upload_all_these_records(test_list, api, \"addList\")"
   ],
   "metadata": {
    "collapsed": false
   },
   "id": "cb446b798375ccbf"
  }
 ],
 "metadata": {
  "kernelspec": {
   "display_name": "Python 3",
   "language": "python",
   "name": "python3"
  },
  "language_info": {
   "codemirror_mode": {
    "name": "ipython",
    "version": 2
   },
   "file_extension": ".py",
   "mimetype": "text/x-python",
   "name": "python",
   "nbconvert_exporter": "python",
   "pygments_lexer": "ipython2",
   "version": "2.7.6"
  }
 },
 "nbformat": 4,
 "nbformat_minor": 5
}
