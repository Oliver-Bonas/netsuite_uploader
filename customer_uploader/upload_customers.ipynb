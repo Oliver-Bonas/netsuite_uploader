{
 "cells": [
  {
   "cell_type": "code",
   "execution_count": null,
   "id": "initial_id",
   "metadata": {
    "collapsed": true
   },
   "outputs": [],
   "source": [
    "from api_and_repo_link import link_me_up\n",
    "import api_and_repo_link\n",
    "from importlib import reload\n",
    "reload(api_and_repo_link)\n",
    "link_me_up()"
   ]
  },
  {
   "cell_type": "code",
   "execution_count": null,
   "outputs": [],
   "source": [
    "\n",
    "from MAPPINGS import COUNTRY_VALUE_MAP, STATUS_VALUE_MAP, STATUS_VALUE_MAP_CSV, SUBSIDIARY_VALUE_MAP, SUBSIDIARY_VALUE_MAP_CSV, CURRENCY_VALUE_MAP, COLUMN_MAPPING, COLUMN_MAPPING_ADDRESS_BOOK, COLUMN_MAPPING_ADDRESS\n",
    "\n",
    "import pandas\n",
    "from oliverbonas_source_dags.apis.api_netsuite import APIConfig_netsuite"
   ],
   "metadata": {
    "collapsed": false
   },
   "id": "41572bdb20596674"
  },
  {
   "cell_type": "code",
   "execution_count": null,
   "outputs": [],
   "source": [],
   "metadata": {
    "collapsed": false
   },
   "id": "5a63d2740a2717c9"
  },
  {
   "cell_type": "code",
   "execution_count": null,
   "outputs": [],
   "source": [
    "from multithread_uploader import upload_all_these_records\n",
    "api = APIConfig_netsuite()\n",
    "from util.get_ns_number import get_ns_number\n",
    "Customer = api.client.get_type(\"ns13:Customer\")\n",
    "get_ns_number(api, \"Customer\")"
   ],
   "metadata": {
    "collapsed": false
   },
   "id": "3d96fc87a330e865"
  },
  {
   "cell_type": "code",
   "execution_count": 35,
   "outputs": [],
   "source": [
    "def do_value_mappings(old_column_name, customer_dict):\n",
    "    value = customer_dict[old_column_name]\n",
    "    # this werid character \\xa0 is removed if found...!\n",
    "    if type(value) == str:\n",
    "        value = value.replace(\"\\xa0\", \" \")\n",
    "\n",
    "    if old_column_name.endswith(\"_country\"):\n",
    "        return COUNTRY_VALUE_MAP[value]\n",
    "    elif old_column_name == \"currency\":\n",
    "        return CURRENCY_VALUE_MAP[value]\n",
    "    elif old_column_name == \"status\":\n",
    "        return STATUS_VALUE_MAP[STATUS_VALUE_MAP_CSV[value]]\n",
    "    elif old_column_name == \"subsidiary\":\n",
    "        return SUBSIDIARY_VALUE_MAP[SUBSIDIARY_VALUE_MAP_CSV[value]]\n",
    "    else:\n",
    "        return value\n",
    "\n",
    "def to_dict(customer_series):\n",
    "    customer_series[customer_series.isna()] = None # might work!\n",
    "    customer_dict = customer_series.to_dict()\n",
    "\n",
    "    # deal with value mappings here straight away\n",
    "    for oldCol in customer_dict.keys():\n",
    "        customer_dict[oldCol] = do_value_mappings(oldCol, customer_dict)\n",
    "\n",
    "    # now deal with the column mappings\n",
    "    for oldCol, newCol in COLUMN_MAPPING.items():\n",
    "        customer_dict[newCol] = customer_dict[oldCol]\n",
    "        del customer_dict[oldCol]\n",
    "\n",
    "    addressbookList = {\n",
    "        \"addressbook\": [\n",
    "            {\n",
    "                \"addressbookAddress\": dict(),\n",
    "            },\n",
    "            {\n",
    "                \"addressbookAddress\": dict(),\n",
    "            },\n",
    "        ]\n",
    "    }\n",
    "\n",
    "    Addbook1 = addressbookList[\"addressbook\"][0]\n",
    "    Addbook2 = addressbookList[\"addressbook\"][1]\n",
    "    Address1 = addressbookList[\"addressbook\"][0][\"addressbookAddress\"]\n",
    "    Address2 = addressbookList[\"addressbook\"][1][\"addressbookAddress\"]\n",
    "\n",
    "    for oldCol, newCol in COLUMN_MAPPING_ADDRESS_BOOK.items():\n",
    "        Addbook = Addbook1 if oldCol.startswith(\"Address1_\") else Addbook2\n",
    "\n",
    "        Addbook[newCol] = customer_dict[oldCol]\n",
    "        del customer_dict[oldCol]\n",
    "\n",
    "    for oldCol, newCol in COLUMN_MAPPING_ADDRESS.items():\n",
    "        Address = Address1 if oldCol.startswith(\"Address1_\") else Address2\n",
    "\n",
    "        Address[newCol] = customer_dict[oldCol]\n",
    "        del customer_dict[oldCol]\n",
    "\n",
    "    customer_dict[\"addressbookList\"] = addressbookList\n",
    "    \n",
    "    customer_dict[\"entityId\"] = \"customer_human_\" + str(customer_dict[\"entityId\"])\n",
    "    customer_dict[\"externalId\"] = \"customer_human_\" + str(customer_dict[\"externalId\"])\n",
    "\n",
    "    return customer_dict"
   ],
   "metadata": {
    "collapsed": false,
    "ExecuteTime": {
     "end_time": "2023-10-13T14:24:37.392726100Z",
     "start_time": "2023-10-13T14:24:37.372727500Z"
    }
   },
   "id": "eb14cbb2d0ac7bfe"
  },
  {
   "cell_type": "code",
   "execution_count": null,
   "outputs": [],
   "source": [],
   "metadata": {
    "collapsed": false
   },
   "id": "2d2771f2a2bcb2cd"
  },
  {
   "cell_type": "code",
   "execution_count": 36,
   "outputs": [
    {
     "data": {
      "text/plain": "[{\n     'nullFieldList': None,\n     'customForm': None,\n     'entityId': 'customer_human_10787123',\n     'altName': None,\n     'isPerson': True,\n     'phoneticName': None,\n     'salutation': None,\n     'firstName': 'Spangle',\n     'middleName': None,\n     'lastName': 'Flooper',\n     'companyName': None,\n     'entityStatus': {\n         'name': None,\n         'internalId': 13,\n         'externalId': None,\n         'type': None\n     },\n     'parent': None,\n     'phone': None,\n     'fax': None,\n     'email': 'example123@hotmail.com',\n     'url': None,\n     'defaultAddress': None,\n     'isInactive': None,\n     'category': None,\n     'title': None,\n     'printOnCheckAs': None,\n     'altPhone': None,\n     'homePhone': None,\n     'mobilePhone': None,\n     'altEmail': None,\n     'language': None,\n     'comments': None,\n     'numberFormat': None,\n     'negativeNumberFormat': None,\n     'dateCreated': None,\n     'image': None,\n     'emailPreference': None,\n     'subsidiary': {\n         'name': None,\n         'internalId': 2,\n         'externalId': None,\n         'type': None\n     },\n     'representingSubsidiary': None,\n     'salesRep': None,\n     'territory': None,\n     'contribPct': None,\n     'partner': None,\n     'salesGroup': None,\n     'vatRegNumber': None,\n     'accountNumber': None,\n     'taxExempt': None,\n     'terms': None,\n     'creditLimit': None,\n     'creditHoldOverride': None,\n     'monthlyClosing': None,\n     'overrideCurrencyFormat': None,\n     'displaySymbol': None,\n     'symbolPlacement': None,\n     'balance': None,\n     'overdueBalance': None,\n     'daysOverdue': None,\n     'unbilledOrders': None,\n     'consolUnbilledOrders': None,\n     'consolOverdueBalance': None,\n     'consolDepositBalance': None,\n     'consolBalance': None,\n     'consolAging': None,\n     'consolAging1': None,\n     'consolAging2': None,\n     'consolAging3': None,\n     'consolAging4': None,\n     'consolDaysOverdue': None,\n     'priceLevel': None,\n     'currency': {\n         'name': None,\n         'internalId': 1,\n         'externalId': None,\n         'type': None\n     },\n     'prefCCProcessor': None,\n     'depositBalance': None,\n     'shipComplete': None,\n     'taxable': None,\n     'taxItem': None,\n     'resaleNumber': None,\n     'aging': None,\n     'aging1': None,\n     'aging2': None,\n     'aging3': None,\n     'aging4': None,\n     'startDate': None,\n     'alcoholRecipientType': None,\n     'endDate': None,\n     'reminderDays': None,\n     'shippingItem': None,\n     'thirdPartyAcct': None,\n     'thirdPartyZipcode': None,\n     'thirdPartyCountry': None,\n     'giveAccess': None,\n     'estimatedBudget': None,\n     'accessRole': None,\n     'sendEmail': None,\n     'assignedWebSite': None,\n     'password': None,\n     'password2': None,\n     'requirePwdChange': None,\n     'campaignCategory': None,\n     'sourceWebSite': None,\n     'leadSource': None,\n     'receivablesAccount': None,\n     'drAccount': None,\n     'fxAccount': None,\n     'defaultOrderPriority': None,\n     'webLead': None,\n     'referrer': None,\n     'keywords': None,\n     'clickStream': None,\n     'lastPageVisited': None,\n     'visits': None,\n     'firstVisit': None,\n     'lastVisit': None,\n     'billPay': None,\n     'openingBalance': None,\n     'lastModifiedDate': None,\n     'openingBalanceDate': None,\n     'openingBalanceAccount': None,\n     'stage': None,\n     'emailTransactions': None,\n     'printTransactions': None,\n     'faxTransactions': None,\n     'defaultTaxReg': None,\n     'syncPartnerTeams': None,\n     'isBudgetApproved': None,\n     'globalSubscriptionStatus': None,\n     'salesReadiness': None,\n     'salesTeamList': None,\n     'buyingReason': None,\n     'downloadList': None,\n     'buyingTimeFrame': None,\n     'addressbookList': {\n         'addressbook': [\n             {\n                 'defaultShipping': 'FALSE',\n                 'defaultBilling': 'TRUE',\n                 'isResidential': None,\n                 'label': 'Bill-To',\n                 'addressbookAddress': {\n                     'nullFieldList': None,\n                     'internalId': None,\n                     'country': '_unitedKingdom',\n                     'attention': 'Spangle FLOOPER',\n                     'addressee': None,\n                     'addrPhone': 7790123456,\n                     'addr1': '18 The Sploof Porker',\n                     'addr2': None,\n                     'addr3': None,\n                     'city': 'Pitt',\n                     'state': 'Chesterton',\n                     'zip': 'AB32 1XY',\n                     'addrText': None,\n                     'override': None,\n                     'customFieldList': None\n                 },\n                 'internalId': None\n             },\n             {\n                 'defaultShipping': True,\n                 'defaultBilling': False,\n                 'isResidential': None,\n                 'label': 'Ship-To',\n                 'addressbookAddress': {\n                     'nullFieldList': None,\n                     'internalId': None,\n                     'country': '_unitedKingdom',\n                     'attention': 'Spangle FLOOPER',\n                     'addressee': None,\n                     'addrPhone': 7790123456,\n                     'addr1': '18 The Sploof Porker',\n                     'addr2': None,\n                     'addr3': None,\n                     'city': 'Pitt',\n                     'state': 'Chesterton',\n                     'zip': 'AB32 1XY',\n                     'addrText': None,\n                     'override': None,\n                     'customFieldList': None\n                 },\n                 'internalId': None\n             }\n         ],\n         'replaceAll': 'true'\n     },\n     'subscriptionsList': None,\n     'contactRolesList': None,\n     'currencyList': None,\n     'creditCardsList': None,\n     'partnersList': None,\n     'groupPricingList': None,\n     'itemPricingList': None,\n     'taxRegistrationList': None,\n     'defaultAllocationStrategy': None,\n     'customFieldList': None,\n     'internalId': None,\n     'externalId': 'customer_human_10787123'\n },\n {\n     'nullFieldList': None,\n     'customForm': None,\n     'entityId': 'customer_human_881003451',\n     'altName': None,\n     'isPerson': True,\n     'phoneticName': None,\n     'salutation': None,\n     'firstName': 'Barack',\n     'middleName': None,\n     'lastName': 'Obama',\n     'companyName': None,\n     'entityStatus': {\n         'name': None,\n         'internalId': 13,\n         'externalId': None,\n         'type': None\n     },\n     'parent': None,\n     'phone': None,\n     'fax': None,\n     'email': 'barack.obama@example.com',\n     'url': None,\n     'defaultAddress': None,\n     'isInactive': None,\n     'category': None,\n     'title': None,\n     'printOnCheckAs': None,\n     'altPhone': None,\n     'homePhone': None,\n     'mobilePhone': None,\n     'altEmail': None,\n     'language': None,\n     'comments': None,\n     'numberFormat': None,\n     'negativeNumberFormat': None,\n     'dateCreated': None,\n     'image': None,\n     'emailPreference': None,\n     'subsidiary': {\n         'name': None,\n         'internalId': 2,\n         'externalId': None,\n         'type': None\n     },\n     'representingSubsidiary': None,\n     'salesRep': None,\n     'territory': None,\n     'contribPct': None,\n     'partner': None,\n     'salesGroup': None,\n     'vatRegNumber': None,\n     'accountNumber': None,\n     'taxExempt': None,\n     'terms': None,\n     'creditLimit': None,\n     'creditHoldOverride': None,\n     'monthlyClosing': None,\n     'overrideCurrencyFormat': None,\n     'displaySymbol': None,\n     'symbolPlacement': None,\n     'balance': None,\n     'overdueBalance': None,\n     'daysOverdue': None,\n     'unbilledOrders': None,\n     'consolUnbilledOrders': None,\n     'consolOverdueBalance': None,\n     'consolDepositBalance': None,\n     'consolBalance': None,\n     'consolAging': None,\n     'consolAging1': None,\n     'consolAging2': None,\n     'consolAging3': None,\n     'consolAging4': None,\n     'consolDaysOverdue': None,\n     'priceLevel': None,\n     'currency': {\n         'name': None,\n         'internalId': 2,\n         'externalId': None,\n         'type': None\n     },\n     'prefCCProcessor': None,\n     'depositBalance': None,\n     'shipComplete': None,\n     'taxable': None,\n     'taxItem': None,\n     'resaleNumber': None,\n     'aging': None,\n     'aging1': None,\n     'aging2': None,\n     'aging3': None,\n     'aging4': None,\n     'startDate': None,\n     'alcoholRecipientType': None,\n     'endDate': None,\n     'reminderDays': None,\n     'shippingItem': None,\n     'thirdPartyAcct': None,\n     'thirdPartyZipcode': None,\n     'thirdPartyCountry': None,\n     'giveAccess': None,\n     'estimatedBudget': None,\n     'accessRole': None,\n     'sendEmail': None,\n     'assignedWebSite': None,\n     'password': None,\n     'password2': None,\n     'requirePwdChange': None,\n     'campaignCategory': None,\n     'sourceWebSite': None,\n     'leadSource': None,\n     'receivablesAccount': None,\n     'drAccount': None,\n     'fxAccount': None,\n     'defaultOrderPriority': None,\n     'webLead': None,\n     'referrer': None,\n     'keywords': None,\n     'clickStream': None,\n     'lastPageVisited': None,\n     'visits': None,\n     'firstVisit': None,\n     'lastVisit': None,\n     'billPay': None,\n     'openingBalance': None,\n     'lastModifiedDate': None,\n     'openingBalanceDate': None,\n     'openingBalanceAccount': None,\n     'stage': None,\n     'emailTransactions': None,\n     'printTransactions': None,\n     'faxTransactions': None,\n     'defaultTaxReg': None,\n     'syncPartnerTeams': None,\n     'isBudgetApproved': None,\n     'globalSubscriptionStatus': None,\n     'salesReadiness': None,\n     'salesTeamList': None,\n     'buyingReason': None,\n     'downloadList': None,\n     'buyingTimeFrame': None,\n     'addressbookList': {\n         'addressbook': [\n             {\n                 'defaultShipping': 'FALSE',\n                 'defaultBilling': 'TRUE',\n                 'isResidential': None,\n                 'label': 'Bill-To',\n                 'addressbookAddress': {\n                     'nullFieldList': None,\n                     'internalId': None,\n                     'country': '_heardAndMcDonaldIslands',\n                     'attention': 'Barack OBAMA',\n                     'addressee': None,\n                     'addrPhone': 1234567890,\n                     'addr1': '1600 Pennsylvania Avenue NW',\n                     'addr2': None,\n                     'addr3': None,\n                     'city': 'obama city',\n                     'state': 'Washington',\n                     'zip': 'DC 20500',\n                     'addrText': None,\n                     'override': None,\n                     'customFieldList': None\n                 },\n                 'internalId': None\n             },\n             {\n                 'defaultShipping': True,\n                 'defaultBilling': False,\n                 'isResidential': None,\n                 'label': 'Ship-To',\n                 'addressbookAddress': {\n                     'nullFieldList': None,\n                     'internalId': None,\n                     'country': '_unitedStates',\n                     'attention': 'Barack OBAMA',\n                     'addressee': None,\n                     'addrPhone': 1234567890,\n                     'addr1': '1600 Pennsylvania Avenue NW',\n                     'addr2': None,\n                     'addr3': None,\n                     'city': 'obama city',\n                     'state': 'Washington',\n                     'zip': 'DC 20500',\n                     'addrText': None,\n                     'override': None,\n                     'customFieldList': None\n                 },\n                 'internalId': None\n             }\n         ],\n         'replaceAll': 'true'\n     },\n     'subscriptionsList': None,\n     'contactRolesList': None,\n     'currencyList': None,\n     'creditCardsList': None,\n     'partnersList': None,\n     'groupPricingList': None,\n     'itemPricingList': None,\n     'taxRegistrationList': None,\n     'defaultAllocationStrategy': None,\n     'customFieldList': None,\n     'internalId': None,\n     'externalId': 'customer_human_881003451'\n },\n {\n     'nullFieldList': None,\n     'customForm': None,\n     'entityId': 'customer_human_881003452',\n     'altName': None,\n     'isPerson': True,\n     'phoneticName': None,\n     'salutation': None,\n     'firstName': 'FIRSTNAME',\n     'middleName': None,\n     'lastName': 'LASTNAME',\n     'companyName': None,\n     'entityStatus': {\n         'name': None,\n         'internalId': 13,\n         'externalId': None,\n         'type': None\n     },\n     'parent': None,\n     'phone': None,\n     'fax': None,\n     'email': 'EMAIL@EMAIL.com',\n     'url': None,\n     'defaultAddress': None,\n     'isInactive': None,\n     'category': None,\n     'title': None,\n     'printOnCheckAs': None,\n     'altPhone': None,\n     'homePhone': None,\n     'mobilePhone': None,\n     'altEmail': None,\n     'language': None,\n     'comments': None,\n     'numberFormat': None,\n     'negativeNumberFormat': None,\n     'dateCreated': None,\n     'image': None,\n     'emailPreference': None,\n     'subsidiary': {\n         'name': None,\n         'internalId': 2,\n         'externalId': None,\n         'type': None\n     },\n     'representingSubsidiary': None,\n     'salesRep': None,\n     'territory': None,\n     'contribPct': None,\n     'partner': None,\n     'salesGroup': None,\n     'vatRegNumber': None,\n     'accountNumber': None,\n     'taxExempt': None,\n     'terms': None,\n     'creditLimit': None,\n     'creditHoldOverride': None,\n     'monthlyClosing': None,\n     'overrideCurrencyFormat': None,\n     'displaySymbol': None,\n     'symbolPlacement': None,\n     'balance': None,\n     'overdueBalance': None,\n     'daysOverdue': None,\n     'unbilledOrders': None,\n     'consolUnbilledOrders': None,\n     'consolOverdueBalance': None,\n     'consolDepositBalance': None,\n     'consolBalance': None,\n     'consolAging': None,\n     'consolAging1': None,\n     'consolAging2': None,\n     'consolAging3': None,\n     'consolAging4': None,\n     'consolDaysOverdue': None,\n     'priceLevel': None,\n     'currency': {\n         'name': None,\n         'internalId': 1,\n         'externalId': None,\n         'type': None\n     },\n     'prefCCProcessor': None,\n     'depositBalance': None,\n     'shipComplete': None,\n     'taxable': None,\n     'taxItem': None,\n     'resaleNumber': None,\n     'aging': None,\n     'aging1': None,\n     'aging2': None,\n     'aging3': None,\n     'aging4': None,\n     'startDate': None,\n     'alcoholRecipientType': None,\n     'endDate': None,\n     'reminderDays': None,\n     'shippingItem': None,\n     'thirdPartyAcct': None,\n     'thirdPartyZipcode': None,\n     'thirdPartyCountry': None,\n     'giveAccess': None,\n     'estimatedBudget': None,\n     'accessRole': None,\n     'sendEmail': None,\n     'assignedWebSite': None,\n     'password': None,\n     'password2': None,\n     'requirePwdChange': None,\n     'campaignCategory': None,\n     'sourceWebSite': None,\n     'leadSource': None,\n     'receivablesAccount': None,\n     'drAccount': None,\n     'fxAccount': None,\n     'defaultOrderPriority': None,\n     'webLead': None,\n     'referrer': None,\n     'keywords': None,\n     'clickStream': None,\n     'lastPageVisited': None,\n     'visits': None,\n     'firstVisit': None,\n     'lastVisit': None,\n     'billPay': None,\n     'openingBalance': None,\n     'lastModifiedDate': None,\n     'openingBalanceDate': None,\n     'openingBalanceAccount': None,\n     'stage': None,\n     'emailTransactions': None,\n     'printTransactions': None,\n     'faxTransactions': None,\n     'defaultTaxReg': None,\n     'syncPartnerTeams': None,\n     'isBudgetApproved': None,\n     'globalSubscriptionStatus': None,\n     'salesReadiness': None,\n     'salesTeamList': None,\n     'buyingReason': None,\n     'downloadList': None,\n     'buyingTimeFrame': None,\n     'addressbookList': {\n         'addressbook': [\n             {\n                 'defaultShipping': 'ADDRESS1_DEFAULTSHIPTO',\n                 'defaultBilling': 'ADDRESS1_DEFAULTBILLTO',\n                 'isResidential': None,\n                 'label': 'ADDRESS1_ADDRESSNAME',\n                 'addressbookAddress': {\n                     'nullFieldList': None,\n                     'internalId': None,\n                     'country': '_heardAndMcDonaldIslands',\n                     'attention': 'ADDRESS1_ATTENTION',\n                     'addressee': None,\n                     'addrPhone': 1234567890,\n                     'addr1': 'ADDRESS1_LINE1',\n                     'addr2': None,\n                     'addr3': None,\n                     'city': 'ADDRESS1_CITY',\n                     'state': 'ADDRESS1_STATE',\n                     'zip': 'ZI12 3PP',\n                     'addrText': None,\n                     'override': None,\n                     'customFieldList': None\n                 },\n                 'internalId': None\n             },\n             {\n                 'defaultShipping': True,\n                 'defaultBilling': False,\n                 'isResidential': None,\n                 'label': 'ADDRESS2_ADDRESSNAME',\n                 'addressbookAddress': {\n                     'nullFieldList': None,\n                     'internalId': None,\n                     'country': '_unitedStates',\n                     'attention': 'ADDRESS2_ATTENTION',\n                     'addressee': None,\n                     'addrPhone': 1234567890,\n                     'addr1': 'ADDRESS2_LINE1',\n                     'addr2': None,\n                     'addr3': None,\n                     'city': 'ADDRESS2_CITY',\n                     'state': 'ADDRESS2_STATE',\n                     'zip': 'ZI12 3PP',\n                     'addrText': None,\n                     'override': None,\n                     'customFieldList': None\n                 },\n                 'internalId': None\n             }\n         ],\n         'replaceAll': 'true'\n     },\n     'subscriptionsList': None,\n     'contactRolesList': None,\n     'currencyList': None,\n     'creditCardsList': None,\n     'partnersList': None,\n     'groupPricingList': None,\n     'itemPricingList': None,\n     'taxRegistrationList': None,\n     'defaultAllocationStrategy': None,\n     'customFieldList': None,\n     'internalId': None,\n     'externalId': 'customer_human_881003452'\n },\n {\n     'nullFieldList': None,\n     'customForm': None,\n     'entityId': 'customer_human_4444444',\n     'altName': None,\n     'isPerson': True,\n     'phoneticName': None,\n     'salutation': None,\n     'firstName': 'newCHANGE',\n     'middleName': None,\n     'lastName': 'guyCHANGE',\n     'companyName': None,\n     'entityStatus': {\n         'name': None,\n         'internalId': 13,\n         'externalId': None,\n         'type': None\n     },\n     'parent': None,\n     'phone': None,\n     'fax': None,\n     'email': 'EMAIL@EMAIL.com',\n     'url': None,\n     'defaultAddress': None,\n     'isInactive': None,\n     'category': None,\n     'title': None,\n     'printOnCheckAs': None,\n     'altPhone': None,\n     'homePhone': None,\n     'mobilePhone': None,\n     'altEmail': None,\n     'language': None,\n     'comments': None,\n     'numberFormat': None,\n     'negativeNumberFormat': None,\n     'dateCreated': None,\n     'image': None,\n     'emailPreference': None,\n     'subsidiary': {\n         'name': None,\n         'internalId': 2,\n         'externalId': None,\n         'type': None\n     },\n     'representingSubsidiary': None,\n     'salesRep': None,\n     'territory': None,\n     'contribPct': None,\n     'partner': None,\n     'salesGroup': None,\n     'vatRegNumber': None,\n     'accountNumber': None,\n     'taxExempt': None,\n     'terms': None,\n     'creditLimit': None,\n     'creditHoldOverride': None,\n     'monthlyClosing': None,\n     'overrideCurrencyFormat': None,\n     'displaySymbol': None,\n     'symbolPlacement': None,\n     'balance': None,\n     'overdueBalance': None,\n     'daysOverdue': None,\n     'unbilledOrders': None,\n     'consolUnbilledOrders': None,\n     'consolOverdueBalance': None,\n     'consolDepositBalance': None,\n     'consolBalance': None,\n     'consolAging': None,\n     'consolAging1': None,\n     'consolAging2': None,\n     'consolAging3': None,\n     'consolAging4': None,\n     'consolDaysOverdue': None,\n     'priceLevel': None,\n     'currency': {\n         'name': None,\n         'internalId': 1,\n         'externalId': None,\n         'type': None\n     },\n     'prefCCProcessor': None,\n     'depositBalance': None,\n     'shipComplete': None,\n     'taxable': None,\n     'taxItem': None,\n     'resaleNumber': None,\n     'aging': None,\n     'aging1': None,\n     'aging2': None,\n     'aging3': None,\n     'aging4': None,\n     'startDate': None,\n     'alcoholRecipientType': None,\n     'endDate': None,\n     'reminderDays': None,\n     'shippingItem': None,\n     'thirdPartyAcct': None,\n     'thirdPartyZipcode': None,\n     'thirdPartyCountry': None,\n     'giveAccess': None,\n     'estimatedBudget': None,\n     'accessRole': None,\n     'sendEmail': None,\n     'assignedWebSite': None,\n     'password': None,\n     'password2': None,\n     'requirePwdChange': None,\n     'campaignCategory': None,\n     'sourceWebSite': None,\n     'leadSource': None,\n     'receivablesAccount': None,\n     'drAccount': None,\n     'fxAccount': None,\n     'defaultOrderPriority': None,\n     'webLead': None,\n     'referrer': None,\n     'keywords': None,\n     'clickStream': None,\n     'lastPageVisited': None,\n     'visits': None,\n     'firstVisit': None,\n     'lastVisit': None,\n     'billPay': None,\n     'openingBalance': None,\n     'lastModifiedDate': None,\n     'openingBalanceDate': None,\n     'openingBalanceAccount': None,\n     'stage': None,\n     'emailTransactions': None,\n     'printTransactions': None,\n     'faxTransactions': None,\n     'defaultTaxReg': None,\n     'syncPartnerTeams': None,\n     'isBudgetApproved': None,\n     'globalSubscriptionStatus': None,\n     'salesReadiness': None,\n     'salesTeamList': None,\n     'buyingReason': None,\n     'downloadList': None,\n     'buyingTimeFrame': None,\n     'addressbookList': {\n         'addressbook': [\n             {\n                 'defaultShipping': 'ADDRESS1_DEFAULTSHIPTO',\n                 'defaultBilling': 'ADDRESS1_DEFAULTBILLTO',\n                 'isResidential': None,\n                 'label': 'ADDRESS1_ADDRESSNAME',\n                 'addressbookAddress': {\n                     'nullFieldList': None,\n                     'internalId': None,\n                     'country': '_heardAndMcDonaldIslands',\n                     'attention': 'ADDRESS1_ATTENTION',\n                     'addressee': None,\n                     'addrPhone': 1234567890,\n                     'addr1': 'ADDRESS1_LINE1',\n                     'addr2': None,\n                     'addr3': None,\n                     'city': 'ADDRESS1_CITY',\n                     'state': 'ADDRESS1_STATE',\n                     'zip': 'ZI12 3PP',\n                     'addrText': None,\n                     'override': None,\n                     'customFieldList': None\n                 },\n                 'internalId': None\n             },\n             {\n                 'defaultShipping': True,\n                 'defaultBilling': False,\n                 'isResidential': None,\n                 'label': 'ADDRESS2_ADDRESSNAME',\n                 'addressbookAddress': {\n                     'nullFieldList': None,\n                     'internalId': None,\n                     'country': '_unitedStates',\n                     'attention': 'ADDRESS2_ATTENTION',\n                     'addressee': None,\n                     'addrPhone': 1234567890,\n                     'addr1': 'ADDRESS2_LINE1',\n                     'addr2': None,\n                     'addr3': None,\n                     'city': 'ADDRESS2_CITY',\n                     'state': 'ADDRESS2_STATE',\n                     'zip': 'ZI12 3PP',\n                     'addrText': None,\n                     'override': None,\n                     'customFieldList': None\n                 },\n                 'internalId': None\n             }\n         ],\n         'replaceAll': 'true'\n     },\n     'subscriptionsList': None,\n     'contactRolesList': None,\n     'currencyList': None,\n     'creditCardsList': None,\n     'partnersList': None,\n     'groupPricingList': None,\n     'itemPricingList': None,\n     'taxRegistrationList': None,\n     'defaultAllocationStrategy': None,\n     'customFieldList': None,\n     'internalId': None,\n     'externalId': 'customer_human_1119993334'\n }]"
     },
     "execution_count": 36,
     "metadata": {},
     "output_type": "execute_result"
    }
   ],
   "source": [
    "test_df = pandas.read_csv(\"test_input_dummy_customers.csv\")\n",
    "\n",
    "test_list = [Customer(**to_dict(row)) for index, row in test_df.iterrows()]\n",
    "test_list"
   ],
   "metadata": {
    "collapsed": false,
    "ExecuteTime": {
     "end_time": "2023-10-13T14:24:39.167009900Z",
     "start_time": "2023-10-13T14:24:39.148040500Z"
    }
   },
   "id": "6bee6a28fea167c0"
  },
  {
   "cell_type": "code",
   "execution_count": 37,
   "outputs": [
    {
     "name": "stdout",
     "output_type": "stream",
     "text": [
      "thread (0) start_row: 0, end_row: 1\n",
      "thread (1) start_row: 1, end_row: 2\n",
      "thread (2) start_row: 2, end_row: 3\n",
      "thread (3) start_row: 3, end_row: 4\n",
      "+++++++++ new thread (0) +++++++++\n",
      "+++++++++ new thread (2) +++++++++\n",
      "+++++++++ new thread (1) +++++++++\n",
      "+++++++++ new thread (3) +++++++++\n",
      "> maybe uploaded [1] records\n",
      "0:00:07.190571\n",
      "> maybe uploaded [2] records\n",
      "0:00:07.197571\n",
      "+++++++++ thread completed (1) +++++++++\n",
      "+++++++++ thread completed (0) +++++++++\n",
      "> maybe uploaded [3] records\n",
      "0:00:07.327448\n",
      "> maybe uploaded [4] records\n",
      "0:00:07.335426\n",
      "+++++++++ thread completed (3) +++++++++\n",
      "+++++++++ thread completed (2) +++++++++\n"
     ]
    }
   ],
   "source": [
    "import multithread_uploader\n",
    "reload(multithread_uploader)\n",
    "from multithread_uploader import upload_all_these_records\n",
    "upload_all_these_records(test_list, api, \"addList\")"
   ],
   "metadata": {
    "collapsed": false,
    "ExecuteTime": {
     "end_time": "2023-10-13T14:24:48.815794800Z",
     "start_time": "2023-10-13T14:24:41.439356600Z"
    }
   },
   "id": "61d7f9784dbe2486"
  },
  {
   "cell_type": "code",
   "execution_count": 38,
   "outputs": [
    {
     "data": {
      "text/plain": "   key_0  afterSubmitFailed        code                      message  \\\n0      0                NaN  DUP_ENTITY  This entity already exists.   \n1      0                0.0         NaN                          NaN   \n0      0                NaN  DUP_ENTITY  This entity already exists.   \n1      0                0.0         NaN                          NaN   \n0      0                NaN  DUP_ENTITY  This entity already exists.   \n1      0                0.0         NaN                          NaN   \n0      0                NaN  DUP_ENTITY  This entity already exists.   \n1      0                0.0         NaN                          NaN   \n\n   num_status_details  success   type  accessRole  accountNumber  \\\n0                   1    False  ERROR         NaN            NaN   \n1                   1     True  ERROR         NaN            NaN   \n0                   1    False  ERROR         NaN            NaN   \n1                   1     True  ERROR         NaN            NaN   \n0                   1    False  ERROR         NaN            NaN   \n1                   1     True  ERROR         NaN            NaN   \n0                   1    False  ERROR         NaN            NaN   \n1                   1     True  ERROR         NaN            NaN   \n\n                                     addressbookList  ...  thirdPartyAcct  \\\n0  {\\n    'addressbook': [\\n        {\\n          ...  ...             NaN   \n1  {\\n    'addressbook': [\\n        {\\n          ...  ...             NaN   \n0  {\\n    'addressbook': [\\n        {\\n          ...  ...             NaN   \n1  {\\n    'addressbook': [\\n        {\\n          ...  ...             NaN   \n0  {\\n    'addressbook': [\\n        {\\n          ...  ...             NaN   \n1  {\\n    'addressbook': [\\n        {\\n          ...  ...             NaN   \n0  {\\n    'addressbook': [\\n        {\\n          ...  ...             NaN   \n1  {\\n    'addressbook': [\\n        {\\n          ...  ...             NaN   \n\n   thirdPartyCountry  thirdPartyZipcode  title  unbilledOrders  url  \\\n0                NaN                NaN    NaN             NaN  NaN   \n1                NaN                NaN    NaN             NaN  NaN   \n0                NaN                NaN    NaN             NaN  NaN   \n1                NaN                NaN    NaN             NaN  NaN   \n0                NaN                NaN    NaN             NaN  NaN   \n1                NaN                NaN    NaN             NaN  NaN   \n0                NaN                NaN    NaN             NaN  NaN   \n1                NaN                NaN    NaN             NaN  NaN   \n\n   vatRegNumber  visits  webLead  api_method  \n0           NaN     NaN      NaN     addList  \n1           NaN     NaN      NaN     addList  \n0           NaN     NaN      NaN     addList  \n1           NaN     NaN      NaN     addList  \n0           NaN     NaN      NaN     addList  \n1           NaN     NaN      NaN     addList  \n0           NaN     NaN      NaN     addList  \n1           NaN     NaN      NaN     addList  \n\n[8 rows x 147 columns]",
      "text/html": "<div>\n<style scoped>\n    .dataframe tbody tr th:only-of-type {\n        vertical-align: middle;\n    }\n\n    .dataframe tbody tr th {\n        vertical-align: top;\n    }\n\n    .dataframe thead th {\n        text-align: right;\n    }\n</style>\n<table border=\"1\" class=\"dataframe\">\n  <thead>\n    <tr style=\"text-align: right;\">\n      <th></th>\n      <th>key_0</th>\n      <th>afterSubmitFailed</th>\n      <th>code</th>\n      <th>message</th>\n      <th>num_status_details</th>\n      <th>success</th>\n      <th>type</th>\n      <th>accessRole</th>\n      <th>accountNumber</th>\n      <th>addressbookList</th>\n      <th>...</th>\n      <th>thirdPartyAcct</th>\n      <th>thirdPartyCountry</th>\n      <th>thirdPartyZipcode</th>\n      <th>title</th>\n      <th>unbilledOrders</th>\n      <th>url</th>\n      <th>vatRegNumber</th>\n      <th>visits</th>\n      <th>webLead</th>\n      <th>api_method</th>\n    </tr>\n  </thead>\n  <tbody>\n    <tr>\n      <th>0</th>\n      <td>0</td>\n      <td>NaN</td>\n      <td>DUP_ENTITY</td>\n      <td>This entity already exists.</td>\n      <td>1</td>\n      <td>False</td>\n      <td>ERROR</td>\n      <td>NaN</td>\n      <td>NaN</td>\n      <td>{\\n    'addressbook': [\\n        {\\n          ...</td>\n      <td>...</td>\n      <td>NaN</td>\n      <td>NaN</td>\n      <td>NaN</td>\n      <td>NaN</td>\n      <td>NaN</td>\n      <td>NaN</td>\n      <td>NaN</td>\n      <td>NaN</td>\n      <td>NaN</td>\n      <td>addList</td>\n    </tr>\n    <tr>\n      <th>1</th>\n      <td>0</td>\n      <td>0.0</td>\n      <td>NaN</td>\n      <td>NaN</td>\n      <td>1</td>\n      <td>True</td>\n      <td>ERROR</td>\n      <td>NaN</td>\n      <td>NaN</td>\n      <td>{\\n    'addressbook': [\\n        {\\n          ...</td>\n      <td>...</td>\n      <td>NaN</td>\n      <td>NaN</td>\n      <td>NaN</td>\n      <td>NaN</td>\n      <td>NaN</td>\n      <td>NaN</td>\n      <td>NaN</td>\n      <td>NaN</td>\n      <td>NaN</td>\n      <td>addList</td>\n    </tr>\n    <tr>\n      <th>0</th>\n      <td>0</td>\n      <td>NaN</td>\n      <td>DUP_ENTITY</td>\n      <td>This entity already exists.</td>\n      <td>1</td>\n      <td>False</td>\n      <td>ERROR</td>\n      <td>NaN</td>\n      <td>NaN</td>\n      <td>{\\n    'addressbook': [\\n        {\\n          ...</td>\n      <td>...</td>\n      <td>NaN</td>\n      <td>NaN</td>\n      <td>NaN</td>\n      <td>NaN</td>\n      <td>NaN</td>\n      <td>NaN</td>\n      <td>NaN</td>\n      <td>NaN</td>\n      <td>NaN</td>\n      <td>addList</td>\n    </tr>\n    <tr>\n      <th>1</th>\n      <td>0</td>\n      <td>0.0</td>\n      <td>NaN</td>\n      <td>NaN</td>\n      <td>1</td>\n      <td>True</td>\n      <td>ERROR</td>\n      <td>NaN</td>\n      <td>NaN</td>\n      <td>{\\n    'addressbook': [\\n        {\\n          ...</td>\n      <td>...</td>\n      <td>NaN</td>\n      <td>NaN</td>\n      <td>NaN</td>\n      <td>NaN</td>\n      <td>NaN</td>\n      <td>NaN</td>\n      <td>NaN</td>\n      <td>NaN</td>\n      <td>NaN</td>\n      <td>addList</td>\n    </tr>\n    <tr>\n      <th>0</th>\n      <td>0</td>\n      <td>NaN</td>\n      <td>DUP_ENTITY</td>\n      <td>This entity already exists.</td>\n      <td>1</td>\n      <td>False</td>\n      <td>ERROR</td>\n      <td>NaN</td>\n      <td>NaN</td>\n      <td>{\\n    'addressbook': [\\n        {\\n          ...</td>\n      <td>...</td>\n      <td>NaN</td>\n      <td>NaN</td>\n      <td>NaN</td>\n      <td>NaN</td>\n      <td>NaN</td>\n      <td>NaN</td>\n      <td>NaN</td>\n      <td>NaN</td>\n      <td>NaN</td>\n      <td>addList</td>\n    </tr>\n    <tr>\n      <th>1</th>\n      <td>0</td>\n      <td>0.0</td>\n      <td>NaN</td>\n      <td>NaN</td>\n      <td>1</td>\n      <td>True</td>\n      <td>ERROR</td>\n      <td>NaN</td>\n      <td>NaN</td>\n      <td>{\\n    'addressbook': [\\n        {\\n          ...</td>\n      <td>...</td>\n      <td>NaN</td>\n      <td>NaN</td>\n      <td>NaN</td>\n      <td>NaN</td>\n      <td>NaN</td>\n      <td>NaN</td>\n      <td>NaN</td>\n      <td>NaN</td>\n      <td>NaN</td>\n      <td>addList</td>\n    </tr>\n    <tr>\n      <th>0</th>\n      <td>0</td>\n      <td>NaN</td>\n      <td>DUP_ENTITY</td>\n      <td>This entity already exists.</td>\n      <td>1</td>\n      <td>False</td>\n      <td>ERROR</td>\n      <td>NaN</td>\n      <td>NaN</td>\n      <td>{\\n    'addressbook': [\\n        {\\n          ...</td>\n      <td>...</td>\n      <td>NaN</td>\n      <td>NaN</td>\n      <td>NaN</td>\n      <td>NaN</td>\n      <td>NaN</td>\n      <td>NaN</td>\n      <td>NaN</td>\n      <td>NaN</td>\n      <td>NaN</td>\n      <td>addList</td>\n    </tr>\n    <tr>\n      <th>1</th>\n      <td>0</td>\n      <td>0.0</td>\n      <td>NaN</td>\n      <td>NaN</td>\n      <td>1</td>\n      <td>True</td>\n      <td>ERROR</td>\n      <td>NaN</td>\n      <td>NaN</td>\n      <td>{\\n    'addressbook': [\\n        {\\n          ...</td>\n      <td>...</td>\n      <td>NaN</td>\n      <td>NaN</td>\n      <td>NaN</td>\n      <td>NaN</td>\n      <td>NaN</td>\n      <td>NaN</td>\n      <td>NaN</td>\n      <td>NaN</td>\n      <td>NaN</td>\n      <td>addList</td>\n    </tr>\n  </tbody>\n</table>\n<p>8 rows × 147 columns</p>\n</div>"
     },
     "execution_count": 38,
     "metadata": {},
     "output_type": "execute_result"
    }
   ],
   "source": [
    "import os\n",
    "pandas.concat(\n",
    "    [\n",
    "        pandas.read_csv(\"thread_logs/\" + filename)\n",
    "        for filename in os.listdir(\"thread_logs\")\n",
    "    ]\n",
    ")"
   ],
   "metadata": {
    "collapsed": false,
    "ExecuteTime": {
     "end_time": "2023-10-13T14:24:51.689865800Z",
     "start_time": "2023-10-13T14:24:51.629431100Z"
    }
   },
   "id": "8ec37d9feb7aae84"
  }
 ],
 "metadata": {
  "kernelspec": {
   "display_name": "Python 3",
   "language": "python",
   "name": "python3"
  },
  "language_info": {
   "codemirror_mode": {
    "name": "ipython",
    "version": 2
   },
   "file_extension": ".py",
   "mimetype": "text/x-python",
   "name": "python",
   "nbconvert_exporter": "python",
   "pygments_lexer": "ipython2",
   "version": "2.7.6"
  }
 },
 "nbformat": 4,
 "nbformat_minor": 5
}
