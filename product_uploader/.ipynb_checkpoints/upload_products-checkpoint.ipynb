{
 "cells": [
  {
   "cell_type": "markdown",
   "metadata": {},
   "source": [
    "# welcome to the product uploader!"
   ]
  },
  {
   "cell_type": "code",
   "execution_count": 1,
   "outputs": [
    {
     "name": "stdout",
     "output_type": "stream",
     "text": [
      "Requirement already satisfied: apache-airflow==2.5.1 in c:\\users\\thomas.fuller\\notdrive\\venv\\simplyvenv\\lib\\site-packages (from -r requirements.txt (line 1)) (2.5.1)\n",
      "Requirement already satisfied: apache-airflow-providers-dbt-cloud in c:\\users\\thomas.fuller\\notdrive\\venv\\simplyvenv\\lib\\site-packages (from -r requirements.txt (line 2)) (3.3.0)\n",
      "Requirement already satisfied: apache-airflow-providers-google in c:\\users\\thomas.fuller\\notdrive\\venv\\simplyvenv\\lib\\site-packages (from -r requirements.txt (line 3)) (10.3.0)\n",
      "Requirement already satisfied: apache-airflow-providers-microsoft-mssql in c:\\users\\thomas.fuller\\notdrive\\venv\\simplyvenv\\lib\\site-packages (from -r requirements.txt (line 4)) (3.4.1)\n",
      "Requirement already satisfied: requests in c:\\users\\thomas.fuller\\notdrive\\venv\\simplyvenv\\lib\\site-packages (from -r requirements.txt (line 5)) (2.31.0)\n",
      "Requirement already satisfied: google-cloud-secret-manager in c:\\users\\thomas.fuller\\notdrive\\venv\\simplyvenv\\lib\\site-packages (from -r requirements.txt (line 6)) (2.16.2)\n",
      "Requirement already satisfied: google-cloud-storage in c:\\users\\thomas.fuller\\notdrive\\venv\\simplyvenv\\lib\\site-packages (from -r requirements.txt (line 7)) (2.10.0)\n",
      "Requirement already satisfied: google in c:\\users\\thomas.fuller\\notdrive\\venv\\simplyvenv\\lib\\site-packages (from -r requirements.txt (line 8)) (3.0.0)\n",
      "Requirement already satisfied: pandas in c:\\users\\thomas.fuller\\notdrive\\venv\\simplyvenv\\lib\\site-packages (from -r requirements.txt (line 10)) (2.0.3)\n",
      "Requirement already satisfied: zeep in c:\\users\\thomas.fuller\\notdrive\\venv\\simplyvenv\\lib\\site-packages (from -r requirements.txt (line 11)) (4.2.1)\n",
      "Requirement already satisfied: gcsfs in c:\\users\\thomas.fuller\\notdrive\\venv\\simplyvenv\\lib\\site-packages (from -r requirements.txt (line 13)) (2023.6.0)\n",
      "Requirement already satisfied: pandas-gbq in c:\\users\\thomas.fuller\\notdrive\\venv\\simplyvenv\\lib\\site-packages (from -r requirements.txt (line 15)) (0.19.2)\n",
      "Requirement already satisfied: netsuitesdk in c:\\users\\thomas.fuller\\notdrive\\venv\\simplyvenv\\lib\\site-packages (from -r requirements.txt (line 16)) (2.19.2)\n",
      "Requirement already satisfied: isoweek in c:\\users\\thomas.fuller\\notdrive\\venv\\simplyvenv\\lib\\site-packages (from -r requirements.txt (line 17)) (1.3.3)\n",
      "Requirement already satisfied: slackclient in c:\\users\\thomas.fuller\\notdrive\\venv\\simplyvenv\\lib\\site-packages (from -r requirements.txt (line 18)) (2.9.4)\n",
      "Requirement already satisfied: openpyxl in c:\\users\\thomas.fuller\\notdrive\\venv\\simplyvenv\\lib\\site-packages (from -r requirements.txt (line 19)) (3.1.2)\n",
      "Requirement already satisfied: black in c:\\users\\thomas.fuller\\notdrive\\venv\\simplyvenv\\lib\\site-packages (from -r requirements.txt (line 20)) (23.7.0)\n",
      "Requirement already satisfied: isort in c:\\users\\thomas.fuller\\notdrive\\venv\\simplyvenv\\lib\\site-packages (from -r requirements.txt (line 21)) (5.12.0)\n",
      "Requirement already satisfied: flake8 in c:\\users\\thomas.fuller\\notdrive\\venv\\simplyvenv\\lib\\site-packages (from -r requirements.txt (line 22)) (6.1.0)\n",
      "Requirement already satisfied: sendgrid in c:\\users\\thomas.fuller\\notdrive\\venv\\simplyvenv\\lib\\site-packages (from -r requirements.txt (line 23)) (6.10.0)\n",
      "Requirement already satisfied: pyodbc in c:\\users\\thomas.fuller\\notdrive\\venv\\simplyvenv\\lib\\site-packages (from -r requirements.txt (line 24)) (4.0.39)\n",
      "Requirement already satisfied: pymssql in c:\\users\\thomas.fuller\\notdrive\\venv\\simplyvenv\\lib\\site-packages (from -r requirements.txt (line 25)) (2.2.7)\n",
      "Requirement already satisfied: pymysql in c:\\users\\thomas.fuller\\notdrive\\venv\\simplyvenv\\lib\\site-packages (from -r requirements.txt (line 26)) (1.1.0)\n",
      "Requirement already satisfied: facebook-business==17.0.4 in c:\\users\\thomas.fuller\\notdrive\\venv\\simplyvenv\\lib\\site-packages (from -r requirements.txt (line 28)) (17.0.4)\n",
      "Requirement already satisfied: paramiko in c:\\users\\thomas.fuller\\notdrive\\venv\\simplyvenv\\lib\\site-packages (from -r requirements.txt (line 29)) (3.3.1)\n",
      "Requirement already satisfied: icecream in c:\\users\\thomas.fuller\\notdrive\\venv\\simplyvenv\\lib\\site-packages (from -r requirements.txt (line 30)) (2.1.3)\n",
      "Requirement already satisfied: packaging>=14.0 in c:\\users\\thomas.fuller\\notdrive\\venv\\simplyvenv\\lib\\site-packages (from apache-airflow==2.5.1->-r requirements.txt (line 1)) (23.1)\n",
      "Requirement already satisfied: itsdangerous>=2.0 in c:\\users\\thomas.fuller\\notdrive\\venv\\simplyvenv\\lib\\site-packages (from apache-airflow==2.5.1->-r requirements.txt (line 1)) (2.1.2)\n",
      "Requirement already satisfied: jinja2>=3.0.0 in c:\\users\\thomas.fuller\\notdrive\\venv\\simplyvenv\\lib\\site-packages (from apache-airflow==2.5.1->-r requirements.txt (line 1)) (3.1.2)\n",
      "Requirement already satisfied: cattrs>=22.1.0 in c:\\users\\thomas.fuller\\notdrive\\venv\\simplyvenv\\lib\\site-packages (from apache-airflow==2.5.1->-r requirements.txt (line 1)) (23.1.2)\n",
      "Requirement already satisfied: flask-caching>=1.5.0 in c:\\users\\thomas.fuller\\notdrive\\venv\\simplyvenv\\lib\\site-packages (from apache-airflow==2.5.1->-r requirements.txt (line 1)) (2.0.2)\n",
      "Requirement already satisfied: markdown-it-py>=2.1.0 in c:\\users\\thomas.fuller\\notdrive\\venv\\simplyvenv\\lib\\site-packages (from apache-airflow==2.5.1->-r requirements.txt (line 1)) (3.0.0)\n",
      "Requirement already satisfied: connexion[flask]>=2.10.0 in c:\\users\\thomas.fuller\\notdrive\\venv\\simplyvenv\\lib\\site-packages (from apache-airflow==2.5.1->-r requirements.txt (line 1)) (2.14.2)\n",
      "Requirement already satisfied: httpx in c:\\users\\thomas.fuller\\notdrive\\venv\\simplyvenv\\lib\\site-packages (from apache-airflow==2.5.1->-r requirements.txt (line 1)) (0.24.1)\n",
      "Requirement already satisfied: sqlalchemy<2.0,>=1.4 in c:\\users\\thomas.fuller\\notdrive\\venv\\simplyvenv\\lib\\site-packages (from apache-airflow==2.5.1->-r requirements.txt (line 1)) (1.4.49)\n",
      "Requirement already satisfied: cryptography>=0.9.3 in c:\\users\\thomas.fuller\\notdrive\\venv\\simplyvenv\\lib\\site-packages (from apache-airflow==2.5.1->-r requirements.txt (line 1)) (41.0.2)\n",
      "Requirement already satisfied: pyjwt>=2.0.0 in c:\\users\\thomas.fuller\\notdrive\\venv\\simplyvenv\\lib\\site-packages (from apache-airflow==2.5.1->-r requirements.txt (line 1)) (2.7.0)\n",
      "Requirement already satisfied: attrs>=22.1.0 in c:\\users\\thomas.fuller\\notdrive\\venv\\simplyvenv\\lib\\site-packages (from apache-airflow==2.5.1->-r requirements.txt (line 1)) (23.1.0)\n",
      "Requirement already satisfied: graphviz>=0.12 in c:\\users\\thomas.fuller\\notdrive\\venv\\simplyvenv\\lib\\site-packages (from apache-airflow==2.5.1->-r requirements.txt (line 1)) (0.20.1)\n",
      "Requirement already satisfied: termcolor>=1.1.0 in c:\\users\\thomas.fuller\\notdrive\\venv\\simplyvenv\\lib\\site-packages (from apache-airflow==2.5.1->-r requirements.txt (line 1)) (2.3.0)\n",
      "Requirement already satisfied: flask-appbuilder==4.1.4 in c:\\users\\thomas.fuller\\notdrive\\venv\\simplyvenv\\lib\\site-packages (from apache-airflow==2.5.1->-r requirements.txt (line 1)) (4.1.4)\n",
      "Requirement already satisfied: sqlalchemy-jsonfield>=1.0 in c:\\users\\thomas.fuller\\notdrive\\venv\\simplyvenv\\lib\\site-packages (from apache-airflow==2.5.1->-r requirements.txt (line 1)) (1.0.1.post0)\n",
      "Requirement already satisfied: apache-airflow-providers-imap in c:\\users\\thomas.fuller\\notdrive\\venv\\simplyvenv\\lib\\site-packages (from apache-airflow==2.5.1->-r requirements.txt (line 1)) (3.2.2)\n",
      "Requirement already satisfied: deprecated>=1.2.13 in c:\\users\\thomas.fuller\\notdrive\\venv\\simplyvenv\\lib\\site-packages (from apache-airflow==2.5.1->-r requirements.txt (line 1)) (1.2.14)\n",
      "Requirement already satisfied: flask<2.3,>=2.2 in c:\\users\\thomas.fuller\\notdrive\\venv\\simplyvenv\\lib\\site-packages (from apache-airflow==2.5.1->-r requirements.txt (line 1)) (2.2.5)\n",
      "Requirement already satisfied: lazy-object-proxy in c:\\users\\thomas.fuller\\notdrive\\venv\\simplyvenv\\lib\\site-packages (from apache-airflow==2.5.1->-r requirements.txt (line 1)) (1.9.0)\n",
      "Requirement already satisfied: marshmallow-oneofschema>=2.0.1 in c:\\users\\thomas.fuller\\notdrive\\venv\\simplyvenv\\lib\\site-packages (from apache-airflow==2.5.1->-r requirements.txt (line 1)) (3.0.1)\n",
      "Requirement already satisfied: pluggy>=1.0 in c:\\users\\thomas.fuller\\notdrive\\venv\\simplyvenv\\lib\\site-packages (from apache-airflow==2.5.1->-r requirements.txt (line 1)) (1.2.0)\n",
      "Requirement already satisfied: flask-session>=0.4.0 in c:\\users\\thomas.fuller\\notdrive\\venv\\simplyvenv\\lib\\site-packages (from apache-airflow==2.5.1->-r requirements.txt (line 1)) (0.5.0)\n",
      "Requirement already satisfied: configupdater>=3.1.1 in c:\\users\\thomas.fuller\\notdrive\\venv\\simplyvenv\\lib\\site-packages (from apache-airflow==2.5.1->-r requirements.txt (line 1)) (3.1.1)\n",
      "Requirement already satisfied: alembic<2.0,>=1.6.3 in c:\\users\\thomas.fuller\\notdrive\\venv\\simplyvenv\\lib\\site-packages (from apache-airflow==2.5.1->-r requirements.txt (line 1)) (1.11.1)\n",
      "Requirement already satisfied: python-nvd3>=0.15.0 in c:\\users\\thomas.fuller\\notdrive\\venv\\simplyvenv\\lib\\site-packages (from apache-airflow==2.5.1->-r requirements.txt (line 1)) (0.15.0)\n",
      "Requirement already satisfied: python-daemon>=2.2.4 in c:\\users\\thomas.fuller\\notdrive\\venv\\simplyvenv\\lib\\site-packages (from apache-airflow==2.5.1->-r requirements.txt (line 1)) (3.0.1)\n",
      "Requirement already satisfied: cron-descriptor>=1.2.24 in c:\\users\\thomas.fuller\\notdrive\\venv\\simplyvenv\\lib\\site-packages (from apache-airflow==2.5.1->-r requirements.txt (line 1)) (1.4.0)\n",
      "Requirement already satisfied: mdit-py-plugins>=0.3.0 in c:\\users\\thomas.fuller\\notdrive\\venv\\simplyvenv\\lib\\site-packages (from apache-airflow==2.5.1->-r requirements.txt (line 1)) (0.4.0)\n",
      "Requirement already satisfied: linkify-it-py>=2.0.0 in c:\\users\\thomas.fuller\\notdrive\\venv\\simplyvenv\\lib\\site-packages (from apache-airflow==2.5.1->-r requirements.txt (line 1)) (2.0.2)\n",
      "Requirement already satisfied: flask-wtf>=0.15 in c:\\users\\thomas.fuller\\notdrive\\venv\\simplyvenv\\lib\\site-packages (from apache-airflow==2.5.1->-r requirements.txt (line 1)) (1.1.1)\n",
      "Requirement already satisfied: psutil>=4.2.0 in c:\\users\\thomas.fuller\\notdrive\\venv\\simplyvenv\\lib\\site-packages (from apache-airflow==2.5.1->-r requirements.txt (line 1)) (5.9.5)\n",
      "Requirement already satisfied: rich>=12.4.4 in c:\\users\\thomas.fuller\\notdrive\\venv\\simplyvenv\\lib\\site-packages (from apache-airflow==2.5.1->-r requirements.txt (line 1)) (13.4.2)\n",
      "Requirement already satisfied: setproctitle>=1.1.8 in c:\\users\\thomas.fuller\\notdrive\\venv\\simplyvenv\\lib\\site-packages (from apache-airflow==2.5.1->-r requirements.txt (line 1)) (1.3.2)\n",
      "Requirement already satisfied: werkzeug>=2.0 in c:\\users\\thomas.fuller\\notdrive\\venv\\simplyvenv\\lib\\site-packages (from apache-airflow==2.5.1->-r requirements.txt (line 1)) (2.2.3)\n",
      "Requirement already satisfied: apache-airflow-providers-http in c:\\users\\thomas.fuller\\notdrive\\venv\\simplyvenv\\lib\\site-packages (from apache-airflow==2.5.1->-r requirements.txt (line 1)) (4.4.2)\n",
      "Requirement already satisfied: python-dateutil>=2.3 in c:\\users\\thomas.fuller\\notdrive\\venv\\simplyvenv\\lib\\site-packages (from apache-airflow==2.5.1->-r requirements.txt (line 1)) (2.8.2)\n",
      "Requirement already satisfied: colorlog<5.0,>=4.0.2 in c:\\users\\thomas.fuller\\notdrive\\venv\\simplyvenv\\lib\\site-packages (from apache-airflow==2.5.1->-r requirements.txt (line 1)) (4.8.0)\n",
      "Requirement already satisfied: pathspec~=0.9.0 in c:\\users\\thomas.fuller\\notdrive\\venv\\simplyvenv\\lib\\site-packages (from apache-airflow==2.5.1->-r requirements.txt (line 1)) (0.9.0)\n",
      "Requirement already satisfied: apache-airflow-providers-sqlite in c:\\users\\thomas.fuller\\notdrive\\venv\\simplyvenv\\lib\\site-packages (from apache-airflow==2.5.1->-r requirements.txt (line 1)) (3.4.2)\n",
      "Requirement already satisfied: flask-login>=0.6.2 in c:\\users\\thomas.fuller\\notdrive\\venv\\simplyvenv\\lib\\site-packages (from apache-airflow==2.5.1->-r requirements.txt (line 1)) (0.6.2)\n",
      "Requirement already satisfied: pendulum>=2.0 in c:\\users\\thomas.fuller\\notdrive\\venv\\simplyvenv\\lib\\site-packages (from apache-airflow==2.5.1->-r requirements.txt (line 1)) (2.1.2)\n",
      "Requirement already satisfied: tenacity>=6.2.0 in c:\\users\\thomas.fuller\\notdrive\\venv\\simplyvenv\\lib\\site-packages (from apache-airflow==2.5.1->-r requirements.txt (line 1)) (8.2.2)\n",
      "Requirement already satisfied: unicodecsv>=0.14.1 in c:\\users\\thomas.fuller\\notdrive\\venv\\simplyvenv\\lib\\site-packages (from apache-airflow==2.5.1->-r requirements.txt (line 1)) (0.14.1)\n",
      "Requirement already satisfied: markdown>=3.0 in c:\\users\\thomas.fuller\\notdrive\\venv\\simplyvenv\\lib\\site-packages (from apache-airflow==2.5.1->-r requirements.txt (line 1)) (3.4.3)\n",
      "Requirement already satisfied: markupsafe>=1.1.1 in c:\\users\\thomas.fuller\\notdrive\\venv\\simplyvenv\\lib\\site-packages (from apache-airflow==2.5.1->-r requirements.txt (line 1)) (2.1.3)\n",
      "Requirement already satisfied: apache-airflow-providers-ftp in c:\\users\\thomas.fuller\\notdrive\\venv\\simplyvenv\\lib\\site-packages (from apache-airflow==2.5.1->-r requirements.txt (line 1)) (3.4.2)\n",
      "Requirement already satisfied: jsonschema>=3.2.0 in c:\\users\\thomas.fuller\\notdrive\\venv\\simplyvenv\\lib\\site-packages (from apache-airflow==2.5.1->-r requirements.txt (line 1)) (4.18.2)\n",
      "Requirement already satisfied: tabulate>=0.7.5 in c:\\users\\thomas.fuller\\notdrive\\venv\\simplyvenv\\lib\\site-packages (from apache-airflow==2.5.1->-r requirements.txt (line 1)) (0.9.0)\n",
      "Requirement already satisfied: python-slugify>=5.0 in c:\\users\\thomas.fuller\\notdrive\\venv\\simplyvenv\\lib\\site-packages (from apache-airflow==2.5.1->-r requirements.txt (line 1)) (8.0.1)\n",
      "Requirement already satisfied: argcomplete>=1.10 in c:\\users\\thomas.fuller\\notdrive\\venv\\simplyvenv\\lib\\site-packages (from apache-airflow==2.5.1->-r requirements.txt (line 1)) (3.1.1)\n",
      "Requirement already satisfied: croniter>=0.3.17 in c:\\users\\thomas.fuller\\notdrive\\venv\\simplyvenv\\lib\\site-packages (from apache-airflow==2.5.1->-r requirements.txt (line 1)) (1.4.1)\n",
      "Requirement already satisfied: dill>=0.2.2 in c:\\users\\thomas.fuller\\notdrive\\venv\\simplyvenv\\lib\\site-packages (from apache-airflow==2.5.1->-r requirements.txt (line 1)) (0.3.6)\n",
      "Requirement already satisfied: pygments>=2.0.1 in c:\\users\\thomas.fuller\\notdrive\\venv\\simplyvenv\\lib\\site-packages (from apache-airflow==2.5.1->-r requirements.txt (line 1)) (2.15.1)\n",
      "Requirement already satisfied: apache-airflow-providers-common-sql in c:\\users\\thomas.fuller\\notdrive\\venv\\simplyvenv\\lib\\site-packages (from apache-airflow==2.5.1->-r requirements.txt (line 1)) (1.6.0)\n",
      "Requirement already satisfied: gunicorn>=20.1.0 in c:\\users\\thomas.fuller\\notdrive\\venv\\simplyvenv\\lib\\site-packages (from apache-airflow==2.5.1->-r requirements.txt (line 1)) (20.1.0)\n",
      "Requirement already satisfied: typing-extensions>=4.0.0 in c:\\users\\thomas.fuller\\notdrive\\venv\\simplyvenv\\lib\\site-packages (from apache-airflow==2.5.1->-r requirements.txt (line 1)) (4.7.1)\n",
      "Requirement already satisfied: blinker in c:\\users\\thomas.fuller\\notdrive\\venv\\simplyvenv\\lib\\site-packages (from apache-airflow==2.5.1->-r requirements.txt (line 1)) (1.6.2)\n",
      "Requirement already satisfied: lockfile>=0.12.2 in c:\\users\\thomas.fuller\\notdrive\\venv\\simplyvenv\\lib\\site-packages (from apache-airflow==2.5.1->-r requirements.txt (line 1)) (0.12.2)\n",
      "Requirement already satisfied: six>=1.7.3 in c:\\users\\thomas.fuller\\notdrive\\venv\\simplyvenv\\lib\\site-packages (from facebook-business==17.0.4->-r requirements.txt (line 28)) (1.16.0)\n",
      "Requirement already satisfied: aiohttp in c:\\users\\thomas.fuller\\notdrive\\venv\\simplyvenv\\lib\\site-packages (from facebook-business==17.0.4->-r requirements.txt (line 28)) (3.8.4)\n",
      "Requirement already satisfied: curlify>=2.1.0 in c:\\users\\thomas.fuller\\notdrive\\venv\\simplyvenv\\lib\\site-packages (from facebook-business==17.0.4->-r requirements.txt (line 28)) (2.2.1)\n",
      "Requirement already satisfied: pycountry>=19.8.18 in c:\\users\\thomas.fuller\\notdrive\\venv\\simplyvenv\\lib\\site-packages (from facebook-business==17.0.4->-r requirements.txt (line 28)) (22.3.5)\n",
      "Requirement already satisfied: Flask-JWT-Extended<5.0.0,>=4.0.0 in c:\\users\\thomas.fuller\\notdrive\\venv\\simplyvenv\\lib\\site-packages (from flask-appbuilder==4.1.4->apache-airflow==2.5.1->-r requirements.txt (line 1)) (4.5.2)\n",
      "Requirement already satisfied: prison<1.0.0,>=0.2.1 in c:\\users\\thomas.fuller\\notdrive\\venv\\simplyvenv\\lib\\site-packages (from flask-appbuilder==4.1.4->apache-airflow==2.5.1->-r requirements.txt (line 1)) (0.2.1)\n",
      "Requirement already satisfied: colorama<1,>=0.3.9 in c:\\users\\thomas.fuller\\notdrive\\venv\\simplyvenv\\lib\\site-packages (from flask-appbuilder==4.1.4->apache-airflow==2.5.1->-r requirements.txt (line 1)) (0.4.6)\n",
      "Requirement already satisfied: marshmallow-sqlalchemy<0.27.0,>=0.22.0 in c:\\users\\thomas.fuller\\notdrive\\venv\\simplyvenv\\lib\\site-packages (from flask-appbuilder==4.1.4->apache-airflow==2.5.1->-r requirements.txt (line 1)) (0.26.1)\n",
      "Requirement already satisfied: apispec[yaml]<4,>=3.3 in c:\\users\\thomas.fuller\\notdrive\\venv\\simplyvenv\\lib\\site-packages (from flask-appbuilder==4.1.4->apache-airflow==2.5.1->-r requirements.txt (line 1)) (3.3.2)\n",
      "Requirement already satisfied: WTForms<4 in c:\\users\\thomas.fuller\\notdrive\\venv\\simplyvenv\\lib\\site-packages (from flask-appbuilder==4.1.4->apache-airflow==2.5.1->-r requirements.txt (line 1)) (3.0.1)\n",
      "Requirement already satisfied: sqlalchemy-utils<1,>=0.32.21 in c:\\users\\thomas.fuller\\notdrive\\venv\\simplyvenv\\lib\\site-packages (from flask-appbuilder==4.1.4->apache-airflow==2.5.1->-r requirements.txt (line 1)) (0.41.1)\n",
      "Requirement already satisfied: Flask-SQLAlchemy<3,>=2.4 in c:\\users\\thomas.fuller\\notdrive\\venv\\simplyvenv\\lib\\site-packages (from flask-appbuilder==4.1.4->apache-airflow==2.5.1->-r requirements.txt (line 1)) (2.5.1)\n",
      "Requirement already satisfied: marshmallow-enum<2,>=1.5.1 in c:\\users\\thomas.fuller\\notdrive\\venv\\simplyvenv\\lib\\site-packages (from flask-appbuilder==4.1.4->apache-airflow==2.5.1->-r requirements.txt (line 1)) (1.5.1)\n",
      "Requirement already satisfied: email-validator<2,>=1.0.5 in c:\\users\\thomas.fuller\\notdrive\\venv\\simplyvenv\\lib\\site-packages (from flask-appbuilder==4.1.4->apache-airflow==2.5.1->-r requirements.txt (line 1)) (1.3.1)\n",
      "Requirement already satisfied: marshmallow<4,>=3 in c:\\users\\thomas.fuller\\notdrive\\venv\\simplyvenv\\lib\\site-packages (from flask-appbuilder==4.1.4->apache-airflow==2.5.1->-r requirements.txt (line 1)) (3.19.0)\n",
      "Requirement already satisfied: click<9,>=8 in c:\\users\\thomas.fuller\\notdrive\\venv\\simplyvenv\\lib\\site-packages (from flask-appbuilder==4.1.4->apache-airflow==2.5.1->-r requirements.txt (line 1)) (8.1.4)\n",
      "Requirement already satisfied: Flask-Babel<3,>=1 in c:\\users\\thomas.fuller\\notdrive\\venv\\simplyvenv\\lib\\site-packages (from flask-appbuilder==4.1.4->apache-airflow==2.5.1->-r requirements.txt (line 1)) (2.0.0)\n",
      "Requirement already satisfied: asgiref in c:\\users\\thomas.fuller\\notdrive\\venv\\simplyvenv\\lib\\site-packages (from apache-airflow-providers-dbt-cloud->-r requirements.txt (line 2)) (3.7.2)\n",
      "Requirement already satisfied: google-cloud-translate>=3.11.0 in c:\\users\\thomas.fuller\\notdrive\\venv\\simplyvenv\\lib\\site-packages (from apache-airflow-providers-google->-r requirements.txt (line 3)) (3.11.2)\n",
      "Requirement already satisfied: google-auth>=1.0.0 in c:\\users\\thomas.fuller\\notdrive\\venv\\simplyvenv\\lib\\site-packages (from apache-airflow-providers-google->-r requirements.txt (line 3)) (2.22.0)\n",
      "Requirement already satisfied: google-cloud-orchestration-airflow>=1.7.0 in c:\\users\\thomas.fuller\\notdrive\\venv\\simplyvenv\\lib\\site-packages (from apache-airflow-providers-google->-r requirements.txt (line 3)) (1.9.1)\n",
      "Requirement already satisfied: google-auth-httplib2>=0.0.1 in c:\\users\\thomas.fuller\\notdrive\\venv\\simplyvenv\\lib\\site-packages (from apache-airflow-providers-google->-r requirements.txt (line 3)) (0.1.0)\n",
      "Requirement already satisfied: google-api-core>=2.11.0 in c:\\users\\thomas.fuller\\notdrive\\venv\\simplyvenv\\lib\\site-packages (from apache-airflow-providers-google->-r requirements.txt (line 3)) (2.11.0)\n",
      "Requirement already satisfied: google-cloud-redis>=2.12.0 in c:\\users\\thomas.fuller\\notdrive\\venv\\simplyvenv\\lib\\site-packages (from apache-airflow-providers-google->-r requirements.txt (line 3)) (2.13.1)\n",
      "Requirement already satisfied: google-cloud-videointelligence>=2.11.0 in c:\\users\\thomas.fuller\\notdrive\\venv\\simplyvenv\\lib\\site-packages (from apache-airflow-providers-google->-r requirements.txt (line 3)) (2.11.3)\n",
      "Requirement already satisfied: google-cloud-bigtable>=2.17.0 in c:\\users\\thomas.fuller\\notdrive\\venv\\simplyvenv\\lib\\site-packages (from apache-airflow-providers-google->-r requirements.txt (line 3)) (2.19.0)\n",
      "Requirement already satisfied: google-cloud-build>=3.13.0 in c:\\users\\thomas.fuller\\notdrive\\venv\\simplyvenv\\lib\\site-packages (from apache-airflow-providers-google->-r requirements.txt (line 3)) (3.18.0)\n",
      "Requirement already satisfied: proto-plus>=1.19.6 in c:\\users\\thomas.fuller\\notdrive\\venv\\simplyvenv\\lib\\site-packages (from apache-airflow-providers-google->-r requirements.txt (line 3)) (1.22.3)\n",
      "Requirement already satisfied: google-cloud-bigquery-datatransfer>=3.11.0 in c:\\users\\thomas.fuller\\notdrive\\venv\\simplyvenv\\lib\\site-packages (from apache-airflow-providers-google->-r requirements.txt (line 3)) (3.11.2)\n",
      "Requirement already satisfied: grpcio-gcp>=0.2.2 in c:\\users\\thomas.fuller\\notdrive\\venv\\simplyvenv\\lib\\site-packages (from apache-airflow-providers-google->-r requirements.txt (line 3)) (0.2.2)\n",
      "Requirement already satisfied: google-cloud-pubsub>=2.15.0 in c:\\users\\thomas.fuller\\notdrive\\venv\\simplyvenv\\lib\\site-packages (from apache-airflow-providers-google->-r requirements.txt (line 3)) (2.18.0)\n",
      "Requirement already satisfied: json-merge-patch>=0.2 in c:\\users\\thomas.fuller\\notdrive\\venv\\simplyvenv\\lib\\site-packages (from apache-airflow-providers-google->-r requirements.txt (line 3)) (0.2)\n",
      "Requirement already satisfied: sqlalchemy-bigquery>=1.2.1 in c:\\users\\thomas.fuller\\notdrive\\venv\\simplyvenv\\lib\\site-packages (from apache-airflow-providers-google->-r requirements.txt (line 3)) (1.7.0)\n",
      "Requirement already satisfied: google-cloud-tasks>=2.13.0 in c:\\users\\thomas.fuller\\notdrive\\venv\\simplyvenv\\lib\\site-packages (from apache-airflow-providers-google->-r requirements.txt (line 3)) (2.13.2)\n",
      "Requirement already satisfied: google-api-python-client>=1.6.0 in c:\\users\\thomas.fuller\\notdrive\\venv\\simplyvenv\\lib\\site-packages (from apache-airflow-providers-google->-r requirements.txt (line 3)) (2.93.0)\n",
      "Requirement already satisfied: google-cloud-dataproc-metastore>=1.10.0 in c:\\users\\thomas.fuller\\notdrive\\venv\\simplyvenv\\lib\\site-packages (from apache-airflow-providers-google->-r requirements.txt (line 3)) (1.12.0)\n",
      "Requirement already satisfied: google-cloud-logging>=3.5.0 in c:\\users\\thomas.fuller\\notdrive\\venv\\simplyvenv\\lib\\site-packages (from apache-airflow-providers-google->-r requirements.txt (line 3)) (3.5.0)\n",
      "Requirement already satisfied: gcloud-aio-storage in c:\\users\\thomas.fuller\\notdrive\\venv\\simplyvenv\\lib\\site-packages (from apache-airflow-providers-google->-r requirements.txt (line 3)) (8.2.0)\n",
      "Requirement already satisfied: google-cloud-dataplex>=1.4.2 in c:\\users\\thomas.fuller\\notdrive\\venv\\simplyvenv\\lib\\site-packages (from apache-airflow-providers-google->-r requirements.txt (line 3)) (1.5.1)\n",
      "Requirement already satisfied: google-cloud-monitoring>=2.14.1 in c:\\users\\thomas.fuller\\notdrive\\venv\\simplyvenv\\lib\\site-packages (from apache-airflow-providers-google->-r requirements.txt (line 3)) (2.15.1)\n",
      "Requirement already satisfied: google-cloud-workflows>=1.10.0 in c:\\users\\thomas.fuller\\notdrive\\venv\\simplyvenv\\lib\\site-packages (from apache-airflow-providers-google->-r requirements.txt (line 3)) (1.10.2)\n",
      "Requirement already satisfied: looker-sdk>=22.2.0 in c:\\users\\thomas.fuller\\notdrive\\venv\\simplyvenv\\lib\\site-packages (from apache-airflow-providers-google->-r requirements.txt (line 3)) (23.10.0)\n",
      "Requirement already satisfied: google-cloud-vision>=3.4.0 in c:\\users\\thomas.fuller\\notdrive\\venv\\simplyvenv\\lib\\site-packages (from apache-airflow-providers-google->-r requirements.txt (line 3)) (3.4.4)\n",
      "Requirement already satisfied: google-cloud-os-login>=2.9.1 in c:\\users\\thomas.fuller\\notdrive\\venv\\simplyvenv\\lib\\site-packages (from apache-airflow-providers-google->-r requirements.txt (line 3)) (2.10.0)\n",
      "Requirement already satisfied: google-cloud-aiplatform>=1.22.1 in c:\\users\\thomas.fuller\\notdrive\\venv\\simplyvenv\\lib\\site-packages (from apache-airflow-providers-google->-r requirements.txt (line 3)) (1.28.0)\n",
      "Requirement already satisfied: google-cloud-automl>=2.11.0 in c:\\users\\thomas.fuller\\notdrive\\venv\\simplyvenv\\lib\\site-packages (from apache-airflow-providers-google->-r requirements.txt (line 3)) (2.11.2)\n",
      "Requirement already satisfied: gcloud-aio-auth<5.0.0,>=4.0.0 in c:\\users\\thomas.fuller\\notdrive\\venv\\simplyvenv\\lib\\site-packages (from apache-airflow-providers-google->-r requirements.txt (line 3)) (4.2.3)\n",
      "Requirement already satisfied: google-cloud-memcache>=1.7.0 in c:\\users\\thomas.fuller\\notdrive\\venv\\simplyvenv\\lib\\site-packages (from apache-airflow-providers-google->-r requirements.txt (line 3)) (1.7.2)\n",
      "Requirement already satisfied: google-cloud-texttospeech>=2.14.1 in c:\\users\\thomas.fuller\\notdrive\\venv\\simplyvenv\\lib\\site-packages (from apache-airflow-providers-google->-r requirements.txt (line 3)) (2.14.1)\n",
      "Requirement already satisfied: google-cloud-dataproc>=5.4.0 in c:\\users\\thomas.fuller\\notdrive\\venv\\simplyvenv\\lib\\site-packages (from apache-airflow-providers-google->-r requirements.txt (line 3)) (5.4.2)\n",
      "Requirement already satisfied: google-cloud-datacatalog>=3.11.1 in c:\\users\\thomas.fuller\\notdrive\\venv\\simplyvenv\\lib\\site-packages (from apache-airflow-providers-google->-r requirements.txt (line 3)) (3.14.0)\n",
      "Requirement already satisfied: google-cloud-compute>=1.10.0 in c:\\users\\thomas.fuller\\notdrive\\venv\\simplyvenv\\lib\\site-packages (from apache-airflow-providers-google->-r requirements.txt (line 3)) (1.13.0)\n",
      "Requirement already satisfied: google-cloud-language>=2.9.0 in c:\\users\\thomas.fuller\\notdrive\\venv\\simplyvenv\\lib\\site-packages (from apache-airflow-providers-google->-r requirements.txt (line 3)) (2.10.1)\n",
      "Requirement already satisfied: google-cloud-speech>=2.18.0 in c:\\users\\thomas.fuller\\notdrive\\venv\\simplyvenv\\lib\\site-packages (from apache-airflow-providers-google->-r requirements.txt (line 3)) (2.21.0)\n",
      "Requirement already satisfied: google-cloud-dataflow-client>=0.8.2 in c:\\users\\thomas.fuller\\notdrive\\venv\\simplyvenv\\lib\\site-packages (from apache-airflow-providers-google->-r requirements.txt (line 3)) (0.8.4)\n",
      "Requirement already satisfied: google-cloud-dlp>=3.12.0 in c:\\users\\thomas.fuller\\notdrive\\venv\\simplyvenv\\lib\\site-packages (from apache-airflow-providers-google->-r requirements.txt (line 3)) (3.12.2)\n",
      "Requirement already satisfied: google-cloud-kms>=2.15.0 in c:\\users\\thomas.fuller\\notdrive\\venv\\simplyvenv\\lib\\site-packages (from apache-airflow-providers-google->-r requirements.txt (line 3)) (2.18.0)\n",
      "Requirement already satisfied: gcloud-aio-bigquery>=6.1.2 in c:\\users\\thomas.fuller\\notdrive\\venv\\simplyvenv\\lib\\site-packages (from apache-airflow-providers-google->-r requirements.txt (line 3)) (6.3.0)\n",
      "Requirement already satisfied: google-cloud-dataform>=0.5.0 in c:\\users\\thomas.fuller\\notdrive\\venv\\simplyvenv\\lib\\site-packages (from apache-airflow-providers-google->-r requirements.txt (line 3)) (0.5.2)\n",
      "Requirement already satisfied: google-cloud-container>=2.17.4 in c:\\users\\thomas.fuller\\notdrive\\venv\\simplyvenv\\lib\\site-packages (from apache-airflow-providers-google->-r requirements.txt (line 3)) (2.26.0)\n",
      "Requirement already satisfied: google-ads>=21.2.0 in c:\\users\\thomas.fuller\\notdrive\\venv\\simplyvenv\\lib\\site-packages (from apache-airflow-providers-google->-r requirements.txt (line 3)) (21.2.0)\n",
      "Requirement already satisfied: PyOpenSSL in c:\\users\\thomas.fuller\\notdrive\\venv\\simplyvenv\\lib\\site-packages (from apache-airflow-providers-google->-r requirements.txt (line 3)) (23.2.0)\n",
      "Requirement already satisfied: google-cloud-spanner>=3.11.1 in c:\\users\\thomas.fuller\\notdrive\\venv\\simplyvenv\\lib\\site-packages (from apache-airflow-providers-google->-r requirements.txt (line 3)) (3.36.0)\n",
      "Requirement already satisfied: urllib3<3,>=1.21.1 in c:\\users\\thomas.fuller\\notdrive\\venv\\simplyvenv\\lib\\site-packages (from requests->-r requirements.txt (line 5)) (1.26.16)\n",
      "Requirement already satisfied: charset-normalizer<4,>=2 in c:\\users\\thomas.fuller\\notdrive\\venv\\simplyvenv\\lib\\site-packages (from requests->-r requirements.txt (line 5)) (3.2.0)\n",
      "Requirement already satisfied: certifi>=2017.4.17 in c:\\users\\thomas.fuller\\notdrive\\venv\\simplyvenv\\lib\\site-packages (from requests->-r requirements.txt (line 5)) (2023.5.7)\n",
      "Requirement already satisfied: idna<4,>=2.5 in c:\\users\\thomas.fuller\\notdrive\\venv\\simplyvenv\\lib\\site-packages (from requests->-r requirements.txt (line 5)) (3.4)\n",
      "Requirement already satisfied: protobuf!=3.20.0,!=3.20.1,!=4.21.0,!=4.21.1,!=4.21.2,!=4.21.3,!=4.21.4,!=4.21.5,<5.0.0dev,>=3.19.5 in c:\\users\\thomas.fuller\\notdrive\\venv\\simplyvenv\\lib\\site-packages (from google-cloud-secret-manager->-r requirements.txt (line 6)) (4.23.4)\n",
      "Requirement already satisfied: grpc-google-iam-v1<1.0.0dev,>=0.12.4 in c:\\users\\thomas.fuller\\notdrive\\venv\\simplyvenv\\lib\\site-packages (from google-cloud-secret-manager->-r requirements.txt (line 6)) (0.12.6)\n",
      "Requirement already satisfied: google-resumable-media>=2.3.2 in c:\\users\\thomas.fuller\\notdrive\\venv\\simplyvenv\\lib\\site-packages (from google-cloud-storage->-r requirements.txt (line 7)) (2.5.0)\n",
      "Requirement already satisfied: google-cloud-core<3.0dev,>=2.3.0 in c:\\users\\thomas.fuller\\notdrive\\venv\\simplyvenv\\lib\\site-packages (from google-cloud-storage->-r requirements.txt (line 7)) (2.3.3)\n",
      "Requirement already satisfied: beautifulsoup4 in c:\\users\\thomas.fuller\\notdrive\\venv\\simplyvenv\\lib\\site-packages (from google->-r requirements.txt (line 8)) (4.12.2)\n",
      "Requirement already satisfied: tzdata>=2022.1 in c:\\users\\thomas.fuller\\notdrive\\venv\\simplyvenv\\lib\\site-packages (from pandas->-r requirements.txt (line 10)) (2023.3)\n",
      "Requirement already satisfied: pytz>=2020.1 in c:\\users\\thomas.fuller\\notdrive\\venv\\simplyvenv\\lib\\site-packages (from pandas->-r requirements.txt (line 10)) (2023.3)\n",
      "Requirement already satisfied: numpy>=1.20.3 in c:\\users\\thomas.fuller\\notdrive\\venv\\simplyvenv\\lib\\site-packages (from pandas->-r requirements.txt (line 10)) (1.25.1)\n",
      "Requirement already satisfied: platformdirs>=1.4.0 in c:\\users\\thomas.fuller\\notdrive\\venv\\simplyvenv\\lib\\site-packages (from zeep->-r requirements.txt (line 11)) (3.8.1)\n",
      "Requirement already satisfied: lxml>=4.6.0 in c:\\users\\thomas.fuller\\notdrive\\venv\\simplyvenv\\lib\\site-packages (from zeep->-r requirements.txt (line 11)) (4.9.3)\n",
      "Requirement already satisfied: isodate>=0.5.4 in c:\\users\\thomas.fuller\\notdrive\\venv\\simplyvenv\\lib\\site-packages (from zeep->-r requirements.txt (line 11)) (0.6.1)\n",
      "Requirement already satisfied: requests-file>=1.5.1 in c:\\users\\thomas.fuller\\notdrive\\venv\\simplyvenv\\lib\\site-packages (from zeep->-r requirements.txt (line 11)) (1.5.1)\n",
      "Requirement already satisfied: requests-toolbelt>=0.7.1 in c:\\users\\thomas.fuller\\notdrive\\venv\\simplyvenv\\lib\\site-packages (from zeep->-r requirements.txt (line 11)) (1.0.0)\n",
      "Requirement already satisfied: fsspec==2023.6.0 in c:\\users\\thomas.fuller\\notdrive\\venv\\simplyvenv\\lib\\site-packages (from gcsfs->-r requirements.txt (line 13)) (2023.6.0)\n",
      "Requirement already satisfied: google-auth-oauthlib in c:\\users\\thomas.fuller\\notdrive\\venv\\simplyvenv\\lib\\site-packages (from gcsfs->-r requirements.txt (line 13)) (1.0.0)\n",
      "Requirement already satisfied: decorator>4.1.2 in c:\\users\\thomas.fuller\\notdrive\\venv\\simplyvenv\\lib\\site-packages (from gcsfs->-r requirements.txt (line 13)) (5.1.1)\n",
      "Requirement already satisfied: google-cloud-bigquery-storage<3.0.0dev,>=2.16.2 in c:\\users\\thomas.fuller\\notdrive\\venv\\simplyvenv\\lib\\site-packages (from pandas-gbq->-r requirements.txt (line 15)) (2.22.0)\n",
      "Requirement already satisfied: setuptools in c:\\users\\thomas.fuller\\notdrive\\venv\\simplyvenv\\lib\\site-packages (from pandas-gbq->-r requirements.txt (line 15)) (66.1.1)\n",
      "Requirement already satisfied: db-dtypes<2.0.0,>=1.0.4 in c:\\users\\thomas.fuller\\notdrive\\venv\\simplyvenv\\lib\\site-packages (from pandas-gbq->-r requirements.txt (line 15)) (1.1.1)\n",
      "Requirement already satisfied: pyarrow>=3.0.0 in c:\\users\\thomas.fuller\\notdrive\\venv\\simplyvenv\\lib\\site-packages (from pandas-gbq->-r requirements.txt (line 15)) (12.0.1)\n",
      "Requirement already satisfied: google-cloud-bigquery!=2.4.*,<4.0.0dev,>=3.3.5 in c:\\users\\thomas.fuller\\notdrive\\venv\\simplyvenv\\lib\\site-packages (from pandas-gbq->-r requirements.txt (line 15)) (3.11.3)\n",
      "Requirement already satisfied: pydata-google-auth>=1.5.0 in c:\\users\\thomas.fuller\\notdrive\\venv\\simplyvenv\\lib\\site-packages (from pandas-gbq->-r requirements.txt (line 15)) (1.8.1)\n",
      "Requirement already satisfied: et-xmlfile in c:\\users\\thomas.fuller\\notdrive\\venv\\simplyvenv\\lib\\site-packages (from openpyxl->-r requirements.txt (line 19)) (1.1.0)\n",
      "Requirement already satisfied: mypy-extensions>=0.4.3 in c:\\users\\thomas.fuller\\notdrive\\venv\\simplyvenv\\lib\\site-packages (from black->-r requirements.txt (line 20)) (1.0.0)\n",
      "Requirement already satisfied: tomli>=1.1.0 in c:\\users\\thomas.fuller\\notdrive\\venv\\simplyvenv\\lib\\site-packages (from black->-r requirements.txt (line 20)) (2.0.1)\n",
      "Requirement already satisfied: pycodestyle<2.12.0,>=2.11.0 in c:\\users\\thomas.fuller\\notdrive\\venv\\simplyvenv\\lib\\site-packages (from flake8->-r requirements.txt (line 22)) (2.11.0)\n",
      "Requirement already satisfied: mccabe<0.8.0,>=0.7.0 in c:\\users\\thomas.fuller\\notdrive\\venv\\simplyvenv\\lib\\site-packages (from flake8->-r requirements.txt (line 22)) (0.7.0)\n",
      "Requirement already satisfied: pyflakes<3.2.0,>=3.1.0 in c:\\users\\thomas.fuller\\notdrive\\venv\\simplyvenv\\lib\\site-packages (from flake8->-r requirements.txt (line 22)) (3.1.0)\n",
      "Requirement already satisfied: starkbank-ecdsa>=2.0.1 in c:\\users\\thomas.fuller\\notdrive\\venv\\simplyvenv\\lib\\site-packages (from sendgrid->-r requirements.txt (line 23)) (2.2.0)\n",
      "Requirement already satisfied: python-http-client>=3.2.1 in c:\\users\\thomas.fuller\\notdrive\\venv\\simplyvenv\\lib\\site-packages (from sendgrid->-r requirements.txt (line 23)) (3.3.7)\n",
      "Requirement already satisfied: pynacl>=1.5 in c:\\users\\thomas.fuller\\notdrive\\venv\\simplyvenv\\lib\\site-packages (from paramiko->-r requirements.txt (line 29)) (1.5.0)\n",
      "Requirement already satisfied: bcrypt>=3.2 in c:\\users\\thomas.fuller\\notdrive\\venv\\simplyvenv\\lib\\site-packages (from paramiko->-r requirements.txt (line 29)) (4.0.1)\n",
      "Requirement already satisfied: asttokens>=2.0.1 in c:\\users\\thomas.fuller\\notdrive\\venv\\simplyvenv\\lib\\site-packages (from icecream->-r requirements.txt (line 30)) (2.4.0)\n",
      "Requirement already satisfied: executing>=0.3.1 in c:\\users\\thomas.fuller\\notdrive\\venv\\simplyvenv\\lib\\site-packages (from icecream->-r requirements.txt (line 30)) (2.0.0)\n",
      "Requirement already satisfied: aiosignal>=1.1.2 in c:\\users\\thomas.fuller\\notdrive\\venv\\simplyvenv\\lib\\site-packages (from aiohttp->facebook-business==17.0.4->-r requirements.txt (line 28)) (1.3.1)\n",
      "Requirement already satisfied: async-timeout<5.0,>=4.0.0a3 in c:\\users\\thomas.fuller\\notdrive\\venv\\simplyvenv\\lib\\site-packages (from aiohttp->facebook-business==17.0.4->-r requirements.txt (line 28)) (4.0.2)\n",
      "Requirement already satisfied: yarl<2.0,>=1.0 in c:\\users\\thomas.fuller\\notdrive\\venv\\simplyvenv\\lib\\site-packages (from aiohttp->facebook-business==17.0.4->-r requirements.txt (line 28)) (1.9.2)\n",
      "Requirement already satisfied: frozenlist>=1.1.1 in c:\\users\\thomas.fuller\\notdrive\\venv\\simplyvenv\\lib\\site-packages (from aiohttp->facebook-business==17.0.4->-r requirements.txt (line 28)) (1.4.0)\n",
      "Requirement already satisfied: multidict<7.0,>=4.5 in c:\\users\\thomas.fuller\\notdrive\\venv\\simplyvenv\\lib\\site-packages (from aiohttp->facebook-business==17.0.4->-r requirements.txt (line 28)) (6.0.4)\n",
      "Requirement already satisfied: Mako in c:\\users\\thomas.fuller\\notdrive\\venv\\simplyvenv\\lib\\site-packages (from alembic<2.0,>=1.6.3->apache-airflow==2.5.1->-r requirements.txt (line 1)) (1.2.4)\n",
      "Requirement already satisfied: sqlparse>=0.4.2 in c:\\users\\thomas.fuller\\notdrive\\venv\\simplyvenv\\lib\\site-packages (from apache-airflow-providers-common-sql->apache-airflow==2.5.1->-r requirements.txt (line 1)) (0.4.4)\n",
      "Requirement already satisfied: exceptiongroup in c:\\users\\thomas.fuller\\notdrive\\venv\\simplyvenv\\lib\\site-packages (from cattrs>=22.1.0->apache-airflow==2.5.1->-r requirements.txt (line 1)) (1.1.2)\n",
      "Requirement already satisfied: PyYAML<7,>=5.1 in c:\\users\\thomas.fuller\\notdrive\\venv\\simplyvenv\\lib\\site-packages (from connexion[flask]>=2.10.0->apache-airflow==2.5.1->-r requirements.txt (line 1)) (6.0)\n",
      "Requirement already satisfied: inflection<0.6,>=0.3.1 in c:\\users\\thomas.fuller\\notdrive\\venv\\simplyvenv\\lib\\site-packages (from connexion[flask]>=2.10.0->apache-airflow==2.5.1->-r requirements.txt (line 1)) (0.5.1)\n",
      "Requirement already satisfied: clickclick<21,>=1.2 in c:\\users\\thomas.fuller\\notdrive\\venv\\simplyvenv\\lib\\site-packages (from connexion[flask]>=2.10.0->apache-airflow==2.5.1->-r requirements.txt (line 1)) (20.10.2)\n",
      "Requirement already satisfied: cffi>=1.12 in c:\\users\\thomas.fuller\\notdrive\\venv\\simplyvenv\\lib\\site-packages (from cryptography>=0.9.3->apache-airflow==2.5.1->-r requirements.txt (line 1)) (1.15.1)\n",
      "Requirement already satisfied: wrapt<2,>=1.10 in c:\\users\\thomas.fuller\\notdrive\\venv\\simplyvenv\\lib\\site-packages (from deprecated>=1.2.13->apache-airflow==2.5.1->-r requirements.txt (line 1)) (1.15.0)\n",
      "Requirement already satisfied: importlib-metadata>=3.6.0 in c:\\users\\thomas.fuller\\notdrive\\venv\\simplyvenv\\lib\\site-packages (from flask<2.3,>=2.2->apache-airflow==2.5.1->-r requirements.txt (line 1)) (6.8.0)\n",
      "Requirement already satisfied: cachelib<0.10.0,>=0.9.0 in c:\\users\\thomas.fuller\\notdrive\\venv\\simplyvenv\\lib\\site-packages (from flask-caching>=1.5.0->apache-airflow==2.5.1->-r requirements.txt (line 1)) (0.9.0)\n",
      "Requirement already satisfied: backoff<3.0.0,>=1.0.0 in c:\\users\\thomas.fuller\\notdrive\\venv\\simplyvenv\\lib\\site-packages (from gcloud-aio-auth<5.0.0,>=4.0.0->apache-airflow-providers-google->-r requirements.txt (line 3)) (2.2.1)\n",
      "Requirement already satisfied: chardet<6.0,>=2.0 in c:\\users\\thomas.fuller\\notdrive\\venv\\simplyvenv\\lib\\site-packages (from gcloud-aio-auth<5.0.0,>=4.0.0->apache-airflow-providers-google->-r requirements.txt (line 3)) (5.1.0)\n",
      "Requirement already satisfied: googleapis-common-protos<2.0.0,>=1.56.0 in c:\\users\\thomas.fuller\\notdrive\\venv\\simplyvenv\\lib\\site-packages (from google-ads>=21.2.0->apache-airflow-providers-google->-r requirements.txt (line 3)) (1.59.1)\n",
      "Requirement already satisfied: grpcio<2.0.0,>=1.38.1 in c:\\users\\thomas.fuller\\notdrive\\venv\\simplyvenv\\lib\\site-packages (from google-ads>=21.2.0->apache-airflow-providers-google->-r requirements.txt (line 3)) (1.56.0)\n",
      "Requirement already satisfied: grpcio-status<2.0.0,>=1.38.1 in c:\\users\\thomas.fuller\\notdrive\\venv\\simplyvenv\\lib\\site-packages (from google-ads>=21.2.0->apache-airflow-providers-google->-r requirements.txt (line 3)) (1.56.0)\n",
      "Requirement already satisfied: uritemplate<5,>=3.0.1 in c:\\users\\thomas.fuller\\notdrive\\venv\\simplyvenv\\lib\\site-packages (from google-api-python-client>=1.6.0->apache-airflow-providers-google->-r requirements.txt (line 3)) (4.1.1)\n",
      "Requirement already satisfied: httplib2<1.dev0,>=0.15.0 in c:\\users\\thomas.fuller\\notdrive\\venv\\simplyvenv\\lib\\site-packages (from google-api-python-client>=1.6.0->apache-airflow-providers-google->-r requirements.txt (line 3)) (0.22.0)\n",
      "Requirement already satisfied: cachetools<6.0,>=2.0.0 in c:\\users\\thomas.fuller\\notdrive\\venv\\simplyvenv\\lib\\site-packages (from google-auth>=1.0.0->apache-airflow-providers-google->-r requirements.txt (line 3)) (5.3.1)\n",
      "Requirement already satisfied: rsa<5,>=3.1.4 in c:\\users\\thomas.fuller\\notdrive\\venv\\simplyvenv\\lib\\site-packages (from google-auth>=1.0.0->apache-airflow-providers-google->-r requirements.txt (line 3)) (4.9)\n",
      "Requirement already satisfied: pyasn1-modules>=0.2.1 in c:\\users\\thomas.fuller\\notdrive\\venv\\simplyvenv\\lib\\site-packages (from google-auth>=1.0.0->apache-airflow-providers-google->-r requirements.txt (line 3)) (0.2.8)\n",
      "Requirement already satisfied: requests-oauthlib>=0.7.0 in c:\\users\\thomas.fuller\\notdrive\\venv\\simplyvenv\\lib\\site-packages (from google-auth-oauthlib->gcsfs->-r requirements.txt (line 13)) (1.3.1)\n",
      "Requirement already satisfied: shapely<2.0.0 in c:\\users\\thomas.fuller\\notdrive\\venv\\simplyvenv\\lib\\site-packages (from google-cloud-aiplatform>=1.22.1->apache-airflow-providers-google->-r requirements.txt (line 3)) (1.8.5.post1)\n",
      "Requirement already satisfied: google-cloud-resource-manager<3.0.0dev,>=1.3.3 in c:\\users\\thomas.fuller\\notdrive\\venv\\simplyvenv\\lib\\site-packages (from google-cloud-aiplatform>=1.22.1->apache-airflow-providers-google->-r requirements.txt (line 3)) (1.10.2)\n",
      "Requirement already satisfied: google-cloud-appengine-logging<2.0.0dev,>=0.1.0 in c:\\users\\thomas.fuller\\notdrive\\venv\\simplyvenv\\lib\\site-packages (from google-cloud-logging>=3.5.0->apache-airflow-providers-google->-r requirements.txt (line 3)) (1.3.1)\n",
      "Requirement already satisfied: google-cloud-audit-log<1.0.0dev,>=0.1.0 in c:\\users\\thomas.fuller\\notdrive\\venv\\simplyvenv\\lib\\site-packages (from google-cloud-logging>=3.5.0->apache-airflow-providers-google->-r requirements.txt (line 3)) (0.2.5)\n",
      "Requirement already satisfied: google-crc32c<2.0dev,>=1.0 in c:\\users\\thomas.fuller\\notdrive\\venv\\simplyvenv\\lib\\site-packages (from google-resumable-media>=2.3.2->google-cloud-storage->-r requirements.txt (line 7)) (1.5.0)\n",
      "Requirement already satisfied: jsonschema-specifications>=2023.03.6 in c:\\users\\thomas.fuller\\notdrive\\venv\\simplyvenv\\lib\\site-packages (from jsonschema>=3.2.0->apache-airflow==2.5.1->-r requirements.txt (line 1)) (2023.6.1)\n",
      "Requirement already satisfied: rpds-py>=0.7.1 in c:\\users\\thomas.fuller\\notdrive\\venv\\simplyvenv\\lib\\site-packages (from jsonschema>=3.2.0->apache-airflow==2.5.1->-r requirements.txt (line 1)) (0.8.10)\n",
      "Requirement already satisfied: referencing>=0.28.4 in c:\\users\\thomas.fuller\\notdrive\\venv\\simplyvenv\\lib\\site-packages (from jsonschema>=3.2.0->apache-airflow==2.5.1->-r requirements.txt (line 1)) (0.29.1)\n",
      "Requirement already satisfied: uc-micro-py in c:\\users\\thomas.fuller\\notdrive\\venv\\simplyvenv\\lib\\site-packages (from linkify-it-py>=2.0.0->apache-airflow==2.5.1->-r requirements.txt (line 1)) (1.0.2)\n",
      "Requirement already satisfied: mdurl~=0.1 in c:\\users\\thomas.fuller\\notdrive\\venv\\simplyvenv\\lib\\site-packages (from markdown-it-py>=2.1.0->apache-airflow==2.5.1->-r requirements.txt (line 1)) (0.1.2)\n",
      "Requirement already satisfied: pytzdata>=2020.1 in c:\\users\\thomas.fuller\\notdrive\\venv\\simplyvenv\\lib\\site-packages (from pendulum>=2.0->apache-airflow==2.5.1->-r requirements.txt (line 1)) (2020.1)\n",
      "Requirement already satisfied: docutils in c:\\users\\thomas.fuller\\notdrive\\venv\\simplyvenv\\lib\\site-packages (from python-daemon>=2.2.4->apache-airflow==2.5.1->-r requirements.txt (line 1)) (0.20.1)\n",
      "Requirement already satisfied: text-unidecode>=1.3 in c:\\users\\thomas.fuller\\notdrive\\venv\\simplyvenv\\lib\\site-packages (from python-slugify>=5.0->apache-airflow==2.5.1->-r requirements.txt (line 1)) (1.3)\n",
      "Requirement already satisfied: greenlet!=0.4.17 in c:\\users\\thomas.fuller\\notdrive\\venv\\simplyvenv\\lib\\site-packages (from sqlalchemy<2.0,>=1.4->apache-airflow==2.5.1->-r requirements.txt (line 1)) (2.0.2)\n",
      "Requirement already satisfied: soupsieve>1.2 in c:\\users\\thomas.fuller\\notdrive\\venv\\simplyvenv\\lib\\site-packages (from beautifulsoup4->google->-r requirements.txt (line 8)) (2.5)\n",
      "Requirement already satisfied: aiofiles<24.0.0,>=0.6.0 in c:\\users\\thomas.fuller\\notdrive\\venv\\simplyvenv\\lib\\site-packages (from gcloud-aio-storage->apache-airflow-providers-google->-r requirements.txt (line 3)) (23.1.0)\n",
      "Requirement already satisfied: sniffio in c:\\users\\thomas.fuller\\notdrive\\venv\\simplyvenv\\lib\\site-packages (from httpx->apache-airflow==2.5.1->-r requirements.txt (line 1)) (1.3.0)\n",
      "Requirement already satisfied: httpcore<0.18.0,>=0.15.0 in c:\\users\\thomas.fuller\\notdrive\\venv\\simplyvenv\\lib\\site-packages (from httpx->apache-airflow==2.5.1->-r requirements.txt (line 1)) (0.17.3)\n",
      "Requirement already satisfied: pycparser in c:\\users\\thomas.fuller\\notdrive\\venv\\simplyvenv\\lib\\site-packages (from cffi>=1.12->cryptography>=0.9.3->apache-airflow==2.5.1->-r requirements.txt (line 1)) (2.21)\n",
      "Requirement already satisfied: dnspython>=1.15.0 in c:\\users\\thomas.fuller\\notdrive\\venv\\simplyvenv\\lib\\site-packages (from email-validator<2,>=1.0.5->flask-appbuilder==4.1.4->apache-airflow==2.5.1->-r requirements.txt (line 1)) (2.3.0)\n",
      "Requirement already satisfied: Babel>=2.3 in c:\\users\\thomas.fuller\\notdrive\\venv\\simplyvenv\\lib\\site-packages (from Flask-Babel<3,>=1->flask-appbuilder==4.1.4->apache-airflow==2.5.1->-r requirements.txt (line 1)) (2.12.1)\n",
      "Requirement already satisfied: h11<0.15,>=0.13 in c:\\users\\thomas.fuller\\notdrive\\venv\\simplyvenv\\lib\\site-packages (from httpcore<0.18.0,>=0.15.0->httpx->apache-airflow==2.5.1->-r requirements.txt (line 1)) (0.14.0)\n",
      "Requirement already satisfied: anyio<5.0,>=3.0 in c:\\users\\thomas.fuller\\notdrive\\venv\\simplyvenv\\lib\\site-packages (from httpcore<0.18.0,>=0.15.0->httpx->apache-airflow==2.5.1->-r requirements.txt (line 1)) (3.7.1)\n",
      "Requirement already satisfied: pyparsing!=3.0.0,!=3.0.1,!=3.0.2,!=3.0.3,<4,>=2.4.2 in c:\\users\\thomas.fuller\\notdrive\\venv\\simplyvenv\\lib\\site-packages (from httplib2<1.dev0,>=0.15.0->google-api-python-client>=1.6.0->apache-airflow-providers-google->-r requirements.txt (line 3)) (3.1.0)\n",
      "Requirement already satisfied: zipp>=0.5 in c:\\users\\thomas.fuller\\notdrive\\venv\\simplyvenv\\lib\\site-packages (from importlib-metadata>=3.6.0->flask<2.3,>=2.2->apache-airflow==2.5.1->-r requirements.txt (line 1)) (3.16.1)\n",
      "Requirement already satisfied: pyasn1<0.5.0,>=0.4.6 in c:\\users\\thomas.fuller\\notdrive\\venv\\simplyvenv\\lib\\site-packages (from pyasn1-modules>=0.2.1->google-auth>=1.0.0->apache-airflow-providers-google->-r requirements.txt (line 3)) (0.4.8)\n",
      "Requirement already satisfied: oauthlib>=3.0.0 in c:\\users\\thomas.fuller\\notdrive\\venv\\simplyvenv\\lib\\site-packages (from requests-oauthlib>=0.7.0->google-auth-oauthlib->gcsfs->-r requirements.txt (line 13)) (3.2.2)\n"
     ]
    },
    {
     "name": "stderr",
     "output_type": "stream",
     "text": [
      "\n",
      "[notice] A new release of pip available: 22.3.1 -> 23.2.1\n",
      "[notice] To update, run: python.exe -m pip install --upgrade pip\n"
     ]
    }
   ],
   "source": [
    "!pip install -r requirements.txt"
   ],
   "metadata": {
    "collapsed": false,
    "ExecuteTime": {
     "end_time": "2023-10-10T12:35:32.838005900Z",
     "start_time": "2023-10-10T12:35:21.909894800Z"
    }
   }
  },
  {
   "cell_type": "code",
   "execution_count": 2,
   "metadata": {
    "ExecuteTime": {
     "end_time": "2023-10-10T12:35:33.304594100Z",
     "start_time": "2023-10-10T12:35:32.831004700Z"
    }
   },
   "outputs": [
    {
     "name": "stdout",
     "output_type": "stream",
     "text": [
      "C:\\Users\\Thomas.fuller\\NotDrive\\VENV\\simplyvenv\\Scripts\\python.exe\n"
     ]
    }
   ],
   "source": [
    "import sys\n",
    "print(sys.executable)\n",
    "from icecream import ic\n",
    "import xml.etree.ElementTree as ET\n",
    "import os\n",
    "import pandas\n",
    "\n",
    "AIRFLOW_REPO = \"airflow_pipelines\"\n",
    "\n",
    "sys.path.append(os.path.join(\n",
    "    os.getcwd(),\n",
    "    \"..\",\n",
    "    \"..\",\n",
    "    AIRFLOW_REPO,\n",
    "    \"dags\"\n",
    "))\n",
    "sys.path.append(os.path.join(\n",
    "    os.getcwd(),\n",
    "    \"..\"\n",
    "))"
   ]
  },
  {
   "cell_type": "markdown",
   "metadata": {},
   "source": [
    "# ApiConfig_netsuite has code to connect and authenticate with netsuite"
   ]
  },
  {
   "cell_type": "code",
   "execution_count": 3,
   "metadata": {
    "ExecuteTime": {
     "end_time": "2023-10-10T12:35:39.321170900Z",
     "start_time": "2023-10-10T12:35:33.308576500Z"
    }
   },
   "outputs": [
    {
     "name": "stderr",
     "output_type": "stream",
     "text": [
      "WARNING:root:OSError while attempting to symlink the latest log directory\n"
     ]
    },
    {
     "data": {
      "text/plain": "\u001B[1;33mC:\\Users\\Thomas.fuller\\NotDrive\\VENV\\simplyvenv\\lib\\site-packages\\airflow\\models\\base.py:\u001B[0m\u001B[1;33m49\u001B[0m\u001B[1;33m MovedIn20Warning\u001B[0m\u001B[33m: Deprecated API features detected! These \u001B[0m\u001B[1;33mfeature\u001B[0m\u001B[1;33m(\u001B[0m\u001B[33ms\u001B[0m\u001B[1;33m)\u001B[0m\u001B[33m are not compatible with SQLAlchemy \u001B[0m\u001B[1;33m2.0\u001B[0m\u001B[33m. To prevent incompatible upgrades prior to updating applications, ensure requirements files are pinned to \u001B[0m\u001B[33m\"sqlalchemy<2.0\"\u001B[0m\u001B[33m. Set environment variable \u001B[0m\u001B[33mSQLALCHEMY_WARN_20\u001B[0m\u001B[33m=\u001B[0m\u001B[1;33m1\u001B[0m\u001B[33m to show all deprecation warnings.  Set environment variable \u001B[0m\u001B[33mSQLALCHEMY_SILENCE_UBER_WARNING\u001B[0m\u001B[33m=\u001B[0m\u001B[1;33m1\u001B[0m\u001B[33m to silence this message. \u001B[0m\u001B[1;33m(\u001B[0m\u001B[33mBackground on SQLAlchemy \u001B[0m\u001B[1;33m2.0\u001B[0m\u001B[33m at: \u001B[0m\u001B[4;33mhttps://sqlalche.me/e/b8d9\u001B[0m\u001B[4;33m)\u001B[0m\n",
      "text/html": "<pre style=\"white-space:pre;overflow-x:auto;line-height:normal;font-family:Menlo,'DejaVu Sans Mono',consolas,'Courier New',monospace\"><span style=\"color: #808000; text-decoration-color: #808000; font-weight: bold\">C:\\Users\\Thomas.fuller\\NotDrive\\VENV\\simplyvenv\\lib\\site-packages\\airflow\\models\\base.py:</span><span style=\"color: #808000; text-decoration-color: #808000; font-weight: bold\">49</span><span style=\"color: #808000; text-decoration-color: #808000; font-weight: bold\"> MovedIn20Warning</span><span style=\"color: #808000; text-decoration-color: #808000\">: Deprecated API features detected! These </span><span style=\"color: #808000; text-decoration-color: #808000; font-weight: bold\">feature(</span><span style=\"color: #808000; text-decoration-color: #808000\">s</span><span style=\"color: #808000; text-decoration-color: #808000; font-weight: bold\">)</span><span style=\"color: #808000; text-decoration-color: #808000\"> are not compatible with SQLAlchemy </span><span style=\"color: #808000; text-decoration-color: #808000; font-weight: bold\">2.0</span><span style=\"color: #808000; text-decoration-color: #808000\">. To prevent incompatible upgrades prior to updating applications, ensure requirements files are pinned to </span><span style=\"color: #808000; text-decoration-color: #808000\">\"sqlalchemy&lt;2.0\"</span><span style=\"color: #808000; text-decoration-color: #808000\">. Set environment variable </span><span style=\"color: #808000; text-decoration-color: #808000\">SQLALCHEMY_WARN_20</span><span style=\"color: #808000; text-decoration-color: #808000\">=</span><span style=\"color: #808000; text-decoration-color: #808000; font-weight: bold\">1</span><span style=\"color: #808000; text-decoration-color: #808000\"> to show all deprecation warnings.  Set environment variable </span><span style=\"color: #808000; text-decoration-color: #808000\">SQLALCHEMY_SILENCE_UBER_WARNING</span><span style=\"color: #808000; text-decoration-color: #808000\">=</span><span style=\"color: #808000; text-decoration-color: #808000; font-weight: bold\">1</span><span style=\"color: #808000; text-decoration-color: #808000\"> to silence this message. </span><span style=\"color: #808000; text-decoration-color: #808000; font-weight: bold\">(</span><span style=\"color: #808000; text-decoration-color: #808000\">Background on SQLAlchemy </span><span style=\"color: #808000; text-decoration-color: #808000; font-weight: bold\">2.0</span><span style=\"color: #808000; text-decoration-color: #808000\"> at: </span><span style=\"color: #808000; text-decoration-color: #808000; text-decoration: underline\">https://sqlalche.me/e/b8d9)</span>\n</pre>\n"
     },
     "metadata": {},
     "output_type": "display_data"
    }
   ],
   "source": [
    "from config.environment import ENVIRONMENT\n",
    "\n",
    "ENVIRONMENT.set_development()\n",
    "\n",
    "from oliverbonas_source_dags.apis.api_netsuite import APIConfig_netsuite\n",
    "\n",
    "api = APIConfig_netsuite()\n",
    "\n",
    "from util.get_ns_number import get_ns_number"
   ]
  },
  {
   "cell_type": "markdown",
   "metadata": {},
   "source": [
    "# Andrei's tables in bq-central-dev"
   ]
  },
  {
   "cell_type": "code",
   "execution_count": 4,
   "metadata": {
    "ExecuteTime": {
     "end_time": "2023-10-10T12:35:43.323667400Z",
     "start_time": "2023-10-10T12:35:39.322168800Z"
    }
   },
   "outputs": [],
   "source": [
    "\n",
    "df = pandas.read_gbq(\"\"\"\n",
    "select *\n",
    "from `bq-central-dev`.data_migration_products.dbt_products__everything_all\n",
    "limit 1\n",
    "\"\"\")\n",
    "fashion = pandas.read_gbq(\"\"\"\n",
    "select *\n",
    "from `bq-central-dev`.data_migration_products.netsuite_products__parents_fashion\n",
    "limit 100\n",
    "\"\"\")\n",
    "home = pandas.read_gbq(\"\"\"\n",
    "select *\n",
    "from `bq-central-dev`.data_migration_products.netsuite_products__parents_home_and_gift\n",
    "limit 5\n",
    "\"\"\")"
   ]
  },
  {
   "cell_type": "code",
   "execution_count": 5,
   "metadata": {
    "ExecuteTime": {
     "end_time": "2023-10-10T12:35:43.398665500Z",
     "start_time": "2023-10-10T12:35:43.327669Z"
    }
   },
   "outputs": [
    {
     "data": {
      "text/plain": "                                        asset_account  \\\n0   22010 Current Assets: Stock& Work In Progress:...   \n1   22010 Current Assets: Stock& Work In Progress:...   \n2   22010 Current Assets: Stock& Work In Progress:...   \n3   22010 Current Assets: Stock& Work In Progress:...   \n4   22010 Current Assets: Stock& Work In Progress:...   \n..                                                ...   \n95  22010 Current Assets: Stock& Work In Progress:...   \n96  22010 Current Assets: Stock& Work In Progress:...   \n97  22010 Current Assets: Stock& Work In Progress:...   \n98  22010 Current Assets: Stock& Work In Progress:...   \n99  22010 Current Assets: Stock& Work In Progress:...   \n\n                 income_account                        cogs_account  \\\n0   51010 Sales : Sales : Sales  61010 Cost of Sales: Cost of Sales   \n1   51010 Sales : Sales : Sales  61010 Cost of Sales: Cost of Sales   \n2   51010 Sales : Sales : Sales  61010 Cost of Sales: Cost of Sales   \n3   51010 Sales : Sales : Sales  61010 Cost of Sales: Cost of Sales   \n4   51010 Sales : Sales : Sales  61010 Cost of Sales: Cost of Sales   \n..                          ...                                 ...   \n95  51010 Sales : Sales : Sales  61010 Cost of Sales: Cost of Sales   \n96  51010 Sales : Sales : Sales  61010 Cost of Sales: Cost of Sales   \n97  51010 Sales : Sales : Sales  61010 Cost of Sales: Cost of Sales   \n98  51010 Sales : Sales : Sales  61010 Cost of Sales: Cost of Sales   \n99  51010 Sales : Sales : Sales  61010 Cost of Sales: Cost of Sales   \n\n   cost_price cost_category cost_estimate_type              subsidiary  \\\n0        Cost       Default       Average Cost  Oliver Bonas (Holding)   \n1        Cost       Default       Average Cost  Oliver Bonas (Holding)   \n2        Cost       Default       Average Cost  Oliver Bonas (Holding)   \n3        Cost       Default       Average Cost  Oliver Bonas (Holding)   \n4        Cost       Default       Average Cost  Oliver Bonas (Holding)   \n..        ...           ...                ...                     ...   \n95       Cost       Default       Average Cost  Oliver Bonas (Holding)   \n96       Cost       Default       Average Cost  Oliver Bonas (Holding)   \n97       Cost       Default       Average Cost  Oliver Bonas (Holding)   \n98       Cost       Default       Average Cost  Oliver Bonas (Holding)   \n99       Cost       Default       Average Cost  Oliver Bonas (Holding)   \n\n   include_children tax_schedule_req         matrix_type  ...        clothing  \\\n0               Yes          Taxable  Parent Matrix Item  ...  10,12,14,16,18   \n1               Yes          Taxable  Parent Matrix Item  ...  10,12,14,16,18   \n2               Yes          Taxable  Parent Matrix Item  ...  10,12,14,16,18   \n3               Yes          Taxable  Parent Matrix Item  ...            None   \n4               Yes          Taxable  Parent Matrix Item  ...            None   \n..              ...              ...                 ...  ...             ...   \n95              Yes          Taxable  Parent Matrix Item  ...            None   \n96              Yes          Taxable  Parent Matrix Item  ...            None   \n97              Yes          Taxable  Parent Matrix Item  ...            None   \n98              Yes          Taxable  Parent Matrix Item  ...            None   \n99              Yes          Taxable  Parent Matrix Item  ...            None   \n\n        colour footwear ring_sizes_jewellery stone_matrix xs_xxxl  \\\n0         Pink     None                 None         None    None   \n1        Black     None                 None         None    None   \n2        Black     None                 None         None    None   \n3        Multi     None                 None         None    None   \n4         Gold     None                 None         None    None   \n..         ...      ...                  ...          ...     ...   \n95       Black     None                 None         None    None   \n96  Black,Navy     None                 None         None    None   \n97       Black     None                 None         None    None   \n98      Orange     None                 None         None    None   \n99      Purple     None                 None         None    None   \n\n    xs__s_xl__xxl_accessories  \\\n0                        None   \n1                        None   \n2                        None   \n3                        None   \n4                        None   \n..                        ...   \n95                       None   \n96                       None   \n97                       None   \n98                       None   \n99                       None   \n\n                                merch_hierarchy_nodes  \\\n0   Fashion : Clothing : Knit jumper : Crew neck  ...   \n1   Fashion : Clothing : Knit jumper : Crew neck  ...   \n2   Fashion : Clothing : Knit jumper : Slash neck ...   \n3            Fashion : Jewellery : Costume : Earrings   \n4            Fashion : Jewellery : Costume : Necklace   \n..                                                ...   \n95  Fashion : Bags : Cardholder small accessories ...   \n96  Fashion : Bags : Backpack bag : Zip top : Poly...   \n97        Fashion : Bags : Crossbody bag : Round : Pu   \n98        Fashion : Bags : Crossbody bag : Round : Pu   \n99        Fashion : Bags : Crossbody bag : Round : Pu   \n\n   item__hierarchy_versions_1_hierarchy_version  \\\n0                             Oliver Bonas 2023   \n1                             Oliver Bonas 2023   \n2                             Oliver Bonas 2023   \n3                             Oliver Bonas 2023   \n4                             Oliver Bonas 2023   \n..                                          ...   \n95                            Oliver Bonas 2023   \n96                            Oliver Bonas 2023   \n97                            Oliver Bonas 2023   \n98                            Oliver Bonas 2023   \n99                            Oliver Bonas 2023   \n\n   item__hierarchy_versions_1_included_in_version  \n0                                             Yes  \n1                                             Yes  \n2                                             Yes  \n3                                             Yes  \n4                                             Yes  \n..                                            ...  \n95                                            Yes  \n96                                            Yes  \n97                                            Yes  \n98                                            Yes  \n99                                            Yes  \n\n[100 rows x 47 columns]",
      "text/html": "<div>\n<style scoped>\n    .dataframe tbody tr th:only-of-type {\n        vertical-align: middle;\n    }\n\n    .dataframe tbody tr th {\n        vertical-align: top;\n    }\n\n    .dataframe thead th {\n        text-align: right;\n    }\n</style>\n<table border=\"1\" class=\"dataframe\">\n  <thead>\n    <tr style=\"text-align: right;\">\n      <th></th>\n      <th>asset_account</th>\n      <th>income_account</th>\n      <th>cogs_account</th>\n      <th>cost_price</th>\n      <th>cost_category</th>\n      <th>cost_estimate_type</th>\n      <th>subsidiary</th>\n      <th>include_children</th>\n      <th>tax_schedule_req</th>\n      <th>matrix_type</th>\n      <th>...</th>\n      <th>clothing</th>\n      <th>colour</th>\n      <th>footwear</th>\n      <th>ring_sizes_jewellery</th>\n      <th>stone_matrix</th>\n      <th>xs_xxxl</th>\n      <th>xs__s_xl__xxl_accessories</th>\n      <th>merch_hierarchy_nodes</th>\n      <th>item__hierarchy_versions_1_hierarchy_version</th>\n      <th>item__hierarchy_versions_1_included_in_version</th>\n    </tr>\n  </thead>\n  <tbody>\n    <tr>\n      <th>0</th>\n      <td>22010 Current Assets: Stock&amp; Work In Progress:...</td>\n      <td>51010 Sales : Sales : Sales</td>\n      <td>61010 Cost of Sales: Cost of Sales</td>\n      <td>Cost</td>\n      <td>Default</td>\n      <td>Average Cost</td>\n      <td>Oliver Bonas (Holding)</td>\n      <td>Yes</td>\n      <td>Taxable</td>\n      <td>Parent Matrix Item</td>\n      <td>...</td>\n      <td>10,12,14,16,18</td>\n      <td>Pink</td>\n      <td>None</td>\n      <td>None</td>\n      <td>None</td>\n      <td>None</td>\n      <td>None</td>\n      <td>Fashion : Clothing : Knit jumper : Crew neck  ...</td>\n      <td>Oliver Bonas 2023</td>\n      <td>Yes</td>\n    </tr>\n    <tr>\n      <th>1</th>\n      <td>22010 Current Assets: Stock&amp; Work In Progress:...</td>\n      <td>51010 Sales : Sales : Sales</td>\n      <td>61010 Cost of Sales: Cost of Sales</td>\n      <td>Cost</td>\n      <td>Default</td>\n      <td>Average Cost</td>\n      <td>Oliver Bonas (Holding)</td>\n      <td>Yes</td>\n      <td>Taxable</td>\n      <td>Parent Matrix Item</td>\n      <td>...</td>\n      <td>10,12,14,16,18</td>\n      <td>Black</td>\n      <td>None</td>\n      <td>None</td>\n      <td>None</td>\n      <td>None</td>\n      <td>None</td>\n      <td>Fashion : Clothing : Knit jumper : Crew neck  ...</td>\n      <td>Oliver Bonas 2023</td>\n      <td>Yes</td>\n    </tr>\n    <tr>\n      <th>2</th>\n      <td>22010 Current Assets: Stock&amp; Work In Progress:...</td>\n      <td>51010 Sales : Sales : Sales</td>\n      <td>61010 Cost of Sales: Cost of Sales</td>\n      <td>Cost</td>\n      <td>Default</td>\n      <td>Average Cost</td>\n      <td>Oliver Bonas (Holding)</td>\n      <td>Yes</td>\n      <td>Taxable</td>\n      <td>Parent Matrix Item</td>\n      <td>...</td>\n      <td>10,12,14,16,18</td>\n      <td>Black</td>\n      <td>None</td>\n      <td>None</td>\n      <td>None</td>\n      <td>None</td>\n      <td>None</td>\n      <td>Fashion : Clothing : Knit jumper : Slash neck ...</td>\n      <td>Oliver Bonas 2023</td>\n      <td>Yes</td>\n    </tr>\n    <tr>\n      <th>3</th>\n      <td>22010 Current Assets: Stock&amp; Work In Progress:...</td>\n      <td>51010 Sales : Sales : Sales</td>\n      <td>61010 Cost of Sales: Cost of Sales</td>\n      <td>Cost</td>\n      <td>Default</td>\n      <td>Average Cost</td>\n      <td>Oliver Bonas (Holding)</td>\n      <td>Yes</td>\n      <td>Taxable</td>\n      <td>Parent Matrix Item</td>\n      <td>...</td>\n      <td>None</td>\n      <td>Multi</td>\n      <td>None</td>\n      <td>None</td>\n      <td>None</td>\n      <td>None</td>\n      <td>None</td>\n      <td>Fashion : Jewellery : Costume : Earrings</td>\n      <td>Oliver Bonas 2023</td>\n      <td>Yes</td>\n    </tr>\n    <tr>\n      <th>4</th>\n      <td>22010 Current Assets: Stock&amp; Work In Progress:...</td>\n      <td>51010 Sales : Sales : Sales</td>\n      <td>61010 Cost of Sales: Cost of Sales</td>\n      <td>Cost</td>\n      <td>Default</td>\n      <td>Average Cost</td>\n      <td>Oliver Bonas (Holding)</td>\n      <td>Yes</td>\n      <td>Taxable</td>\n      <td>Parent Matrix Item</td>\n      <td>...</td>\n      <td>None</td>\n      <td>Gold</td>\n      <td>None</td>\n      <td>None</td>\n      <td>None</td>\n      <td>None</td>\n      <td>None</td>\n      <td>Fashion : Jewellery : Costume : Necklace</td>\n      <td>Oliver Bonas 2023</td>\n      <td>Yes</td>\n    </tr>\n    <tr>\n      <th>...</th>\n      <td>...</td>\n      <td>...</td>\n      <td>...</td>\n      <td>...</td>\n      <td>...</td>\n      <td>...</td>\n      <td>...</td>\n      <td>...</td>\n      <td>...</td>\n      <td>...</td>\n      <td>...</td>\n      <td>...</td>\n      <td>...</td>\n      <td>...</td>\n      <td>...</td>\n      <td>...</td>\n      <td>...</td>\n      <td>...</td>\n      <td>...</td>\n      <td>...</td>\n      <td>...</td>\n    </tr>\n    <tr>\n      <th>95</th>\n      <td>22010 Current Assets: Stock&amp; Work In Progress:...</td>\n      <td>51010 Sales : Sales : Sales</td>\n      <td>61010 Cost of Sales: Cost of Sales</td>\n      <td>Cost</td>\n      <td>Default</td>\n      <td>Average Cost</td>\n      <td>Oliver Bonas (Holding)</td>\n      <td>Yes</td>\n      <td>Taxable</td>\n      <td>Parent Matrix Item</td>\n      <td>...</td>\n      <td>None</td>\n      <td>Black</td>\n      <td>None</td>\n      <td>None</td>\n      <td>None</td>\n      <td>None</td>\n      <td>None</td>\n      <td>Fashion : Bags : Cardholder small accessories ...</td>\n      <td>Oliver Bonas 2023</td>\n      <td>Yes</td>\n    </tr>\n    <tr>\n      <th>96</th>\n      <td>22010 Current Assets: Stock&amp; Work In Progress:...</td>\n      <td>51010 Sales : Sales : Sales</td>\n      <td>61010 Cost of Sales: Cost of Sales</td>\n      <td>Cost</td>\n      <td>Default</td>\n      <td>Average Cost</td>\n      <td>Oliver Bonas (Holding)</td>\n      <td>Yes</td>\n      <td>Taxable</td>\n      <td>Parent Matrix Item</td>\n      <td>...</td>\n      <td>None</td>\n      <td>Black,Navy</td>\n      <td>None</td>\n      <td>None</td>\n      <td>None</td>\n      <td>None</td>\n      <td>None</td>\n      <td>Fashion : Bags : Backpack bag : Zip top : Poly...</td>\n      <td>Oliver Bonas 2023</td>\n      <td>Yes</td>\n    </tr>\n    <tr>\n      <th>97</th>\n      <td>22010 Current Assets: Stock&amp; Work In Progress:...</td>\n      <td>51010 Sales : Sales : Sales</td>\n      <td>61010 Cost of Sales: Cost of Sales</td>\n      <td>Cost</td>\n      <td>Default</td>\n      <td>Average Cost</td>\n      <td>Oliver Bonas (Holding)</td>\n      <td>Yes</td>\n      <td>Taxable</td>\n      <td>Parent Matrix Item</td>\n      <td>...</td>\n      <td>None</td>\n      <td>Black</td>\n      <td>None</td>\n      <td>None</td>\n      <td>None</td>\n      <td>None</td>\n      <td>None</td>\n      <td>Fashion : Bags : Crossbody bag : Round : Pu</td>\n      <td>Oliver Bonas 2023</td>\n      <td>Yes</td>\n    </tr>\n    <tr>\n      <th>98</th>\n      <td>22010 Current Assets: Stock&amp; Work In Progress:...</td>\n      <td>51010 Sales : Sales : Sales</td>\n      <td>61010 Cost of Sales: Cost of Sales</td>\n      <td>Cost</td>\n      <td>Default</td>\n      <td>Average Cost</td>\n      <td>Oliver Bonas (Holding)</td>\n      <td>Yes</td>\n      <td>Taxable</td>\n      <td>Parent Matrix Item</td>\n      <td>...</td>\n      <td>None</td>\n      <td>Orange</td>\n      <td>None</td>\n      <td>None</td>\n      <td>None</td>\n      <td>None</td>\n      <td>None</td>\n      <td>Fashion : Bags : Crossbody bag : Round : Pu</td>\n      <td>Oliver Bonas 2023</td>\n      <td>Yes</td>\n    </tr>\n    <tr>\n      <th>99</th>\n      <td>22010 Current Assets: Stock&amp; Work In Progress:...</td>\n      <td>51010 Sales : Sales : Sales</td>\n      <td>61010 Cost of Sales: Cost of Sales</td>\n      <td>Cost</td>\n      <td>Default</td>\n      <td>Average Cost</td>\n      <td>Oliver Bonas (Holding)</td>\n      <td>Yes</td>\n      <td>Taxable</td>\n      <td>Parent Matrix Item</td>\n      <td>...</td>\n      <td>None</td>\n      <td>Purple</td>\n      <td>None</td>\n      <td>None</td>\n      <td>None</td>\n      <td>None</td>\n      <td>None</td>\n      <td>Fashion : Bags : Crossbody bag : Round : Pu</td>\n      <td>Oliver Bonas 2023</td>\n      <td>Yes</td>\n    </tr>\n  </tbody>\n</table>\n<p>100 rows × 47 columns</p>\n</div>"
     },
     "execution_count": 5,
     "metadata": {},
     "output_type": "execute_result"
    }
   ],
   "source": [
    "fashion"
   ]
  },
  {
   "cell_type": "markdown",
   "metadata": {},
   "source": [
    "# Use the API to download data from netsuite, and create the netsuite_mappings\n",
    "\n",
    "* We use a custom form for InventoryItems, which has customfields\n",
    "* A customfield has an internalId, a scriptId and a name, if it is a matrix custom field, it may be attached to a custom list\n",
    "* A customlist has an internalId, a name, and a list of values, Each value in the list has an internalId and a name\n",
    "\n",
    "\n",
    "- Customfield1 <---> Customlist1 (value1, value2, value3)\n",
    "- Customfield2 <---> Customlist2 (value1, value2)\n",
    "- Customfield3 <---> Customlist3 (value1, value2, value3, value4)\n",
    "\n",
    "#### for the example above, there are 6 + (3 + 2 + 4) = 15 internalIds"
   ]
  },
  {
   "cell_type": "code",
   "execution_count": 6,
   "metadata": {
    "ExecuteTime": {
     "end_time": "2023-10-10T12:35:43.399665300Z",
     "start_time": "2023-10-10T12:35:43.358668600Z"
    }
   },
   "outputs": [],
   "source": [
    "class netsuite_mappings:\n",
    "    list_info = {}\n",
    "    list_values = {}\n",
    "    custom_fields = {}"
   ]
  },
  {
   "cell_type": "code",
   "execution_count": 7,
   "metadata": {
    "ExecuteTime": {
     "end_time": "2023-10-10T12:35:43.444666700Z",
     "start_time": "2023-10-10T12:35:43.376666400Z"
    }
   },
   "outputs": [
    {
     "name": "stdout",
     "output_type": "stream",
     "text": [
      "ListOrRecordRef = api.client.get_type(\"ns0:ListOrRecordRef\")\n",
      "None\n"
     ]
    }
   ],
   "source": [
    "\n",
    "# python library zeep\n",
    "InventoryItem = api.client.get_type(\"ns17:InventoryItem\")\n",
    "CostCategory = api.client.get_type(\"ns17:CostCategory\")\n",
    "CostCategorySearch = api.client.get_type(\"ns17:CostCategorySearch\")\n",
    "CostCategorySearchBasic = api.client.get_type(\"ns5:CostCategorySearchBasic\")\n",
    "RecordRef = api.client.get_type(\"ns0:RecordRef\")\n",
    "StringCustomFieldRef = api.client.get_type(f\"ns0:StringCustomFieldRef\")\n",
    "CustomRecordSearchBasic = api.client.get_type(\"ns5:CustomRecordSearchBasic\")\n",
    "CustomRecordSearch = api.client.get_type(\"ns32:CustomRecordSearch\")\n",
    "CustomListSearch = api.client.get_type(\"ns32:CustomListSearch\")\n",
    "CustomListSearchBasic = api.client.get_type(\"ns5:CustomListSearchBasic\")\n",
    "CustomRecordRef = api.client.get_type(\"ns0:CustomRecordRef\")\n",
    "AccountSearchBasic = api.client.get_type(\"ns5:AccountSearchBasic\")\n",
    "SubsidiarySearchBasic = api.client.get_type(\"ns5:SubsidiarySearchBasic\")\n",
    "SelectCustomFieldRef = api.client.get_type(\"ns0:SelectCustomFieldRef\")\n",
    "BooleanCustomFieldRef = api.client.get_type(\"ns0:BooleanCustomFieldRef\")\n",
    "InventoryItemHierarchyVersions = api.client.get_type(\"ns17:InventoryItemHierarchyVersions\")\n",
    "InventoryItemHierarchyVersionsList = api.client.get_type(\"ns17:InventoryItemHierarchyVersionsList\")\n",
    "MerchandiseHierarchyNodeSearchBasic = api.client.get_type(\"ns5:MerchandiseHierarchyNodeSearchBasic\")\n",
    "VendorSearchBasic = api.client.get_type(\"ns5:VendorSearchBasic\")\n",
    "MultiSelectCustomFieldRef = api.client.get_type(\"ns0:MultiSelectCustomFieldRef\")\n",
    "ListOrRecordRef = api.client.get_type(\"ns0:ListOrRecordRef\")\n",
    "print(get_ns_number(api, \"ListOrRecordRef\"))\n"
   ]
  },
  {
   "cell_type": "markdown",
   "metadata": {},
   "source": [
    "### 1a. get the custom lists, and custom list values"
   ]
  },
  {
   "cell_type": "code",
   "execution_count": 8,
   "metadata": {
    "ExecuteTime": {
     "end_time": "2023-10-10T12:35:52.475156300Z",
     "start_time": "2023-10-10T12:35:43.392676400Z"
    }
   },
   "outputs": [],
   "source": [
    "response_customlists = api.service_proxy.getCustomizationId(\n",
    "    customizationType=\"customList\",#\"itemCustomField\",\n",
    "    includeInactives=False,\n",
    "    _soapheaders = api.build_soap_headers(),\n",
    ")\n",
    "customlists = response_customlists.body.getCustomizationIdResult.customizationRefList.customizationRef\n",
    "\n",
    "response_customlist_values = api.service_proxy.getList(\n",
    "        baseRef=[RecordRef(\n",
    "            internalId = cl.internalId,\n",
    "            type=\"customList\",\n",
    "        )\n",
    "        for cl in customlists\n",
    "        ],\n",
    "        _soapheaders=api.build_soap_headers(),\n",
    "    )"
   ]
  },
  {
   "cell_type": "markdown",
   "metadata": {},
   "source": [
    "#### 1b. add them to product_mapping, and write to file for debugging purposes"
   ]
  },
  {
   "cell_type": "code",
   "execution_count": 9,
   "metadata": {
    "ExecuteTime": {
     "end_time": "2023-10-10T12:35:52.555155300Z",
     "start_time": "2023-10-10T12:35:52.476157600Z"
    }
   },
   "outputs": [
    {
     "name": "stdout",
     "output_type": "stream",
     "text": [
      "Fail: Class Planning Category\n",
      "Fail: Department Planning Category\n",
      "Fail: Depth\n",
      "Fail: Description\n",
      "Fail: Employee Planning Category\n",
      "Fail: Fill weight g\n",
      "Fail: Fill weight ml\n",
      "Fail: Height\n",
      "Fail: Item Planning Category\n",
      "Fail: Location Planning Category\n",
      "Fail: PO Status\n",
      "Fail: Planning & Budgeting Category\n",
      "Fail: Plant pot depth\n",
      "Fail: Plant pot height\n",
      "Fail: Plant pot width\n",
      "Fail: Pot internal diameter cm\n",
      "Fail: Scent notes\n",
      "Fail: Shortest length\n",
      "Fail: Stand depth cm\n",
      "Fail: Stand height cm\n",
      "Fail: Stand width cm\n",
      "Fail: Stone length\n",
      "Fail: Stone width\n",
      "Fail: String colour\n",
      "{\n",
      "    'nullFieldList': None,\n",
      "    'name': 'Supplier',\n",
      "    'owner': {\n",
      "        'name': 'Ritchie Budd',\n",
      "        'internalId': '1431',\n",
      "        'externalId': None,\n",
      "        'type': None\n",
      "    },\n",
      "    'isOrdered': True,\n",
      "    'description': None,\n",
      "    'isMatrixOption': False,\n",
      "    'scriptId': 'customlist1042',\n",
      "    'convertToCustomRecord': False,\n",
      "    'isInactive': False,\n",
      "    'customValueList': {\n",
      "        'customValue': [\n",
      "            {\n",
      "                'value': 'An Eye for Detail',\n",
      "                'abbreviation': 'A',\n",
      "                'isInactive': False,\n",
      "                'valueId': 1,\n",
      "                'valueLanguageValueList': None\n",
      "            },\n",
      "            {\n",
      "                'value': 'Chantuque',\n",
      "                'abbreviation': None,\n",
      "                'isInactive': False,\n",
      "                'valueId': 2,\n",
      "                'valueLanguageValueList': None\n",
      "            },\n",
      "            {\n",
      "                'value': 'DONGGUAN FENGLING ARTS AND CRA',\n",
      "                'abbreviation': None,\n",
      "                'isInactive': False,\n",
      "                'valueId': 3,\n",
      "                'valueLanguageValueList': None\n",
      "            }\n",
      "        ],\n",
      "        'replaceAll': 'true'\n",
      "    },\n",
      "    'translationsList': {\n",
      "        'translations': [\n",
      "            {\n",
      "                'locale': '_chineseSimplified',\n",
      "                'localeDescription': 'Chinese (Simplified)',\n",
      "                'name': None\n",
      "            },\n",
      "            {\n",
      "                'locale': '_chineseTraditional',\n",
      "                'localeDescription': 'Chinese (Traditional)',\n",
      "                'name': None\n",
      "            },\n",
      "            {\n",
      "                'locale': '_czech',\n",
      "                'localeDescription': 'Czech',\n",
      "                'name': None\n",
      "            },\n",
      "            {\n",
      "                'locale': '_danish',\n",
      "                'localeDescription': 'Danish',\n",
      "                'name': None\n",
      "            },\n",
      "            {\n",
      "                'locale': '_dutch',\n",
      "                'localeDescription': 'Dutch',\n",
      "                'name': None\n",
      "            },\n",
      "            {\n",
      "                'locale': '_englishAu',\n",
      "                'localeDescription': 'English (AU)',\n",
      "                'name': None\n",
      "            },\n",
      "            {\n",
      "                'locale': '_englishCa',\n",
      "                'localeDescription': 'English (CA)',\n",
      "                'name': None\n",
      "            },\n",
      "            {\n",
      "                'locale': '_englishInternational',\n",
      "                'localeDescription': 'English (International)',\n",
      "                'name': None\n",
      "            },\n",
      "            {\n",
      "                'locale': '_englishUS',\n",
      "                'localeDescription': 'English (U.S.)',\n",
      "                'name': None\n",
      "            },\n",
      "            {\n",
      "                'locale': '_finnish',\n",
      "                'localeDescription': 'Finnish',\n",
      "                'name': None\n",
      "            },\n",
      "            {\n",
      "                'locale': '_frenchCanada',\n",
      "                'localeDescription': 'French (Canada)',\n",
      "                'name': None\n",
      "            },\n",
      "            {\n",
      "                'locale': '_frenchFrance',\n",
      "                'localeDescription': 'French (France)',\n",
      "                'name': None\n",
      "            },\n",
      "            {\n",
      "                'locale': '_german',\n",
      "                'localeDescription': 'German',\n",
      "                'name': None\n",
      "            },\n",
      "            {\n",
      "                'locale': '_indonesian',\n",
      "                'localeDescription': 'Indonesian',\n",
      "                'name': None\n",
      "            },\n",
      "            {\n",
      "                'locale': '_italian',\n",
      "                'localeDescription': 'Italian',\n",
      "                'name': None\n",
      "            },\n",
      "            {\n",
      "                'locale': '_japanese',\n",
      "                'localeDescription': 'Japanese',\n",
      "                'name': None\n",
      "            },\n",
      "            {\n",
      "                'locale': '_korean',\n",
      "                'localeDescription': 'Korean',\n",
      "                'name': None\n",
      "            },\n",
      "            {\n",
      "                'locale': '_latinAmericanSpanish',\n",
      "                'localeDescription': 'Latin American Spanish',\n",
      "                'name': None\n",
      "            },\n",
      "            {\n",
      "                'locale': '_norwegian',\n",
      "                'localeDescription': 'Norwegian',\n",
      "                'name': None\n",
      "            },\n",
      "            {\n",
      "                'locale': '_portugueseBrazil',\n",
      "                'localeDescription': 'Portuguese (Brazil)',\n",
      "                'name': None\n",
      "            },\n",
      "            {\n",
      "                'locale': '_russian',\n",
      "                'localeDescription': 'Russian',\n",
      "                'name': None\n",
      "            },\n",
      "            {\n",
      "                'locale': '_spanish',\n",
      "                'localeDescription': 'Spanish',\n",
      "                'name': None\n",
      "            },\n",
      "            {\n",
      "                'locale': '_swedish',\n",
      "                'localeDescription': 'Swedish',\n",
      "                'name': None\n",
      "            },\n",
      "            {\n",
      "                'locale': '_thai',\n",
      "                'localeDescription': 'Thai',\n",
      "                'name': None\n",
      "            },\n",
      "            {\n",
      "                'locale': '_turkish',\n",
      "                'localeDescription': 'Turkish',\n",
      "                'name': None\n",
      "            },\n",
      "            {\n",
      "                'locale': '_vietnamese',\n",
      "                'localeDescription': 'Vietnamese',\n",
      "                'name': None\n",
      "            }\n",
      "        ],\n",
      "        'replaceAll': 'true'\n",
      "    },\n",
      "    'internalId': '1042'\n",
      "}\n",
      "Fail: Vendor Planning Category\n"
     ]
    },
    {
     "data": {
      "text/plain": "539838"
     },
     "execution_count": 9,
     "metadata": {},
     "output_type": "execute_result"
    }
   ],
   "source": [
    "for cl in customlists:\n",
    "    netsuite_mappings.list_info[cl.internalId] = cl\n",
    "\n",
    "for row in response_customlist_values.body.readResponseList.readResponse:\n",
    "    if row.record.internalId == \"1042\":\n",
    "        print(row.record)\n",
    "    if row.record.customValueList is not None:\n",
    "        netsuite_mappings.list_values[row.record.internalId] = row.record.customValueList.customValue\n",
    "    else:\n",
    "        print(\"Fail:\",row.record.name)\n",
    "\n",
    "open(\"custom_list_info.txt\", \"w\", encoding=\"utf-8\").write(str(netsuite_mappings.list_info))\n",
    "open(\"custom_list_values.txt\", \"w\", encoding=\"utf-8\").write(str(netsuite_mappings.list_values))"
   ]
  },
  {
   "cell_type": "markdown",
   "metadata": {},
   "source": [
    "### 2a. Get the custom fields, and the custom lists they are linked to\n",
    "\n",
    "### We need to modify zeep code due to an error in zeep when downloading custom fields"
   ]
  },
  {
   "cell_type": "code",
   "execution_count": 10,
   "metadata": {
    "ExecuteTime": {
     "end_time": "2023-10-10T12:35:52.556155400Z",
     "start_time": "2023-10-10T12:35:52.542156200Z"
    }
   },
   "outputs": [],
   "source": [
    "def stolen_zeep_code_send(self, client, options, operation, args, kwargs):\n",
    "    envelope, http_headers = self._create(\n",
    "        operation, args, kwargs, client=client, options=options\n",
    "    )\n",
    "\n",
    "    response = client.transport.post_xml(options[\"address\"], envelope, http_headers)\n",
    "\n",
    "    #operation_obj = self.get(operation)\n",
    "\n",
    "    # If the client wants to return the raw data then let's do that.\n",
    "    if client.settings.raw_response:\n",
    "        return response\n",
    "\n",
    "    return response\n",
    "\n",
    "def stolen_zeep_code__call__(api, *args, **kwargs):\n",
    "    # look at the service proxy class to understand this madness\n",
    "    self = api.service_proxy._operations[\"get\"]\n",
    "    #print(type(self))\n",
    "\n",
    "    soap_headers = self._merge_soap_headers(kwargs.get(\"_soapheaders\"))\n",
    "    if soap_headers:\n",
    "        kwargs[\"_soapheaders\"] = soap_headers\n",
    "\n",
    "    return stolen_zeep_code_send(\n",
    "        self._proxy._binding,\n",
    "        self._proxy._client,\n",
    "        self._proxy._binding_options,\n",
    "        self._op_name,\n",
    "        args,\n",
    "        kwargs,\n",
    "    )"
   ]
  },
  {
   "cell_type": "code",
   "execution_count": 11,
   "metadata": {
    "ExecuteTime": {
     "end_time": "2023-10-10T12:35:53.077884600Z",
     "start_time": "2023-10-10T12:35:52.555155300Z"
    }
   },
   "outputs": [
    {
     "name": "stdout",
     "output_type": "stream",
     "text": [
      "done\n"
     ]
    }
   ],
   "source": [
    "response_customfields = api.service_proxy.getCustomizationId(\n",
    "    customizationType=\"itemCustomField\",\n",
    "    includeInactives=False,\n",
    "    _soapheaders = api.build_soap_headers(),\n",
    ")\n",
    "customfields = response_customfields.body.getCustomizationIdResult.customizationRefList.customizationRef\n",
    "open(\"custom_fields.txt\", \"w\", encoding=\"utf-8\").write(str(customfields))\n",
    "print(\"done\")\n",
    "\n"
   ]
  },
  {
   "cell_type": "code",
   "execution_count": null,
   "metadata": {
    "is_executing": true,
    "ExecuteTime": {
     "start_time": "2023-10-10T12:35:53.072886500Z"
    }
   },
   "outputs": [],
   "source": [
    "#Unexpected element '{urn:customization_2021_2.setup.webservices.netsuite.com}fieldType\n",
    "# there is a problem with the api! \n",
    "c = 0\n",
    "for field in customfields:\n",
    "    c += 1\n",
    "    raw_response_customfield_details = stolen_zeep_code__call__(\n",
    "        api,\n",
    "        RecordRef(\n",
    "            internalId = field['internalId'],\n",
    "            type=\"itemCustomField\"\n",
    "        ),\n",
    "        _soapheaders=api.build_soap_headers(),\n",
    "    )\n",
    "\n",
    "\n",
    "    root = ET.fromstring(raw_response_customfield_details.content.decode(\"utf-8\"))\n",
    "\n",
    "    select_record_type = root.find(\".//{*}selectRecordType\")\n",
    "\n",
    "    if select_record_type:\n",
    "        internalId = select_record_type.get(\"internalId\")\n",
    "    else:\n",
    "        internalId = None\n",
    "\n",
    "    field[\"listId\"] = internalId\n",
    "    netsuite_mappings.custom_fields[field[\"internalId\"]] = field\n",
    "    #if c == 10:\n",
    "    #    break\n",
    "\n"
   ]
  },
  {
   "cell_type": "code",
   "execution_count": null,
   "metadata": {
    "is_executing": true
   },
   "outputs": [],
   "source": [
    "\n",
    "open(\"custom_field_details.txt\", \"w\", encoding=\"utf-8\").write(str(\"work in progress\"))\n",
    "netsuite_mappings.custom_fields\n",
    "netsuite_mappings.list_info.keys()"
   ]
  },
  {
   "cell_type": "markdown",
   "metadata": {},
   "source": [
    "# 3. Use Code to write Code"
   ]
  },
  {
   "cell_type": "code",
   "execution_count": null,
   "metadata": {
    "is_executing": true
   },
   "outputs": [],
   "source": [
    "for field in netsuite_mappings.custom_fields.values():\n",
    "    name = field[\"name\"]\n",
    "    listId = field[\"listId\"]\n",
    "    if listId is None:\n",
    "        x = f\"\"\"X({field['internalId']}, \"{field['scriptId']}\", \"\"\"\n",
    "        firstspaces = \" \" * (50 - len(x))\n",
    "        print(f\"\"\"{x}{firstspaces} # {name}\n",
    "        r.SOMETHING),\"\"\")\n",
    "    \n",
    "    if listId not in netsuite_mappings.list_info:\n",
    "        listname = None\n",
    "    else:\n",
    "        list_info = netsuite_mappings.list_info[listId]\n",
    "        listname = list_info[\"name\"]\n",
    "    \n",
    "    if listId not in netsuite_mappings.list_values:\n",
    "        listvalues = []\n",
    "    else:\n",
    "        list_values = netsuite_mappings.list_values[listId]\n",
    "        listvalues = [v[\"value\"] for v in list_values]\n",
    "    \n",
    "    #print(field[\"internalId\"], name, \"->\", listname, f\"\")\n",
    "    m = f\"\"\"M({field['internalId']}, \"{field['scriptId']}\", \"\"\"\n",
    "    firstspaces = \" \" * (50 - len(m))\n",
    "    secondspaces = \" \" * (30 - len(name))\n",
    "    fivevalues = ','.join(listvalues)\n",
    "    print(f\"\"\"{m}{firstspaces} # {name} {secondspaces} {listId} {listname} ({fivevalues})\n",
    "       r.SOMETHING),\"\"\")\n",
    "    \n"
   ]
  },
  {
   "cell_type": "markdown",
   "source": [
    "# 4. Download values we need (which are not customLists)"
   ],
   "metadata": {
    "collapsed": false
   }
  },
  {
   "cell_type": "code",
   "execution_count": null,
   "metadata": {
    "is_executing": true
   },
   "outputs": [],
   "source": [
    "response = api.service_proxy.search(\n",
    "        searchRecord=AccountSearchBasic(),\n",
    "        _soapheaders=api.build_soap_headers()\n",
    ")\n",
    "open(\"accounts.txt\", \"w\").write(str(response.body.searchResult.recordList.record))\n",
    "response.body.searchResult.recordList.record"
   ]
  },
  {
   "cell_type": "code",
   "execution_count": null,
   "metadata": {
    "is_executing": true
   },
   "outputs": [],
   "source": [
    "response = api.service_proxy.search(\n",
    "        searchRecord=CostCategorySearchBasic(),\n",
    "        _soapheaders=api.build_soap_headers()\n",
    ")\n",
    "response.body.searchResult.recordList.record"
   ]
  },
  {
   "cell_type": "code",
   "execution_count": null,
   "metadata": {
    "is_executing": true
   },
   "outputs": [],
   "source": [
    "response = api.service_proxy.search(\n",
    "        searchRecord=MerchandiseHierarchyNodeSearchBasic(),\n",
    "        _soapheaders=api.build_soap_headers()\n",
    ")\n",
    "response.body.searchResult.recordList.record"
   ]
  },
  {
   "cell_type": "code",
   "execution_count": null,
   "metadata": {
    "is_executing": true
   },
   "outputs": [],
   "source": [
    "response = api.service_proxy.search(\n",
    "        searchRecord=VendorSearchBasic(),\n",
    "        _soapheaders=api.build_soap_headers()\n",
    ")\n",
    "response.body.searchResult.recordList.record"
   ]
  },
  {
   "cell_type": "code",
   "execution_count": null,
   "metadata": {
    "is_executing": true
   },
   "outputs": [],
   "source": [
    "vendors = response.body.searchResult.recordList.record\n",
    "\n",
    "vendor_map = {}\n",
    "\n",
    "for vendor in vendors:\n",
    "    vendor_map[vendor.entityId] = vendor.internalId\n",
    "    vendor_map[vendor.legalName] = vendor.internalId\n",
    "    vendor_map[vendor.companyName] = vendor.internalId\n",
    "\n",
    "vendor_map"
   ]
  },
  {
   "cell_type": "code",
   "execution_count": null,
   "metadata": {
    "is_executing": true
   },
   "outputs": [],
   "source": [
    "response = api.service_proxy.search(\n",
    "        searchRecord=SubsidiarySearchBasic(),\n",
    "        _soapheaders=api.build_soap_headers()\n",
    ")\n",
    "\n",
    "subsidiary_mapping = {\n",
    "    s.name: s.internalId\n",
    "    for s in response.body.searchResult.recordList.record\n",
    "}\n",
    "subsidiary_mapping"
   ]
  },
  {
   "cell_type": "code",
   "execution_count": null,
   "metadata": {
    "is_executing": true
   },
   "outputs": [],
   "source": [
    "\n",
    "# https://stackoverflow.com/questions/29771560/how-to-look-up-tax-schedules-using-suitetalk\n",
    "tax_map = {\n",
    "    \"Cake\": 5,\n",
    "    \"Shipping\": 4,\n",
    "    \"Reduced\": 3,\n",
    "    \"Taxable\": 1\n",
    "\n",
    "}"
   ]
  },
  {
   "cell_type": "markdown",
   "source": [
    "# 5. finally we are ready to upload"
   ],
   "metadata": {
    "collapsed": false
   }
  },
  {
   "cell_type": "code",
   "execution_count": null,
   "metadata": {
    "is_executing": true
   },
   "outputs": [],
   "source": [
    "fashion.content_attributes_ready.unique()\n"
   ]
  },
  {
   "cell_type": "code",
   "execution_count": null,
   "outputs": [],
   "source": [
    "r = fashion.iloc[1]\n",
    "r\n",
    "open(\"rnext.txt\", \"w\").write(str(r))"
   ],
   "metadata": {
    "collapsed": false,
    "is_executing": true
   }
  },
  {
   "cell_type": "code",
   "execution_count": null,
   "outputs": [],
   "source": [
    "def S(internalId, scriptId, value):\n",
    "    if value is None or pandas.isna(value):\n",
    "        # Don't make a record\n",
    "        return None\n",
    "    else:\n",
    "        # should be free form text in the frontend\n",
    "        return StringCustomFieldRef(\n",
    "            internalId = internalId,\n",
    "            scriptId= scriptId,\n",
    "            value = value\n",
    "        )\n",
    "\n",
    "def M(internalId, scriptId, value_name, value_mappings = {}):\n",
    "    \n",
    "\n",
    "    if value_name in value_mappings.keys():\n",
    "        value_name = value_mappings[value_name]\n",
    "    if value_name is None or pandas.isna(value_name):\n",
    "        return None\n",
    "    internalId = str(internalId)\n",
    "    # internalId is the id of the custom field\n",
    "    \n",
    "    listId = netsuite_mappings.custom_fields[internalId][\"listId\"]\n",
    "\n",
    "    this_list_values = netsuite_mappings.list_values[listId]\n",
    "\n",
    "    print(value_name)\n",
    "    print([v[\"valueId\"] for v in this_list_values])\n",
    "\n",
    "    return MultiSelectCustomFieldRef(\n",
    "        internalId = internalId,\n",
    "        scriptId= scriptId,\n",
    "        value = [v[\"valueId\"] for v in this_list_values]\n",
    "    )\n",
    "    \n",
    "    valueId = None\n",
    "\n",
    "    for value_details in this_list_values:\n",
    "        if value_name.lower() == value_details[\"value\"].lower():\n",
    "            valueId = value_details[\"valueId\"]\n",
    "            break\n",
    "    \n",
    "    if valueId is None:\n",
    "        ic(scriptId)\n",
    "        ic(value_name)\n",
    "        print([value_details[\"value\"] for value_details in this_list_values])\n",
    "        raise ValueError(\"A ValueError has never been more appropriate\")\n",
    "    ic()\n",
    "    return StringCustomFieldRef(\n",
    "        internalId = internalId,\n",
    "        scriptId= scriptId,\n",
    "        value = valueId\n",
    "    )\n",
    "\n",
    "def safe_lower(string_or_none):\n",
    "    if string_or_none is None:\n",
    "        return None\n",
    "    else:\n",
    "        return string_or_none.lower()\n",
    "    "
   ],
   "metadata": {
    "collapsed": false,
    "is_executing": true
   }
  },
  {
   "cell_type": "code",
   "execution_count": null,
   "outputs": [],
   "source": [
    "response = api.service_proxy.updateList(\n",
    "    record = [\n",
    "        InventoryItem(\n",
    "            ################################################### ids\n",
    "            externalId = f\"test-MULTISELECT-fashion-{r.item_name__number}\",\n",
    "            itemId = f\"test-MULTISELECT-fashion-{r.external_id}\",\n",
    "\n",
    "            ############################################### accounts: you can search for the number in accounts.txt\n",
    "            assetAccount = RecordRef(\n",
    "                # see error on externalid\n",
    "                #externalId = 22010 # 22010 Current Assets: Stock& Work In Progress:...\n",
    "                internalId = 1772\n",
    "            ),\n",
    "            cogsAccount = RecordRef(\n",
    "                externalId = 61010 # 61010 Cost of Sales: Cost of Sales\t\n",
    "                #\"internalId\": 1322\n",
    "            ),\n",
    "            incomeAccount = RecordRef(\n",
    "                externalId = 51010 # 51010 Sales : Sales : Sales\n",
    "                #\"internalId\": 1069\n",
    "            ),\n",
    "            ################################################## more\n",
    "            costCategory = RecordRef(\n",
    "                internalId = 2,\n",
    "            ),\n",
    "            costEstimateType = \"_averageCost\",\n",
    "            # cost_price??\n",
    "            displayName=r.display_name__code,\n",
    "            includeChildren = r.include_children.lower() == \"yes\",\n",
    "            #matrixType = \"_parent\", # permission!\n",
    "            \n",
    "            taxSchedule = RecordRef(\n",
    "                # https://stackoverflow.com/questions/29771560/how-to-look-up-tax-schedules-using-suitetalk\n",
    "                internalId = tax_map[r.tax_schedule_req],\n",
    "            ),\n",
    "            subsidiaryList = [\n",
    "                {\n",
    "                    \"recordRef\": RecordRef(\n",
    "                        internalId = subsidiary_mapping[r.subsidiary]\n",
    "                    )\n",
    "                 }\n",
    "            ],\n",
    "            #################################################### hierarchy\n",
    "            hierarchyVersionsList=InventoryItemHierarchyVersionsList(\n",
    "                replaceAll = False,\n",
    "                inventoryItemHierarchyVersions = InventoryItemHierarchyVersions(\n",
    "                    isIncluded=True,\n",
    "                    hierarchyVersion = RecordRef(\n",
    "                        internalId = 1\n",
    "                        #name=\"OB 2023 version1\"\n",
    "                    ),\n",
    "                    hierarchyNode = RecordRef(\n",
    "                        externalId=r.merch_hierarchy_nodes.replace(\"  \", \" \"),\n",
    "                        type=\"merchandiseHierarchyNode\"\n",
    "                       # name=r.merch_hierarchy_nodes\n",
    "                    ),\n",
    "                )\n",
    "            ),\n",
    "            ################################################### customFields\n",
    "            customFieldList= {\"customField\":[\n",
    "                # coo should be M\n",
    "                S(1604, \"custitem_emea_country_of_origin\",         # Country of Origin               -159 None ()\n",
    "                    20), ### problem!\n",
    "                #M(4863, \"custitem_ob_agent\",                       # Agent                           1872 Agent (Go Sourcing,Siam Karat,Nunomoura)\n",
    "                #    r.SOMETHING),\n",
    "                M(3064, \"custitem8\",                               # Brand                           1036 Brand (Branded,Own Brand)\n",
    "                    r.brand),\n",
    "                M(3065, \"custitem9\",                               # Range                           1037 Range (Botanical,Gold,Silver,Jeans,Bags)\n",
    "                    r.range),\n",
    "                S(4702, \"custitem25\",                              # Item Description                None None ()\n",
    "                    r.item_description),\n",
    "                S(4818, \"custitemob_supplier_name\",                # Supplier Name                   -3 None ()\n",
    "                    vendor_map[r.supplier_name]),\n",
    "                S(4816, \"custitem_ob_supplier_style_number\",       # Supplier Style Number           None None ()\n",
    "                    r.supplier_style_number),\n",
    "\n",
    "                # supplier???????\n",
    "\n",
    "                #M(836, \"custitem_atlas_season\",                    # Season                          459 Season (Fall 2015,Winter 2015,Spring 2016,Summer 2016,Fall 2016)\n",
    "                #    r.season_launch), the problem is they do not match the values!\n",
    "                ######################################## item detail\n",
    "                M(3063, \"custitem_ob_dispatch_type\",               # Dispatch Type                   1035 Dispatch Type (Bulky,Generic,Large Furniture)\n",
    "                    r.dispatch_type),\n",
    "                M(3066, \"custitem10\",                              # Factory                         1038 None ()\n",
    "                    r.factory),\n",
    "                S(3070, \"custitem13\",                              # CBM\n",
    "                    r.cbm),\n",
    "                M(3062, \"custitem6\",                               # Status                          1034 FStatus (NEW,REPEAT,OLD,CURRENT,FLOW)\n",
    "                    r.status),\n",
    "                 BooleanCustomFieldRef( # Age Restriction (Over 18)\n",
    "                    internalId = \"3061\",\n",
    "                    scriptId= \"custitem5\",\n",
    "                      value = r.age_restriction_over_18 == True\n",
    "                ),\n",
    "                 BooleanCustomFieldRef( # Approved for Website\n",
    "                    internalId = \"3057\",\n",
    "                    scriptId= \"custitem1\",\n",
    "                    value = safe_lower(r.approved_for_uk_website) == \"yes\"\n",
    "                ),\n",
    "                 BooleanCustomFieldRef( # Approved for US Website\n",
    "                    internalId = \"3058\",\n",
    "                    scriptId= \"custitem2\",\n",
    "                    value = safe_lower(r.approved_for_us_website) == \"yes\"\n",
    "                ),\n",
    "                 BooleanCustomFieldRef( # Approved for Ireland Website\n",
    "                    internalId = \"3059\",\n",
    "                    scriptId= \"custitem3\",\n",
    "                    value = safe_lower(r.approved_for_ireland_website) == \"yes\"\n",
    "                ),\n",
    "                 BooleanCustomFieldRef( # Hazmat\n",
    "                    internalId = \"3060\",\n",
    "                    scriptId= \"custitem_ob_hazmat\",\n",
    "                    value = r.hazmat != 0\n",
    "                ),\n",
    "                S(3068, \"custitem11\",                              # Inner\n",
    "                    r.inner),\n",
    "                S(3069, \"custitem12\",                              # Outer\n",
    "                    r.outer),\n",
    "                S(3071, \"custitem14\",                              # MOQ\n",
    "                    r.moq),\n",
    "                S(4763, \"custitem_ob_content_ready\",               # Content Attributes Ready\n",
    "                    r.content_attributes_ready),\n",
    "                M(4764, \"custitem_ob_bm_status\",                   # B&M Attribute Status            1845 Item Attribute Status B&M (Ready for Content Attributes,Pending Fields but Ready for Content Attributes ,Pending B&M Attributes)\n",
    "                    r.b__and__m_attribute_status),\n",
    "\n",
    "                ############################################# matrix items\n",
    "                M(2721, \"custitemcolorcustom\",                     # Colour                          975 Colour (Amber,Amethyst,Apricot,Aqua,Aubergine)\n",
    "                    None if r.colour is None else r.colour.split(\",\")[0],\n",
    "                    {'Brown/White': 'Black/White'}),\n",
    "                M(2723, \"custitemsizecustomalpha\",                 # XS - XXXL                       978 XS - XXXL (XS,S,M,L,XL)\n",
    "                    r.xs_xxxl),\n",
    "                M(2724, \"custitemsizefashion4\",                    # XS/S - XL/XXL Accessories       979 XS/S - XL/XXL Accessories (XS/S,S/M,M/L,L/XL,XL/XXL)\n",
    "                    r.xs__s_xl__xxl_accessories),\n",
    "                M(2725, \"custitemsizefashion5\",                    # Ring Sizes - Jewellery          980 Ring Sizes - Jewellery (42,44,46,48,50)\n",
    "                    r.ring_sizes_jewellery),\n",
    "                M(2727, \"custitemsizefashion7\",                    # Alphabet                        982 Alphabet (&,A,B,C,D)\n",
    "                    r.alphabet),\n",
    "                #M(4295, \"custitem_ob_bedroom_textiles_matrix\",     # Bedroom/Textiles                1687 Bedroom/Textiles (Double,King,45x45,30x50,60x90)\n",
    "                #    r.SOMETHING),\n",
    "                #M(4296, \"custitem_ob_flavour_matrix\",              # Flavour                         1684 Flavour (Linseed/Oregano/Parsley,Pumpkin Seed/Banana,Carrot Cake,Slipper/Biscuit,Lamp Post/Chips)\n",
    "                #    r.SOMETHING),\n",
    "                #M(4297, \"custitem_ob_frames_matrix\",               # Frames                          1685 Frames (2x2\",3x4\",3x3\",4x4\",5x7\")\n",
    "                #    r.SOMETHING),\n",
    "                #M(4298, \"custitem_ob_paper_size_matrix\",           # Paper Size                      1686 Paper Size (A1,A2,A3,A4,A5)\n",
    "                #    r.SOMETHING),\n",
    "                #M(4299, \"custitem_ob_scent_matrix\",                # Scent                           1683 Scent (Amber,Avocado/Coconut,Baobab/Patchouli,Basil/Lemon,Basil/White Clay)\n",
    "                #    r.SOMETHING),\n",
    "                M(4300, \"custitem22\",                              # Clothing                        1688 Clothing (6,8,10,12,14)\n",
    "                    r.clothing, {\"10,12,14,16,18\": None,\n",
    "                                 '10,12,14,16': None}),\n",
    "                M(4302, \"custitem23\",                              # Footwear                        1689 Footwear (3,3.5,4,4.5,5)\n",
    "                    r.footwear),\n",
    "                M(4747, \"custitem26\",                              # Stone Matrix                    1843 Stone Matrix (Amazonite,Amethyst,Aquamarine,Aventurine,Chalcedony)\n",
    "                    r.stone_matrix),\n",
    "            ]},  \n",
    "        )\n",
    "   #for pos, r in fashion.iterrows()\n",
    "    ],\n",
    "    _soapheaders = api.build_soap_headers(),\n",
    ")\n",
    "\n",
    "line = response.body.writeResponseList.writeResponse\n",
    "print(line) "
   ],
   "metadata": {
    "collapsed": false,
    "is_executing": true
   }
  },
  {
   "cell_type": "markdown",
   "metadata": {},
   "source": [
    "### permissions\n",
    "* matrix permission\n",
    "* supplier_number field doesnt work, what is supplier column?\n",
    "* ean\n",
    "* cost price\n",
    "* b__and__m_attribute_status ????? content attributes ready\n",
    "* merch hierarchy\n",
    "* for country and probably the cost estimate types, you need to use getSelectValue operator which is a bit long.\n",
    "\n",
    "\n",
    "### names\n",
    "* andre's column\n",
    "* name on form\n",
    "* name of custom field + script id + internal id\n",
    "* name of custom list + script id + internal id\n",
    "\n",
    "### searches\n",
    "* Search\n",
    "* getCustomizationId\n",
    "* get\n",
    "* getSelectValue"
   ]
  }
 ],
 "metadata": {
  "kernelspec": {
   "display_name": ".venv",
   "language": "python",
   "name": "python3"
  },
  "language_info": {
   "codemirror_mode": {
    "name": "ipython",
    "version": 3
   },
   "file_extension": ".py",
   "mimetype": "text/x-python",
   "name": "python",
   "nbconvert_exporter": "python",
   "pygments_lexer": "ipython3",
   "version": "3.9.13"
  }
 },
 "nbformat": 4,
 "nbformat_minor": 2
}
